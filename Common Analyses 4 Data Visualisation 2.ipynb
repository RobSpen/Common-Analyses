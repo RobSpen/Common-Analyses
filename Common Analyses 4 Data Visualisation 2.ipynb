{
 "cells": [
  {
   "cell_type": "markdown",
   "id": "72594956",
   "metadata": {},
   "source": [
    "# Data Visualisation 2 - Histograms\n",
    "\n",
    "In this notebook I demonstrate how to create simple histograms showing the distribution of scores on a variable using both matplotlib and seaborn. I also demonstrate some of the many parameters that can be adjusted to customise your histogram plot.  "
   ]
  },
  {
   "cell_type": "code",
   "execution_count": 1,
   "id": "2f6da9ac",
   "metadata": {},
   "outputs": [],
   "source": [
    "import pandas as pd\n",
    "import numpy as np\n",
    "import matplotlib.pyplot as plt \n",
    "import seaborn as sns"
   ]
  },
  {
   "cell_type": "code",
   "execution_count": 2,
   "id": "860ec544",
   "metadata": {},
   "outputs": [
    {
     "data": {
      "text/html": [
       "<div>\n",
       "<style scoped>\n",
       "    .dataframe tbody tr th:only-of-type {\n",
       "        vertical-align: middle;\n",
       "    }\n",
       "\n",
       "    .dataframe tbody tr th {\n",
       "        vertical-align: top;\n",
       "    }\n",
       "\n",
       "    .dataframe thead th {\n",
       "        text-align: right;\n",
       "    }\n",
       "</style>\n",
       "<table border=\"1\" class=\"dataframe\">\n",
       "  <thead>\n",
       "    <tr style=\"text-align: right;\">\n",
       "      <th></th>\n",
       "      <th>Column1</th>\n",
       "      <th>ID</th>\n",
       "      <th>Name</th>\n",
       "      <th>Age</th>\n",
       "      <th>Photo</th>\n",
       "      <th>Nationality</th>\n",
       "      <th>Flag</th>\n",
       "      <th>Overall</th>\n",
       "      <th>Potential</th>\n",
       "      <th>Club</th>\n",
       "      <th>...</th>\n",
       "      <th>Composure</th>\n",
       "      <th>Marking</th>\n",
       "      <th>StandingTackle</th>\n",
       "      <th>SlidingTackle</th>\n",
       "      <th>GKDiving</th>\n",
       "      <th>GKHandling</th>\n",
       "      <th>GKKicking</th>\n",
       "      <th>GKPositioning</th>\n",
       "      <th>GKReflexes</th>\n",
       "      <th>Release Clause</th>\n",
       "    </tr>\n",
       "  </thead>\n",
       "  <tbody>\n",
       "    <tr>\n",
       "      <th>0</th>\n",
       "      <td>0</td>\n",
       "      <td>158023</td>\n",
       "      <td>L. Messi</td>\n",
       "      <td>31</td>\n",
       "      <td>https://cdn.sofifa.org/players/4/19/158023.png</td>\n",
       "      <td>Argentina</td>\n",
       "      <td>https://cdn.sofifa.org/flags/52.png</td>\n",
       "      <td>94</td>\n",
       "      <td>94</td>\n",
       "      <td>FC Barcelona</td>\n",
       "      <td>...</td>\n",
       "      <td>96.0</td>\n",
       "      <td>33.0</td>\n",
       "      <td>28.0</td>\n",
       "      <td>26.0</td>\n",
       "      <td>6.0</td>\n",
       "      <td>11.0</td>\n",
       "      <td>15.0</td>\n",
       "      <td>14.0</td>\n",
       "      <td>8.0</td>\n",
       "      <td>â‚¬226.5M</td>\n",
       "    </tr>\n",
       "    <tr>\n",
       "      <th>1</th>\n",
       "      <td>1</td>\n",
       "      <td>20801</td>\n",
       "      <td>Cristiano Ronaldo</td>\n",
       "      <td>33</td>\n",
       "      <td>https://cdn.sofifa.org/players/4/19/20801.png</td>\n",
       "      <td>Portugal</td>\n",
       "      <td>https://cdn.sofifa.org/flags/38.png</td>\n",
       "      <td>94</td>\n",
       "      <td>94</td>\n",
       "      <td>Juventus</td>\n",
       "      <td>...</td>\n",
       "      <td>95.0</td>\n",
       "      <td>28.0</td>\n",
       "      <td>31.0</td>\n",
       "      <td>23.0</td>\n",
       "      <td>7.0</td>\n",
       "      <td>11.0</td>\n",
       "      <td>15.0</td>\n",
       "      <td>14.0</td>\n",
       "      <td>11.0</td>\n",
       "      <td>â‚¬127.1M</td>\n",
       "    </tr>\n",
       "    <tr>\n",
       "      <th>2</th>\n",
       "      <td>2</td>\n",
       "      <td>190871</td>\n",
       "      <td>Neymar Jr</td>\n",
       "      <td>26</td>\n",
       "      <td>https://cdn.sofifa.org/players/4/19/190871.png</td>\n",
       "      <td>Brazil</td>\n",
       "      <td>https://cdn.sofifa.org/flags/54.png</td>\n",
       "      <td>92</td>\n",
       "      <td>93</td>\n",
       "      <td>Paris Saint-Germain</td>\n",
       "      <td>...</td>\n",
       "      <td>94.0</td>\n",
       "      <td>27.0</td>\n",
       "      <td>24.0</td>\n",
       "      <td>33.0</td>\n",
       "      <td>9.0</td>\n",
       "      <td>9.0</td>\n",
       "      <td>15.0</td>\n",
       "      <td>15.0</td>\n",
       "      <td>11.0</td>\n",
       "      <td>â‚¬228.1M</td>\n",
       "    </tr>\n",
       "    <tr>\n",
       "      <th>3</th>\n",
       "      <td>3</td>\n",
       "      <td>193080</td>\n",
       "      <td>De Gea</td>\n",
       "      <td>27</td>\n",
       "      <td>https://cdn.sofifa.org/players/4/19/193080.png</td>\n",
       "      <td>Spain</td>\n",
       "      <td>https://cdn.sofifa.org/flags/45.png</td>\n",
       "      <td>91</td>\n",
       "      <td>93</td>\n",
       "      <td>Manchester United</td>\n",
       "      <td>...</td>\n",
       "      <td>68.0</td>\n",
       "      <td>15.0</td>\n",
       "      <td>21.0</td>\n",
       "      <td>13.0</td>\n",
       "      <td>90.0</td>\n",
       "      <td>85.0</td>\n",
       "      <td>87.0</td>\n",
       "      <td>88.0</td>\n",
       "      <td>94.0</td>\n",
       "      <td>â‚¬138.6M</td>\n",
       "    </tr>\n",
       "    <tr>\n",
       "      <th>4</th>\n",
       "      <td>4</td>\n",
       "      <td>192985</td>\n",
       "      <td>K. De Bruyne</td>\n",
       "      <td>27</td>\n",
       "      <td>https://cdn.sofifa.org/players/4/19/192985.png</td>\n",
       "      <td>Belgium</td>\n",
       "      <td>https://cdn.sofifa.org/flags/7.png</td>\n",
       "      <td>91</td>\n",
       "      <td>92</td>\n",
       "      <td>Manchester City</td>\n",
       "      <td>...</td>\n",
       "      <td>88.0</td>\n",
       "      <td>68.0</td>\n",
       "      <td>58.0</td>\n",
       "      <td>51.0</td>\n",
       "      <td>15.0</td>\n",
       "      <td>13.0</td>\n",
       "      <td>5.0</td>\n",
       "      <td>10.0</td>\n",
       "      <td>13.0</td>\n",
       "      <td>â‚¬196.4M</td>\n",
       "    </tr>\n",
       "  </tbody>\n",
       "</table>\n",
       "<p>5 rows × 89 columns</p>\n",
       "</div>"
      ],
      "text/plain": [
       "   Column1      ID               Name  Age  \\\n",
       "0        0  158023           L. Messi   31   \n",
       "1        1   20801  Cristiano Ronaldo   33   \n",
       "2        2  190871          Neymar Jr   26   \n",
       "3        3  193080             De Gea   27   \n",
       "4        4  192985       K. De Bruyne   27   \n",
       "\n",
       "                                            Photo Nationality  \\\n",
       "0  https://cdn.sofifa.org/players/4/19/158023.png   Argentina   \n",
       "1   https://cdn.sofifa.org/players/4/19/20801.png    Portugal   \n",
       "2  https://cdn.sofifa.org/players/4/19/190871.png      Brazil   \n",
       "3  https://cdn.sofifa.org/players/4/19/193080.png       Spain   \n",
       "4  https://cdn.sofifa.org/players/4/19/192985.png     Belgium   \n",
       "\n",
       "                                  Flag  Overall  Potential  \\\n",
       "0  https://cdn.sofifa.org/flags/52.png       94         94   \n",
       "1  https://cdn.sofifa.org/flags/38.png       94         94   \n",
       "2  https://cdn.sofifa.org/flags/54.png       92         93   \n",
       "3  https://cdn.sofifa.org/flags/45.png       91         93   \n",
       "4   https://cdn.sofifa.org/flags/7.png       91         92   \n",
       "\n",
       "                  Club  ... Composure Marking StandingTackle  SlidingTackle  \\\n",
       "0         FC Barcelona  ...      96.0    33.0           28.0           26.0   \n",
       "1             Juventus  ...      95.0    28.0           31.0           23.0   \n",
       "2  Paris Saint-Germain  ...      94.0    27.0           24.0           33.0   \n",
       "3    Manchester United  ...      68.0    15.0           21.0           13.0   \n",
       "4      Manchester City  ...      88.0    68.0           58.0           51.0   \n",
       "\n",
       "  GKDiving  GKHandling  GKKicking  GKPositioning GKReflexes Release Clause  \n",
       "0      6.0        11.0       15.0           14.0        8.0      â‚¬226.5M  \n",
       "1      7.0        11.0       15.0           14.0       11.0      â‚¬127.1M  \n",
       "2      9.0         9.0       15.0           15.0       11.0      â‚¬228.1M  \n",
       "3     90.0        85.0       87.0           88.0       94.0      â‚¬138.6M  \n",
       "4     15.0        13.0        5.0           10.0       13.0      â‚¬196.4M  \n",
       "\n",
       "[5 rows x 89 columns]"
      ]
     },
     "execution_count": 2,
     "metadata": {},
     "output_type": "execute_result"
    }
   ],
   "source": [
    "fifa = pd.read_csv('fifa.csv')\n",
    "\n",
    "fifa.head()"
   ]
  },
  {
   "cell_type": "code",
   "execution_count": 5,
   "id": "be0fe1cb",
   "metadata": {},
   "outputs": [
    {
     "data": {
      "text/plain": [
       "(array([ 192.,  998., 2363., 4727., 4289., 3570., 1513.,  445.,   96.,\n",
       "          14.]),\n",
       " array([46. , 50.8, 55.6, 60.4, 65.2, 70. , 74.8, 79.6, 84.4, 89.2, 94. ]),\n",
       " <BarContainer object of 10 artists>)"
      ]
     },
     "execution_count": 5,
     "metadata": {},
     "output_type": "execute_result"
    },
    {
     "data": {
      "image/png": "[encoded data removed]",
      "text/plain": [
       "<Figure size 432x288 with 1 Axes>"
      ]
     },
     "metadata": {
      "needs_background": "light"
     },
     "output_type": "display_data"
    }
   ],
   "source": [
    "# Plotting overall skill level as input:\n",
    "\n",
    "plt.hist(fifa.Overall)\n"
   ]
  },
  {
   "cell_type": "code",
   "execution_count": 6,
   "id": "084c8b2a",
   "metadata": {},
   "outputs": [
    {
     "data": {
      "image/png": "[encoded data removed]",
      "text/plain": [
       "<Figure size 432x288 with 1 Axes>"
      ]
     },
     "metadata": {
      "needs_background": "light"
     },
     "output_type": "display_data"
    }
   ],
   "source": [
    "# Changing this by setting the bin size. \n",
    "\n",
    "bins = [10, 20, 30, 40, 50, 60, 70, 80, 90, 100]\n",
    "\n",
    "plt.hist(fifa.Overall, bins = bins) # setting the bins parameter equal to the bins object we created. \n",
    "\n",
    "plt.show()"
   ]
  },
  {
   "cell_type": "code",
   "execution_count": 7,
   "id": "5bc26bc9",
   "metadata": {},
   "outputs": [
    {
     "data": {
      "image/png": "[encoded data removed]",
      "text/plain": [
       "<Figure size 432x288 with 1 Axes>"
      ]
     },
     "metadata": {
      "needs_background": "light"
     },
     "output_type": "display_data"
    }
   ],
   "source": [
    "# Setting the xticks to be equal to the bin size specified\n",
    "\n",
    "bins = [10, 20, 30, 40, 50, 60, 70, 80, 90, 100]\n",
    "\n",
    "plt.hist(fifa.Overall, bins = bins)\n",
    "\n",
    "plt.xticks(bins)\n",
    "\n",
    "plt.show()"
   ]
  },
  {
   "cell_type": "code",
   "execution_count": 8,
   "id": "25787e2d",
   "metadata": {},
   "outputs": [
    {
     "data": {
      "image/png": "[encoded data removed]",
      "text/plain": [
       "<Figure size 432x288 with 1 Axes>"
      ]
     },
     "metadata": {
      "needs_background": "light"
     },
     "output_type": "display_data"
    }
   ],
   "source": [
    "# Adding labels to the x and y axis and a title\n",
    "\n",
    "bins = [10, 20, 30, 40, 50, 60, 70, 80, 90, 100]\n",
    "\n",
    "plt.hist(fifa.Overall, bins = bins)\n",
    "\n",
    "plt.ylabel('Number of players')\n",
    "plt.xlabel('Skill level overall')\n",
    "plt.title('Distribution of player skill levels')\n",
    "\n",
    "plt.xticks(bins)\n",
    "\n",
    "plt.show()"
   ]
  },
  {
   "cell_type": "code",
   "execution_count": 9,
   "id": "671c4cad",
   "metadata": {},
   "outputs": [
    {
     "data": {
      "image/png": "[encoded data removed]",
      "text/plain": [
       "<Figure size 432x288 with 1 Axes>"
      ]
     },
     "metadata": {
      "needs_background": "light"
     },
     "output_type": "display_data"
    }
   ],
   "source": [
    "# Can change the colour of our bars. \n",
    "\n",
    "bins = [10, 20, 30, 40, 50, 60, 70, 80, 90, 100]\n",
    "\n",
    "plt.hist(fifa.Overall, bins = bins, color = 'r')\n",
    "\n",
    "plt.ylabel('Number of players')\n",
    "plt.xlabel('Skill level overall')\n",
    "plt.title('Distribution of player skill levels')\n",
    "\n",
    "plt.xticks(bins)\n",
    "\n",
    "plt.show()"
   ]
  },
  {
   "cell_type": "code",
   "execution_count": 10,
   "id": "c75615e6",
   "metadata": {},
   "outputs": [
    {
     "data": {
      "image/png": "[encoded data removed]",
      "text/plain": [
       "<Figure size 432x288 with 1 Axes>"
      ]
     },
     "metadata": {
      "needs_background": "light"
     },
     "output_type": "display_data"
    }
   ],
   "source": [
    "# Can select any range of colour if we set it equal to the hex code. \n",
    "\n",
    "bins = [10, 20, 30, 40, 50, 60, 70, 80, 90, 100]\n",
    "\n",
    "plt.hist(fifa.Overall, bins = bins, color = '#FFD54F') # Here passing a hex code I looked up online.\n",
    "\n",
    "plt.ylabel('Number of players')\n",
    "plt.xlabel('Skill level overall')\n",
    "plt.title('Distribution of player skill levels')\n",
    "\n",
    "plt.xticks(bins)\n",
    "\n",
    "plt.show()"
   ]
  },
  {
   "cell_type": "code",
   "execution_count": 11,
   "id": "c8ab19eb",
   "metadata": {},
   "outputs": [
    {
     "data": {
      "text/html": [
       "<div>\n",
       "<style scoped>\n",
       "    .dataframe tbody tr th:only-of-type {\n",
       "        vertical-align: middle;\n",
       "    }\n",
       "\n",
       "    .dataframe tbody tr th {\n",
       "        vertical-align: top;\n",
       "    }\n",
       "\n",
       "    .dataframe thead th {\n",
       "        text-align: right;\n",
       "    }\n",
       "</style>\n",
       "<table border=\"1\" class=\"dataframe\">\n",
       "  <thead>\n",
       "    <tr style=\"text-align: right;\">\n",
       "      <th></th>\n",
       "      <th>participant_id</th>\n",
       "      <th>age</th>\n",
       "      <th>sex</th>\n",
       "      <th>sex_quant</th>\n",
       "      <th>postcode</th>\n",
       "      <th>IMD</th>\n",
       "      <th>income_rank</th>\n",
       "      <th>employment_rank</th>\n",
       "      <th>education_skills_rank</th>\n",
       "      <th>health_disab_rank</th>\n",
       "      <th>...</th>\n",
       "      <th>discount_param_k</th>\n",
       "      <th>condition</th>\n",
       "      <th>condition_quant</th>\n",
       "      <th>CP3_R1</th>\n",
       "      <th>CPR_R2</th>\n",
       "      <th>CPR_R3</th>\n",
       "      <th>CPR_R4</th>\n",
       "      <th>CPR_R5</th>\n",
       "      <th>mean_consump</th>\n",
       "      <th>rounds</th>\n",
       "    </tr>\n",
       "  </thead>\n",
       "  <tbody>\n",
       "    <tr>\n",
       "      <th>0</th>\n",
       "      <td>3796</td>\n",
       "      <td>21</td>\n",
       "      <td>Female</td>\n",
       "      <td>1</td>\n",
       "      <td>N1</td>\n",
       "      <td>NaN</td>\n",
       "      <td>NaN</td>\n",
       "      <td>NaN</td>\n",
       "      <td>NaN</td>\n",
       "      <td>NaN</td>\n",
       "      <td>...</td>\n",
       "      <td>0.0</td>\n",
       "      <td>uncertain</td>\n",
       "      <td>1</td>\n",
       "      <td>40</td>\n",
       "      <td>50.0</td>\n",
       "      <td>NaN</td>\n",
       "      <td>NaN</td>\n",
       "      <td>NaN</td>\n",
       "      <td>45.0</td>\n",
       "      <td>2</td>\n",
       "    </tr>\n",
       "    <tr>\n",
       "      <th>1</th>\n",
       "      <td>3818</td>\n",
       "      <td>32</td>\n",
       "      <td>Female</td>\n",
       "      <td>1</td>\n",
       "      <td>EN8 8HY</td>\n",
       "      <td>3680.0</td>\n",
       "      <td>4844.0</td>\n",
       "      <td>5609.0</td>\n",
       "      <td>6456.0</td>\n",
       "      <td>15219.0</td>\n",
       "      <td>...</td>\n",
       "      <td>0.0</td>\n",
       "      <td>certain</td>\n",
       "      <td>0</td>\n",
       "      <td>40</td>\n",
       "      <td>20.0</td>\n",
       "      <td>10.0</td>\n",
       "      <td>50.0</td>\n",
       "      <td>NaN</td>\n",
       "      <td>30.0</td>\n",
       "      <td>4</td>\n",
       "    </tr>\n",
       "    <tr>\n",
       "      <th>2</th>\n",
       "      <td>3825</td>\n",
       "      <td>21</td>\n",
       "      <td>Female</td>\n",
       "      <td>1</td>\n",
       "      <td>E1 1GW</td>\n",
       "      <td>11050.0</td>\n",
       "      <td>13938.0</td>\n",
       "      <td>26686.0</td>\n",
       "      <td>26309.0</td>\n",
       "      <td>20009.0</td>\n",
       "      <td>...</td>\n",
       "      <td>3.0</td>\n",
       "      <td>certain</td>\n",
       "      <td>0</td>\n",
       "      <td>40</td>\n",
       "      <td>40.0</td>\n",
       "      <td>10.0</td>\n",
       "      <td>NaN</td>\n",
       "      <td>NaN</td>\n",
       "      <td>30.0</td>\n",
       "      <td>3</td>\n",
       "    </tr>\n",
       "    <tr>\n",
       "      <th>3</th>\n",
       "      <td>3965</td>\n",
       "      <td>21</td>\n",
       "      <td>Female</td>\n",
       "      <td>1</td>\n",
       "      <td>NW95JB</td>\n",
       "      <td>16181.0</td>\n",
       "      <td>19181.0</td>\n",
       "      <td>28357.0</td>\n",
       "      <td>27297.0</td>\n",
       "      <td>32156.0</td>\n",
       "      <td>...</td>\n",
       "      <td>1.0</td>\n",
       "      <td>uncertain</td>\n",
       "      <td>1</td>\n",
       "      <td>80</td>\n",
       "      <td>20.0</td>\n",
       "      <td>NaN</td>\n",
       "      <td>NaN</td>\n",
       "      <td>NaN</td>\n",
       "      <td>50.0</td>\n",
       "      <td>2</td>\n",
       "    </tr>\n",
       "    <tr>\n",
       "      <th>4</th>\n",
       "      <td>4203</td>\n",
       "      <td>21</td>\n",
       "      <td>Female</td>\n",
       "      <td>1</td>\n",
       "      <td>se14 5jn</td>\n",
       "      <td>9904.0</td>\n",
       "      <td>9915.0</td>\n",
       "      <td>11702.0</td>\n",
       "      <td>23608.0</td>\n",
       "      <td>15475.0</td>\n",
       "      <td>...</td>\n",
       "      <td>-0.2</td>\n",
       "      <td>certain</td>\n",
       "      <td>0</td>\n",
       "      <td>10</td>\n",
       "      <td>20.0</td>\n",
       "      <td>0.0</td>\n",
       "      <td>80.0</td>\n",
       "      <td>NaN</td>\n",
       "      <td>27.5</td>\n",
       "      <td>4</td>\n",
       "    </tr>\n",
       "  </tbody>\n",
       "</table>\n",
       "<p>5 rows × 40 columns</p>\n",
       "</div>"
      ],
      "text/plain": [
       "   participant_id  age     sex  sex_quant  postcode      IMD  income_rank  \\\n",
       "0            3796   21  Female          1        N1      NaN          NaN   \n",
       "1            3818   32  Female          1   EN8 8HY   3680.0       4844.0   \n",
       "2            3825   21  Female          1    E1 1GW  11050.0      13938.0   \n",
       "3            3965   21  Female          1    NW95JB  16181.0      19181.0   \n",
       "4            4203   21  Female          1  se14 5jn   9904.0       9915.0   \n",
       "\n",
       "   employment_rank  education_skills_rank  health_disab_rank  ...  \\\n",
       "0              NaN                    NaN                NaN  ...   \n",
       "1           5609.0                 6456.0            15219.0  ...   \n",
       "2          26686.0                26309.0            20009.0  ...   \n",
       "3          28357.0                27297.0            32156.0  ...   \n",
       "4          11702.0                23608.0            15475.0  ...   \n",
       "\n",
       "   discount_param_k  condition  condition_quant CP3_R1  CPR_R2  CPR_R3  \\\n",
       "0               0.0  uncertain                1     40    50.0     NaN   \n",
       "1               0.0    certain                0     40    20.0    10.0   \n",
       "2               3.0    certain                0     40    40.0    10.0   \n",
       "3               1.0  uncertain                1     80    20.0     NaN   \n",
       "4              -0.2    certain                0     10    20.0     0.0   \n",
       "\n",
       "   CPR_R4  CPR_R5  mean_consump  rounds  \n",
       "0     NaN     NaN          45.0       2  \n",
       "1    50.0     NaN          30.0       4  \n",
       "2     NaN     NaN          30.0       3  \n",
       "3     NaN     NaN          50.0       2  \n",
       "4    80.0     NaN          27.5       4  \n",
       "\n",
       "[5 rows x 40 columns]"
      ]
     },
     "execution_count": 11,
     "metadata": {},
     "output_type": "execute_result"
    }
   ],
   "source": [
    "df = pd.read_csv('Davide_data_2022_23.csv')\n",
    "\n",
    "df.head()"
   ]
  },
  {
   "cell_type": "code",
   "execution_count": 12,
   "id": "1c8c0199",
   "metadata": {},
   "outputs": [
    {
     "name": "stdout",
     "output_type": "stream",
     "text": [
      "<class 'pandas.core.frame.DataFrame'>\n",
      "RangeIndex: 61 entries, 0 to 60\n",
      "Data columns (total 40 columns):\n",
      " #   Column                 Non-Null Count  Dtype  \n",
      "---  ------                 --------------  -----  \n",
      " 0   participant_id         61 non-null     int64  \n",
      " 1   age                    61 non-null     int64  \n",
      " 2   sex                    61 non-null     object \n",
      " 3   sex_quant              61 non-null     int64  \n",
      " 4   postcode               61 non-null     object \n",
      " 5   IMD                    54 non-null     float64\n",
      " 6   income_rank            54 non-null     float64\n",
      " 7   employment_rank        54 non-null     float64\n",
      " 8   education_skills_rank  54 non-null     float64\n",
      " 9   health_disab_rank      54 non-null     float64\n",
      " 10  crime_rank             54 non-null     float64\n",
      " 11  game_soc               61 non-null     object \n",
      " 12  game_soc_quant         61 non-null     int64  \n",
      " 13  type_games             61 non-null     object \n",
      " 14  type_games_quant       61 non-null     int64  \n",
      " 15  hours_per_week         61 non-null     int64  \n",
      " 16  Participant Public ID  61 non-null     int64  \n",
      " 17  cfc1                   61 non-null     int64  \n",
      " 18  cfc2                   61 non-null     int64  \n",
      " 19  cfc3_r                 61 non-null     int64  \n",
      " 20  cfc4_r                 61 non-null     int64  \n",
      " 21  cfc5_r                 61 non-null     int64  \n",
      " 22  cfc6                   61 non-null     int64  \n",
      " 23  cfc7                   61 non-null     int64  \n",
      " 24  cfc8                   61 non-null     int64  \n",
      " 25  cfc9_r                 61 non-null     int64  \n",
      " 26  cfc10_r                61 non-null     int64  \n",
      " 27  cfc11_r                61 non-null     int64  \n",
      " 28  cfc12_r                61 non-null     int64  \n",
      " 29  cfc_mean               61 non-null     float64\n",
      " 30  discount_param_k       59 non-null     float64\n",
      " 31  condition              61 non-null     object \n",
      " 32  condition_quant        61 non-null     int64  \n",
      " 33  CP3_R1                 61 non-null     int64  \n",
      " 34  CPR_R2                 59 non-null     float64\n",
      " 35  CPR_R3                 41 non-null     float64\n",
      " 36  CPR_R4                 23 non-null     float64\n",
      " 37  CPR_R5                 11 non-null     float64\n",
      " 38  mean_consump           61 non-null     float64\n",
      " 39  rounds                 61 non-null     int64  \n",
      "dtypes: float64(13), int64(22), object(5)\n",
      "memory usage: 19.2+ KB\n"
     ]
    }
   ],
   "source": [
    "df.info()"
   ]
  },
  {
   "cell_type": "code",
   "execution_count": 13,
   "id": "1c776a09",
   "metadata": {},
   "outputs": [
    {
     "data": {
      "image/png": "[encoded data removed]",
      "text/plain": [
       "<Figure size 432x288 with 1 Axes>"
      ]
     },
     "metadata": {
      "needs_background": "light"
     },
     "output_type": "display_data"
    }
   ],
   "source": [
    "plt.hist(df.crime_rank)\n",
    "\n",
    "plt.show()"
   ]
  },
  {
   "cell_type": "code",
   "execution_count": 14,
   "id": "4747a843",
   "metadata": {},
   "outputs": [
    {
     "data": {
      "image/png": "[encoded data removed]",
      "text/plain": [
       "<Figure size 432x288 with 1 Axes>"
      ]
     },
     "metadata": {
      "needs_background": "light"
     },
     "output_type": "display_data"
    }
   ],
   "source": [
    "plt.hist(df.cfc_mean)\n",
    "\n",
    "plt.show()"
   ]
  },
  {
   "cell_type": "code",
   "execution_count": 15,
   "id": "ac316e7c",
   "metadata": {},
   "outputs": [
    {
     "data": {
      "image/png": "[encoded data removed]",
      "text/plain": [
       "<Figure size 432x288 with 1 Axes>"
      ]
     },
     "metadata": {
      "needs_background": "light"
     },
     "output_type": "display_data"
    }
   ],
   "source": [
    "\n",
    "plt.hist(df.mean_consump, bins = 20) \n",
    "\n",
    "plt.ylabel('Frequency')\n",
    "plt.xlabel('Mean Consumption Decision')\n",
    "plt.title('Histogram of Mean Consumption')\n",
    "\n",
    "plt.show()\n"
   ]
  },
  {
   "cell_type": "code",
   "execution_count": 16,
   "id": "0dc2bea8",
   "metadata": {},
   "outputs": [
    {
     "data": {
      "text/plain": [
       "(array([ 2., 10., 12.,  7.,  8.,  6.,  5.,  1.,  2.,  1.]),\n",
       " array([ 1416. ,  4006.4,  6596.8,  9187.2, 11777.6, 14368. , 16958.4,\n",
       "        19548.8, 22139.2, 24729.6, 27320. ]),\n",
       " <BarContainer object of 10 artists>)"
      ]
     },
     "execution_count": 16,
     "metadata": {},
     "output_type": "execute_result"
    },
    {
     "data": {
      "image/png": "[encoded data removed]",
      "text/plain": [
       "<Figure size 432x288 with 2 Axes>"
      ]
     },
     "metadata": {
      "needs_background": "light"
     },
     "output_type": "display_data"
    }
   ],
   "source": [
    "dist1 = df['education_skills_rank']\n",
    "dist2 = df['income_rank']\n",
    "fig, axs = plt.subplots(1, 2, sharey=True, tight_layout=True)\n",
    "\n",
    "# We can set the number of bins with the *bins* keyword argument.\n",
    "axs[0].hist(dist1)\n",
    "axs[1].hist(dist2)"
   ]
  },
  {
   "cell_type": "markdown",
   "id": "fd7ed7e0",
   "metadata": {},
   "source": [
    "## Plotting histograms with seaborn"
   ]
  },
  {
   "cell_type": "code",
   "execution_count": 17,
   "id": "4e740753",
   "metadata": {},
   "outputs": [
    {
     "data": {
      "text/plain": [
       "<AxesSubplot:xlabel='mean_consump', ylabel='Count'>"
      ]
     },
     "execution_count": 17,
     "metadata": {},
     "output_type": "execute_result"
    },
    {
     "data": {
      "image/png": "[encoded data removed]",
      "text/plain": [
       "<Figure size 432x288 with 1 Axes>"
      ]
     },
     "metadata": {
      "needs_background": "light"
     },
     "output_type": "display_data"
    }
   ],
   "source": [
    "sns.histplot(data=df, x=\"mean_consump\")"
   ]
  },
  {
   "cell_type": "code",
   "execution_count": 18,
   "id": "79c78615",
   "metadata": {},
   "outputs": [
    {
     "data": {
      "text/plain": [
       "<AxesSubplot:xlabel='mean_consump', ylabel='Count'>"
      ]
     },
     "execution_count": 18,
     "metadata": {},
     "output_type": "execute_result"
    },
    {
     "data": {
      "image/png": "[encoded data removed]",
      "text/plain": [
       "<Figure size 432x288 with 1 Axes>"
      ]
     },
     "metadata": {
      "needs_background": "light"
     },
     "output_type": "display_data"
    }
   ],
   "source": [
    "sns.histplot(data=df, x=\"mean_consump\", binwidth=5)"
   ]
  },
  {
   "cell_type": "code",
   "execution_count": 19,
   "id": "1fcd18e7",
   "metadata": {},
   "outputs": [
    {
     "data": {
      "text/plain": [
       "<AxesSubplot:xlabel='mean_consump', ylabel='Count'>"
      ]
     },
     "execution_count": 19,
     "metadata": {},
     "output_type": "execute_result"
    },
    {
     "data": {
      "image/png": "[encoded data removed]",
      "text/plain": [
       "<Figure size 432x288 with 1 Axes>"
      ]
     },
     "metadata": {
      "needs_background": "light"
     },
     "output_type": "display_data"
    }
   ],
   "source": [
    "sns.histplot(data=df, x=\"mean_consump\", bins=40)"
   ]
  },
  {
   "cell_type": "code",
   "execution_count": 20,
   "id": "97189ebb",
   "metadata": {},
   "outputs": [
    {
     "data": {
      "text/plain": [
       "<AxesSubplot:xlabel='mean_consump', ylabel='Count'>"
      ]
     },
     "execution_count": 20,
     "metadata": {},
     "output_type": "execute_result"
    },
    {
     "data": {
      "image/png": "[encoded data removed]",
      "text/plain": [
       "<Figure size 432x288 with 1 Axes>"
      ]
     },
     "metadata": {
      "needs_background": "light"
     },
     "output_type": "display_data"
    }
   ],
   "source": [
    "sns.histplot(data=df, x=\"mean_consump\", kde = True)"
   ]
  },
  {
   "cell_type": "code",
   "execution_count": 21,
   "id": "dc17a335",
   "metadata": {},
   "outputs": [
    {
     "data": {
      "text/plain": [
       "<AxesSubplot:xlabel='mean_consump', ylabel='Count'>"
      ]
     },
     "execution_count": 21,
     "metadata": {},
     "output_type": "execute_result"
    },
    {
     "data": {
      "image/png": "[encoded data removed]",
      "text/plain": [
       "<Figure size 432x288 with 1 Axes>"
      ]
     },
     "metadata": {
      "needs_background": "light"
     },
     "output_type": "display_data"
    }
   ],
   "source": [
    "sns.histplot(data=df, x=\"mean_consump\", hue='sex')"
   ]
  },
  {
   "cell_type": "code",
   "execution_count": 22,
   "id": "7e6f16d9",
   "metadata": {},
   "outputs": [
    {
     "data": {
      "text/plain": [
       "<AxesSubplot:xlabel='mean_consump', ylabel='Count'>"
      ]
     },
     "execution_count": 22,
     "metadata": {},
     "output_type": "execute_result"
    },
    {
     "data": {
      "image/png": "[encoded data removed]",
      "text/plain": [
       "<Figure size 432x288 with 1 Axes>"
      ]
     },
     "metadata": {
      "needs_background": "light"
     },
     "output_type": "display_data"
    }
   ],
   "source": [
    "sns.histplot(data=df, x=\"mean_consump\", hue='condition')"
   ]
  },
  {
   "cell_type": "code",
   "execution_count": 23,
   "id": "1efd26b4",
   "metadata": {},
   "outputs": [
    {
     "data": {
      "text/plain": [
       "<AxesSubplot:xlabel='mean_consump', ylabel='Count'>"
      ]
     },
     "execution_count": 23,
     "metadata": {},
     "output_type": "execute_result"
    },
    {
     "data": {
      "image/png": "[encoded data removed]",
      "text/plain": [
       "<Figure size 432x288 with 1 Axes>"
      ]
     },
     "metadata": {
      "needs_background": "light"
     },
     "output_type": "display_data"
    }
   ],
   "source": [
    "sns.histplot(data=df, x=\"mean_consump\", hue='condition', multiple='stack')"
   ]
  },
  {
   "cell_type": "code",
   "execution_count": 24,
   "id": "7efd16c5",
   "metadata": {},
   "outputs": [
    {
     "data": {
      "text/plain": [
       "<AxesSubplot:xlabel='mean_consump', ylabel='Count'>"
      ]
     },
     "execution_count": 24,
     "metadata": {},
     "output_type": "execute_result"
    },
    {
     "data": {
      "image/png": "[encoded data removed]",
      "text/plain": [
       "<Figure size 432x288 with 1 Axes>"
      ]
     },
     "metadata": {
      "needs_background": "light"
     },
     "output_type": "display_data"
    }
   ],
   "source": [
    "sns.histplot(data=df, x=\"mean_consump\", hue='condition', element='step')"
   ]
  },
  {
   "cell_type": "code",
   "execution_count": 25,
   "id": "7e00a75e",
   "metadata": {},
   "outputs": [
    {
     "data": {
      "text/plain": [
       "<AxesSubplot:xlabel='mean_consump', ylabel='Count'>"
      ]
     },
     "execution_count": 25,
     "metadata": {},
     "output_type": "execute_result"
    },
    {
     "data": {
      "image/png": "[encoded data removed]",
      "text/plain": [
       "<Figure size 432x288 with 1 Axes>"
      ]
     },
     "metadata": {
      "needs_background": "light"
     },
     "output_type": "display_data"
    }
   ],
   "source": [
    "sns.histplot(data=df, x=\"mean_consump\", fill=False)"
   ]
  },
  {
   "cell_type": "code",
   "execution_count": 26,
   "id": "d433e53b",
   "metadata": {},
   "outputs": [
    {
     "data": {
      "text/plain": [
       "<AxesSubplot:xlabel='mean_consump', ylabel='Count'>"
      ]
     },
     "execution_count": 26,
     "metadata": {},
     "output_type": "execute_result"
    },
    {
     "data": {
      "image/png": "[encoded data removed]",
      "text/plain": [
       "<Figure size 432x288 with 1 Axes>"
      ]
     },
     "metadata": {
      "needs_background": "light"
     },
     "output_type": "display_data"
    }
   ],
   "source": [
    "sns.histplot(data=df, x=\"mean_consump\", binwidth=5, kde=True)"
   ]
  }
 ],
 "metadata": {
  "kernelspec": {
   "display_name": "Python 3 (ipykernel)",
   "language": "python",
   "name": "python3"
  },
  "language_info": {
   "codemirror_mode": {
    "name": "ipython",
    "version": 3
   },
   "file_extension": ".py",
   "mimetype": "text/x-python",
   "name": "python",
   "nbconvert_exporter": "python",
   "pygments_lexer": "ipython3",
   "version": "3.9.12"
  }
 },
 "nbformat": 4,
 "nbformat_minor": 5
}
