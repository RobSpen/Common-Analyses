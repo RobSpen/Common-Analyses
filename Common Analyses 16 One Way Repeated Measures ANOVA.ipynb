{
 "cells": [
  {
   "cell_type": "markdown",
   "id": "1796b034",
   "metadata": {},
   "source": [
    "# One-way Repeated Measures ANOVA\n",
    "\n",
    "ANOVA allows us to compare the differences between multiple group means on some scale dependent variable whilst controlling for the family-wise error rate. Repeated Measures (or within-subjects) ANOVA allows us to compare multiple groups when the scores within those groups all come from the same participants recorded at different time points.  "
   ]
  },
  {
   "cell_type": "markdown",
   "id": "1c941471",
   "metadata": {},
   "source": [
    "In this notebook I will demonstrate how to run a one-way repeated measures ANOVA using the AnovaRM method from the statsmodels library. This is a design with one independent variable(IV), with 3 groups, and a scale dependent variable (DV). \n",
    "\n",
    "An important thing to note when running this analysis is that a participant/ subject identification number variable (column) is needed to that the structure that exists in the data from the fact that participants contribute multiple datapoints can be taken into account. To make the analysis easier to run it is helpful to have the data in a 'long and thin' format with the DV measure contained in one variable (column) rather than spread over multiple columns, and have a second variable with multiple levels for the grouping (IV) variable. "
   ]
  },
  {
   "cell_type": "code",
   "execution_count": 1,
   "id": "2de2c62b",
   "metadata": {},
   "outputs": [],
   "source": [
    "# Starting with the key software library imports.\n",
    "\n",
    "import numpy as np\n",
    "import pandas as pd\n",
    "from statsmodels.stats.anova import AnovaRM"
   ]
  },
  {
   "cell_type": "code",
   "execution_count": 2,
   "id": "5fe5cea3",
   "metadata": {},
   "outputs": [
    {
     "data": {
      "text/html": [
       "<div>\n",
       "<style scoped>\n",
       "    .dataframe tbody tr th:only-of-type {\n",
       "        vertical-align: middle;\n",
       "    }\n",
       "\n",
       "    .dataframe tbody tr th {\n",
       "        vertical-align: top;\n",
       "    }\n",
       "\n",
       "    .dataframe thead th {\n",
       "        text-align: right;\n",
       "    }\n",
       "</style>\n",
       "<table border=\"1\" class=\"dataframe\">\n",
       "  <thead>\n",
       "    <tr style=\"text-align: right;\">\n",
       "      <th></th>\n",
       "      <th>PersonID</th>\n",
       "      <th>Framing</th>\n",
       "      <th>Questions_LTCol</th>\n",
       "      <th>Arousal</th>\n",
       "    </tr>\n",
       "  </thead>\n",
       "  <tbody>\n",
       "    <tr>\n",
       "      <th>0</th>\n",
       "      <td>1</td>\n",
       "      <td>1</td>\n",
       "      <td>1</td>\n",
       "      <td>1.277222</td>\n",
       "    </tr>\n",
       "    <tr>\n",
       "      <th>1</th>\n",
       "      <td>2</td>\n",
       "      <td>1</td>\n",
       "      <td>1</td>\n",
       "      <td>6.444483</td>\n",
       "    </tr>\n",
       "    <tr>\n",
       "      <th>2</th>\n",
       "      <td>3</td>\n",
       "      <td>1</td>\n",
       "      <td>1</td>\n",
       "      <td>1.082127</td>\n",
       "    </tr>\n",
       "    <tr>\n",
       "      <th>3</th>\n",
       "      <td>4</td>\n",
       "      <td>1</td>\n",
       "      <td>1</td>\n",
       "      <td>2.704305</td>\n",
       "    </tr>\n",
       "    <tr>\n",
       "      <th>4</th>\n",
       "      <td>5</td>\n",
       "      <td>1</td>\n",
       "      <td>1</td>\n",
       "      <td>2.852132</td>\n",
       "    </tr>\n",
       "  </tbody>\n",
       "</table>\n",
       "</div>"
      ],
      "text/plain": [
       "   PersonID  Framing  Questions_LTCol   Arousal\n",
       "0         1        1                1  1.277222\n",
       "1         2        1                1  6.444483\n",
       "2         3        1                1  1.082127\n",
       "3         4        1                1  2.704305\n",
       "4         5        1                1  2.852132"
      ]
     },
     "execution_count": 2,
     "metadata": {},
     "output_type": "execute_result"
    }
   ],
   "source": [
    "# Importing the dataset for use in the analysis.\n",
    "\n",
    "eda_df = pd.read_csv('EDA Data Long Thin.csv')\n",
    "\n",
    "eda_df.head()"
   ]
  },
  {
   "cell_type": "markdown",
   "id": "0646e699",
   "metadata": {},
   "source": [
    "The variable Question_LTCol has three levels (Lie, Truth, Col_Sqr) represeting when a participant answered a question by lying, telling the truth or completed a control taks of looking at a coloured sheet of paper. \n",
    "\n",
    "We are going to look at differences in mean arousal, as measured through electro-dermal activity (EDA) between these three conditions. So the IV is the questions variable, with three levels, and the DV is the arousal variable which is a scale measure of mean arousal, for each participant, in each of the three questions conditions. "
   ]
  },
  {
   "cell_type": "code",
   "execution_count": 3,
   "id": "8347dfeb",
   "metadata": {},
   "outputs": [
    {
     "name": "stdout",
     "output_type": "stream",
     "text": [
      "                    Anova\n",
      "==============================================\n",
      "                F Value Num DF  Den DF  Pr > F\n",
      "----------------------------------------------\n",
      "Questions_LTCol 14.2167 2.0000 158.0000 0.0000\n",
      "==============================================\n",
      "\n"
     ]
    }
   ],
   "source": [
    "# Running the RM Anova analysis. First specifying the parameters for the model, then fitting the model, and printing the result.\n",
    "\n",
    "aovrm = AnovaRM(eda_df, 'Arousal', 'PersonID', within = ['Questions_LTCol'])\n",
    "res = aovrm.fit()\n",
    "\n",
    "print(res)"
   ]
  },
  {
   "cell_type": "markdown",
   "id": "8e474202",
   "metadata": {},
   "source": [
    "We get a very simple table of output for the RM ANOVA model. We can see above that the analysis returned a statistically significant result: F(2, 158) = 14.22, p<0.001. \n",
    "\n",
    "As this result was significant we would then need to perform post-hoc follow-up analysis to identify the levels of the IV that were significantly different in terms of mean arousal. "
   ]
  }
 ],
 "metadata": {
  "kernelspec": {
   "display_name": "Python 3 (ipykernel)",
   "language": "python",
   "name": "python3"
  },
  "language_info": {
   "codemirror_mode": {
    "name": "ipython",
    "version": 3
   },
   "file_extension": ".py",
   "mimetype": "text/x-python",
   "name": "python",
   "nbconvert_exporter": "python",
   "pygments_lexer": "ipython3",
   "version": "3.9.12"
  }
 },
 "nbformat": 4,
 "nbformat_minor": 5
}
