{
 "cells": [
  {
   "cell_type": "markdown",
   "id": "23b5cc21",
   "metadata": {},
   "source": [
    "# More Data Wrangling 5\n",
    "\n",
    "In this notebook I demonstrate how to split a dataframe into two random subsets, allocating a certain percentage of the data to one object and the remainder to another. This is useful for Machine Learning and statistical learning analyses where we might want to assess how well as statistical model performs at predicting out of sample data. This is commonly referred to train/test split, where the model is trained on part of the data and then tested on a different subset to see how well it generalises when presented with unseen observations. "
   ]
  },
  {
   "cell_type": "code",
   "execution_count": 1,
   "id": "2a3f387a",
   "metadata": {},
   "outputs": [],
   "source": [
    "import pandas as pd\n",
    "\n",
    "import numpy as np"
   ]
  },
  {
   "cell_type": "code",
   "execution_count": 2,
   "id": "15eb3d14",
   "metadata": {},
   "outputs": [],
   "source": [
    "maz = pd.read_csv('MarioMscData.csv')"
   ]
  },
  {
   "cell_type": "code",
   "execution_count": 3,
   "id": "19568cc5",
   "metadata": {},
   "outputs": [
    {
     "data": {
      "text/plain": [
       "589"
      ]
     },
     "execution_count": 3,
     "metadata": {},
     "output_type": "execute_result"
    }
   ],
   "source": [
    "# Split a dataframe into two random subsets.\n",
    "\n",
    "# Looking at the length of the datset from Mario's MSc:\n",
    "\n",
    "len(maz)"
   ]
  },
  {
   "cell_type": "code",
   "execution_count": 4,
   "id": "e6585b30",
   "metadata": {},
   "outputs": [],
   "source": [
    "# Splitting the dataset on a 75/ 25 random split using the dot sample method and assigning \n",
    "# the sample to a new data frame \n",
    "\n",
    "maz_1 = maz.sample(frac = 0.75, random_state = 1234)"
   ]
  },
  {
   "cell_type": "code",
   "execution_count": 5,
   "id": "08bd7e0f",
   "metadata": {},
   "outputs": [],
   "source": [
    "# Assigning the other 25% of the dataset to a second data frame using the dot drop method:\n",
    "\n",
    "maz_2 = maz.drop(maz_1.index)"
   ]
  },
  {
   "cell_type": "code",
   "execution_count": 6,
   "id": "221c9852",
   "metadata": {},
   "outputs": [
    {
     "data": {
      "text/plain": [
       "589"
      ]
     },
     "execution_count": 6,
     "metadata": {},
     "output_type": "execute_result"
    }
   ],
   "source": [
    "# Checking the length of both matches the length of the original data file:\n",
    "\n",
    "len(maz_1) + len(maz_2)"
   ]
  },
  {
   "cell_type": "code",
   "execution_count": 7,
   "id": "f9430d50",
   "metadata": {},
   "outputs": [
    {
     "data": {
      "text/plain": [
       "Int64Index([  0,   5,   6,   7,   9,  11,  12,  13,  16,  17,\n",
       "            ...\n",
       "            576, 577, 578, 580, 581, 582, 584, 586, 587, 588],\n",
       "           dtype='int64', length=442)"
      ]
     },
     "execution_count": 7,
     "metadata": {},
     "output_type": "execute_result"
    }
   ],
   "source": [
    "# Using the index to show that every participant is in either maz_1 or maz_2:\n",
    "\n",
    "maz_1.index.sort_values()"
   ]
  },
  {
   "cell_type": "code",
   "execution_count": 8,
   "id": "1ab6dada",
   "metadata": {},
   "outputs": [
    {
     "data": {
      "text/plain": [
       "Int64Index([  1,   2,   3,   4,   8,  10,  14,  15,  18,  26,\n",
       "            ...\n",
       "            545, 552, 557, 560, 562, 565, 574, 579, 583, 585],\n",
       "           dtype='int64', length=147)"
      ]
     },
     "execution_count": 8,
     "metadata": {},
     "output_type": "execute_result"
    }
   ],
   "source": [
    "maz_2.index.sort_values()\n",
    "\n",
    "# Need to keep in mind that this approach will not work if your index values are not unique. "
   ]
  }
 ],
 "metadata": {
  "kernelspec": {
   "display_name": "Python 3 (ipykernel)",
   "language": "python",
   "name": "python3"
  },
  "language_info": {
   "codemirror_mode": {
    "name": "ipython",
    "version": 3
   },
   "file_extension": ".py",
   "mimetype": "text/x-python",
   "name": "python",
   "nbconvert_exporter": "python",
   "pygments_lexer": "ipython3",
   "version": "3.11.4"
  }
 },
 "nbformat": 4,
 "nbformat_minor": 5
}
