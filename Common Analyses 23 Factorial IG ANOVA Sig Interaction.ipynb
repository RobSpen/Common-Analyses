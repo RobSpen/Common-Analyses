{
 "cells": [
  {
   "cell_type": "markdown",
   "id": "ab1d6137",
   "metadata": {},
   "source": [
    "# Independent Groups Factorial ANOVA with Significant Interaction\n",
    "\n",
    "\n",
    "In this notebook I will demonstrate how to run a two-way Factorial ANOVA, specifically a 2x3 ANOVA, where the data contains a significant interaction between the two independent variables (IVs).\n",
    "\n",
    "The data is from a behavioural Game Theory study where participants played an economic game. Participants (N=48) played against one other participant and each player had to make a consumption decision in every round of the game about how much of a generalised resource they would like to consume. Participants accumulated points for their consumption decisions (number of units of the resource they chose to consume) but could overuse or destroy the resource base by making too large a consumption choice in any round. There was a stable optimum point for consumption decisions in any given round that gave a player their largest number of points whilst preserving the resource so a further round of the game could be played, where they could accumulate more points. Participants played the game in one of two anonymity conditions: (Seen/ Unseen), where they played the game face-to-face with their opponent or in separate rooms, so, they never met. A second variable was also included that manipulated the amount of information participants had available regarding the resource base (Known value: Participants knew how many units of the resource were available throughout the game; Low Uncertainty: Participants Did not know the starting value of the resource available but gained information as the game progressed; High Uncertainty: Participants never knew the value of the resource available, only whether it had decreased in value or refreshed to the starting value).\n",
    "\n",
    "IV1: Anonymity (Two levels: Seen/ Unseen)\n",
    "\n",
    "IV2: Information (Three levels: Known Value/ Low Uncertainty/ High Uncertainty).\n",
    "\n",
    "DV: Mean Consumption Decision in the game.\n",
    "\n",
    "In the below analysis, I demonstrate how to tidy the data so that the categories are correctly labelled; how to conduct a Levene's test to assess if homogeneity of variance can be assumed for the IVs; conduct a 2x3 IG ANOVA; and follow this up by conducting tests of simple effects to interpret a significant interaction between the IVs."
   ]
  },
  {
   "cell_type": "markdown",
   "id": "a128a739",
   "metadata": {},
   "source": [
    "### Importing and tidying the data for analysis"
   ]
  },
  {
   "cell_type": "code",
   "execution_count": 1,
   "id": "6ec05d1e",
   "metadata": {},
   "outputs": [],
   "source": [
    "# Importing key software libraries\n",
    "\n",
    "import pandas as pd\n",
    "import numpy as np\n",
    "import scipy.stats as stats\n",
    "import matplotlib.pyplot as plt\n",
    "import seaborn as sns\n",
    "%matplotlib inline"
   ]
  },
  {
   "cell_type": "code",
   "execution_count": 2,
   "id": "a68e71a3",
   "metadata": {},
   "outputs": [
    {
     "data": {
      "text/html": [
       "<div>\n",
       "<style scoped>\n",
       "    .dataframe tbody tr th:only-of-type {\n",
       "        vertical-align: middle;\n",
       "    }\n",
       "\n",
       "    .dataframe tbody tr th {\n",
       "        vertical-align: top;\n",
       "    }\n",
       "\n",
       "    .dataframe thead th {\n",
       "        text-align: right;\n",
       "    }\n",
       "</style>\n",
       "<table border=\"1\" class=\"dataframe\">\n",
       "  <thead>\n",
       "    <tr style=\"text-align: right;\">\n",
       "      <th></th>\n",
       "      <th>Anonymity</th>\n",
       "      <th>Information</th>\n",
       "      <th>Consumption</th>\n",
       "    </tr>\n",
       "  </thead>\n",
       "  <tbody>\n",
       "    <tr>\n",
       "      <th>0</th>\n",
       "      <td>1</td>\n",
       "      <td>0</td>\n",
       "      <td>6</td>\n",
       "    </tr>\n",
       "    <tr>\n",
       "      <th>1</th>\n",
       "      <td>1</td>\n",
       "      <td>0</td>\n",
       "      <td>7</td>\n",
       "    </tr>\n",
       "    <tr>\n",
       "      <th>2</th>\n",
       "      <td>1</td>\n",
       "      <td>0</td>\n",
       "      <td>6</td>\n",
       "    </tr>\n",
       "    <tr>\n",
       "      <th>3</th>\n",
       "      <td>1</td>\n",
       "      <td>0</td>\n",
       "      <td>7</td>\n",
       "    </tr>\n",
       "    <tr>\n",
       "      <th>4</th>\n",
       "      <td>1</td>\n",
       "      <td>0</td>\n",
       "      <td>6</td>\n",
       "    </tr>\n",
       "  </tbody>\n",
       "</table>\n",
       "</div>"
      ],
      "text/plain": [
       "   Anonymity  Information  Consumption\n",
       "0          1            0            6\n",
       "1          1            0            7\n",
       "2          1            0            6\n",
       "3          1            0            7\n",
       "4          1            0            6"
      ]
     },
     "execution_count": 2,
     "metadata": {},
     "output_type": "execute_result"
    }
   ],
   "source": [
    "# Importing dataset from csv file. \n",
    "\n",
    "consump_df = pd.read_csv('Consumption Example IG 2x3.csv')\n",
    "\n",
    "consump_df.head()"
   ]
  },
  {
   "cell_type": "code",
   "execution_count": 3,
   "id": "157cd925",
   "metadata": {},
   "outputs": [
    {
     "name": "stdout",
     "output_type": "stream",
     "text": [
      "<class 'pandas.core.frame.DataFrame'>\n",
      "RangeIndex: 48 entries, 0 to 47\n",
      "Data columns (total 3 columns):\n",
      " #   Column       Non-Null Count  Dtype\n",
      "---  ------       --------------  -----\n",
      " 0   Anonymity    48 non-null     int64\n",
      " 1   Information  48 non-null     int64\n",
      " 2   Consumption  48 non-null     int64\n",
      "dtypes: int64(3)\n",
      "memory usage: 1.2 KB\n"
     ]
    }
   ],
   "source": [
    "consump_df.info()"
   ]
  },
  {
   "cell_type": "markdown",
   "id": "fd700059",
   "metadata": {},
   "source": [
    "We can see that the two categorical variables (Anonymity and Information) have been numerically coded so that the different categories are represented by numbers (0 and 1 for Anonymity; 0, 1 and 2 for Information). This has resulted in pandas intepreting them as integers rather than categorical objects. The first thing I need to do with this dataset is turn these two variables in objects that have meaningful labels for each category. This will help with understanding and intepreting output later on in the analysis."
   ]
  },
  {
   "cell_type": "code",
   "execution_count": 4,
   "id": "cc565236",
   "metadata": {},
   "outputs": [],
   "source": [
    "# Creating two new variables that represent the category labels for Anonymity and Information\n",
    "# and appending them to the dataframe. \n",
    "\n",
    "# Using the series.map function to add labels to the Anonymity categorical variable.\n",
    "\n",
    "a = [0, 1]\n",
    "b = [\"seen\", \"unseen\"]\n",
    "\n",
    "consump_df['anon_cat'] = consump_df['Anonymity'].map(dict(zip(a, b)))"
   ]
  },
  {
   "cell_type": "code",
   "execution_count": 5,
   "id": "c48f4866",
   "metadata": {},
   "outputs": [],
   "source": [
    "# Using the series.map function to add labels to the Information categorical variable.\n",
    "\n",
    "a = [0, 1, 2]\n",
    "b = [\"known\", \"low_unc\", \"high_unc\"]\n",
    "\n",
    "consump_df['info_cat'] = consump_df['Information'].map(dict(zip(a, b)))"
   ]
  },
  {
   "cell_type": "code",
   "execution_count": 6,
   "id": "f4f81006",
   "metadata": {},
   "outputs": [
    {
     "data": {
      "text/html": [
       "<div>\n",
       "<style scoped>\n",
       "    .dataframe tbody tr th:only-of-type {\n",
       "        vertical-align: middle;\n",
       "    }\n",
       "\n",
       "    .dataframe tbody tr th {\n",
       "        vertical-align: top;\n",
       "    }\n",
       "\n",
       "    .dataframe thead th {\n",
       "        text-align: right;\n",
       "    }\n",
       "</style>\n",
       "<table border=\"1\" class=\"dataframe\">\n",
       "  <thead>\n",
       "    <tr style=\"text-align: right;\">\n",
       "      <th></th>\n",
       "      <th>Anonymity</th>\n",
       "      <th>Information</th>\n",
       "      <th>Consumption</th>\n",
       "      <th>anon_cat</th>\n",
       "      <th>info_cat</th>\n",
       "    </tr>\n",
       "  </thead>\n",
       "  <tbody>\n",
       "    <tr>\n",
       "      <th>0</th>\n",
       "      <td>1</td>\n",
       "      <td>0</td>\n",
       "      <td>6</td>\n",
       "      <td>unseen</td>\n",
       "      <td>known</td>\n",
       "    </tr>\n",
       "    <tr>\n",
       "      <th>1</th>\n",
       "      <td>1</td>\n",
       "      <td>0</td>\n",
       "      <td>7</td>\n",
       "      <td>unseen</td>\n",
       "      <td>known</td>\n",
       "    </tr>\n",
       "    <tr>\n",
       "      <th>2</th>\n",
       "      <td>1</td>\n",
       "      <td>0</td>\n",
       "      <td>6</td>\n",
       "      <td>unseen</td>\n",
       "      <td>known</td>\n",
       "    </tr>\n",
       "    <tr>\n",
       "      <th>3</th>\n",
       "      <td>1</td>\n",
       "      <td>0</td>\n",
       "      <td>7</td>\n",
       "      <td>unseen</td>\n",
       "      <td>known</td>\n",
       "    </tr>\n",
       "    <tr>\n",
       "      <th>4</th>\n",
       "      <td>1</td>\n",
       "      <td>0</td>\n",
       "      <td>6</td>\n",
       "      <td>unseen</td>\n",
       "      <td>known</td>\n",
       "    </tr>\n",
       "  </tbody>\n",
       "</table>\n",
       "</div>"
      ],
      "text/plain": [
       "   Anonymity  Information  Consumption anon_cat info_cat\n",
       "0          1            0            6   unseen    known\n",
       "1          1            0            7   unseen    known\n",
       "2          1            0            6   unseen    known\n",
       "3          1            0            7   unseen    known\n",
       "4          1            0            6   unseen    known"
      ]
     },
     "execution_count": 6,
     "metadata": {},
     "output_type": "execute_result"
    }
   ],
   "source": [
    "consump_df.head()"
   ]
  },
  {
   "cell_type": "code",
   "execution_count": 7,
   "id": "51d790bc",
   "metadata": {},
   "outputs": [
    {
     "name": "stdout",
     "output_type": "stream",
     "text": [
      "<class 'pandas.core.frame.DataFrame'>\n",
      "RangeIndex: 48 entries, 0 to 47\n",
      "Data columns (total 5 columns):\n",
      " #   Column       Non-Null Count  Dtype \n",
      "---  ------       --------------  ----- \n",
      " 0   Anonymity    48 non-null     int64 \n",
      " 1   Information  48 non-null     int64 \n",
      " 2   Consumption  48 non-null     int64 \n",
      " 3   anon_cat     48 non-null     object\n",
      " 4   info_cat     48 non-null     object\n",
      "dtypes: int64(3), object(2)\n",
      "memory usage: 2.0+ KB\n"
     ]
    }
   ],
   "source": [
    "# Checking the data type for these new variables.\n",
    "# Both the new variables are shown as objects. They should be in the appropriate format for analysis. \n",
    "consump_df.info()"
   ]
  },
  {
   "cell_type": "markdown",
   "id": "c46152ef",
   "metadata": {},
   "source": [
    "### Levene's test for Homogeneity of Variance\n",
    "\n",
    "Levene's test is used to assess if the different groups in a categorical IV have equal variances. It is a common test of assumption for parameteric ANOVA tests. Here I will use the levene method from the pingouin software library. "
   ]
  },
  {
   "cell_type": "code",
   "execution_count": 8,
   "id": "09acb840",
   "metadata": {},
   "outputs": [],
   "source": [
    "import pingouin as pg"
   ]
  },
  {
   "cell_type": "code",
   "execution_count": 9,
   "id": "5e2e53b0",
   "metadata": {},
   "outputs": [
    {
     "data": {
      "text/html": [
       "<div>\n",
       "<style scoped>\n",
       "    .dataframe tbody tr th:only-of-type {\n",
       "        vertical-align: middle;\n",
       "    }\n",
       "\n",
       "    .dataframe tbody tr th {\n",
       "        vertical-align: top;\n",
       "    }\n",
       "\n",
       "    .dataframe thead th {\n",
       "        text-align: right;\n",
       "    }\n",
       "</style>\n",
       "<table border=\"1\" class=\"dataframe\">\n",
       "  <thead>\n",
       "    <tr style=\"text-align: right;\">\n",
       "      <th></th>\n",
       "      <th>W</th>\n",
       "      <th>pval</th>\n",
       "      <th>equal_var</th>\n",
       "    </tr>\n",
       "  </thead>\n",
       "  <tbody>\n",
       "    <tr>\n",
       "      <th>levene</th>\n",
       "      <td>6.136714</td>\n",
       "      <td>0.016976</td>\n",
       "      <td>False</td>\n",
       "    </tr>\n",
       "  </tbody>\n",
       "</table>\n",
       "</div>"
      ],
      "text/plain": [
       "               W      pval  equal_var\n",
       "levene  6.136714  0.016976      False"
      ]
     },
     "execution_count": 9,
     "metadata": {},
     "output_type": "execute_result"
    }
   ],
   "source": [
    "pg.homoscedasticity(consump_df, dv = 'Consumption', group = 'anon_cat', center = 'mean')"
   ]
  },
  {
   "cell_type": "code",
   "execution_count": 11,
   "id": "74e706d3",
   "metadata": {},
   "outputs": [
    {
     "data": {
      "text/html": [
       "<div>\n",
       "<style scoped>\n",
       "    .dataframe tbody tr th:only-of-type {\n",
       "        vertical-align: middle;\n",
       "    }\n",
       "\n",
       "    .dataframe tbody tr th {\n",
       "        vertical-align: top;\n",
       "    }\n",
       "\n",
       "    .dataframe thead th {\n",
       "        text-align: right;\n",
       "    }\n",
       "</style>\n",
       "<table border=\"1\" class=\"dataframe\">\n",
       "  <thead>\n",
       "    <tr style=\"text-align: right;\">\n",
       "      <th></th>\n",
       "      <th>W</th>\n",
       "      <th>pval</th>\n",
       "      <th>equal_var</th>\n",
       "    </tr>\n",
       "  </thead>\n",
       "  <tbody>\n",
       "    <tr>\n",
       "      <th>levene</th>\n",
       "      <td>2.829613</td>\n",
       "      <td>0.069577</td>\n",
       "      <td>True</td>\n",
       "    </tr>\n",
       "  </tbody>\n",
       "</table>\n",
       "</div>"
      ],
      "text/plain": [
       "               W      pval  equal_var\n",
       "levene  2.829613  0.069577       True"
      ]
     },
     "execution_count": 11,
     "metadata": {},
     "output_type": "execute_result"
    }
   ],
   "source": [
    "pg.homoscedasticity(consump_df, dv = 'Consumption', group = 'info_cat', center = 'mean')"
   ]
  },
  {
   "cell_type": "markdown",
   "id": "b157a328",
   "metadata": {},
   "source": [
    "Here we have one significant Levene's test for the anonymity variable (F(1, 46) = 6.14, p = 0.02) and a non-significant Levene's test for the information variable (F(2, 45) = 2.83, p = 0.07). This suggests we are safe to assume equal variances on only one of the IVs. This is problematic but our best approach with factorial ANOVA is to run the ANOVA model and then if there is a significant main effect for the IV for which it is not safe to assume equal variances, we could run a robust one-way ANOVA (e.g. Welch's ANOVA) on that variable in isolation to assess if the main effect is still significant when using a stricter test."
   ]
  },
  {
   "cell_type": "markdown",
   "id": "76cc631c",
   "metadata": {},
   "source": [
    "### 2x3 Factorial ANOVA\n",
    "\n",
    "Below is am going to run the 2x3 ANOVA. There are a number of optoins for conducting this analysis in python. On this occasion I will use the anova_lm method from the statsmodels software library. This method for fitting ANOVA models uses the same style of formula as used in the R programming language. "
   ]
  },
  {
   "cell_type": "code",
   "execution_count": 12,
   "id": "7c22e441",
   "metadata": {},
   "outputs": [],
   "source": [
    "# Importing statsmodels and the ols method. \n",
    "\n",
    "import statsmodels.api as sm\n",
    "from statsmodels.formula.api import ols"
   ]
  },
  {
   "cell_type": "code",
   "execution_count": 13,
   "id": "50f4da33",
   "metadata": {},
   "outputs": [
    {
     "data": {
      "text/html": [
       "<div>\n",
       "<style scoped>\n",
       "    .dataframe tbody tr th:only-of-type {\n",
       "        vertical-align: middle;\n",
       "    }\n",
       "\n",
       "    .dataframe tbody tr th {\n",
       "        vertical-align: top;\n",
       "    }\n",
       "\n",
       "    .dataframe thead th {\n",
       "        text-align: right;\n",
       "    }\n",
       "</style>\n",
       "<table border=\"1\" class=\"dataframe\">\n",
       "  <thead>\n",
       "    <tr style=\"text-align: right;\">\n",
       "      <th></th>\n",
       "      <th>df</th>\n",
       "      <th>sum_sq</th>\n",
       "      <th>mean_sq</th>\n",
       "      <th>F</th>\n",
       "      <th>PR(&gt;F)</th>\n",
       "    </tr>\n",
       "  </thead>\n",
       "  <tbody>\n",
       "    <tr>\n",
       "      <th>C(anon_cat)</th>\n",
       "      <td>1.0</td>\n",
       "      <td>21.333333</td>\n",
       "      <td>21.333333</td>\n",
       "      <td>15.582609</td>\n",
       "      <td>0.000295</td>\n",
       "    </tr>\n",
       "    <tr>\n",
       "      <th>C(info_cat)</th>\n",
       "      <td>2.0</td>\n",
       "      <td>16.541667</td>\n",
       "      <td>8.270833</td>\n",
       "      <td>6.041304</td>\n",
       "      <td>0.004943</td>\n",
       "    </tr>\n",
       "    <tr>\n",
       "      <th>C(anon_cat):C(info_cat)</th>\n",
       "      <td>2.0</td>\n",
       "      <td>23.291667</td>\n",
       "      <td>11.645833</td>\n",
       "      <td>8.506522</td>\n",
       "      <td>0.000791</td>\n",
       "    </tr>\n",
       "    <tr>\n",
       "      <th>Residual</th>\n",
       "      <td>42.0</td>\n",
       "      <td>57.500000</td>\n",
       "      <td>1.369048</td>\n",
       "      <td>NaN</td>\n",
       "      <td>NaN</td>\n",
       "    </tr>\n",
       "  </tbody>\n",
       "</table>\n",
       "</div>"
      ],
      "text/plain": [
       "                           df     sum_sq    mean_sq          F    PR(>F)\n",
       "C(anon_cat)               1.0  21.333333  21.333333  15.582609  0.000295\n",
       "C(info_cat)               2.0  16.541667   8.270833   6.041304  0.004943\n",
       "C(anon_cat):C(info_cat)   2.0  23.291667  11.645833   8.506522  0.000791\n",
       "Residual                 42.0  57.500000   1.369048        NaN       NaN"
      ]
     },
     "execution_count": 13,
     "metadata": {},
     "output_type": "execute_result"
    }
   ],
   "source": [
    "# Fitting a linear model containing only categorical IVs and the interaction between those IVs (c(anon_cat):c(info_cat))\n",
    "consump_lm = ols('Consumption ~ C(anon_cat) + C(info_cat) + C(anon_cat):C(info_cat)', data = consump_df).fit()\n",
    "\n",
    "# Using the anova_lm method and passing the linear model in as an argument for the method. \n",
    "aov_consump = sm.stats.anova_lm(consump_lm)\n",
    "\n",
    "aov_consump"
   ]
  },
  {
   "cell_type": "markdown",
   "id": "cc27e146",
   "metadata": {},
   "source": [
    "The ANOVA output table indicates that there is a significant main effect of anonymity (anon_cat: F(1, 42) = 15.58, p < 0.001), a significant main effect of information (info_cat: F(2, 42) = 6.04, p = 0.004), and a significant interaction between anonymity and information (anon_cat * info_cat: F(2, 42) = 8.51, p < 0.001). \n",
    "\n",
    "These results suggest that there is a significant difference between the anonymity groups in terms of their mean consumption (anonymity main effect), a significant difference between the information groups in terms of their mean consumption (information main effect) when the effect of these IVs on the DV is considered in isolation. However, we also have a significant interaction between these variables and the DV. This means that the pattern of differences on the DV for one IV is not the same when considered across all levels of the other IV. This tells is that the main effects are not consistent and in order to understand what is going on we need to interpret the interaction effect by holding each level of one IV constant and comparing differences between groups on the other IV. This means breaking the two IVs down into more granular groups and conducting a series of follow-up analyses. These tests are referred to as tests of simple effects. \n",
    "\n",
    "The following five tests of simple effects are required to understand the significant interaction:\n",
    "\n",
    "- A one-way ANOVA comparing all 3 levels of information in the Unseen (Anonymity) condition. \n",
    "- A one-way ANOVA comparing all 3 levels of information in the Seen (Anonymity) condition. \n",
    "- A one-way ANOVA (or Bonferroni corrected t-test) comparing both levels of Anonymity in the Known Value (Information) condition. \n",
    "- A one-way ANOVA (or Bonferroni corrected t-test comparing both levels of Anonymity in the Low Uncertainty (Information) condition. \n",
    "- A one-way ANOVA (or Bonferroni corrected t-test comparing both levels of Anonymity in the High Uncertainty (Information) condition. \n"
   ]
  },
  {
   "cell_type": "markdown",
   "id": "73db790e",
   "metadata": {},
   "source": [
    "### Tests of simple effects on the significant interaction"
   ]
  },
  {
   "cell_type": "markdown",
   "id": "999fb8f0",
   "metadata": {},
   "source": [
    "To conduct tests of simple effects on the significant interaction I am going to proceed by creating a column in the dataframe that contains all possible group combinations of the IVs in the interaction term. I will then use the MultiComparison method and tukeyhsd from statsmodels. "
   ]
  },
  {
   "cell_type": "code",
   "execution_count": 14,
   "id": "3db9652c",
   "metadata": {},
   "outputs": [
    {
     "data": {
      "text/html": [
       "<table class=\"simpletable\">\n",
       "<caption>Multiple Comparison of Means - Tukey HSD, FWER=0.05</caption>\n",
       "<tr>\n",
       "           <th>group1</th>                    <th>group2</th>           <th>meandiff</th>  <th>p-adj</th>  <th>lower</th>   <th>upper</th>  <th>reject</th>\n",
       "</tr>\n",
       "<tr>\n",
       "   <td>anon_seen&info_high_unc</td>    <td>anon_seen&info_known</td>     <td>-3.125</td>    <td>0.0</td>  <td>-4.8715</td> <td>-1.3785</td>  <td>True</td> \n",
       "</tr>\n",
       "<tr>\n",
       "   <td>anon_seen&info_high_unc</td>   <td>anon_seen&info_low_unc</td>     <td>-1.75</td>  <td>0.0493</td> <td>-3.4965</td> <td>-0.0035</td>  <td>True</td> \n",
       "</tr>\n",
       "<tr>\n",
       "   <td>anon_seen&info_high_unc</td>  <td>anon_unseen&info_high_unc</td>   <td>-0.5</td>    <td>0.955</td> <td>-2.2465</td> <td>1.2465</td>   <td>False</td>\n",
       "</tr>\n",
       "<tr>\n",
       "   <td>anon_seen&info_high_unc</td>   <td>anon_unseen&info_known</td>     <td>-0.25</td>  <td>0.9981</td> <td>-1.9965</td> <td>1.4965</td>   <td>False</td>\n",
       "</tr>\n",
       "<tr>\n",
       "   <td>anon_seen&info_high_unc</td>  <td>anon_unseen&info_low_unc</td>   <td>-0.125</td>  <td>0.9999</td> <td>-1.8715</td> <td>1.6215</td>   <td>False</td>\n",
       "</tr>\n",
       "<tr>\n",
       "    <td>anon_seen&info_known</td>     <td>anon_seen&info_low_unc</td>     <td>1.375</td>  <td>0.1975</td> <td>-0.3715</td> <td>3.1215</td>   <td>False</td>\n",
       "</tr>\n",
       "<tr>\n",
       "    <td>anon_seen&info_known</td>    <td>anon_unseen&info_high_unc</td>   <td>2.625</td>  <td>0.0007</td> <td>0.8785</td>  <td>4.3715</td>   <td>True</td> \n",
       "</tr>\n",
       "<tr>\n",
       "    <td>anon_seen&info_known</td>     <td>anon_unseen&info_known</td>     <td>2.875</td>  <td>0.0002</td> <td>1.1285</td>  <td>4.6215</td>   <td>True</td> \n",
       "</tr>\n",
       "<tr>\n",
       "    <td>anon_seen&info_known</td>    <td>anon_unseen&info_low_unc</td>     <td>3.0</td>   <td>0.0001</td> <td>1.2535</td>  <td>4.7465</td>   <td>True</td> \n",
       "</tr>\n",
       "<tr>\n",
       "   <td>anon_seen&info_low_unc</td>   <td>anon_unseen&info_high_unc</td>   <td>1.25</td>    <td>0.289</td> <td>-0.4965</td> <td>2.9965</td>   <td>False</td>\n",
       "</tr>\n",
       "<tr>\n",
       "   <td>anon_seen&info_low_unc</td>    <td>anon_unseen&info_known</td>      <td>1.5</td>   <td>0.1292</td> <td>-0.2465</td> <td>3.2465</td>   <td>False</td>\n",
       "</tr>\n",
       "<tr>\n",
       "   <td>anon_seen&info_low_unc</td>   <td>anon_unseen&info_low_unc</td>    <td>1.625</td>  <td>0.0812</td> <td>-0.1215</td> <td>3.3715</td>   <td>False</td>\n",
       "</tr>\n",
       "<tr>\n",
       "  <td>anon_unseen&info_high_unc</td>  <td>anon_unseen&info_known</td>     <td>0.25</td>   <td>0.9981</td> <td>-1.4965</td> <td>1.9965</td>   <td>False</td>\n",
       "</tr>\n",
       "<tr>\n",
       "  <td>anon_unseen&info_high_unc</td> <td>anon_unseen&info_low_unc</td>    <td>0.375</td>  <td>0.9871</td> <td>-1.3715</td> <td>2.1215</td>   <td>False</td>\n",
       "</tr>\n",
       "<tr>\n",
       "   <td>anon_unseen&info_known</td>   <td>anon_unseen&info_low_unc</td>    <td>0.125</td>  <td>0.9999</td> <td>-1.6215</td> <td>1.8715</td>   <td>False</td>\n",
       "</tr>\n",
       "</table>"
      ],
      "text/plain": [
       "<class 'statsmodels.iolib.table.SimpleTable'>"
      ]
     },
     "execution_count": 14,
     "metadata": {},
     "output_type": "execute_result"
    }
   ],
   "source": [
    "# Importing multicomp from statsmodels, creating the interaction groups, and running tukeyhsd for all adjusted\n",
    "# pairwise comparisons. \n",
    "\n",
    "import statsmodels.stats.multicomp as mc\n",
    "\n",
    "interaction_groups = \"anon_\" + consump_df.anon_cat.astype(str) + \"&\" + \"info_\" + consump_df.info_cat.astype(str)\n",
    "\n",
    "comp = mc.MultiComparison(consump_df[\"Consumption\"], interaction_groups)\n",
    "simp_eff_res = comp.tukeyhsd()\n",
    "simp_eff_res.summary()"
   ]
  },
  {
   "cell_type": "markdown",
   "id": "acc0e2e5",
   "metadata": {},
   "source": [
    "The above results indicate that we have significant differences between mean consumption between a number of groups:\n",
    "\n",
    "- Participants in the seen & high uncertainty group had significantly higher consumption than participants in the seen & known info group (p < 0.001. \n",
    "- Participants in the seen & high uncertain group had significantly higher consumption than participants in the seen & low uncertainty group (p = 0.05).\n",
    "- Participants in the seen & known info group had significantly lower mean consumption than participants in the unseen & high uncertainty group (p = 0.0007). \n",
    "- Participants in the seen & known info group had significantly lower mean consumption than participants in the unseen & known info group (p = 0.0002).\n",
    "- Participants in the seen & known info group had significantly lower mean consumption than participants in the unseen & low uncertainty info group (p = 0.0001). \n"
   ]
  },
  {
   "cell_type": "markdown",
   "id": "eb79a41e",
   "metadata": {},
   "source": [
    "An interaction plot and descriptive statistics can be helpful ways to visualise and interpret the effect the interaction is having. We can see in the below plot the signficant difference between seen and unseen in the known category, between seen and unseen in the low uncertainty category, but no difference between seen and unseen in the high uncertainty category. \n",
    "Further, when just considering the information groups in the unseen category (the blue line) there are no significant differences between the groups in terms of consumption and the line is almost completely flat. In contrast, when just looking at the seen condition (the orange line) we can see that there are significant differences in consumption between the known and high uncertainty group, and between the low uncertainty and high uncertainty group. There was no significant difference between the known and low uncertinty group however, and this can be seen by the overlap in confidence intervals between those two groups on the orange line. "
   ]
  },
  {
   "cell_type": "code",
   "execution_count": 15,
   "id": "5f4eedd7",
   "metadata": {},
   "outputs": [
    {
     "data": {
      "text/plain": [
       "<AxesSubplot:xlabel='info_cat', ylabel='Consumption'>"
      ]
     },
     "execution_count": 15,
     "metadata": {},
     "output_type": "execute_result"
    },
    {
     "data": {
      "image/png": "[encoded data removed]",
      "text/plain": [
       "<Figure size 432x288 with 1 Axes>"
      ]
     },
     "metadata": {},
     "output_type": "display_data"
    }
   ],
   "source": [
    "# Creating an interaction plot to visualise the differences between the group means using seaborn pointplot.\n",
    "\n",
    "sns.set()\n",
    "sns.pointplot(data = consump_df, x = 'info_cat', y = 'Consumption', hue = 'anon_cat', dodge = True, \n",
    "              markers = ['o', 's'], capsize = 1, errwidth = 1, palette = 'colorblind')"
   ]
  },
  {
   "cell_type": "markdown",
   "id": "1652daa7",
   "metadata": {},
   "source": [
    "A table of descriptive statistics, particularly means for each interaction group would also be useful. "
   ]
  },
  {
   "cell_type": "code",
   "execution_count": 16,
   "id": "b8dc9539",
   "metadata": {},
   "outputs": [
    {
     "data": {
      "text/html": [
       "<div>\n",
       "<style scoped>\n",
       "    .dataframe tbody tr th:only-of-type {\n",
       "        vertical-align: middle;\n",
       "    }\n",
       "\n",
       "    .dataframe tbody tr th {\n",
       "        vertical-align: top;\n",
       "    }\n",
       "\n",
       "    .dataframe thead th {\n",
       "        text-align: right;\n",
       "    }\n",
       "</style>\n",
       "<table border=\"1\" class=\"dataframe\">\n",
       "  <thead>\n",
       "    <tr style=\"text-align: right;\">\n",
       "      <th></th>\n",
       "      <th>Anonymity</th>\n",
       "      <th>Information</th>\n",
       "      <th>Consumption</th>\n",
       "      <th>anon_cat</th>\n",
       "      <th>info_cat</th>\n",
       "      <th>inter_grp</th>\n",
       "    </tr>\n",
       "  </thead>\n",
       "  <tbody>\n",
       "    <tr>\n",
       "      <th>0</th>\n",
       "      <td>1</td>\n",
       "      <td>0</td>\n",
       "      <td>6</td>\n",
       "      <td>unseen</td>\n",
       "      <td>known</td>\n",
       "      <td>anon_unseen&amp;info_known</td>\n",
       "    </tr>\n",
       "    <tr>\n",
       "      <th>1</th>\n",
       "      <td>1</td>\n",
       "      <td>0</td>\n",
       "      <td>7</td>\n",
       "      <td>unseen</td>\n",
       "      <td>known</td>\n",
       "      <td>anon_unseen&amp;info_known</td>\n",
       "    </tr>\n",
       "    <tr>\n",
       "      <th>2</th>\n",
       "      <td>1</td>\n",
       "      <td>0</td>\n",
       "      <td>6</td>\n",
       "      <td>unseen</td>\n",
       "      <td>known</td>\n",
       "      <td>anon_unseen&amp;info_known</td>\n",
       "    </tr>\n",
       "    <tr>\n",
       "      <th>3</th>\n",
       "      <td>1</td>\n",
       "      <td>0</td>\n",
       "      <td>7</td>\n",
       "      <td>unseen</td>\n",
       "      <td>known</td>\n",
       "      <td>anon_unseen&amp;info_known</td>\n",
       "    </tr>\n",
       "    <tr>\n",
       "      <th>4</th>\n",
       "      <td>1</td>\n",
       "      <td>0</td>\n",
       "      <td>6</td>\n",
       "      <td>unseen</td>\n",
       "      <td>known</td>\n",
       "      <td>anon_unseen&amp;info_known</td>\n",
       "    </tr>\n",
       "  </tbody>\n",
       "</table>\n",
       "</div>"
      ],
      "text/plain": [
       "   Anonymity  Information  Consumption anon_cat info_cat  \\\n",
       "0          1            0            6   unseen    known   \n",
       "1          1            0            7   unseen    known   \n",
       "2          1            0            6   unseen    known   \n",
       "3          1            0            7   unseen    known   \n",
       "4          1            0            6   unseen    known   \n",
       "\n",
       "                inter_grp  \n",
       "0  anon_unseen&info_known  \n",
       "1  anon_unseen&info_known  \n",
       "2  anon_unseen&info_known  \n",
       "3  anon_unseen&info_known  \n",
       "4  anon_unseen&info_known  "
      ]
     },
     "execution_count": 16,
     "metadata": {},
     "output_type": "execute_result"
    }
   ],
   "source": [
    "# First appending the interaction_groups column to the consumption data frame. \n",
    "\n",
    "consump_df[\"inter_grp\"] = interaction_groups\n",
    "\n",
    "consump_df.head()"
   ]
  },
  {
   "cell_type": "code",
   "execution_count": 17,
   "id": "69831e18",
   "metadata": {},
   "outputs": [],
   "source": [
    "# Next obtaining descriptive statistics by interaction group for comparison. \n",
    "\n",
    "# Creating a new object for each of the interaction groups:\n",
    "\n",
    "unseen_known = consump_df.loc[consump_df.inter_grp == 'anon_unseen&info_known']['Consumption']\n",
    "unseen_low = consump_df.loc[consump_df.inter_grp == 'anon_unseen&info_low_unc']['Consumption']\n",
    "unseen_high = consump_df.loc[consump_df.inter_grp == 'anon_unseen&info_high_unc']['Consumption']\n",
    "seen_known = consump_df.loc[consump_df.inter_grp == 'anon_seen&info_known']['Consumption']\n",
    "seen_low = consump_df.loc[consump_df.inter_grp == 'anon_seen&info_low_unc']['Consumption']\n",
    "seen_high = consump_df.loc[consump_df.inter_grp == 'anon_seen&info_high_unc']['Consumption']"
   ]
  },
  {
   "cell_type": "code",
   "execution_count": 18,
   "id": "8b56e27c",
   "metadata": {},
   "outputs": [
    {
     "name": "stdout",
     "output_type": "stream",
     "text": [
      "Unseen & Known mean: 6.38\n",
      "Unseen & Low mean: 6.50\n",
      "Unseen & High mean: 6.12\n",
      "Seen & Known mean: 3.50\n",
      "Seen & Low mean: 4.88\n",
      "Seen & High mean: 6.62\n"
     ]
    }
   ],
   "source": [
    "# Printing the mean for each of the above interaction group objects. \n",
    "\n",
    "print(f\"Unseen & Known mean: {unseen_known.mean():.2f}\")\n",
    "print(f\"Unseen & Low mean: {unseen_low.mean():.2f}\")\n",
    "print(f\"Unseen & High mean: {unseen_high.mean():.2f}\")\n",
    "print(f\"Seen & Known mean: {seen_known.mean():.2f}\")\n",
    "print(f\"Seen & Low mean: {seen_low.mean():.2f}\")\n",
    "print(f\"Seen & High mean: {seen_high.mean():.2f}\")"
   ]
  },
  {
   "cell_type": "markdown",
   "id": "9cacd73f",
   "metadata": {},
   "source": [
    "The Tukey HSD pairwise comparisons, the interaction plot and the mean scores broken down by interaction group help us to make sense of and understand the interaction. The general story that this dataset tell us is that when participants could not see the other player against whom they were playing (unseen condition) they made significantly higher consumption decisions than players who were face-to-face with the other player (seen condition). However, this was not consistent and when there was high uncertainty in games about how much of the resource existed, players in both the seen and unseen conditions made similarly high consumption decisions. "
   ]
  }
 ],
 "metadata": {
  "kernelspec": {
   "display_name": "Python 3 (ipykernel)",
   "language": "python",
   "name": "python3"
  },
  "language_info": {
   "codemirror_mode": {
    "name": "ipython",
    "version": 3
   },
   "file_extension": ".py",
   "mimetype": "text/x-python",
   "name": "python",
   "nbconvert_exporter": "python",
   "pygments_lexer": "ipython3",
   "version": "3.9.12"
  }
 },
 "nbformat": 4,
 "nbformat_minor": 5
}
