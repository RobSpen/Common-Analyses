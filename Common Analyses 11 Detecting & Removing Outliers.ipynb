{
 "cells": [
  {
   "cell_type": "markdown",
   "id": "69b1080d",
   "metadata": {},
   "source": [
    "# Detecting and Removing Outliers"
   ]
  },
  {
   "cell_type": "code",
   "execution_count": 1,
   "id": "dfd648bf",
   "metadata": {},
   "outputs": [],
   "source": [
    "# Importing the key software libraries\n",
    "\n",
    "import pandas as pd\n",
    "import numpy as np\n",
    "import scipy.stats as stats\n",
    "import matplotlib.pyplot as plt\n",
    "import seaborn as sns\n",
    "\n",
    "%matplotlib inline"
   ]
  },
  {
   "cell_type": "code",
   "execution_count": 2,
   "id": "778c5f3e",
   "metadata": {},
   "outputs": [
    {
     "data": {
      "text/html": [
       "<div>\n",
       "<style scoped>\n",
       "    .dataframe tbody tr th:only-of-type {\n",
       "        vertical-align: middle;\n",
       "    }\n",
       "\n",
       "    .dataframe tbody tr th {\n",
       "        vertical-align: top;\n",
       "    }\n",
       "\n",
       "    .dataframe thead th {\n",
       "        text-align: right;\n",
       "    }\n",
       "</style>\n",
       "<table border=\"1\" class=\"dataframe\">\n",
       "  <thead>\n",
       "    <tr style=\"text-align: right;\">\n",
       "      <th></th>\n",
       "      <th>fixed acidity</th>\n",
       "      <th>volatile acidity</th>\n",
       "      <th>citric acid</th>\n",
       "      <th>residual sugar</th>\n",
       "      <th>chlorides</th>\n",
       "      <th>free sulfur dioxide</th>\n",
       "      <th>total sulfur dioxide</th>\n",
       "      <th>density</th>\n",
       "      <th>pH</th>\n",
       "      <th>sulphates</th>\n",
       "      <th>alcohol</th>\n",
       "      <th>quality</th>\n",
       "      <th>type</th>\n",
       "    </tr>\n",
       "  </thead>\n",
       "  <tbody>\n",
       "    <tr>\n",
       "      <th>0</th>\n",
       "      <td>6.7</td>\n",
       "      <td>0.62</td>\n",
       "      <td>0.24</td>\n",
       "      <td>1.10</td>\n",
       "      <td>0.039</td>\n",
       "      <td>6.0</td>\n",
       "      <td>62.0</td>\n",
       "      <td>0.99340</td>\n",
       "      <td>3.41</td>\n",
       "      <td>0.32</td>\n",
       "      <td>10.400000</td>\n",
       "      <td>5</td>\n",
       "      <td>white</td>\n",
       "    </tr>\n",
       "    <tr>\n",
       "      <th>1</th>\n",
       "      <td>5.7</td>\n",
       "      <td>0.22</td>\n",
       "      <td>0.20</td>\n",
       "      <td>16.00</td>\n",
       "      <td>0.044</td>\n",
       "      <td>41.0</td>\n",
       "      <td>113.0</td>\n",
       "      <td>0.99862</td>\n",
       "      <td>3.22</td>\n",
       "      <td>0.46</td>\n",
       "      <td>8.900000</td>\n",
       "      <td>6</td>\n",
       "      <td>white</td>\n",
       "    </tr>\n",
       "    <tr>\n",
       "      <th>2</th>\n",
       "      <td>5.9</td>\n",
       "      <td>0.19</td>\n",
       "      <td>0.26</td>\n",
       "      <td>7.40</td>\n",
       "      <td>0.034</td>\n",
       "      <td>33.0</td>\n",
       "      <td>123.0</td>\n",
       "      <td>0.99500</td>\n",
       "      <td>3.49</td>\n",
       "      <td>0.42</td>\n",
       "      <td>10.100000</td>\n",
       "      <td>6</td>\n",
       "      <td>white</td>\n",
       "    </tr>\n",
       "    <tr>\n",
       "      <th>3</th>\n",
       "      <td>5.3</td>\n",
       "      <td>0.47</td>\n",
       "      <td>0.10</td>\n",
       "      <td>1.30</td>\n",
       "      <td>0.036</td>\n",
       "      <td>11.0</td>\n",
       "      <td>74.0</td>\n",
       "      <td>0.99082</td>\n",
       "      <td>3.48</td>\n",
       "      <td>0.54</td>\n",
       "      <td>11.200000</td>\n",
       "      <td>4</td>\n",
       "      <td>white</td>\n",
       "    </tr>\n",
       "    <tr>\n",
       "      <th>4</th>\n",
       "      <td>6.4</td>\n",
       "      <td>0.29</td>\n",
       "      <td>0.21</td>\n",
       "      <td>9.65</td>\n",
       "      <td>0.041</td>\n",
       "      <td>36.0</td>\n",
       "      <td>119.0</td>\n",
       "      <td>0.99334</td>\n",
       "      <td>2.99</td>\n",
       "      <td>0.34</td>\n",
       "      <td>10.933333</td>\n",
       "      <td>6</td>\n",
       "      <td>white</td>\n",
       "    </tr>\n",
       "  </tbody>\n",
       "</table>\n",
       "</div>"
      ],
      "text/plain": [
       "   fixed acidity  volatile acidity  citric acid  residual sugar  chlorides  \\\n",
       "0            6.7              0.62         0.24            1.10      0.039   \n",
       "1            5.7              0.22         0.20           16.00      0.044   \n",
       "2            5.9              0.19         0.26            7.40      0.034   \n",
       "3            5.3              0.47         0.10            1.30      0.036   \n",
       "4            6.4              0.29         0.21            9.65      0.041   \n",
       "\n",
       "   free sulfur dioxide  total sulfur dioxide  density    pH  sulphates  \\\n",
       "0                  6.0                  62.0  0.99340  3.41       0.32   \n",
       "1                 41.0                 113.0  0.99862  3.22       0.46   \n",
       "2                 33.0                 123.0  0.99500  3.49       0.42   \n",
       "3                 11.0                  74.0  0.99082  3.48       0.54   \n",
       "4                 36.0                 119.0  0.99334  2.99       0.34   \n",
       "\n",
       "     alcohol  quality   type  \n",
       "0  10.400000        5  white  \n",
       "1   8.900000        6  white  \n",
       "2  10.100000        6  white  \n",
       "3  11.200000        4  white  \n",
       "4  10.933333        6  white  "
      ]
     },
     "execution_count": 2,
     "metadata": {},
     "output_type": "execute_result"
    }
   ],
   "source": [
    "# Importing the dataset. Here using the white wine dataset:\n",
    "\n",
    "wine_df = pd.read_csv('whitewine.csv')\n",
    "\n",
    "wine_df.head()"
   ]
  },
  {
   "cell_type": "code",
   "execution_count": 3,
   "id": "d8ab4148",
   "metadata": {},
   "outputs": [
    {
     "data": {
      "text/plain": [
       "count    4898.000000\n",
       "mean        6.391415\n",
       "std         5.072058\n",
       "min         0.600000\n",
       "25%         1.700000\n",
       "50%         5.200000\n",
       "75%         9.900000\n",
       "max        65.800000\n",
       "Name: residual sugar, dtype: float64"
      ]
     },
     "execution_count": 3,
     "metadata": {},
     "output_type": "execute_result"
    }
   ],
   "source": [
    "# Here we will focus on just the residual sugar variable:\n",
    "wine_df['residual sugar'].describe()"
   ]
  },
  {
   "cell_type": "code",
   "execution_count": 4,
   "id": "39c3f3db",
   "metadata": {},
   "outputs": [
    {
     "data": {
      "text/plain": [
       "<seaborn.axisgrid.FacetGrid at 0x2975cac2130>"
      ]
     },
     "execution_count": 4,
     "metadata": {},
     "output_type": "execute_result"
    },
    {
     "data": {
      "image/png": "[encoded data removed]",
      "text/plain": [
       "<Figure size 360x360 with 1 Axes>"
      ]
     },
     "metadata": {
      "needs_background": "light"
     },
     "output_type": "display_data"
    }
   ],
   "source": [
    "# Plotting the distribution of the variable:\n",
    "\n",
    "sns.displot(wine_df['residual sugar'], kde = True)"
   ]
  },
  {
   "cell_type": "code",
   "execution_count": 5,
   "id": "5d01fd98",
   "metadata": {},
   "outputs": [
    {
     "data": {
      "text/plain": [
       "<AxesSubplot:>"
      ]
     },
     "execution_count": 5,
     "metadata": {},
     "output_type": "execute_result"
    },
    {
     "data": {
      "image/png": "[encoded data removed]",
      "text/plain": [
       "<Figure size 432x288 with 1 Axes>"
      ]
     },
     "metadata": {
      "needs_background": "light"
     },
     "output_type": "display_data"
    }
   ],
   "source": [
    "# A boxplot helps us to see the outliers more clearly:\n",
    "\n",
    "sns.boxplot(wine_df['residual sugar'])"
   ]
  },
  {
   "cell_type": "markdown",
   "id": "7dab4f19",
   "metadata": {},
   "source": [
    "We can see in the above plot that there are a few outliers. There are a number of methods we can use to remove these outliers, the first method we will use is the z-score method.\n",
    "\n",
    "## Z-Score method for identifying and removing outliers¶"
   ]
  },
  {
   "cell_type": "markdown",
   "id": "9f6fbc1c",
   "metadata": {},
   "source": [
    "Using this method we are going to identify data points that lie outside of + or - 3 standard deviations of the mean and remove these points form the data. "
   ]
  },
  {
   "cell_type": "code",
   "execution_count": 6,
   "id": "fc657227",
   "metadata": {},
   "outputs": [
    {
     "name": "stdout",
     "output_type": "stream",
     "text": [
      "Upper Limit:  21.60758821525409\n",
      "Lower Limit:  -8.824758488835164\n"
     ]
    }
   ],
   "source": [
    "# Identifying the values for the upper limit (+3 std) and lower limit (-3 std):\n",
    "\n",
    "upper_limit = wine_df['residual sugar'].mean() + 3 * wine_df['residual sugar'].std()\n",
    "lower_limit = wine_df['residual sugar'].mean() - 3 * wine_df['residual sugar'].std()\n",
    "\n",
    "print(\"Upper Limit: \", upper_limit)\n",
    "print(\"Lower Limit: \", lower_limit)"
   ]
  },
  {
   "cell_type": "code",
   "execution_count": 7,
   "id": "4785c283",
   "metadata": {},
   "outputs": [
    {
     "data": {
      "text/html": [
       "<div>\n",
       "<style scoped>\n",
       "    .dataframe tbody tr th:only-of-type {\n",
       "        vertical-align: middle;\n",
       "    }\n",
       "\n",
       "    .dataframe tbody tr th {\n",
       "        vertical-align: top;\n",
       "    }\n",
       "\n",
       "    .dataframe thead th {\n",
       "        text-align: right;\n",
       "    }\n",
       "</style>\n",
       "<table border=\"1\" class=\"dataframe\">\n",
       "  <thead>\n",
       "    <tr style=\"text-align: right;\">\n",
       "      <th></th>\n",
       "      <th>fixed acidity</th>\n",
       "      <th>volatile acidity</th>\n",
       "      <th>citric acid</th>\n",
       "      <th>residual sugar</th>\n",
       "      <th>chlorides</th>\n",
       "      <th>free sulfur dioxide</th>\n",
       "      <th>total sulfur dioxide</th>\n",
       "      <th>density</th>\n",
       "      <th>pH</th>\n",
       "      <th>sulphates</th>\n",
       "      <th>alcohol</th>\n",
       "      <th>quality</th>\n",
       "      <th>type</th>\n",
       "    </tr>\n",
       "  </thead>\n",
       "  <tbody>\n",
       "    <tr>\n",
       "      <th>1547</th>\n",
       "      <td>6.8</td>\n",
       "      <td>0.280</td>\n",
       "      <td>0.40</td>\n",
       "      <td>22.00</td>\n",
       "      <td>0.048</td>\n",
       "      <td>48.0</td>\n",
       "      <td>167.0</td>\n",
       "      <td>1.00100</td>\n",
       "      <td>2.93</td>\n",
       "      <td>0.50</td>\n",
       "      <td>8.7</td>\n",
       "      <td>5</td>\n",
       "      <td>white</td>\n",
       "    </tr>\n",
       "    <tr>\n",
       "      <th>1805</th>\n",
       "      <td>6.9</td>\n",
       "      <td>0.270</td>\n",
       "      <td>0.49</td>\n",
       "      <td>23.50</td>\n",
       "      <td>0.057</td>\n",
       "      <td>59.0</td>\n",
       "      <td>235.0</td>\n",
       "      <td>1.00240</td>\n",
       "      <td>2.98</td>\n",
       "      <td>0.47</td>\n",
       "      <td>8.6</td>\n",
       "      <td>5</td>\n",
       "      <td>white</td>\n",
       "    </tr>\n",
       "    <tr>\n",
       "      <th>2320</th>\n",
       "      <td>7.8</td>\n",
       "      <td>0.965</td>\n",
       "      <td>0.60</td>\n",
       "      <td>65.80</td>\n",
       "      <td>0.074</td>\n",
       "      <td>8.0</td>\n",
       "      <td>160.0</td>\n",
       "      <td>1.03898</td>\n",
       "      <td>3.39</td>\n",
       "      <td>0.69</td>\n",
       "      <td>11.7</td>\n",
       "      <td>6</td>\n",
       "      <td>white</td>\n",
       "    </tr>\n",
       "    <tr>\n",
       "      <th>2505</th>\n",
       "      <td>7.9</td>\n",
       "      <td>0.330</td>\n",
       "      <td>0.28</td>\n",
       "      <td>31.60</td>\n",
       "      <td>0.053</td>\n",
       "      <td>35.0</td>\n",
       "      <td>176.0</td>\n",
       "      <td>1.01030</td>\n",
       "      <td>3.15</td>\n",
       "      <td>0.38</td>\n",
       "      <td>8.8</td>\n",
       "      <td>6</td>\n",
       "      <td>white</td>\n",
       "    </tr>\n",
       "    <tr>\n",
       "      <th>2854</th>\n",
       "      <td>6.8</td>\n",
       "      <td>0.280</td>\n",
       "      <td>0.40</td>\n",
       "      <td>22.00</td>\n",
       "      <td>0.048</td>\n",
       "      <td>48.0</td>\n",
       "      <td>167.0</td>\n",
       "      <td>1.00100</td>\n",
       "      <td>2.93</td>\n",
       "      <td>0.50</td>\n",
       "      <td>8.7</td>\n",
       "      <td>5</td>\n",
       "      <td>white</td>\n",
       "    </tr>\n",
       "    <tr>\n",
       "      <th>3513</th>\n",
       "      <td>5.9</td>\n",
       "      <td>0.220</td>\n",
       "      <td>0.45</td>\n",
       "      <td>22.60</td>\n",
       "      <td>0.120</td>\n",
       "      <td>55.0</td>\n",
       "      <td>122.0</td>\n",
       "      <td>0.99636</td>\n",
       "      <td>3.10</td>\n",
       "      <td>0.35</td>\n",
       "      <td>12.8</td>\n",
       "      <td>5</td>\n",
       "      <td>white</td>\n",
       "    </tr>\n",
       "    <tr>\n",
       "      <th>4017</th>\n",
       "      <td>6.8</td>\n",
       "      <td>0.450</td>\n",
       "      <td>0.28</td>\n",
       "      <td>26.05</td>\n",
       "      <td>0.031</td>\n",
       "      <td>27.0</td>\n",
       "      <td>122.0</td>\n",
       "      <td>1.00295</td>\n",
       "      <td>3.06</td>\n",
       "      <td>0.42</td>\n",
       "      <td>10.6</td>\n",
       "      <td>6</td>\n",
       "      <td>white</td>\n",
       "    </tr>\n",
       "    <tr>\n",
       "      <th>4304</th>\n",
       "      <td>6.8</td>\n",
       "      <td>0.450</td>\n",
       "      <td>0.28</td>\n",
       "      <td>26.05</td>\n",
       "      <td>0.031</td>\n",
       "      <td>27.0</td>\n",
       "      <td>122.0</td>\n",
       "      <td>1.00295</td>\n",
       "      <td>3.06</td>\n",
       "      <td>0.42</td>\n",
       "      <td>10.6</td>\n",
       "      <td>6</td>\n",
       "      <td>white</td>\n",
       "    </tr>\n",
       "    <tr>\n",
       "      <th>4338</th>\n",
       "      <td>7.9</td>\n",
       "      <td>0.330</td>\n",
       "      <td>0.28</td>\n",
       "      <td>31.60</td>\n",
       "      <td>0.053</td>\n",
       "      <td>35.0</td>\n",
       "      <td>176.0</td>\n",
       "      <td>1.01030</td>\n",
       "      <td>3.15</td>\n",
       "      <td>0.38</td>\n",
       "      <td>8.8</td>\n",
       "      <td>6</td>\n",
       "      <td>white</td>\n",
       "    </tr>\n",
       "  </tbody>\n",
       "</table>\n",
       "</div>"
      ],
      "text/plain": [
       "      fixed acidity  volatile acidity  citric acid  residual sugar  chlorides  \\\n",
       "1547            6.8             0.280         0.40           22.00      0.048   \n",
       "1805            6.9             0.270         0.49           23.50      0.057   \n",
       "2320            7.8             0.965         0.60           65.80      0.074   \n",
       "2505            7.9             0.330         0.28           31.60      0.053   \n",
       "2854            6.8             0.280         0.40           22.00      0.048   \n",
       "3513            5.9             0.220         0.45           22.60      0.120   \n",
       "4017            6.8             0.450         0.28           26.05      0.031   \n",
       "4304            6.8             0.450         0.28           26.05      0.031   \n",
       "4338            7.9             0.330         0.28           31.60      0.053   \n",
       "\n",
       "      free sulfur dioxide  total sulfur dioxide  density    pH  sulphates  \\\n",
       "1547                 48.0                 167.0  1.00100  2.93       0.50   \n",
       "1805                 59.0                 235.0  1.00240  2.98       0.47   \n",
       "2320                  8.0                 160.0  1.03898  3.39       0.69   \n",
       "2505                 35.0                 176.0  1.01030  3.15       0.38   \n",
       "2854                 48.0                 167.0  1.00100  2.93       0.50   \n",
       "3513                 55.0                 122.0  0.99636  3.10       0.35   \n",
       "4017                 27.0                 122.0  1.00295  3.06       0.42   \n",
       "4304                 27.0                 122.0  1.00295  3.06       0.42   \n",
       "4338                 35.0                 176.0  1.01030  3.15       0.38   \n",
       "\n",
       "      alcohol  quality   type  \n",
       "1547      8.7        5  white  \n",
       "1805      8.6        5  white  \n",
       "2320     11.7        6  white  \n",
       "2505      8.8        6  white  \n",
       "2854      8.7        5  white  \n",
       "3513     12.8        5  white  \n",
       "4017     10.6        6  white  \n",
       "4304     10.6        6  white  \n",
       "4338      8.8        6  white  "
      ]
     },
     "execution_count": 7,
     "metadata": {},
     "output_type": "execute_result"
    }
   ],
   "source": [
    "# Find the outliers, using the above limits:\n",
    "\n",
    "wine_df.loc[(wine_df['residual sugar'] > upper_limit) | (wine_df['residual sugar'] < lower_limit)]"
   ]
  },
  {
   "cell_type": "markdown",
   "id": "a53d747f",
   "metadata": {},
   "source": [
    "Now that we have found outliers, we can use one-of-two approaches: trimming or capping."
   ]
  },
  {
   "cell_type": "markdown",
   "id": "7d652598",
   "metadata": {},
   "source": [
    "### Trimming"
   ]
  },
  {
   "cell_type": "code",
   "execution_count": 8,
   "id": "97f72f44",
   "metadata": {},
   "outputs": [
    {
     "name": "stdout",
     "output_type": "stream",
     "text": [
      "Before removing outliers:  4898\n",
      "After removing outliers:  4889\n",
      "Outliers:  9\n"
     ]
    }
   ],
   "source": [
    "# trimming - delete the outlier datapoints\n",
    "# We can do this by creating a new datafile that only includes the data between the upper and lower limits.\n",
    "# This involves reversing the inequalities used on the above equation to identify outliers. Now we are identifying\n",
    "# non-outliers and saving to a new dataframe. Note: OR has been changed to &:\n",
    "\n",
    "new_wine_df = wine_df.loc[(wine_df['residual sugar'] < upper_limit) & (wine_df['residual sugar'] > lower_limit)]\n",
    "\n",
    "# Next printing the length of the old and new data frame:\n",
    "\n",
    "print(\"Before removing outliers: \", len(wine_df))\n",
    "print(\"After removing outliers: \", len(new_wine_df))\n",
    "print(\"Outliers: \", len(wine_df) - len(new_wine_df))"
   ]
  },
  {
   "cell_type": "code",
   "execution_count": 9,
   "id": "ca5ca726",
   "metadata": {},
   "outputs": [
    {
     "data": {
      "text/plain": [
       "<AxesSubplot:>"
      ]
     },
     "execution_count": 9,
     "metadata": {},
     "output_type": "execute_result"
    },
    {
     "data": {
      "image/png": "[encoded data removed]",
      "text/plain": [
       "<Figure size 432x288 with 1 Axes>"
      ]
     },
     "metadata": {
      "needs_background": "light"
     },
     "output_type": "display_data"
    }
   ],
   "source": [
    "# A boxplot of the data now that the outliers have been removed.\n",
    "# Note that the y-axis scale is very different and the outlier values are gone. \n",
    "sns.boxplot(new_wine_df['residual sugar'])"
   ]
  },
  {
   "cell_type": "markdown",
   "id": "38d8be1b",
   "metadata": {},
   "source": [
    "### Capping"
   ]
  },
  {
   "cell_type": "code",
   "execution_count": 10,
   "id": "a54f034d",
   "metadata": {},
   "outputs": [],
   "source": [
    "# Capping  - change the outlier values to either the upper or lower limit values.\n",
    "# Using this method we change the values rather than deleting them. \n",
    "# Making a copy of the original data to work with:\n",
    "\n",
    "wine_df2 = wine_df.copy()"
   ]
  },
  {
   "cell_type": "code",
   "execution_count": 11,
   "id": "1c553c66",
   "metadata": {},
   "outputs": [],
   "source": [
    "# Replacing outliers that are greater than the upper limit with the upper limit value:\n",
    "\n",
    "wine_df2.loc[wine_df2['residual sugar'] > upper_limit, 'residual sugar'] = upper_limit\n",
    "wine_df2.loc[wine_df2['residual sugar'] < lower_limit, 'residual sugar'] = lower_limit"
   ]
  },
  {
   "cell_type": "code",
   "execution_count": 12,
   "id": "0456a46f",
   "metadata": {},
   "outputs": [
    {
     "data": {
      "text/plain": [
       "<AxesSubplot:>"
      ]
     },
     "execution_count": 12,
     "metadata": {},
     "output_type": "execute_result"
    },
    {
     "data": {
      "image/png": "[encoded data removed]",
      "text/plain": [
       "<Figure size 432x288 with 1 Axes>"
      ]
     },
     "metadata": {
      "needs_background": "light"
     },
     "output_type": "display_data"
    }
   ],
   "source": [
    "# Checking the boxplot:\n",
    "\n",
    "sns.boxplot(wine_df2['residual sugar'])"
   ]
  },
  {
   "cell_type": "code",
   "execution_count": 13,
   "id": "91792d79",
   "metadata": {},
   "outputs": [
    {
     "data": {
      "text/plain": [
       "4898"
      ]
     },
     "execution_count": 13,
     "metadata": {},
     "output_type": "execute_result"
    }
   ],
   "source": [
    "# If we check the length of the new dataframe it should be the same as the original because we have not deleted any rows.\n",
    "# We have just changed (capped) the values of outliers:\n",
    "\n",
    "len(wine_df2)"
   ]
  },
  {
   "cell_type": "markdown",
   "id": "116430bf",
   "metadata": {},
   "source": [
    "## Inter-quartile Range Method for detecting and removing outliers"
   ]
  },
  {
   "cell_type": "markdown",
   "id": "0358d0ba",
   "metadata": {},
   "source": [
    "Using this method we identify outliers that lie outside 1.5 * IQR. "
   ]
  },
  {
   "cell_type": "code",
   "execution_count": 14,
   "id": "98204c58",
   "metadata": {},
   "outputs": [
    {
     "data": {
      "text/plain": [
       "(1.7, 9.9, 8.200000000000001)"
      ]
     },
     "execution_count": 14,
     "metadata": {},
     "output_type": "execute_result"
    }
   ],
   "source": [
    "# Identifying the quartiles and calculating the IQR:\n",
    "\n",
    "q1 = wine_df['residual sugar'].quantile(0.25)\n",
    "q3 = wine_df['residual sugar'].quantile(0.75)\n",
    "\n",
    "iqr = q3 - q1\n",
    "\n",
    "q1, q3, iqr"
   ]
  },
  {
   "cell_type": "code",
   "execution_count": 15,
   "id": "e3594814",
   "metadata": {},
   "outputs": [
    {
     "data": {
      "text/plain": [
       "(-10.600000000000001, 22.200000000000003)"
      ]
     },
     "execution_count": 15,
     "metadata": {},
     "output_type": "execute_result"
    }
   ],
   "source": [
    "# Finding the upper and lower limit:\n",
    "\n",
    "upper_limit_n = q3 + (1.5 * iqr)\n",
    "lower_limit_n = q1 - (1.5 * iqr)\n",
    "\n",
    "lower_limit_n, upper_limit_n"
   ]
  },
  {
   "cell_type": "code",
   "execution_count": 16,
   "id": "ee30d26a",
   "metadata": {},
   "outputs": [
    {
     "data": {
      "text/plain": [
       "<AxesSubplot:>"
      ]
     },
     "execution_count": 16,
     "metadata": {},
     "output_type": "execute_result"
    },
    {
     "data": {
      "image/png": "[encoded data removed]",
      "text/plain": [
       "<Figure size 432x288 with 1 Axes>"
      ]
     },
     "metadata": {
      "needs_background": "light"
     },
     "output_type": "display_data"
    }
   ],
   "source": [
    "# Plotting the data again so we can see the outliers:\n",
    "sns.boxplot(wine_df['residual sugar'])"
   ]
  },
  {
   "cell_type": "code",
   "execution_count": 17,
   "id": "0c6050ab",
   "metadata": {},
   "outputs": [
    {
     "data": {
      "text/html": [
       "<div>\n",
       "<style scoped>\n",
       "    .dataframe tbody tr th:only-of-type {\n",
       "        vertical-align: middle;\n",
       "    }\n",
       "\n",
       "    .dataframe tbody tr th {\n",
       "        vertical-align: top;\n",
       "    }\n",
       "\n",
       "    .dataframe thead th {\n",
       "        text-align: right;\n",
       "    }\n",
       "</style>\n",
       "<table border=\"1\" class=\"dataframe\">\n",
       "  <thead>\n",
       "    <tr style=\"text-align: right;\">\n",
       "      <th></th>\n",
       "      <th>fixed acidity</th>\n",
       "      <th>volatile acidity</th>\n",
       "      <th>citric acid</th>\n",
       "      <th>residual sugar</th>\n",
       "      <th>chlorides</th>\n",
       "      <th>free sulfur dioxide</th>\n",
       "      <th>total sulfur dioxide</th>\n",
       "      <th>density</th>\n",
       "      <th>pH</th>\n",
       "      <th>sulphates</th>\n",
       "      <th>alcohol</th>\n",
       "      <th>quality</th>\n",
       "      <th>type</th>\n",
       "    </tr>\n",
       "  </thead>\n",
       "  <tbody>\n",
       "    <tr>\n",
       "      <th>1805</th>\n",
       "      <td>6.9</td>\n",
       "      <td>0.270</td>\n",
       "      <td>0.49</td>\n",
       "      <td>23.50</td>\n",
       "      <td>0.057</td>\n",
       "      <td>59.0</td>\n",
       "      <td>235.0</td>\n",
       "      <td>1.00240</td>\n",
       "      <td>2.98</td>\n",
       "      <td>0.47</td>\n",
       "      <td>8.6</td>\n",
       "      <td>5</td>\n",
       "      <td>white</td>\n",
       "    </tr>\n",
       "    <tr>\n",
       "      <th>2320</th>\n",
       "      <td>7.8</td>\n",
       "      <td>0.965</td>\n",
       "      <td>0.60</td>\n",
       "      <td>65.80</td>\n",
       "      <td>0.074</td>\n",
       "      <td>8.0</td>\n",
       "      <td>160.0</td>\n",
       "      <td>1.03898</td>\n",
       "      <td>3.39</td>\n",
       "      <td>0.69</td>\n",
       "      <td>11.7</td>\n",
       "      <td>6</td>\n",
       "      <td>white</td>\n",
       "    </tr>\n",
       "    <tr>\n",
       "      <th>2505</th>\n",
       "      <td>7.9</td>\n",
       "      <td>0.330</td>\n",
       "      <td>0.28</td>\n",
       "      <td>31.60</td>\n",
       "      <td>0.053</td>\n",
       "      <td>35.0</td>\n",
       "      <td>176.0</td>\n",
       "      <td>1.01030</td>\n",
       "      <td>3.15</td>\n",
       "      <td>0.38</td>\n",
       "      <td>8.8</td>\n",
       "      <td>6</td>\n",
       "      <td>white</td>\n",
       "    </tr>\n",
       "    <tr>\n",
       "      <th>3513</th>\n",
       "      <td>5.9</td>\n",
       "      <td>0.220</td>\n",
       "      <td>0.45</td>\n",
       "      <td>22.60</td>\n",
       "      <td>0.120</td>\n",
       "      <td>55.0</td>\n",
       "      <td>122.0</td>\n",
       "      <td>0.99636</td>\n",
       "      <td>3.10</td>\n",
       "      <td>0.35</td>\n",
       "      <td>12.8</td>\n",
       "      <td>5</td>\n",
       "      <td>white</td>\n",
       "    </tr>\n",
       "    <tr>\n",
       "      <th>4017</th>\n",
       "      <td>6.8</td>\n",
       "      <td>0.450</td>\n",
       "      <td>0.28</td>\n",
       "      <td>26.05</td>\n",
       "      <td>0.031</td>\n",
       "      <td>27.0</td>\n",
       "      <td>122.0</td>\n",
       "      <td>1.00295</td>\n",
       "      <td>3.06</td>\n",
       "      <td>0.42</td>\n",
       "      <td>10.6</td>\n",
       "      <td>6</td>\n",
       "      <td>white</td>\n",
       "    </tr>\n",
       "    <tr>\n",
       "      <th>4304</th>\n",
       "      <td>6.8</td>\n",
       "      <td>0.450</td>\n",
       "      <td>0.28</td>\n",
       "      <td>26.05</td>\n",
       "      <td>0.031</td>\n",
       "      <td>27.0</td>\n",
       "      <td>122.0</td>\n",
       "      <td>1.00295</td>\n",
       "      <td>3.06</td>\n",
       "      <td>0.42</td>\n",
       "      <td>10.6</td>\n",
       "      <td>6</td>\n",
       "      <td>white</td>\n",
       "    </tr>\n",
       "    <tr>\n",
       "      <th>4338</th>\n",
       "      <td>7.9</td>\n",
       "      <td>0.330</td>\n",
       "      <td>0.28</td>\n",
       "      <td>31.60</td>\n",
       "      <td>0.053</td>\n",
       "      <td>35.0</td>\n",
       "      <td>176.0</td>\n",
       "      <td>1.01030</td>\n",
       "      <td>3.15</td>\n",
       "      <td>0.38</td>\n",
       "      <td>8.8</td>\n",
       "      <td>6</td>\n",
       "      <td>white</td>\n",
       "    </tr>\n",
       "  </tbody>\n",
       "</table>\n",
       "</div>"
      ],
      "text/plain": [
       "      fixed acidity  volatile acidity  citric acid  residual sugar  chlorides  \\\n",
       "1805            6.9             0.270         0.49           23.50      0.057   \n",
       "2320            7.8             0.965         0.60           65.80      0.074   \n",
       "2505            7.9             0.330         0.28           31.60      0.053   \n",
       "3513            5.9             0.220         0.45           22.60      0.120   \n",
       "4017            6.8             0.450         0.28           26.05      0.031   \n",
       "4304            6.8             0.450         0.28           26.05      0.031   \n",
       "4338            7.9             0.330         0.28           31.60      0.053   \n",
       "\n",
       "      free sulfur dioxide  total sulfur dioxide  density    pH  sulphates  \\\n",
       "1805                 59.0                 235.0  1.00240  2.98       0.47   \n",
       "2320                  8.0                 160.0  1.03898  3.39       0.69   \n",
       "2505                 35.0                 176.0  1.01030  3.15       0.38   \n",
       "3513                 55.0                 122.0  0.99636  3.10       0.35   \n",
       "4017                 27.0                 122.0  1.00295  3.06       0.42   \n",
       "4304                 27.0                 122.0  1.00295  3.06       0.42   \n",
       "4338                 35.0                 176.0  1.01030  3.15       0.38   \n",
       "\n",
       "      alcohol  quality   type  \n",
       "1805      8.6        5  white  \n",
       "2320     11.7        6  white  \n",
       "2505      8.8        6  white  \n",
       "3513     12.8        5  white  \n",
       "4017     10.6        6  white  \n",
       "4304     10.6        6  white  \n",
       "4338      8.8        6  white  "
      ]
     },
     "execution_count": 17,
     "metadata": {},
     "output_type": "execute_result"
    }
   ],
   "source": [
    "# Find the outliers:\n",
    "\n",
    "wine_df.loc[(wine_df['residual sugar'] > upper_limit_n) | (wine_df['residual sugar'] < lower_limit_n)]"
   ]
  },
  {
   "cell_type": "markdown",
   "id": "add9db8a",
   "metadata": {},
   "source": [
    "### Trimming"
   ]
  },
  {
   "cell_type": "markdown",
   "id": "edf749f3",
   "metadata": {},
   "source": [
    "Trimming using the IQR method upper and lower limits:"
   ]
  },
  {
   "cell_type": "code",
   "execution_count": 18,
   "id": "82b95e25",
   "metadata": {},
   "outputs": [
    {
     "name": "stdout",
     "output_type": "stream",
     "text": [
      "Before removing outliers:  4898\n",
      "After removing outliers:  4891\n",
      "Outliers:  7\n"
     ]
    }
   ],
   "source": [
    "# Trim the data using the upper and lower limits identified by the IQR method:\n",
    "\n",
    "new_wine_df2 = wine_df.loc[(wine_df['residual sugar'] < upper_limit_n) & (wine_df['residual sugar'] > lower_limit_n)]\n",
    "\n",
    "# Next printing the length of the old and new data frame:\n",
    "\n",
    "print(\"Before removing outliers: \", len(wine_df))\n",
    "print(\"After removing outliers: \", len(new_wine_df2))\n",
    "print(\"Outliers: \", len(wine_df) - len(new_wine_df2))\n"
   ]
  },
  {
   "cell_type": "code",
   "execution_count": 19,
   "id": "2d8bdb97",
   "metadata": {},
   "outputs": [
    {
     "data": {
      "text/plain": [
       "<AxesSubplot:>"
      ]
     },
     "execution_count": 19,
     "metadata": {},
     "output_type": "execute_result"
    },
    {
     "data": {
      "image/png": "[encoded data removed]",
      "text/plain": [
       "<Figure size 432x288 with 1 Axes>"
      ]
     },
     "metadata": {
      "needs_background": "light"
     },
     "output_type": "display_data"
    }
   ],
   "source": [
    "# A boxplot of the data now that the outliers have been removed.\n",
    "# Note that the y-axis scale is very different and the outlier values are gone. \n",
    "sns.boxplot(new_wine_df2['residual sugar'])"
   ]
  },
  {
   "cell_type": "markdown",
   "id": "0c139d7d",
   "metadata": {},
   "source": [
    "### Capping"
   ]
  },
  {
   "cell_type": "markdown",
   "id": "fcb7e4bb",
   "metadata": {},
   "source": [
    "Capping using the IQR method upper and lower limits:"
   ]
  },
  {
   "cell_type": "code",
   "execution_count": 20,
   "id": "683270da",
   "metadata": {},
   "outputs": [],
   "source": [
    "# Capping  - change the outlier values to either the upper or lower limit values.\n",
    "# Using this method we change the values rather than deleting them. \n",
    "# Making a copy of the original data to work with:\n",
    "\n",
    "wine_df3 = wine_df.copy()"
   ]
  },
  {
   "cell_type": "code",
   "execution_count": 21,
   "id": "9c9df3b7",
   "metadata": {},
   "outputs": [],
   "source": [
    "# Replacing outliers that are greater than the upper limit with the upper limit value:\n",
    "\n",
    "wine_df3.loc[wine_df3['residual sugar'] > upper_limit_n, 'residual sugar'] = upper_limit\n",
    "wine_df3.loc[wine_df3['residual sugar'] < lower_limit_n, 'residual sugar'] = lower_limit"
   ]
  },
  {
   "cell_type": "code",
   "execution_count": 22,
   "id": "e0ba517e",
   "metadata": {},
   "outputs": [
    {
     "data": {
      "text/plain": [
       "<AxesSubplot:>"
      ]
     },
     "execution_count": 22,
     "metadata": {},
     "output_type": "execute_result"
    },
    {
     "data": {
      "image/png": "[encoded data removed]",
      "text/plain": [
       "<Figure size 432x288 with 1 Axes>"
      ]
     },
     "metadata": {
      "needs_background": "light"
     },
     "output_type": "display_data"
    }
   ],
   "source": [
    "# Checking the boxplot:\n",
    "\n",
    "sns.boxplot(wine_df3['residual sugar'])"
   ]
  },
  {
   "cell_type": "code",
   "execution_count": 23,
   "id": "b512a2a5",
   "metadata": {},
   "outputs": [
    {
     "data": {
      "text/plain": [
       "4898"
      ]
     },
     "execution_count": 23,
     "metadata": {},
     "output_type": "execute_result"
    }
   ],
   "source": [
    "# If we check the length of the new dataframe it should be the same as the original because we have not deleted any rows.\n",
    "# We have just changed (capped) the values of outliers:\n",
    "\n",
    "len(wine_df3)"
   ]
  },
  {
   "cell_type": "markdown",
   "id": "5c9d97c2",
   "metadata": {},
   "source": [
    "## Percentile Method for removing outliers"
   ]
  },
  {
   "cell_type": "code",
   "execution_count": 24,
   "id": "7e4c99b7",
   "metadata": {},
   "outputs": [
    {
     "name": "stdout",
     "output_type": "stream",
     "text": [
      "Upper Limit:  18.8\n",
      "Lower Limit:  0.9\n"
     ]
    }
   ],
   "source": [
    "# Identfying the new upper and lower limits, setting them at the 1st and 99th percentile:\n",
    "\n",
    "upper_limit_new = wine_df['residual sugar'].quantile(0.99)\n",
    "lower_limit_new = wine_df['residual sugar'].quantile(0.01)\n",
    "\n",
    "print(\"Upper Limit: \", upper_limit_new)\n",
    "print(\"Lower Limit: \", lower_limit_new)"
   ]
  },
  {
   "cell_type": "code",
   "execution_count": 25,
   "id": "8a185c2c",
   "metadata": {},
   "outputs": [
    {
     "data": {
      "text/plain": [
       "<AxesSubplot:>"
      ]
     },
     "execution_count": 25,
     "metadata": {},
     "output_type": "execute_result"
    },
    {
     "data": {
      "image/png": "[encoded data removed]",
      "text/plain": [
       "<Figure size 432x288 with 1 Axes>"
      ]
     },
     "metadata": {
      "needs_background": "light"
     },
     "output_type": "display_data"
    }
   ],
   "source": [
    "# Boxplot of the original data containing outliers:\n",
    "\n",
    "sns.boxplot(wine_df['residual sugar'])"
   ]
  },
  {
   "cell_type": "code",
   "execution_count": 26,
   "id": "c9e0600b",
   "metadata": {},
   "outputs": [
    {
     "data": {
      "text/html": [
       "<div>\n",
       "<style scoped>\n",
       "    .dataframe tbody tr th:only-of-type {\n",
       "        vertical-align: middle;\n",
       "    }\n",
       "\n",
       "    .dataframe tbody tr th {\n",
       "        vertical-align: top;\n",
       "    }\n",
       "\n",
       "    .dataframe thead th {\n",
       "        text-align: right;\n",
       "    }\n",
       "</style>\n",
       "<table border=\"1\" class=\"dataframe\">\n",
       "  <thead>\n",
       "    <tr style=\"text-align: right;\">\n",
       "      <th></th>\n",
       "      <th>fixed acidity</th>\n",
       "      <th>volatile acidity</th>\n",
       "      <th>citric acid</th>\n",
       "      <th>residual sugar</th>\n",
       "      <th>chlorides</th>\n",
       "      <th>free sulfur dioxide</th>\n",
       "      <th>total sulfur dioxide</th>\n",
       "      <th>density</th>\n",
       "      <th>pH</th>\n",
       "      <th>sulphates</th>\n",
       "      <th>alcohol</th>\n",
       "      <th>quality</th>\n",
       "      <th>type</th>\n",
       "    </tr>\n",
       "  </thead>\n",
       "  <tbody>\n",
       "    <tr>\n",
       "      <th>52</th>\n",
       "      <td>6.9</td>\n",
       "      <td>0.19</td>\n",
       "      <td>0.31</td>\n",
       "      <td>19.25</td>\n",
       "      <td>0.043</td>\n",
       "      <td>38.0</td>\n",
       "      <td>167.0</td>\n",
       "      <td>0.99954</td>\n",
       "      <td>2.93</td>\n",
       "      <td>0.52</td>\n",
       "      <td>9.1</td>\n",
       "      <td>7</td>\n",
       "      <td>white</td>\n",
       "    </tr>\n",
       "    <tr>\n",
       "      <th>114</th>\n",
       "      <td>7.4</td>\n",
       "      <td>0.28</td>\n",
       "      <td>0.42</td>\n",
       "      <td>19.80</td>\n",
       "      <td>0.066</td>\n",
       "      <td>53.0</td>\n",
       "      <td>195.0</td>\n",
       "      <td>1.00000</td>\n",
       "      <td>2.96</td>\n",
       "      <td>0.44</td>\n",
       "      <td>9.1</td>\n",
       "      <td>5</td>\n",
       "      <td>white</td>\n",
       "    </tr>\n",
       "    <tr>\n",
       "      <th>121</th>\n",
       "      <td>5.9</td>\n",
       "      <td>0.17</td>\n",
       "      <td>0.28</td>\n",
       "      <td>0.70</td>\n",
       "      <td>0.027</td>\n",
       "      <td>5.0</td>\n",
       "      <td>28.0</td>\n",
       "      <td>0.98985</td>\n",
       "      <td>3.13</td>\n",
       "      <td>0.32</td>\n",
       "      <td>10.6</td>\n",
       "      <td>5</td>\n",
       "      <td>white</td>\n",
       "    </tr>\n",
       "    <tr>\n",
       "      <th>174</th>\n",
       "      <td>8.9</td>\n",
       "      <td>0.27</td>\n",
       "      <td>0.28</td>\n",
       "      <td>0.80</td>\n",
       "      <td>0.024</td>\n",
       "      <td>29.0</td>\n",
       "      <td>128.0</td>\n",
       "      <td>0.98984</td>\n",
       "      <td>3.01</td>\n",
       "      <td>0.35</td>\n",
       "      <td>12.4</td>\n",
       "      <td>6</td>\n",
       "      <td>white</td>\n",
       "    </tr>\n",
       "    <tr>\n",
       "      <th>198</th>\n",
       "      <td>6.8</td>\n",
       "      <td>0.30</td>\n",
       "      <td>0.26</td>\n",
       "      <td>20.30</td>\n",
       "      <td>0.037</td>\n",
       "      <td>45.0</td>\n",
       "      <td>150.0</td>\n",
       "      <td>0.99727</td>\n",
       "      <td>3.04</td>\n",
       "      <td>0.38</td>\n",
       "      <td>12.3</td>\n",
       "      <td>6</td>\n",
       "      <td>white</td>\n",
       "    </tr>\n",
       "    <tr>\n",
       "      <th>...</th>\n",
       "      <td>...</td>\n",
       "      <td>...</td>\n",
       "      <td>...</td>\n",
       "      <td>...</td>\n",
       "      <td>...</td>\n",
       "      <td>...</td>\n",
       "      <td>...</td>\n",
       "      <td>...</td>\n",
       "      <td>...</td>\n",
       "      <td>...</td>\n",
       "      <td>...</td>\n",
       "      <td>...</td>\n",
       "      <td>...</td>\n",
       "    </tr>\n",
       "    <tr>\n",
       "      <th>4784</th>\n",
       "      <td>7.2</td>\n",
       "      <td>0.16</td>\n",
       "      <td>0.32</td>\n",
       "      <td>0.80</td>\n",
       "      <td>0.040</td>\n",
       "      <td>50.0</td>\n",
       "      <td>121.0</td>\n",
       "      <td>0.99220</td>\n",
       "      <td>3.27</td>\n",
       "      <td>0.33</td>\n",
       "      <td>10.0</td>\n",
       "      <td>6</td>\n",
       "      <td>white</td>\n",
       "    </tr>\n",
       "    <tr>\n",
       "      <th>4788</th>\n",
       "      <td>6.0</td>\n",
       "      <td>0.21</td>\n",
       "      <td>0.38</td>\n",
       "      <td>0.80</td>\n",
       "      <td>0.020</td>\n",
       "      <td>22.0</td>\n",
       "      <td>98.0</td>\n",
       "      <td>0.98941</td>\n",
       "      <td>3.26</td>\n",
       "      <td>0.32</td>\n",
       "      <td>11.8</td>\n",
       "      <td>6</td>\n",
       "      <td>white</td>\n",
       "    </tr>\n",
       "    <tr>\n",
       "      <th>4810</th>\n",
       "      <td>6.6</td>\n",
       "      <td>0.28</td>\n",
       "      <td>0.34</td>\n",
       "      <td>0.80</td>\n",
       "      <td>0.037</td>\n",
       "      <td>42.0</td>\n",
       "      <td>119.0</td>\n",
       "      <td>0.98880</td>\n",
       "      <td>3.03</td>\n",
       "      <td>0.37</td>\n",
       "      <td>12.5</td>\n",
       "      <td>6</td>\n",
       "      <td>white</td>\n",
       "    </tr>\n",
       "    <tr>\n",
       "      <th>4873</th>\n",
       "      <td>5.8</td>\n",
       "      <td>0.15</td>\n",
       "      <td>0.28</td>\n",
       "      <td>0.80</td>\n",
       "      <td>0.037</td>\n",
       "      <td>43.0</td>\n",
       "      <td>127.0</td>\n",
       "      <td>0.99198</td>\n",
       "      <td>3.24</td>\n",
       "      <td>0.51</td>\n",
       "      <td>9.3</td>\n",
       "      <td>5</td>\n",
       "      <td>white</td>\n",
       "    </tr>\n",
       "    <tr>\n",
       "      <th>4893</th>\n",
       "      <td>6.1</td>\n",
       "      <td>0.28</td>\n",
       "      <td>0.24</td>\n",
       "      <td>19.95</td>\n",
       "      <td>0.074</td>\n",
       "      <td>32.0</td>\n",
       "      <td>174.0</td>\n",
       "      <td>0.99922</td>\n",
       "      <td>3.19</td>\n",
       "      <td>0.44</td>\n",
       "      <td>9.3</td>\n",
       "      <td>6</td>\n",
       "      <td>white</td>\n",
       "    </tr>\n",
       "  </tbody>\n",
       "</table>\n",
       "<p>81 rows × 13 columns</p>\n",
       "</div>"
      ],
      "text/plain": [
       "      fixed acidity  volatile acidity  citric acid  residual sugar  chlorides  \\\n",
       "52              6.9              0.19         0.31           19.25      0.043   \n",
       "114             7.4              0.28         0.42           19.80      0.066   \n",
       "121             5.9              0.17         0.28            0.70      0.027   \n",
       "174             8.9              0.27         0.28            0.80      0.024   \n",
       "198             6.8              0.30         0.26           20.30      0.037   \n",
       "...             ...               ...          ...             ...        ...   \n",
       "4784            7.2              0.16         0.32            0.80      0.040   \n",
       "4788            6.0              0.21         0.38            0.80      0.020   \n",
       "4810            6.6              0.28         0.34            0.80      0.037   \n",
       "4873            5.8              0.15         0.28            0.80      0.037   \n",
       "4893            6.1              0.28         0.24           19.95      0.074   \n",
       "\n",
       "      free sulfur dioxide  total sulfur dioxide  density    pH  sulphates  \\\n",
       "52                   38.0                 167.0  0.99954  2.93       0.52   \n",
       "114                  53.0                 195.0  1.00000  2.96       0.44   \n",
       "121                   5.0                  28.0  0.98985  3.13       0.32   \n",
       "174                  29.0                 128.0  0.98984  3.01       0.35   \n",
       "198                  45.0                 150.0  0.99727  3.04       0.38   \n",
       "...                   ...                   ...      ...   ...        ...   \n",
       "4784                 50.0                 121.0  0.99220  3.27       0.33   \n",
       "4788                 22.0                  98.0  0.98941  3.26       0.32   \n",
       "4810                 42.0                 119.0  0.98880  3.03       0.37   \n",
       "4873                 43.0                 127.0  0.99198  3.24       0.51   \n",
       "4893                 32.0                 174.0  0.99922  3.19       0.44   \n",
       "\n",
       "      alcohol  quality   type  \n",
       "52        9.1        7  white  \n",
       "114       9.1        5  white  \n",
       "121      10.6        5  white  \n",
       "174      12.4        6  white  \n",
       "198      12.3        6  white  \n",
       "...       ...      ...    ...  \n",
       "4784     10.0        6  white  \n",
       "4788     11.8        6  white  \n",
       "4810     12.5        6  white  \n",
       "4873      9.3        5  white  \n",
       "4893      9.3        6  white  \n",
       "\n",
       "[81 rows x 13 columns]"
      ]
     },
     "execution_count": 26,
     "metadata": {},
     "output_type": "execute_result"
    }
   ],
   "source": [
    "# Find the outliers:\n",
    "\n",
    "wine_df.loc[(wine_df['residual sugar'] > upper_limit_new) | (wine_df['residual sugar'] < lower_limit_new)]"
   ]
  },
  {
   "cell_type": "markdown",
   "id": "81cbda3d",
   "metadata": {},
   "source": [
    "### Trimming using the percentile method"
   ]
  },
  {
   "cell_type": "code",
   "execution_count": 27,
   "id": "590d3846",
   "metadata": {},
   "outputs": [
    {
     "name": "stdout",
     "output_type": "stream",
     "text": [
      "Before removing outliers:  4898\n",
      "After removing outliers:  4775\n",
      "Outliers:  123\n"
     ]
    }
   ],
   "source": [
    "# Trim the data using the upper and lower limits identified by the percentile method:\n",
    "\n",
    "new_wine_df3 = wine_df.loc[(wine_df['residual sugar'] < upper_limit_new) & (wine_df['residual sugar'] > lower_limit_new)]\n",
    "\n",
    "# Next printing the length of the old and new data frame:\n",
    "\n",
    "print(\"Before removing outliers: \", len(wine_df))\n",
    "print(\"After removing outliers: \", len(new_wine_df3))\n",
    "print(\"Outliers: \", len(wine_df) - len(new_wine_df3))"
   ]
  },
  {
   "cell_type": "code",
   "execution_count": 28,
   "id": "b6de7745",
   "metadata": {},
   "outputs": [
    {
     "data": {
      "text/plain": [
       "<AxesSubplot:>"
      ]
     },
     "execution_count": 28,
     "metadata": {},
     "output_type": "execute_result"
    },
    {
     "data": {
      "image/png": "[encoded data removed]",
      "text/plain": [
       "<Figure size 432x288 with 1 Axes>"
      ]
     },
     "metadata": {
      "needs_background": "light"
     },
     "output_type": "display_data"
    }
   ],
   "source": [
    "sns.boxplot(new_wine_df3['residual sugar'])"
   ]
  },
  {
   "cell_type": "markdown",
   "id": "b371f7f7",
   "metadata": {},
   "source": [
    "### Capping using the percentile method"
   ]
  },
  {
   "cell_type": "code",
   "execution_count": 29,
   "id": "3c5c3e35",
   "metadata": {},
   "outputs": [],
   "source": [
    "# Capping  - change the outlier values to either the upper or lower limit values.\n",
    "# Using this method we change the values rather than deleting them. \n",
    "# Making a copy of the original data to work with:\n",
    "\n",
    "wine_df4 = wine_df.copy()"
   ]
  },
  {
   "cell_type": "code",
   "execution_count": 30,
   "id": "a96f5970",
   "metadata": {},
   "outputs": [],
   "source": [
    "# Replacing outliers that are greater than the upper limit with the upper limit value:\n",
    "\n",
    "wine_df4.loc[wine_df4['residual sugar'] > upper_limit_new, 'residual sugar'] = upper_limit_new\n",
    "wine_df4.loc[wine_df4['residual sugar'] < lower_limit_new, 'residual sugar'] = lower_limit_new"
   ]
  },
  {
   "cell_type": "code",
   "execution_count": 31,
   "id": "0a09cb38",
   "metadata": {},
   "outputs": [
    {
     "data": {
      "text/plain": [
       "<AxesSubplot:>"
      ]
     },
     "execution_count": 31,
     "metadata": {},
     "output_type": "execute_result"
    },
    {
     "data": {
      "image/png": "[encoded data removed]",
      "text/plain": [
       "<Figure size 432x288 with 1 Axes>"
      ]
     },
     "metadata": {
      "needs_background": "light"
     },
     "output_type": "display_data"
    }
   ],
   "source": [
    "# Checking the boxplot:\n",
    "\n",
    "sns.boxplot(wine_df4['residual sugar'])"
   ]
  },
  {
   "cell_type": "code",
   "execution_count": 32,
   "id": "de95d267",
   "metadata": {},
   "outputs": [
    {
     "data": {
      "text/plain": [
       "4898"
      ]
     },
     "execution_count": 32,
     "metadata": {},
     "output_type": "execute_result"
    }
   ],
   "source": [
    "# If we check the length of the new dataframe it should be the same as the original because we have not deleted any rows.\n",
    "# We have just changed (capped) the values of outliers:\n",
    "\n",
    "len(wine_df4)"
   ]
  }
 ],
 "metadata": {
  "kernelspec": {
   "display_name": "Python 3 (ipykernel)",
   "language": "python",
   "name": "python3"
  },
  "language_info": {
   "codemirror_mode": {
    "name": "ipython",
    "version": 3
   },
   "file_extension": ".py",
   "mimetype": "text/x-python",
   "name": "python",
   "nbconvert_exporter": "python",
   "pygments_lexer": "ipython3",
   "version": "3.9.12"
  }
 },
 "nbformat": 4,
 "nbformat_minor": 5
}
