{
 "cells": [
  {
   "cell_type": "markdown",
   "id": "00c38dd2",
   "metadata": {},
   "source": [
    "# Assumption Tests and Diagnostics for Regression\n",
    "\n",
    "\n",
    "When fitting a linear or multiple regression model there are a number of asusmptions that have to be met regarding the distribution of the variables being used and the relationships between those variables. These assumptions, and violations of them, can be assessed through plots and data visualisations, as well as through the use of certain statistical tests. Some of these tests/ assumptions apply to both simple linear regression (with one independent variable (IV) and one dependent variable (DV)) and multiple regression (more than one IV and one DV), others are specifically relevant for multiple regression. Regression models are generally used when we have a scale IV(s) and want to assess the relationship with and predict values on a scale DV. In later notebooks I will demonstrate how to run and interpret both linear and multiple regression models. In this notebook I will work through how to investigate and test the different assumptions for regression. The assumptions I will cover are:\n",
    "\n",
    "- Linearity: The assumption that there is a linear (straight line) relationship between the DV and IV(s). \n",
    "- Multicolinearity: The assumption that the IVs in a multiple regression model are not too highly correlated. \n",
    "- Normality of residuals (error terms): The assumption that the residuals (the difference between the actual values and those predicted by the regression line) are normally distributed. \n",
    "- Homoscedasticity: The assumption that the variance for the DV is constant along all values of the IV scale. \n",
    "- Independence of error terms: The assumption that each predicted value is independent and not related to any other predictions. \n",
    "- Outliers (influence statistics): The assumption that there are no outliers or influential scores in our data that will have an undue effect on the regression model (the slope of the regression line for a given IV). \n",
    "\n",
    "To demonstrate how to assess these assumptions I will use datasets to fit a couple of regression models. One for a multiple regression design and one for a simple linear regression model. I will fit these models using the statsmodels software library. This library also provides a number of statistical methods to run regression diagnostics. "
   ]
  },
  {
   "cell_type": "code",
   "execution_count": 1,
   "id": "9ec345c8",
   "metadata": {},
   "outputs": [],
   "source": [
    "# Importing key software libraries. \n",
    "\n",
    "import pandas as pd\n",
    "import numpy as np\n",
    "import matplotlib.pyplot as plt\n",
    "import statsmodels.api as sm\n",
    "import statsmodels.formula.api as smf\n",
    "import statsmodels.stats.api as sms\n",
    "from statsmodels.compat import lzip\n",
    "\n",
    "%matplotlib inline"
   ]
  },
  {
   "cell_type": "code",
   "execution_count": 2,
   "id": "db912f46",
   "metadata": {},
   "outputs": [
    {
     "data": {
      "text/html": [
       "<div>\n",
       "<style scoped>\n",
       "    .dataframe tbody tr th:only-of-type {\n",
       "        vertical-align: middle;\n",
       "    }\n",
       "\n",
       "    .dataframe tbody tr th {\n",
       "        vertical-align: top;\n",
       "    }\n",
       "\n",
       "    .dataframe thead th {\n",
       "        text-align: right;\n",
       "    }\n",
       "</style>\n",
       "<table border=\"1\" class=\"dataframe\">\n",
       "  <thead>\n",
       "    <tr style=\"text-align: right;\">\n",
       "      <th></th>\n",
       "      <th>model</th>\n",
       "      <th>mpg</th>\n",
       "      <th>cyl</th>\n",
       "      <th>disp</th>\n",
       "      <th>hp</th>\n",
       "      <th>drat</th>\n",
       "      <th>wt</th>\n",
       "      <th>qsec</th>\n",
       "      <th>vs</th>\n",
       "      <th>am</th>\n",
       "      <th>gear</th>\n",
       "      <th>carb</th>\n",
       "    </tr>\n",
       "  </thead>\n",
       "  <tbody>\n",
       "    <tr>\n",
       "      <th>0</th>\n",
       "      <td>Mazda RX4</td>\n",
       "      <td>21.0</td>\n",
       "      <td>6</td>\n",
       "      <td>160.0</td>\n",
       "      <td>110</td>\n",
       "      <td>3.90</td>\n",
       "      <td>2.620</td>\n",
       "      <td>16.46</td>\n",
       "      <td>0</td>\n",
       "      <td>1</td>\n",
       "      <td>4</td>\n",
       "      <td>4</td>\n",
       "    </tr>\n",
       "    <tr>\n",
       "      <th>1</th>\n",
       "      <td>Mazda RX4 Wag</td>\n",
       "      <td>21.0</td>\n",
       "      <td>6</td>\n",
       "      <td>160.0</td>\n",
       "      <td>110</td>\n",
       "      <td>3.90</td>\n",
       "      <td>2.875</td>\n",
       "      <td>17.02</td>\n",
       "      <td>0</td>\n",
       "      <td>1</td>\n",
       "      <td>4</td>\n",
       "      <td>4</td>\n",
       "    </tr>\n",
       "    <tr>\n",
       "      <th>2</th>\n",
       "      <td>Datsun 710</td>\n",
       "      <td>22.8</td>\n",
       "      <td>4</td>\n",
       "      <td>108.0</td>\n",
       "      <td>93</td>\n",
       "      <td>3.85</td>\n",
       "      <td>2.320</td>\n",
       "      <td>18.61</td>\n",
       "      <td>1</td>\n",
       "      <td>1</td>\n",
       "      <td>4</td>\n",
       "      <td>1</td>\n",
       "    </tr>\n",
       "    <tr>\n",
       "      <th>3</th>\n",
       "      <td>Hornet 4 Drive</td>\n",
       "      <td>21.4</td>\n",
       "      <td>6</td>\n",
       "      <td>258.0</td>\n",
       "      <td>110</td>\n",
       "      <td>3.08</td>\n",
       "      <td>3.215</td>\n",
       "      <td>19.44</td>\n",
       "      <td>1</td>\n",
       "      <td>0</td>\n",
       "      <td>3</td>\n",
       "      <td>1</td>\n",
       "    </tr>\n",
       "    <tr>\n",
       "      <th>4</th>\n",
       "      <td>Hornet Sportabout</td>\n",
       "      <td>18.7</td>\n",
       "      <td>8</td>\n",
       "      <td>360.0</td>\n",
       "      <td>175</td>\n",
       "      <td>3.15</td>\n",
       "      <td>3.440</td>\n",
       "      <td>17.02</td>\n",
       "      <td>0</td>\n",
       "      <td>0</td>\n",
       "      <td>3</td>\n",
       "      <td>2</td>\n",
       "    </tr>\n",
       "  </tbody>\n",
       "</table>\n",
       "</div>"
      ],
      "text/plain": [
       "               model   mpg  cyl   disp   hp  drat     wt   qsec  vs  am  gear  \\\n",
       "0          Mazda RX4  21.0    6  160.0  110  3.90  2.620  16.46   0   1     4   \n",
       "1      Mazda RX4 Wag  21.0    6  160.0  110  3.90  2.875  17.02   0   1     4   \n",
       "2         Datsun 710  22.8    4  108.0   93  3.85  2.320  18.61   1   1     4   \n",
       "3     Hornet 4 Drive  21.4    6  258.0  110  3.08  3.215  19.44   1   0     3   \n",
       "4  Hornet Sportabout  18.7    8  360.0  175  3.15  3.440  17.02   0   0     3   \n",
       "\n",
       "   carb  \n",
       "0     4  \n",
       "1     4  \n",
       "2     1  \n",
       "3     1  \n",
       "4     2  "
      ]
     },
     "execution_count": 2,
     "metadata": {},
     "output_type": "execute_result"
    }
   ],
   "source": [
    "# Importing a dataset to use for regression and assumption testing. \n",
    "\n",
    "df = pd.read_csv(\"mtcars.csv\")\n",
    "\n",
    "df.head()"
   ]
  },
  {
   "cell_type": "code",
   "execution_count": 3,
   "id": "d15a43bd",
   "metadata": {},
   "outputs": [
    {
     "name": "stdout",
     "output_type": "stream",
     "text": [
      "<class 'pandas.core.frame.DataFrame'>\n",
      "RangeIndex: 32 entries, 0 to 31\n",
      "Data columns (total 12 columns):\n",
      " #   Column  Non-Null Count  Dtype  \n",
      "---  ------  --------------  -----  \n",
      " 0   model   32 non-null     object \n",
      " 1   mpg     32 non-null     float64\n",
      " 2   cyl     32 non-null     int64  \n",
      " 3   disp    32 non-null     float64\n",
      " 4   hp      32 non-null     int64  \n",
      " 5   drat    32 non-null     float64\n",
      " 6   wt      32 non-null     float64\n",
      " 7   qsec    32 non-null     float64\n",
      " 8   vs      32 non-null     int64  \n",
      " 9   am      32 non-null     int64  \n",
      " 10  gear    32 non-null     int64  \n",
      " 11  carb    32 non-null     int64  \n",
      "dtypes: float64(5), int64(6), object(1)\n",
      "memory usage: 3.1+ KB\n"
     ]
    }
   ],
   "source": [
    "df.info()"
   ]
  },
  {
   "cell_type": "markdown",
   "id": "038e3812",
   "metadata": {},
   "source": [
    "I am using the mtcars dataset. This is a small dataset, containing data measuring several variables on 32 different models of cars. A number of the variables are scale variables (recording decimal/ floating point values). These are useful for fitting a regression model for illustration purposes. "
   ]
  },
  {
   "cell_type": "code",
   "execution_count": 4,
   "id": "5b97a2b5",
   "metadata": {},
   "outputs": [],
   "source": [
    "# Fitting a multiple regression model using the statsmodels ols method. \n",
    "# I will investigate the relationship between a DV of mpg and IVs of weight (wt) and displacement (disp). \n",
    "# Note the tilda (~) separates the DV from the two IVs. The IVs are separated by a plus (+) operator as\n",
    "# when fitting ordinary least squares regression we are assuming the DV is a function of a linear combination of the IVs.\n",
    "\n",
    "res = smf.ols(\"mpg ~ wt + disp\", data = df).fit()"
   ]
  },
  {
   "cell_type": "code",
   "execution_count": 5,
   "id": "56b6707f",
   "metadata": {},
   "outputs": [
    {
     "data": {
      "text/html": [
       "<table class=\"simpletable\">\n",
       "<caption>OLS Regression Results</caption>\n",
       "<tr>\n",
       "  <th>Dep. Variable:</th>           <td>mpg</td>       <th>  R-squared:         </th> <td>   0.781</td>\n",
       "</tr>\n",
       "<tr>\n",
       "  <th>Model:</th>                   <td>OLS</td>       <th>  Adj. R-squared:    </th> <td>   0.766</td>\n",
       "</tr>\n",
       "<tr>\n",
       "  <th>Method:</th>             <td>Least Squares</td>  <th>  F-statistic:       </th> <td>   51.69</td>\n",
       "</tr>\n",
       "<tr>\n",
       "  <th>Date:</th>             <td>Fri, 01 Sep 2023</td> <th>  Prob (F-statistic):</th> <td>2.74e-10</td>\n",
       "</tr>\n",
       "<tr>\n",
       "  <th>Time:</th>                 <td>11:28:33</td>     <th>  Log-Likelihood:    </th> <td> -78.084</td>\n",
       "</tr>\n",
       "<tr>\n",
       "  <th>No. Observations:</th>      <td>    32</td>      <th>  AIC:               </th> <td>   162.2</td>\n",
       "</tr>\n",
       "<tr>\n",
       "  <th>Df Residuals:</th>          <td>    29</td>      <th>  BIC:               </th> <td>   166.6</td>\n",
       "</tr>\n",
       "<tr>\n",
       "  <th>Df Model:</th>              <td>     2</td>      <th>                     </th>     <td> </td>   \n",
       "</tr>\n",
       "<tr>\n",
       "  <th>Covariance Type:</th>      <td>nonrobust</td>    <th>                     </th>     <td> </td>   \n",
       "</tr>\n",
       "</table>\n",
       "<table class=\"simpletable\">\n",
       "<tr>\n",
       "      <td></td>         <th>coef</th>     <th>std err</th>      <th>t</th>      <th>P>|t|</th>  <th>[0.025</th>    <th>0.975]</th>  \n",
       "</tr>\n",
       "<tr>\n",
       "  <th>Intercept</th> <td>   34.9606</td> <td>    2.165</td> <td>   16.151</td> <td> 0.000</td> <td>   30.534</td> <td>   39.388</td>\n",
       "</tr>\n",
       "<tr>\n",
       "  <th>wt</th>        <td>   -3.3508</td> <td>    1.164</td> <td>   -2.878</td> <td> 0.007</td> <td>   -5.732</td> <td>   -0.970</td>\n",
       "</tr>\n",
       "<tr>\n",
       "  <th>disp</th>      <td>   -0.0177</td> <td>    0.009</td> <td>   -1.929</td> <td> 0.064</td> <td>   -0.037</td> <td>    0.001</td>\n",
       "</tr>\n",
       "</table>\n",
       "<table class=\"simpletable\">\n",
       "<tr>\n",
       "  <th>Omnibus:</th>       <td> 4.079</td> <th>  Durbin-Watson:     </th> <td>   1.277</td>\n",
       "</tr>\n",
       "<tr>\n",
       "  <th>Prob(Omnibus):</th> <td> 0.130</td> <th>  Jarque-Bera (JB):  </th> <td>   3.665</td>\n",
       "</tr>\n",
       "<tr>\n",
       "  <th>Skew:</th>          <td> 0.812</td> <th>  Prob(JB):          </th> <td>   0.160</td>\n",
       "</tr>\n",
       "<tr>\n",
       "  <th>Kurtosis:</th>      <td> 2.666</td> <th>  Cond. No.          </th> <td>1.21e+03</td>\n",
       "</tr>\n",
       "</table><br/><br/>Notes:<br/>[1] Standard Errors assume that the covariance matrix of the errors is correctly specified.<br/>[2] The condition number is large, 1.21e+03. This might indicate that there are<br/>strong multicollinearity or other numerical problems."
      ],
      "text/plain": [
       "<class 'statsmodels.iolib.summary.Summary'>\n",
       "\"\"\"\n",
       "                            OLS Regression Results                            \n",
       "==============================================================================\n",
       "Dep. Variable:                    mpg   R-squared:                       0.781\n",
       "Model:                            OLS   Adj. R-squared:                  0.766\n",
       "Method:                 Least Squares   F-statistic:                     51.69\n",
       "Date:                Fri, 01 Sep 2023   Prob (F-statistic):           2.74e-10\n",
       "Time:                        11:28:33   Log-Likelihood:                -78.084\n",
       "No. Observations:                  32   AIC:                             162.2\n",
       "Df Residuals:                      29   BIC:                             166.6\n",
       "Df Model:                           2                                         \n",
       "Covariance Type:            nonrobust                                         \n",
       "==============================================================================\n",
       "                 coef    std err          t      P>|t|      [0.025      0.975]\n",
       "------------------------------------------------------------------------------\n",
       "Intercept     34.9606      2.165     16.151      0.000      30.534      39.388\n",
       "wt            -3.3508      1.164     -2.878      0.007      -5.732      -0.970\n",
       "disp          -0.0177      0.009     -1.929      0.064      -0.037       0.001\n",
       "==============================================================================\n",
       "Omnibus:                        4.079   Durbin-Watson:                   1.277\n",
       "Prob(Omnibus):                  0.130   Jarque-Bera (JB):                3.665\n",
       "Skew:                           0.812   Prob(JB):                        0.160\n",
       "Kurtosis:                       2.666   Cond. No.                     1.21e+03\n",
       "==============================================================================\n",
       "\n",
       "Notes:\n",
       "[1] Standard Errors assume that the covariance matrix of the errors is correctly specified.\n",
       "[2] The condition number is large, 1.21e+03. This might indicate that there are\n",
       "strong multicollinearity or other numerical problems.\n",
       "\"\"\""
      ]
     },
     "execution_count": 5,
     "metadata": {},
     "output_type": "execute_result"
    }
   ],
   "source": [
    "res.summary()"
   ]
  },
  {
   "cell_type": "markdown",
   "id": "72b7c168",
   "metadata": {},
   "source": [
    "To summarise, the above results show a significant regression model where mpg appears to be significantly predicted by wt (t = 2.88, p = 0.007), but not disp (t = 1.93, p = 0.064). The regression coefficient has a negative value (-3.35) indicating that as wt increased mpg decreased. This seems to intuitively make sense given what we know about car size and fuel consumption. \n",
    "\n",
    "Let us now assess whether any of the assumptions our data need to meet for a regression model have been violated. "
   ]
  },
  {
   "cell_type": "markdown",
   "id": "24e8498d",
   "metadata": {},
   "source": [
    "## Normality of residuals\n",
    "\n",
    "We can assess whether the residuals are normally distributed using visualisations, specifically, Kernel Density Estimator (kde) plots and QQPlots (probability plots). We can also check our assumptions using a statistical test, the Jarque-Bera test. "
   ]
  },
  {
   "cell_type": "code",
   "execution_count": 6,
   "id": "a1deb278",
   "metadata": {},
   "outputs": [
    {
     "data": {
      "text/plain": [
       "<seaborn.axisgrid.FacetGrid at 0x26a0cf0afa0>"
      ]
     },
     "execution_count": 6,
     "metadata": {},
     "output_type": "execute_result"
    },
    {
     "data": {
      "image/png": "[encoded data removed]",
      "text/plain": [
       "<Figure size 360x360 with 1 Axes>"
      ]
     },
     "metadata": {
      "needs_background": "light"
     },
     "output_type": "display_data"
    }
   ],
   "source": [
    "# Fitting a kde plot using the seaborn displot method and setting kind equal to kde. \n",
    "# Note that I have passed the model (res) and specified that I want a plot of the residuals. \n",
    "\n",
    "import seaborn as sns\n",
    "\n",
    "sns.displot(res.resid, kind='kde')"
   ]
  },
  {
   "cell_type": "markdown",
   "id": "7dfe64f7",
   "metadata": {},
   "source": [
    "The kde plot for our residuals indicates that they may be slightly positively skewed. The appearance of the data does not deviate too strongly from a bell-shaped distribution but we will want to do further checks to make an informaed assessment. A QQ Plot of the residuals will also be useful.  "
   ]
  },
  {
   "cell_type": "code",
   "execution_count": 7,
   "id": "6b8fd4c0",
   "metadata": {},
   "outputs": [
    {
     "data": {
      "image/png": "[encoded data removed]",
      "text/plain": [
       "<Figure size 432x288 with 1 Axes>"
      ]
     },
     "metadata": {
      "needs_background": "light"
     },
     "output_type": "display_data"
    }
   ],
   "source": [
    "# Creating a QQ plot using matplotlib and the scipy probplot method.\n",
    "\n",
    "import scipy.stats as stats\n",
    "\n",
    "fig, ax = plt.subplots(figsize=(6, 4))\n",
    "stats.probplot(res.resid, plot = ax, fit = True)\n",
    "\n",
    "plt.show()"
   ]
  },
  {
   "cell_type": "markdown",
   "id": "3c16d2eb",
   "metadata": {},
   "source": [
    "The probability plot seems to suggest that our residuals deviate from normality. Values at the tails of the distribution appear to be a bit of an issue. Many of the residuals are close to the 45 degree line on the probability plot suggesting the actual and predicted values correspond quite closely. So, we have some degree of deviation from a normal distribution, this is often the case as data is noisy and we are never likely to have a perfect distribution. In this case, it is worth us using a statistical test to check whether the extent of deviation of our residuals from normality is sufficient to violate this assumption \n",
    "\n",
    "Having created plots to check the normality of residuals we can follow this up using the Jarque-Bera test. This is a goodness of fit test that uses the Chi-Square distribution. It measures if the data has skewness and kurtosis similar to that of a normal distribution. The Jarque-Bera test returns a test statistic with a positive value. The greater that value (further away from 0) the less likely that the data matches a normal distribution. The Jarque-Bera test returns an associated p-value. The null hypothesis for the test is that the data follows a normal distribution, so significant p-values (p < 0.05) indicate violations of normality and the residual do not follow a normal distribution."
   ]
  },
  {
   "cell_type": "code",
   "execution_count": 8,
   "id": "871372b9",
   "metadata": {},
   "outputs": [],
   "source": [
    "# Creating an object to display the tests results with labels. \n",
    "\n",
    "labels = [\"Jarque-Bera\", \"Chi-Sq p-value\", \"Skew\", \"Kurtosis\"]"
   ]
  },
  {
   "cell_type": "code",
   "execution_count": 9,
   "id": "1359aaae",
   "metadata": {},
   "outputs": [
    {
     "data": {
      "text/plain": [
       "[('Jarque-Bera', 3.6653866143339866),\n",
       " ('Chi-Sq p-value', 0.15998210605368945),\n",
       " ('Skew', 0.8120323264783506),\n",
       " ('Kurtosis', 2.6661527837960604)]"
      ]
     },
     "execution_count": 9,
     "metadata": {},
     "output_type": "execute_result"
    }
   ],
   "source": [
    "# Running the Jarque-Bera test using the statsmodels jarque_bera method. \n",
    "\n",
    "jb_test = sms.jarque_bera(res.resid)\n",
    "lzip(labels, jb_test)"
   ]
  },
  {
   "cell_type": "markdown",
   "id": "a82765f4",
   "metadata": {},
   "source": [
    "The above test results show a Jarque-Bera test statistic of Chi-Squared = 3.66 and p = 0.16. This is not a signficant test result suggesting that we cannot reject the null hypothesis that the residuals are normally distributed. This confirms what the plots indicated and we are probably safe to assume normality of the residuals in the model."
   ]
  },
  {
   "cell_type": "markdown",
   "id": "0f40ddcb",
   "metadata": {},
   "source": [
    "## Linearity\n",
    "\n",
    "Here we are going to use some plots to assess if there is a linear relationship (a straight line relationship) between the DV (mpg) and each of our IVs (wt and disp). To do this we will create some scatter plots using matplotlib for visual inspection. "
   ]
  },
  {
   "cell_type": "code",
   "execution_count": 10,
   "id": "9c5d0d69",
   "metadata": {},
   "outputs": [
    {
     "data": {
      "image/png": "[encoded data removed]",
      "text/plain": [
       "<Figure size 720x180 with 2 Axes>"
      ]
     },
     "metadata": {
      "needs_background": "light"
     },
     "output_type": "display_data"
    }
   ],
   "source": [
    "# Creating two scatter plots. Plotting each IV againt the DV separately. \n",
    "\n",
    "fig, (ax1, ax2) = plt.subplots(ncols=2, figsize=(10, 2.5))\n",
    "\n",
    "ax1.scatter(df['wt'], df['mpg'])\n",
    "ax1.set_title(\"Weight\")\n",
    "ax2.scatter(df['disp'], df['mpg'])\n",
    "ax2.set_title(\"Displacement\")\n",
    "\n",
    "plt.show()"
   ]
  },
  {
   "cell_type": "markdown",
   "id": "81e8648a",
   "metadata": {},
   "source": [
    "The above scatter plots show each IV plotted along the x-axis against scores on the DV (mpg) plotted along the y-axis. Although not perfect, there appears to be a fairly linear relationship between our IVs and the DV. As scores on each IV increase the mpg values get lower, so, we have this general linear trend of decreasing mpg as weight and displacement increase. "
   ]
  },
  {
   "cell_type": "markdown",
   "id": "84200546",
   "metadata": {},
   "source": [
    "We can also conduct a statistical test to assess this for our model. One such test is the Harvey-Collier test. This test assesses whether linearity of the parameters in our overall model is violated. This test does not assess the IVs separately as we have done in the above plots. The Harvey-Collier test performs a t-test, with degrees of freedom equal to our model parameters, on the recursive residuals. Recursive residuals are linear transformation of ordinary residuals and are independently and identically distributed. If the true relationship between the IVs and DV in our model is not linear then the mean of the recursive residuals with differ from 0. As with other statistical tests of assumptions, the null hypothesis for this test is that the relationship is linear. If we find we get a statistically significant result (p < 0.05) then we have to reject this null hypothesis and it is likely the assumption of linearity has not been met for our variables.  "
   ]
  },
  {
   "cell_type": "code",
   "execution_count": 11,
   "id": "14e70e92",
   "metadata": {},
   "outputs": [
    {
     "data": {
      "text/plain": [
       "[('t value', -0.2973991657676703), ('p-value', 0.7683571252567698)]"
      ]
     },
     "execution_count": 11,
     "metadata": {},
     "output_type": "execute_result"
    }
   ],
   "source": [
    "# We can perform the Harvey-Collier test using statsmodels. \n",
    "\n",
    "labels_2 = ['t value', 'p-value']\n",
    "hc_test = sms.linear_harvey_collier(res)\n",
    "lzip(labels_2, hc_test)"
   ]
  },
  {
   "cell_type": "markdown",
   "id": "e71df1ff",
   "metadata": {},
   "source": [
    "The result of the Harvey-Collier test is not signficant (p = 0.77). This confirms our belief after inspecting the scatter plots that the relationship between our IVs and the DV is linear and this assumption has been met. "
   ]
  },
  {
   "cell_type": "markdown",
   "id": "bb94be41",
   "metadata": {},
   "source": [
    "## Multicollinearity\n",
    "\n",
    "A key assumption of multiple regression models is that the IVs are not too highly correlated with each other. When IVs in a multiple regression model are highly correlated then scores on those IVs are not independent and scores on one can be predicted by and change with scores on the other in a systematic way. If two IVs are extremely highly correlated then they are capturing the same variability in the DV and one of them can be removed from the model. They are effectively measuring the same relationship. We can test to see whether multicollinearity is present in our model by looking at the correlation between our IVs through plots and correlation coefficients. If our IVs have a correlation coefficient of less than/ greater than 0.7 then they are highly correlated and we likely have a problem with the multicollinearity of our variables. We can also calculate the Variance Inflation Factor (VIF) for our IVs and use this to assess whether multicollinearity may be an issue. VIF values of greater than 10 suggest that we potentially have multicollinearity. VIF values of greater than 100 indicate definite issues of multicollinearity between variables. "
   ]
  },
  {
   "cell_type": "code",
   "execution_count": 12,
   "id": "43492157",
   "metadata": {},
   "outputs": [
    {
     "data": {
      "text/plain": [
       "<AxesSubplot:>"
      ]
     },
     "execution_count": 12,
     "metadata": {},
     "output_type": "execute_result"
    },
    {
     "data": {
      "image/png": "[encoded data removed]",
      "text/plain": [
       "<Figure size 720x360 with 2 Axes>"
      ]
     },
     "metadata": {
      "needs_background": "light"
     },
     "output_type": "display_data"
    }
   ],
   "source": [
    "# Using the seaborn heatmap option to visually assess the correlation between our IVs. \n",
    "# Note that I have specified the correlation method .corr(). This will give the actual bivariate correlation coefficient. \n",
    "plt.figure(figsize=(10,5))\n",
    "sns.heatmap(df[['wt','disp']].corr(),vmin=-1,annot= True)"
   ]
  },
  {
   "cell_type": "markdown",
   "id": "e2c55a0a",
   "metadata": {},
   "source": [
    "The above heatmap indicates that our IVs (wt and disp) are highly positively correlated (r = 0.89). We probably have an issue with multicollinearity. I will calculate two statistics that will help us assess the extent to which we have problem with multicollinearity in our data. The statistics are the Vatiance Inflation Factor (VIF) and the Tolerance. \n",
    "\n",
    "Tolerance values for each IV of less than 0.1 indicate issues of collinearity.\n",
    "\n",
    "The VIF is calculated as the inverse of the Tolerance. VIF values for each IV of 10 or greater indicate an issue with collinearity. "
   ]
  },
  {
   "cell_type": "code",
   "execution_count": 13,
   "id": "6f4dc5df",
   "metadata": {},
   "outputs": [
    {
     "data": {
      "text/html": [
       "<div>\n",
       "<style scoped>\n",
       "    .dataframe tbody tr th:only-of-type {\n",
       "        vertical-align: middle;\n",
       "    }\n",
       "\n",
       "    .dataframe tbody tr th {\n",
       "        vertical-align: top;\n",
       "    }\n",
       "\n",
       "    .dataframe thead th {\n",
       "        text-align: right;\n",
       "    }\n",
       "</style>\n",
       "<table border=\"1\" class=\"dataframe\">\n",
       "  <thead>\n",
       "    <tr style=\"text-align: right;\">\n",
       "      <th></th>\n",
       "      <th>wt</th>\n",
       "      <th>disp</th>\n",
       "    </tr>\n",
       "  </thead>\n",
       "  <tbody>\n",
       "    <tr>\n",
       "      <th>0</th>\n",
       "      <td>2.620</td>\n",
       "      <td>160.0</td>\n",
       "    </tr>\n",
       "    <tr>\n",
       "      <th>1</th>\n",
       "      <td>2.875</td>\n",
       "      <td>160.0</td>\n",
       "    </tr>\n",
       "    <tr>\n",
       "      <th>2</th>\n",
       "      <td>2.320</td>\n",
       "      <td>108.0</td>\n",
       "    </tr>\n",
       "    <tr>\n",
       "      <th>3</th>\n",
       "      <td>3.215</td>\n",
       "      <td>258.0</td>\n",
       "    </tr>\n",
       "    <tr>\n",
       "      <th>4</th>\n",
       "      <td>3.440</td>\n",
       "      <td>360.0</td>\n",
       "    </tr>\n",
       "  </tbody>\n",
       "</table>\n",
       "</div>"
      ],
      "text/plain": [
       "      wt   disp\n",
       "0  2.620  160.0\n",
       "1  2.875  160.0\n",
       "2  2.320  108.0\n",
       "3  3.215  258.0\n",
       "4  3.440  360.0"
      ]
     },
     "execution_count": 13,
     "metadata": {},
     "output_type": "execute_result"
    }
   ],
   "source": [
    "inp_df = pd.DataFrame(df[['wt', 'disp']])\n",
    "\n",
    "inp_df.head()"
   ]
  },
  {
   "cell_type": "code",
   "execution_count": 14,
   "id": "d1df86c2",
   "metadata": {},
   "outputs": [],
   "source": [
    "from statsmodels.stats.outliers_influence import variance_inflation_factor\n",
    "\n",
    "vif = []\n",
    "\n",
    "for i in range(inp_df.shape[1]):\n",
    "    vif.append(variance_inflation_factor(inp_df, i))"
   ]
  },
  {
   "cell_type": "code",
   "execution_count": 15,
   "id": "9ce543af",
   "metadata": {},
   "outputs": [
    {
     "data": {
      "text/html": [
       "<div>\n",
       "<style scoped>\n",
       "    .dataframe tbody tr th:only-of-type {\n",
       "        vertical-align: middle;\n",
       "    }\n",
       "\n",
       "    .dataframe tbody tr th {\n",
       "        vertical-align: top;\n",
       "    }\n",
       "\n",
       "    .dataframe thead th {\n",
       "        text-align: right;\n",
       "    }\n",
       "</style>\n",
       "<table border=\"1\" class=\"dataframe\">\n",
       "  <thead>\n",
       "    <tr style=\"text-align: right;\">\n",
       "      <th></th>\n",
       "      <th>wt</th>\n",
       "      <th>disp</th>\n",
       "    </tr>\n",
       "  </thead>\n",
       "  <tbody>\n",
       "    <tr>\n",
       "      <th>VIF</th>\n",
       "      <td>14.931913</td>\n",
       "      <td>14.931913</td>\n",
       "    </tr>\n",
       "  </tbody>\n",
       "</table>\n",
       "</div>"
      ],
      "text/plain": [
       "            wt       disp\n",
       "VIF  14.931913  14.931913"
      ]
     },
     "execution_count": 15,
     "metadata": {},
     "output_type": "execute_result"
    }
   ],
   "source": [
    "pd.DataFrame({'VIF': vif}, index = inp_df.columns).T"
   ]
  },
  {
   "cell_type": "code",
   "execution_count": 16,
   "id": "3902e841",
   "metadata": {},
   "outputs": [
    {
     "data": {
      "text/plain": [
       "0.06697065540095232"
      ]
     },
     "execution_count": 16,
     "metadata": {},
     "output_type": "execute_result"
    }
   ],
   "source": [
    "tol = 1 / 14.931913\n",
    "\n",
    "tol"
   ]
  },
  {
   "cell_type": "markdown",
   "id": "db2ee8c7",
   "metadata": {},
   "source": [
    "Above, we can see that we have a VIF of 14.93 for our IVs in the model. This is greater than 10 the threshold of 10 for potential problems. Likewise, calculating the Tolerance manually returns a value of 0.067. Less than the value of 0.1. These results confirm what was highlighted by the heatmap and correlation. We have an issue with multicollinearity of our IVs and this assumption has been violated. We would likely want to address this by dropping one of the IVs from the model. "
   ]
  },
  {
   "cell_type": "markdown",
   "id": "cb0c6398",
   "metadata": {},
   "source": [
    "## Homoscedasticity\n"
   ]
  },
  {
   "cell_type": "markdown",
   "id": "fdc70ee0",
   "metadata": {},
   "source": [
    "A key assumption of regression is that the spread of residuals around the regression line is constant along all values of the input IVs. When the assumption of constant variance (homoscedasticity) is violated this is clearly visible on a scatter plot of the residuals. Rather than being evenly spread above and below the predicted value of the regression line the data points will have much more variability on some parts of the scale than others. \n",
    "As with other assumptions, we can assess constant variance by visualising the data on a plot and also using statistical tests. Commonly used statistical tests of homscedasticity are the White test and the Breusch-Pagan test. The Breusch-Pagan test is better when the dataset is large. \n"
   ]
  },
  {
   "cell_type": "code",
   "execution_count": 17,
   "id": "f40d9f47",
   "metadata": {},
   "outputs": [
    {
     "name": "stdout",
     "output_type": "stream",
     "text": [
      "eval_env: 1\n"
     ]
    },
    {
     "data": {
      "image/png": "[encoded data removed]",
      "text/plain": [
       "<Figure size 1008x576 with 4 Axes>"
      ]
     },
     "metadata": {
      "needs_background": "light"
     },
     "output_type": "display_data"
    }
   ],
   "source": [
    "# Obtaining scatter plots of the residuals to visually assess homoscedasticty. \n",
    "\n",
    "fig = plt.figure(figsize=(14, 8))\n",
    "  \n",
    "fig = sm.graphics.plot_regress_exog(res, 'wt', fig=fig)"
   ]
  },
  {
   "cell_type": "markdown",
   "id": "f34e3dbc",
   "metadata": {},
   "source": [
    "The above command has given us a number of diagnostic plots for the weight (wt) IV in our regression model. The plot in the top right is the one of interest in assessing homoscedasticity. This plot shows weight scores (x-axis) plotted against the residuals (y-axis). If our data has constant variance we would expect the data points to be evenly spread above and below the y-axis reference set at 0 (highlighted with a black line) and for this to be the case all the way along the x-axis scale. inspecting this plot, it seems we may have an issue of heteroscedasticity for this variable as the residuals for low and high weight values appear to be mostly above the line, representing positive error terms.\n"
   ]
  },
  {
   "cell_type": "code",
   "execution_count": 18,
   "id": "6119312d",
   "metadata": {},
   "outputs": [
    {
     "data": {
      "image/png": "[encoded data removed]",
      "text/plain": [
       "<Figure size 432x288 with 1 Axes>"
      ]
     },
     "metadata": {
      "needs_background": "light"
     },
     "output_type": "display_data"
    }
   ],
   "source": [
    "# An alternative (and simpler) way to obtain a residual plot for out wt IV is using the seaborn residplot method. \n",
    "# The same pattern is obviously apparent in this plot. \n",
    "sns.residplot(x='wt', y='mpg', data=df)\n",
    "  \n",
    "plt.show()"
   ]
  },
  {
   "cell_type": "markdown",
   "id": "1859314a",
   "metadata": {},
   "source": [
    "We can also check the other IV (disp) for homoscedasticity using residual scatter plots. "
   ]
  },
  {
   "cell_type": "code",
   "execution_count": 19,
   "id": "c368e4dd",
   "metadata": {},
   "outputs": [
    {
     "name": "stdout",
     "output_type": "stream",
     "text": [
      "eval_env: 1\n"
     ]
    },
    {
     "data": {
      "image/png": "[encoded data removed]",
      "text/plain": [
       "<Figure size 1008x576 with 4 Axes>"
      ]
     },
     "metadata": {
      "needs_background": "light"
     },
     "output_type": "display_data"
    }
   ],
   "source": [
    "# Obtaining scatter plots of the residuals to visually assess homoscedasticty. \n",
    "\n",
    "fig = plt.figure(figsize=(14, 8))\n",
    "  \n",
    "\n",
    "fig = sm.graphics.plot_regress_exog(res, 'disp', fig=fig)"
   ]
  },
  {
   "cell_type": "markdown",
   "id": "4d74d998",
   "metadata": {},
   "source": [
    "Similarly with the disp IV, we appear to have more positive residuals at high and low values and more negative residual around the middle of the displacement (disp) scale on the x-axis. "
   ]
  },
  {
   "cell_type": "code",
   "execution_count": 20,
   "id": "ef641fac",
   "metadata": {},
   "outputs": [
    {
     "data": {
      "image/png": "[encoded data removed]",
      "text/plain": [
       "<Figure size 432x288 with 1 Axes>"
      ]
     },
     "metadata": {
      "needs_background": "light"
     },
     "output_type": "display_data"
    }
   ],
   "source": [
    "# Seaborn residplot for the disp IV. \n",
    "sns.residplot(x='disp', y='mpg', data=df)\n",
    "  \n",
    "plt.show()"
   ]
  },
  {
   "cell_type": "markdown",
   "id": "ceae569d",
   "metadata": {},
   "source": [
    "Visual inspection of the IVs in our model seems to suggest that the residuals are heteroscedastic and differ in variability along the scale of the IVs. We can follow up these visual inspections using a White test. This may help to confirm any concerns we have about heteroscedasticty of our variables."
   ]
  },
  {
   "cell_type": "code",
   "execution_count": 21,
   "id": "4b3364a8",
   "metadata": {},
   "outputs": [
    {
     "data": {
      "text/plain": [
       "[('Lagrange Multiplier statistic:', 6.568553136314197),\n",
       " ('p-value:', 0.25475461483398104),\n",
       " ('F-statistic:', 1.343080340332768),\n",
       " ('p-value:', 0.2777337255372134)]"
      ]
     },
     "execution_count": 21,
     "metadata": {},
     "output_type": "execute_result"
    }
   ],
   "source": [
    "# Conducting a White test on the regression model. \n",
    "\n",
    "from statsmodels.stats.diagnostic import het_white\n",
    " \n",
    "labels_3 = ['Lagrange Multiplier statistic:', 'p-value:', 'F-statistic:', 'p-value:']\n",
    "\n",
    "white_t = het_white(res.resid, res.model.exog)\n",
    " \n",
    "# Print the results. We will get to see the values of two test-statistics and the corresponding p-values\n",
    "lzip(labels_3, white_t)"
   ]
  },
  {
   "cell_type": "markdown",
   "id": "f4c19348",
   "metadata": {},
   "source": [
    "The White test can be interpreted in a similar way to other statistical tests of assumption. If the test is not significant we do not reject the null hypothesis. In this case the null hypothesis is that there is no relationship between the residuals of the model and the models IVs. When the test is not significant the residuals of the regression model have the same variance and are homoscedastic. Here we can see the output for two test statistics, the Lagrange multiplier and an F-test. \n",
    "\n",
    "The tests are both non-significant. The F-test is the one we would focus on to assess homoscedasticity. Here we have an F-value of 1.34 and an associated p-value of 0.28. There are limitations with statistical assumption tests such as this, but the result seems to indicate that the deviations from a homoscedastic distribution in our data are no so extreme as to violate this asusmption. "
   ]
  },
  {
   "cell_type": "markdown",
   "id": "365f4dab",
   "metadata": {},
   "source": [
    "\n",
    "## Independence of Error (no autocorrelation of residuals)\n",
    "\n",
    "Assessing independence of residuals is not easily achieved. It is possible to verify this using visualisations if there is a clear pattern to the error terms. They may follow a relationship like our IVs in this regression model where the residuals appear to have positive deviations at low values, negative deviations in the middle of the scale and positive values again at the high values of the IV. A residual plot showing a zig-zagging pattern along the scale would suggest that errors (residuals) may be independent. \n",
    "\n",
    "A statistical test to assess independence of error terms is the Durbin Watson test. If this test returns a value betwene 1.5 and 2.5 then we are usually safe to assume independence of error terms. "
   ]
  },
  {
   "cell_type": "code",
   "execution_count": 22,
   "id": "a80b6fc8",
   "metadata": {},
   "outputs": [
    {
     "data": {
      "text/plain": [
       "[<matplotlib.lines.Line2D at 0x26a14481e20>]"
      ]
     },
     "execution_count": 22,
     "metadata": {},
     "output_type": "execute_result"
    },
    {
     "data": {
      "image/png": "[encoded data removed]",
      "text/plain": [
       "<Figure size 432x288 with 1 Axes>"
      ]
     },
     "metadata": {
      "needs_background": "light"
     },
     "output_type": "display_data"
    }
   ],
   "source": [
    "# This line plot of the residuals for our model has a pattern of zig-zagging peaks and troughs.\n",
    "# This might suggest the error terms are independent. \n",
    "\n",
    "plt.plot(res.resid)"
   ]
  },
  {
   "cell_type": "code",
   "execution_count": 23,
   "id": "38e2efb3",
   "metadata": {},
   "outputs": [
    {
     "data": {
      "text/plain": [
       "1.2765690081508534"
      ]
     },
     "execution_count": 23,
     "metadata": {},
     "output_type": "execute_result"
    }
   ],
   "source": [
    "# Performing the Durbin Watson test using the statsmodels method. \n",
    "\n",
    "from statsmodels.stats.stattools import durbin_watson\n",
    "\n",
    "durbin_watson(res.resid)\n"
   ]
  },
  {
   "cell_type": "markdown",
   "id": "b0408808",
   "metadata": {},
   "source": [
    "The Durbin Watson test returns a value of approximately 1.28. This is outside the range of recommended values (1.5 - 2.5) for this test. Here we should conclude that it is not safe to asusme independence of error and autocorrelation of residuals may be a problem for our regression model. "
   ]
  },
  {
   "cell_type": "markdown",
   "id": "28dc00a6",
   "metadata": {},
   "source": [
    "\n",
    "## Leverage and Influence Tests\n",
    "\n",
    "Datapoints that have values that are very different form the majority of observations in our dataset are said to have high leverage. Influential datapoints are those that have values so extreme (outlier scores) that their removal from the dataset would cause a significant change in the estimates for the regression model coefficients. \n",
    "\n",
    "There are two tests we can use to find outlier points that may have high leverage or influence. We can use Cook's distance to assess which points are univariate outliers. These being a point that has high influence on only one variable. The Mahalanobis distance test can be used to evaluate whether any points are multivariate outliers. These would be points that have extreme or high leverage scores on more than one of our IVs. "
   ]
  },
  {
   "cell_type": "code",
   "execution_count": 24,
   "id": "38cbe2a3",
   "metadata": {},
   "outputs": [
    {
     "data": {
      "image/png": "[encoded data removed]",
      "text/plain": [
       "<Figure size 432x288 with 1 Axes>"
      ]
     },
     "metadata": {
      "needs_background": "light"
     },
     "output_type": "display_data"
    }
   ],
   "source": [
    "# Firstly, obtaining an influence plot using Cook's distance as the criterion. \n",
    "\n",
    "fig = sm.graphics.influence_plot(res, criterion=\"cooks\")\n",
    "fig.tight_layout(pad=1.0)"
   ]
  },
  {
   "cell_type": "markdown",
   "id": "3656da9c",
   "metadata": {},
   "source": [
    "In the above plot, high leverage scores are plotted along the x-axis. The fact that a number of data points are towards the higher end of the x-axis scale indicates there may be quite a few datapoints that have high leverage scores. The size of the blue dots provides an indication of their Cook's distance. Larger dots indicate a high Cook's distance, suggesting those data points are likely to be univariate outliers in our model. There are a number of these data points and we would want to investigate this further. In addition to our plot, we can use the function .get_influence() to assess the influence of each observation and compare them to the cricital Cook’s distance. "
   ]
  },
  {
   "cell_type": "code",
   "execution_count": 25,
   "id": "f10a240f",
   "metadata": {},
   "outputs": [
    {
     "name": "stdout",
     "output_type": "stream",
     "text": [
      "Critical Cooks distance: 0.125\n",
      "Int64Index([16, 17, 19, 24], dtype='int64') \n",
      " [0.34411184 0.14298998 0.18505251 0.13317629]\n"
     ]
    }
   ],
   "source": [
    "# Here I calculate Cook's distance and the critical value that indicates which scores are univariate outliers. \n",
    "# Obtain Cook's distance \n",
    "res_cooksd = res.get_influence().cooks_distance[0]\n",
    "\n",
    "# Get length of df to obtain n\n",
    "n = len(df[\"wt\"])\n",
    "\n",
    "# calculate critical d\n",
    "critical_d = 4/n\n",
    "print('Critical Cooks distance:', critical_d)\n",
    "\n",
    "# identification of potential outliers with leverage\n",
    "out_d = res_cooksd > critical_d\n",
    "\n",
    "# output potential outliers with leverage\n",
    "print(df.index[out_d], \"\\n\", \n",
    "    res_cooksd[out_d])"
   ]
  },
  {
   "cell_type": "markdown",
   "id": "3de255bd",
   "metadata": {},
   "source": [
    "The above output gives us the critical value for Cook's distance of 0.125. Any datapoints with a Cook's distance greater than this are univariate outliers. The datapoints that exceed this critical value are then provided in two lists. The first shows the index of the datapoint in the datset. The second gives the actual Cook's distance for that datapoint. Here we can see there are four datapoints that have a Cook's distance greater than the criticla value and these can be considered as univariate outliers. We would most likely want to remove these datapoints and then run the regression model again."
   ]
  },
  {
   "cell_type": "markdown",
   "id": "f36f11eb",
   "metadata": {},
   "source": [
    "Having assessed univariate outliers, we can now consider whether any of our datapoints are multivariate outliers by assessing their Mahalanobis distance against a critical value. "
   ]
  },
  {
   "cell_type": "code",
   "execution_count": 26,
   "id": "e2dc00b2",
   "metadata": {},
   "outputs": [
    {
     "data": {
      "text/html": [
       "<div>\n",
       "<style scoped>\n",
       "    .dataframe tbody tr th:only-of-type {\n",
       "        vertical-align: middle;\n",
       "    }\n",
       "\n",
       "    .dataframe tbody tr th {\n",
       "        vertical-align: top;\n",
       "    }\n",
       "\n",
       "    .dataframe thead th {\n",
       "        text-align: right;\n",
       "    }\n",
       "</style>\n",
       "<table border=\"1\" class=\"dataframe\">\n",
       "  <thead>\n",
       "    <tr style=\"text-align: right;\">\n",
       "      <th></th>\n",
       "      <th>mpg</th>\n",
       "      <th>wt</th>\n",
       "      <th>disp</th>\n",
       "    </tr>\n",
       "  </thead>\n",
       "  <tbody>\n",
       "    <tr>\n",
       "      <th>0</th>\n",
       "      <td>21.0</td>\n",
       "      <td>2.620</td>\n",
       "      <td>160.0</td>\n",
       "    </tr>\n",
       "    <tr>\n",
       "      <th>1</th>\n",
       "      <td>21.0</td>\n",
       "      <td>2.875</td>\n",
       "      <td>160.0</td>\n",
       "    </tr>\n",
       "    <tr>\n",
       "      <th>2</th>\n",
       "      <td>22.8</td>\n",
       "      <td>2.320</td>\n",
       "      <td>108.0</td>\n",
       "    </tr>\n",
       "    <tr>\n",
       "      <th>3</th>\n",
       "      <td>21.4</td>\n",
       "      <td>3.215</td>\n",
       "      <td>258.0</td>\n",
       "    </tr>\n",
       "    <tr>\n",
       "      <th>4</th>\n",
       "      <td>18.7</td>\n",
       "      <td>3.440</td>\n",
       "      <td>360.0</td>\n",
       "    </tr>\n",
       "  </tbody>\n",
       "</table>\n",
       "</div>"
      ],
      "text/plain": [
       "    mpg     wt   disp\n",
       "0  21.0  2.620  160.0\n",
       "1  21.0  2.875  160.0\n",
       "2  22.8  2.320  108.0\n",
       "3  21.4  3.215  258.0\n",
       "4  18.7  3.440  360.0"
      ]
     },
     "execution_count": 26,
     "metadata": {},
     "output_type": "execute_result"
    }
   ],
   "source": [
    "# Creating a new dataframe containing only the variables in the regression model. \n",
    "\n",
    "df_2 = df[['mpg', 'wt', 'disp']]\n",
    "\n",
    "df_2.head()"
   ]
  },
  {
   "cell_type": "code",
   "execution_count": 27,
   "id": "e9860034",
   "metadata": {},
   "outputs": [],
   "source": [
    "# Creating a function to calculate Mahalanobis distance. \n",
    "\n",
    "def mahalanobis(x=None, data=None, cov=None):\n",
    "\n",
    "    x_mu = x - np.mean(data)\n",
    "    if not cov:\n",
    "        cov = np.cov(data.values.T)\n",
    "    inv_covmat = np.linalg.inv(cov)\n",
    "    left = np.dot(x_mu, inv_covmat)\n",
    "    mahal = np.dot(left, x_mu.T)\n",
    "    return mahal.diagonal()\n",
    "\n",
    "\n"
   ]
  },
  {
   "cell_type": "code",
   "execution_count": 28,
   "id": "3dfee4b4",
   "metadata": {},
   "outputs": [
    {
     "name": "stderr",
     "output_type": "stream",
     "text": [
      "C:\\Users\\robert65\\Documents\\Anaconda\\envs\\DSFS\\lib\\site-packages\\numpy\\core\\fromnumeric.py:3472: FutureWarning: In a future version, DataFrame.mean(axis=None) will return a scalar mean over the entire DataFrame. To retain the old behavior, use 'frame.mean(axis=0)' or just 'frame.mean()'\n",
      "  return mean(axis=axis, dtype=dtype, out=out, **kwargs)\n",
      "C:\\Users\\robert65\\AppData\\Local\\Temp\\ipykernel_4872\\2712733226.py:3: SettingWithCopyWarning: \n",
      "A value is trying to be set on a copy of a slice from a DataFrame.\n",
      "Try using .loc[row_indexer,col_indexer] = value instead\n",
      "\n",
      "See the caveats in the documentation: https://pandas.pydata.org/pandas-docs/stable/user_guide/indexing.html#returning-a-view-versus-a-copy\n",
      "  df_2['mahalanobis'] = mahalanobis(x=df_2, data=df_2[['mpg', 'wt', 'disp']])\n"
     ]
    }
   ],
   "source": [
    "# Creating a new column in dataframe that contains Mahalanobis distance for each row. \n",
    "\n",
    "df_2['mahalanobis'] = mahalanobis(x=df_2, data=df_2[['mpg', 'wt', 'disp']])"
   ]
  },
  {
   "cell_type": "code",
   "execution_count": 29,
   "id": "c9b52bf3",
   "metadata": {},
   "outputs": [
    {
     "data": {
      "text/html": [
       "<div>\n",
       "<style scoped>\n",
       "    .dataframe tbody tr th:only-of-type {\n",
       "        vertical-align: middle;\n",
       "    }\n",
       "\n",
       "    .dataframe tbody tr th {\n",
       "        vertical-align: top;\n",
       "    }\n",
       "\n",
       "    .dataframe thead th {\n",
       "        text-align: right;\n",
       "    }\n",
       "</style>\n",
       "<table border=\"1\" class=\"dataframe\">\n",
       "  <thead>\n",
       "    <tr style=\"text-align: right;\">\n",
       "      <th></th>\n",
       "      <th>mpg</th>\n",
       "      <th>wt</th>\n",
       "      <th>disp</th>\n",
       "      <th>mahalanobis</th>\n",
       "    </tr>\n",
       "  </thead>\n",
       "  <tbody>\n",
       "    <tr>\n",
       "      <th>0</th>\n",
       "      <td>21.0</td>\n",
       "      <td>2.620</td>\n",
       "      <td>160.0</td>\n",
       "      <td>1.067759</td>\n",
       "    </tr>\n",
       "    <tr>\n",
       "      <th>1</th>\n",
       "      <td>21.0</td>\n",
       "      <td>2.875</td>\n",
       "      <td>160.0</td>\n",
       "      <td>0.721386</td>\n",
       "    </tr>\n",
       "    <tr>\n",
       "      <th>2</th>\n",
       "      <td>22.8</td>\n",
       "      <td>2.320</td>\n",
       "      <td>108.0</td>\n",
       "      <td>1.755352</td>\n",
       "    </tr>\n",
       "    <tr>\n",
       "      <th>3</th>\n",
       "      <td>21.4</td>\n",
       "      <td>3.215</td>\n",
       "      <td>258.0</td>\n",
       "      <td>0.633875</td>\n",
       "    </tr>\n",
       "    <tr>\n",
       "      <th>4</th>\n",
       "      <td>18.7</td>\n",
       "      <td>3.440</td>\n",
       "      <td>360.0</td>\n",
       "      <td>3.736478</td>\n",
       "    </tr>\n",
       "  </tbody>\n",
       "</table>\n",
       "</div>"
      ],
      "text/plain": [
       "    mpg     wt   disp  mahalanobis\n",
       "0  21.0  2.620  160.0     1.067759\n",
       "1  21.0  2.875  160.0     0.721386\n",
       "2  22.8  2.320  108.0     1.755352\n",
       "3  21.4  3.215  258.0     0.633875\n",
       "4  18.7  3.440  360.0     3.736478"
      ]
     },
     "execution_count": 29,
     "metadata": {},
     "output_type": "execute_result"
    }
   ],
   "source": [
    "# The mahalanobis distance for each datapoint has been added as a column to the dataframe. \n",
    "df_2.head()"
   ]
  },
  {
   "cell_type": "code",
   "execution_count": 30,
   "id": "c1cb90ed",
   "metadata": {},
   "outputs": [
    {
     "name": "stderr",
     "output_type": "stream",
     "text": [
      "C:\\Users\\robert65\\AppData\\Local\\Temp\\ipykernel_4872\\445149705.py:3: SettingWithCopyWarning: \n",
      "A value is trying to be set on a copy of a slice from a DataFrame.\n",
      "Try using .loc[row_indexer,col_indexer] = value instead\n",
      "\n",
      "See the caveats in the documentation: https://pandas.pydata.org/pandas-docs/stable/user_guide/indexing.html#returning-a-view-versus-a-copy\n",
      "  df_2['mahal_p'] = 1 - stats.chi2.cdf(df_2['mahalanobis'], 3)\n"
     ]
    }
   ],
   "source": [
    "# Calculating the p-value for each Mahalanobis distance.\n",
    "# Those with a signficant Mahalanobis distance are multivariate outliers. \n",
    "df_2['mahal_p'] = 1 - stats.chi2.cdf(df_2['mahalanobis'], 3)"
   ]
  },
  {
   "cell_type": "code",
   "execution_count": 31,
   "id": "2505fb11",
   "metadata": {},
   "outputs": [
    {
     "data": {
      "text/html": [
       "<div>\n",
       "<style scoped>\n",
       "    .dataframe tbody tr th:only-of-type {\n",
       "        vertical-align: middle;\n",
       "    }\n",
       "\n",
       "    .dataframe tbody tr th {\n",
       "        vertical-align: top;\n",
       "    }\n",
       "\n",
       "    .dataframe thead th {\n",
       "        text-align: right;\n",
       "    }\n",
       "</style>\n",
       "<table border=\"1\" class=\"dataframe\">\n",
       "  <thead>\n",
       "    <tr style=\"text-align: right;\">\n",
       "      <th></th>\n",
       "      <th>mpg</th>\n",
       "      <th>wt</th>\n",
       "      <th>disp</th>\n",
       "      <th>mahalanobis</th>\n",
       "      <th>mahal_p</th>\n",
       "    </tr>\n",
       "  </thead>\n",
       "  <tbody>\n",
       "    <tr>\n",
       "      <th>0</th>\n",
       "      <td>21.0</td>\n",
       "      <td>2.620</td>\n",
       "      <td>160.0</td>\n",
       "      <td>1.067759</td>\n",
       "      <td>0.784862</td>\n",
       "    </tr>\n",
       "    <tr>\n",
       "      <th>1</th>\n",
       "      <td>21.0</td>\n",
       "      <td>2.875</td>\n",
       "      <td>160.0</td>\n",
       "      <td>0.721386</td>\n",
       "      <td>0.868163</td>\n",
       "    </tr>\n",
       "    <tr>\n",
       "      <th>2</th>\n",
       "      <td>22.8</td>\n",
       "      <td>2.320</td>\n",
       "      <td>108.0</td>\n",
       "      <td>1.755352</td>\n",
       "      <td>0.624699</td>\n",
       "    </tr>\n",
       "    <tr>\n",
       "      <th>3</th>\n",
       "      <td>21.4</td>\n",
       "      <td>3.215</td>\n",
       "      <td>258.0</td>\n",
       "      <td>0.633875</td>\n",
       "      <td>0.888635</td>\n",
       "    </tr>\n",
       "    <tr>\n",
       "      <th>4</th>\n",
       "      <td>18.7</td>\n",
       "      <td>3.440</td>\n",
       "      <td>360.0</td>\n",
       "      <td>3.736478</td>\n",
       "      <td>0.291362</td>\n",
       "    </tr>\n",
       "    <tr>\n",
       "      <th>5</th>\n",
       "      <td>18.1</td>\n",
       "      <td>3.460</td>\n",
       "      <td>225.0</td>\n",
       "      <td>0.602745</td>\n",
       "      <td>0.895804</td>\n",
       "    </tr>\n",
       "    <tr>\n",
       "      <th>6</th>\n",
       "      <td>14.3</td>\n",
       "      <td>3.570</td>\n",
       "      <td>360.0</td>\n",
       "      <td>3.276020</td>\n",
       "      <td>0.350994</td>\n",
       "    </tr>\n",
       "    <tr>\n",
       "      <th>7</th>\n",
       "      <td>24.4</td>\n",
       "      <td>3.190</td>\n",
       "      <td>146.7</td>\n",
       "      <td>2.953977</td>\n",
       "      <td>0.398776</td>\n",
       "    </tr>\n",
       "    <tr>\n",
       "      <th>8</th>\n",
       "      <td>22.8</td>\n",
       "      <td>3.150</td>\n",
       "      <td>140.8</td>\n",
       "      <td>2.192169</td>\n",
       "      <td>0.533493</td>\n",
       "    </tr>\n",
       "    <tr>\n",
       "      <th>9</th>\n",
       "      <td>19.2</td>\n",
       "      <td>3.440</td>\n",
       "      <td>167.6</td>\n",
       "      <td>2.645604</td>\n",
       "      <td>0.449551</td>\n",
       "    </tr>\n",
       "    <tr>\n",
       "      <th>10</th>\n",
       "      <td>17.8</td>\n",
       "      <td>3.440</td>\n",
       "      <td>167.6</td>\n",
       "      <td>3.336341</td>\n",
       "      <td>0.342617</td>\n",
       "    </tr>\n",
       "    <tr>\n",
       "      <th>11</th>\n",
       "      <td>16.4</td>\n",
       "      <td>4.070</td>\n",
       "      <td>275.8</td>\n",
       "      <td>1.555245</td>\n",
       "      <td>0.669580</td>\n",
       "    </tr>\n",
       "    <tr>\n",
       "      <th>12</th>\n",
       "      <td>17.3</td>\n",
       "      <td>3.730</td>\n",
       "      <td>275.8</td>\n",
       "      <td>0.332847</td>\n",
       "      <td>0.953737</td>\n",
       "    </tr>\n",
       "    <tr>\n",
       "      <th>13</th>\n",
       "      <td>15.2</td>\n",
       "      <td>3.780</td>\n",
       "      <td>275.8</td>\n",
       "      <td>1.044485</td>\n",
       "      <td>0.790490</td>\n",
       "    </tr>\n",
       "    <tr>\n",
       "      <th>14</th>\n",
       "      <td>10.4</td>\n",
       "      <td>5.250</td>\n",
       "      <td>472.0</td>\n",
       "      <td>4.610572</td>\n",
       "      <td>0.202637</td>\n",
       "    </tr>\n",
       "    <tr>\n",
       "      <th>15</th>\n",
       "      <td>10.4</td>\n",
       "      <td>5.424</td>\n",
       "      <td>460.0</td>\n",
       "      <td>5.589563</td>\n",
       "      <td>0.133379</td>\n",
       "    </tr>\n",
       "    <tr>\n",
       "      <th>16</th>\n",
       "      <td>14.7</td>\n",
       "      <td>5.345</td>\n",
       "      <td>440.0</td>\n",
       "      <td>8.737359</td>\n",
       "      <td>0.032995</td>\n",
       "    </tr>\n",
       "    <tr>\n",
       "      <th>17</th>\n",
       "      <td>32.4</td>\n",
       "      <td>2.200</td>\n",
       "      <td>78.7</td>\n",
       "      <td>6.356453</td>\n",
       "      <td>0.095499</td>\n",
       "    </tr>\n",
       "    <tr>\n",
       "      <th>18</th>\n",
       "      <td>30.4</td>\n",
       "      <td>1.615</td>\n",
       "      <td>75.7</td>\n",
       "      <td>3.481163</td>\n",
       "      <td>0.323213</td>\n",
       "    </tr>\n",
       "    <tr>\n",
       "      <th>19</th>\n",
       "      <td>33.9</td>\n",
       "      <td>1.835</td>\n",
       "      <td>71.1</td>\n",
       "      <td>7.065714</td>\n",
       "      <td>0.069832</td>\n",
       "    </tr>\n",
       "    <tr>\n",
       "      <th>20</th>\n",
       "      <td>21.5</td>\n",
       "      <td>2.465</td>\n",
       "      <td>120.1</td>\n",
       "      <td>1.985290</td>\n",
       "      <td>0.575466</td>\n",
       "    </tr>\n",
       "    <tr>\n",
       "      <th>21</th>\n",
       "      <td>15.5</td>\n",
       "      <td>3.520</td>\n",
       "      <td>318.0</td>\n",
       "      <td>1.485211</td>\n",
       "      <td>0.685688</td>\n",
       "    </tr>\n",
       "    <tr>\n",
       "      <th>22</th>\n",
       "      <td>15.2</td>\n",
       "      <td>3.435</td>\n",
       "      <td>304.0</td>\n",
       "      <td>1.811608</td>\n",
       "      <td>0.612412</td>\n",
       "    </tr>\n",
       "    <tr>\n",
       "      <th>23</th>\n",
       "      <td>13.3</td>\n",
       "      <td>3.840</td>\n",
       "      <td>350.0</td>\n",
       "      <td>1.993989</td>\n",
       "      <td>0.573655</td>\n",
       "    </tr>\n",
       "    <tr>\n",
       "      <th>24</th>\n",
       "      <td>19.2</td>\n",
       "      <td>3.845</td>\n",
       "      <td>400.0</td>\n",
       "      <td>5.639253</td>\n",
       "      <td>0.130543</td>\n",
       "    </tr>\n",
       "    <tr>\n",
       "      <th>25</th>\n",
       "      <td>27.3</td>\n",
       "      <td>1.935</td>\n",
       "      <td>79.0</td>\n",
       "      <td>1.740941</td>\n",
       "      <td>0.627870</td>\n",
       "    </tr>\n",
       "    <tr>\n",
       "      <th>26</th>\n",
       "      <td>26.0</td>\n",
       "      <td>2.140</td>\n",
       "      <td>120.3</td>\n",
       "      <td>1.262412</td>\n",
       "      <td>0.738078</td>\n",
       "    </tr>\n",
       "    <tr>\n",
       "      <th>27</th>\n",
       "      <td>30.4</td>\n",
       "      <td>1.513</td>\n",
       "      <td>95.1</td>\n",
       "      <td>4.606862</td>\n",
       "      <td>0.202954</td>\n",
       "    </tr>\n",
       "    <tr>\n",
       "      <th>28</th>\n",
       "      <td>15.8</td>\n",
       "      <td>3.170</td>\n",
       "      <td>351.0</td>\n",
       "      <td>5.532372</td>\n",
       "      <td>0.136715</td>\n",
       "    </tr>\n",
       "    <tr>\n",
       "      <th>29</th>\n",
       "      <td>19.7</td>\n",
       "      <td>2.770</td>\n",
       "      <td>145.0</td>\n",
       "      <td>2.055176</td>\n",
       "      <td>0.561034</td>\n",
       "    </tr>\n",
       "    <tr>\n",
       "      <th>30</th>\n",
       "      <td>15.0</td>\n",
       "      <td>3.570</td>\n",
       "      <td>301.0</td>\n",
       "      <td>1.309381</td>\n",
       "      <td>0.726907</td>\n",
       "    </tr>\n",
       "    <tr>\n",
       "      <th>31</th>\n",
       "      <td>21.4</td>\n",
       "      <td>2.780</td>\n",
       "      <td>121.0</td>\n",
       "      <td>1.882400</td>\n",
       "      <td>0.597170</td>\n",
       "    </tr>\n",
       "  </tbody>\n",
       "</table>\n",
       "</div>"
      ],
      "text/plain": [
       "     mpg     wt   disp  mahalanobis   mahal_p\n",
       "0   21.0  2.620  160.0     1.067759  0.784862\n",
       "1   21.0  2.875  160.0     0.721386  0.868163\n",
       "2   22.8  2.320  108.0     1.755352  0.624699\n",
       "3   21.4  3.215  258.0     0.633875  0.888635\n",
       "4   18.7  3.440  360.0     3.736478  0.291362\n",
       "5   18.1  3.460  225.0     0.602745  0.895804\n",
       "6   14.3  3.570  360.0     3.276020  0.350994\n",
       "7   24.4  3.190  146.7     2.953977  0.398776\n",
       "8   22.8  3.150  140.8     2.192169  0.533493\n",
       "9   19.2  3.440  167.6     2.645604  0.449551\n",
       "10  17.8  3.440  167.6     3.336341  0.342617\n",
       "11  16.4  4.070  275.8     1.555245  0.669580\n",
       "12  17.3  3.730  275.8     0.332847  0.953737\n",
       "13  15.2  3.780  275.8     1.044485  0.790490\n",
       "14  10.4  5.250  472.0     4.610572  0.202637\n",
       "15  10.4  5.424  460.0     5.589563  0.133379\n",
       "16  14.7  5.345  440.0     8.737359  0.032995\n",
       "17  32.4  2.200   78.7     6.356453  0.095499\n",
       "18  30.4  1.615   75.7     3.481163  0.323213\n",
       "19  33.9  1.835   71.1     7.065714  0.069832\n",
       "20  21.5  2.465  120.1     1.985290  0.575466\n",
       "21  15.5  3.520  318.0     1.485211  0.685688\n",
       "22  15.2  3.435  304.0     1.811608  0.612412\n",
       "23  13.3  3.840  350.0     1.993989  0.573655\n",
       "24  19.2  3.845  400.0     5.639253  0.130543\n",
       "25  27.3  1.935   79.0     1.740941  0.627870\n",
       "26  26.0  2.140  120.3     1.262412  0.738078\n",
       "27  30.4  1.513   95.1     4.606862  0.202954\n",
       "28  15.8  3.170  351.0     5.532372  0.136715\n",
       "29  19.7  2.770  145.0     2.055176  0.561034\n",
       "30  15.0  3.570  301.0     1.309381  0.726907\n",
       "31  21.4  2.780  121.0     1.882400  0.597170"
      ]
     },
     "execution_count": 31,
     "metadata": {},
     "output_type": "execute_result"
    }
   ],
   "source": [
    "df_2"
   ]
  },
  {
   "cell_type": "markdown",
   "id": "8628fccd",
   "metadata": {},
   "source": [
    "In the above cells, I have created a function to calculate the Mahalanobis distance for each of our datapoints. I have then used the scipy chi-squared distribution Cumulative Distribution Function (cdf) to calculate the p-value for each Mahalanobis distance. Those distances that reach a statistically significant p-value (p < 0.05) can be considered multivariate outliers. As we only have 32 observations in this dataset we can inspec the whole dataset without filtering for p-values below 0.05. It appears that we have only one multivariate outlier, the data point at index 16. This has a Mahalanobis distance of 8.74 and an associated p-value of 0.03. "
   ]
  },
  {
   "cell_type": "markdown",
   "id": "0ec45fc8",
   "metadata": {},
   "source": [
    "## Summary:\n",
    "\n",
    "In this notebook I have covered the different data assumptions that need to be met in order to conduct a simple linear or multiple regression analysis. I have illustrated how to check the assumptions for regression using visualisation and statistical tests, with the example of a multiple regression model on a small dataset. \n",
    "\n",
    "Key assumptions that need to be checked are:\n",
    "\n",
    "- Normality of Residual\n",
    "- Linearity\n",
    "- Multicollinearity\n",
    "- Homoscedasticity\n",
    "- Independence of errors (no autocorrelation of errors)\n",
    "- Leverage and influential datapoints"
   ]
  }
 ],
 "metadata": {
  "kernelspec": {
   "display_name": "Python 3 (ipykernel)",
   "language": "python",
   "name": "python3"
  },
  "language_info": {
   "codemirror_mode": {
    "name": "ipython",
    "version": 3
   },
   "file_extension": ".py",
   "mimetype": "text/x-python",
   "name": "python",
   "nbconvert_exporter": "python",
   "pygments_lexer": "ipython3",
   "version": "3.9.12"
  }
 },
 "nbformat": 4,
 "nbformat_minor": 5
}
