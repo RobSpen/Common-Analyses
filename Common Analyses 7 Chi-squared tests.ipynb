{
 "cells": [
  {
   "cell_type": "markdown",
   "id": "12e5cbc5",
   "metadata": {},
   "source": [
    "# Chi-squared tests \n",
    "\n",
    "## Chi-squared tests for goodness of fit and tests of independence"
   ]
  },
  {
   "cell_type": "markdown",
   "id": "ae41ce29",
   "metadata": {},
   "source": [
    "Tests dealing with categorical data are based on variable counts and not the actual value of the variable being measured."
   ]
  },
  {
   "cell_type": "markdown",
   "id": "718f7e53",
   "metadata": {},
   "source": [
    "## Chi-squared goodness-of-fit test\n",
    "\n",
    "### The Chi-squared goodness-of-fit test is an analog of the one-sample t-test. It tests to see whether the distribution of sample categorical data matches an expected distribution."
   ]
  },
  {
   "cell_type": "markdown",
   "id": "8057b8b9",
   "metadata": {},
   "source": [
    "You could use the Chi-squared goodness-of-fit test to assess whether the demographics of a sample (e.g. school, town, region) differ/ or match that of the general population. "
   ]
  },
  {
   "cell_type": "code",
   "execution_count": 1,
   "id": "ae620e3d",
   "metadata": {},
   "outputs": [],
   "source": [
    "# Starting with software library imports:\n",
    "\n",
    "import numpy as np\n",
    "import pandas as pd\n",
    "import scipy.stats as stats"
   ]
  },
  {
   "cell_type": "code",
   "execution_count": 2,
   "id": "0734f822",
   "metadata": {},
   "outputs": [
    {
     "name": "stdout",
     "output_type": "stream",
     "text": [
      "National\n",
      "col_0   count\n",
      "0            \n",
      "asian   15000\n",
      "black   50000\n",
      "medit   60000\n",
      "other   35000\n",
      "white  100000\n",
      " \n",
      "Yorkshire\n",
      "col_0  count\n",
      "0           \n",
      "asian     75\n",
      "black    250\n",
      "medit    300\n",
      "other    150\n",
      "white    600\n"
     ]
    }
   ],
   "source": [
    "# Generating some made-up example data for the demographics of a county compared to the rest of the UK, to use for analyses.\n",
    "\n",
    "national = pd.DataFrame([\"white\"] * 100000 + [\"medit\"] * 60000 +\\\n",
    "                        [\"black\"] * 50000 + [\"asian\"] * 15000 + [\"other\"] * 35000)\n",
    "\n",
    "yorkshire = pd.DataFrame([\"white\"] * 600 + [\"medit\"] * 300 +\\\n",
    "                        [\"black\"] * 250 + [\"asian\"] * 75 + [\"other\"] * 150)\n",
    "\n",
    "national_table = pd.crosstab(index = national[0], columns = \"count\")\n",
    "yorks_table = pd.crosstab(index = yorkshire[0], columns = \"count\")\n",
    "\n",
    "print(\"National\")\n",
    "print(national_table)\n",
    "print(\" \")\n",
    "print(\"Yorkshire\")\n",
    "print(yorks_table)\n",
    "\n",
    "# This could be a break down of ethicity of voters nationally and in the county of Yorkshire. \n",
    "# The question we are addressing with a goodness-of-fit model is: are the counts/ distribution across categories the\n",
    "# same for Yorkshire as the national population. "
   ]
  },
  {
   "cell_type": "markdown",
   "id": "d52045c7",
   "metadata": {},
   "source": [
    "Chi-squared analysis is based on the chi-squared statistic. \n",
    "\n",
    "This is calculated by: X^2 = sum((observed - expected)^2 / expected)\n",
    "\n",
    "In the formula, observed is the observed counts for each category, expected is expected count based on the distribution of the population for the corresponding category. "
   ]
  },
  {
   "cell_type": "code",
   "execution_count": 3,
   "id": "a5d5b9ea",
   "metadata": {},
   "outputs": [
    {
     "name": "stdout",
     "output_type": "stream",
     "text": [
      "col_0     count\n",
      "0              \n",
      "asian  0.057692\n",
      "black  0.192308\n",
      "medit  0.230769\n",
      "other  0.134615\n",
      "white  0.384615\n",
      "------\n",
      "col_0\n",
      "count    18.194805\n",
      "dtype: float64\n"
     ]
    }
   ],
   "source": [
    "# Here is a manual way to calculate the chi-squared statistic for this dataset:\n",
    "\n",
    "observed = yorks_table\n",
    "\n",
    "national_ratios = national_table / len(national) # Get the population ratios. \n",
    "\n",
    "print(national_ratios)\n",
    "\n",
    "expected = national_ratios * len(yorkshire)  # Gives us the expected counts. \n",
    "\n",
    "chi_squared_stat = (((observed - expected)**2)/ expected).sum()\n",
    "print('------')\n",
    "print(chi_squared_stat)"
   ]
  },
  {
   "cell_type": "markdown",
   "id": "5a9acdf0",
   "metadata": {},
   "source": [
    "## To assess whether our Chi-squared test statistic is significant we have to compare it to a critical value based on the Chi-squared distribution.\n",
    "\n",
    "### Note: The Chi-squared test assumes that the expected counts are five or more in 80% of cells and no cell should have an expected count of less than one.\n",
    "\n",
    "#### We can use the scipy library to calculate our critical value and the p-value for this test."
   ]
  },
  {
   "cell_type": "code",
   "execution_count": 4,
   "id": "6d9a6e66",
   "metadata": {},
   "outputs": [
    {
     "name": "stdout",
     "output_type": "stream",
     "text": [
      "Critical Value:\n",
      "9.487729036781154\n",
      "P value:\n",
      "[0.00113047]\n"
     ]
    }
   ],
   "source": [
    "# Calculating the critical value using a 95% confidence level:\n",
    "\n",
    "crit = stats.chi2.ppf(q = 0.95, df = 4) # Find the critical value for 95% CI's and df is number of categories - 1. \n",
    "# Note: can use quantile of 0.95 as chi test is one-tailed. \n",
    "print(\"Critical Value:\")\n",
    "print(crit)\n",
    "\n",
    "p_value = 1 - stats.chi2.cdf(x = chi_squared_stat, df = 4) # Find the p-value. \n",
    "\n",
    "print(\"P value:\")\n",
    "print(p_value)"
   ]
  },
  {
   "cell_type": "markdown",
   "id": "19ccf301",
   "metadata": {},
   "source": [
    "Since the Chi-squared statistic above exceeds the critical value we can reject the null hypothesis that the two distributions are the same and accept the alternative hypothesis that they are different and the distribution of ethnicity in Yorkshire differs from the distribution nationally. "
   ]
  },
  {
   "cell_type": "markdown",
   "id": "d9e80f36",
   "metadata": {},
   "source": [
    "#### We can carry out a Chi-squared goodness-of-fit test automatically using the scipy function scipy.stats.chisquare():"
   ]
  },
  {
   "cell_type": "code",
   "execution_count": 5,
   "id": "da20b394",
   "metadata": {},
   "outputs": [
    {
     "data": {
      "text/plain": [
       "Power_divergenceResult(statistic=array([18.19480519]), pvalue=array([0.00113047]))"
      ]
     },
     "execution_count": 5,
     "metadata": {},
     "output_type": "execute_result"
    }
   ],
   "source": [
    "stats.chisquare(f_obs = observed, f_exp = expected) # These are our arrays of observed and expected counts. \n"
   ]
  },
  {
   "cell_type": "markdown",
   "id": "53aab494",
   "metadata": {},
   "source": [
    "The test results agree with the results of the Chi-squared test we conducted manually. "
   ]
  },
  {
   "cell_type": "markdown",
   "id": "4d0df24d",
   "metadata": {},
   "source": [
    "# Chi-squared test of Independence"
   ]
  },
  {
   "cell_type": "markdown",
   "id": "276fdd64",
   "metadata": {},
   "source": [
    "Independence is a key concept in probability where knowing the value of one variable tells you nothing about the values of another variable. The Chi-squared test of independence tells you whether two variables are independent of each other. \n",
    "\n",
    "If two variables are significantly associated with each other (we get a significant Chi-square result) then they are not independent. For example, we may want to assess whether political affiliations vary based on demographic factors, such as ethicnicty or sex. If we get a significant Chi-square result, then these variables are significantly associated and not independent of each other.    "
   ]
  },
  {
   "cell_type": "code",
   "execution_count": 6,
   "id": "213ccbd3",
   "metadata": {},
   "outputs": [
    {
     "data": {
      "text/html": [
       "<div>\n",
       "<style scoped>\n",
       "    .dataframe tbody tr th:only-of-type {\n",
       "        vertical-align: middle;\n",
       "    }\n",
       "\n",
       "    .dataframe tbody tr th {\n",
       "        vertical-align: top;\n",
       "    }\n",
       "\n",
       "    .dataframe thead th {\n",
       "        text-align: right;\n",
       "    }\n",
       "</style>\n",
       "<table border=\"1\" class=\"dataframe\">\n",
       "  <thead>\n",
       "    <tr style=\"text-align: right;\">\n",
       "      <th></th>\n",
       "      <th>labour</th>\n",
       "      <th>liberal</th>\n",
       "      <th>conservative</th>\n",
       "      <th>row_total</th>\n",
       "    </tr>\n",
       "  </thead>\n",
       "  <tbody>\n",
       "    <tr>\n",
       "      <th>asian</th>\n",
       "      <td>32</td>\n",
       "      <td>21</td>\n",
       "      <td>7</td>\n",
       "      <td>60</td>\n",
       "    </tr>\n",
       "    <tr>\n",
       "      <th>black</th>\n",
       "      <td>64</td>\n",
       "      <td>65</td>\n",
       "      <td>25</td>\n",
       "      <td>154</td>\n",
       "    </tr>\n",
       "    <tr>\n",
       "      <th>medit</th>\n",
       "      <td>94</td>\n",
       "      <td>107</td>\n",
       "      <td>50</td>\n",
       "      <td>251</td>\n",
       "    </tr>\n",
       "    <tr>\n",
       "      <th>other</th>\n",
       "      <td>15</td>\n",
       "      <td>15</td>\n",
       "      <td>8</td>\n",
       "      <td>38</td>\n",
       "    </tr>\n",
       "    <tr>\n",
       "      <th>white</th>\n",
       "      <td>212</td>\n",
       "      <td>189</td>\n",
       "      <td>96</td>\n",
       "      <td>497</td>\n",
       "    </tr>\n",
       "    <tr>\n",
       "      <th>col_total</th>\n",
       "      <td>417</td>\n",
       "      <td>397</td>\n",
       "      <td>186</td>\n",
       "      <td>1000</td>\n",
       "    </tr>\n",
       "  </tbody>\n",
       "</table>\n",
       "</div>"
      ],
      "text/plain": [
       "           labour  liberal  conservative  row_total\n",
       "asian          32       21             7         60\n",
       "black          64       65            25        154\n",
       "medit          94      107            50        251\n",
       "other          15       15             8         38\n",
       "white         212      189            96        497\n",
       "col_total     417      397           186       1000"
      ]
     },
     "execution_count": 6,
     "metadata": {},
     "output_type": "execute_result"
    }
   ],
   "source": [
    "# Generating some simulated voter demographic information to assess independence using Chi-squared. \n",
    "\n",
    "np.random.seed(10)\n",
    "\n",
    "# sample data randomly at fixed probabilities\n",
    "\n",
    "voter_ethnic = np.random.choice(a = [\"asian\", \"black\", \"medit\", \"other\", \"white\"],\n",
    "                               p = [0.05, 0.15, 0.25, 0.05, 0.5], \n",
    "                               size = 1000)\n",
    "\n",
    "# sample data randomly at fixed probabilities\n",
    "\n",
    "voter_party = np.random.choice(a = [\"labour\", \"liberal\", \"conservative\"], \n",
    "                              p = [0.4, 0.2, 0.4], \n",
    "                              size = 1000)\n",
    "\n",
    "voters = pd.DataFrame({\"Ethnicity\": voter_ethnic, \"Party\": voter_party})\n",
    "\n",
    "voter_tab = pd.crosstab(voters.Ethnicity, voters.Party, margins = True)\n",
    "\n",
    "voter_tab.columns = [\"labour\", \"liberal\", \"conservative\", \"row_total\"]\n",
    "voter_tab.index = [\"asian\", \"black\", \"medit\", \"other\", \"white\", \"col_total\"]\n",
    "\n",
    "observed = voter_tab.iloc[0:5, 0:3] # Gives the cross tab without row and column totals (used later). \n",
    "\n",
    "voter_tab"
   ]
  },
  {
   "cell_type": "markdown",
   "id": "cfcdcd64",
   "metadata": {},
   "source": [
    "For a Chi-squared test of independence we use the same formula that we used for a goodness-of-fit test. The main difference is that we calculate the expected counts in a 2-dimensional table instead of a 1-dimensional table. \n",
    "To get the expected count for a cell we multiply the row total by the column total and then divide by the total number of observations. \n",
    "We can get the expected counts for all cells in a table by taking the row and column totals, performing an outer product on them with the np.outer() function and dividing by the number of observations.  "
   ]
  },
  {
   "cell_type": "code",
   "execution_count": 7,
   "id": "277f36a5",
   "metadata": {},
   "outputs": [
    {
     "data": {
      "text/html": [
       "<div>\n",
       "<style scoped>\n",
       "    .dataframe tbody tr th:only-of-type {\n",
       "        vertical-align: middle;\n",
       "    }\n",
       "\n",
       "    .dataframe tbody tr th {\n",
       "        vertical-align: top;\n",
       "    }\n",
       "\n",
       "    .dataframe thead th {\n",
       "        text-align: right;\n",
       "    }\n",
       "</style>\n",
       "<table border=\"1\" class=\"dataframe\">\n",
       "  <thead>\n",
       "    <tr style=\"text-align: right;\">\n",
       "      <th></th>\n",
       "      <th>labour</th>\n",
       "      <th>liberal</th>\n",
       "      <th>conservative</th>\n",
       "    </tr>\n",
       "  </thead>\n",
       "  <tbody>\n",
       "    <tr>\n",
       "      <th>asian</th>\n",
       "      <td>25.020</td>\n",
       "      <td>23.820</td>\n",
       "      <td>11.160</td>\n",
       "    </tr>\n",
       "    <tr>\n",
       "      <th>black</th>\n",
       "      <td>64.218</td>\n",
       "      <td>61.138</td>\n",
       "      <td>28.644</td>\n",
       "    </tr>\n",
       "    <tr>\n",
       "      <th>medit</th>\n",
       "      <td>104.667</td>\n",
       "      <td>99.647</td>\n",
       "      <td>46.686</td>\n",
       "    </tr>\n",
       "    <tr>\n",
       "      <th>other</th>\n",
       "      <td>15.846</td>\n",
       "      <td>15.086</td>\n",
       "      <td>7.068</td>\n",
       "    </tr>\n",
       "    <tr>\n",
       "      <th>white</th>\n",
       "      <td>207.249</td>\n",
       "      <td>197.309</td>\n",
       "      <td>92.442</td>\n",
       "    </tr>\n",
       "  </tbody>\n",
       "</table>\n",
       "</div>"
      ],
      "text/plain": [
       "        labour  liberal  conservative\n",
       "asian   25.020   23.820        11.160\n",
       "black   64.218   61.138        28.644\n",
       "medit  104.667   99.647        46.686\n",
       "other   15.846   15.086         7.068\n",
       "white  207.249  197.309        92.442"
      ]
     },
     "execution_count": 7,
     "metadata": {},
     "output_type": "execute_result"
    }
   ],
   "source": [
    "# Calculating expected counts and creating an new dataframe showing those expected counts:\n",
    "\n",
    "expected = np.outer(voter_tab[\"row_total\"][0:5], voter_tab.loc[\"col_total\"][0:3]) / 1000\n",
    "\n",
    "expected = pd.DataFrame(expected)\n",
    "\n",
    "expected.columns = [\"labour\", \"liberal\", \"conservative\"]\n",
    "expected.index = [\"asian\", \"black\", \"medit\", \"other\", \"white\"]\n",
    "\n",
    "expected"
   ]
  },
  {
   "cell_type": "code",
   "execution_count": 8,
   "id": "0b05cae9",
   "metadata": {},
   "outputs": [
    {
     "name": "stdout",
     "output_type": "stream",
     "text": [
      "7.169321280162059\n"
     ]
    }
   ],
   "source": [
    "# Calculating the Chi-squared statistic:\n",
    "\n",
    "chi_square_stat = (((observed - expected)**2)/ expected).sum().sum() # As this is a 2-dimensional table we run .sum() twice.\n",
    "# This gives us the column sums the first time and then adds the column sums the second time. \n",
    "\n",
    "print(chi_square_stat)"
   ]
  },
  {
   "cell_type": "code",
   "execution_count": 9,
   "id": "5daf1c81",
   "metadata": {},
   "outputs": [
    {
     "name": "stdout",
     "output_type": "stream",
     "text": [
      "Critical Value\n",
      "15.50731305586545\n",
      "P Value\n",
      "0.518479392948842\n"
     ]
    }
   ],
   "source": [
    "crit = stats.chi2.ppf(q = 0.95, df = 8) # Find the critical value for 95% CI. \n",
    "# df for a 2-dimensional contingency table is calculated as: df = (rows-1)*(cols-1)\n",
    "\n",
    "print(\"Critical Value\")\n",
    "print(crit)\n",
    "\n",
    "p_value = 1 - stats.chi2.cdf(x = chi_square_stat, df = 8)\n",
    "\n",
    "print(\"P Value\")\n",
    "print(p_value)"
   ]
  },
  {
   "cell_type": "markdown",
   "id": "f943f1a3",
   "metadata": {},
   "source": [
    "We can also run a Chi-squared test of independence using scipy as shown below:"
   ]
  },
  {
   "cell_type": "code",
   "execution_count": 10,
   "id": "e4bfb466",
   "metadata": {},
   "outputs": [
    {
     "data": {
      "text/plain": [
       "(7.169321280162059,\n",
       " 0.518479392948842,\n",
       " 8,\n",
       " array([[ 25.02 ,  23.82 ,  11.16 ],\n",
       "        [ 64.218,  61.138,  28.644],\n",
       "        [104.667,  99.647,  46.686],\n",
       "        [ 15.846,  15.086,   7.068],\n",
       "        [207.249, 197.309,  92.442]]))"
      ]
     },
     "execution_count": 10,
     "metadata": {},
     "output_type": "execute_result"
    }
   ],
   "source": [
    "# Here we only need to pass in our table of observed counts and scipy will work out the expected counts and conduct the test.\n",
    "\n",
    "stats.chi2_contingency(observed = observed)\n",
    "\n",
    "# Note the output gives us our Chi-squared test statistic, the p-vlaue and an array of expected counts."
   ]
  },
  {
   "cell_type": "markdown",
   "id": "6c6a5f8c",
   "metadata": {},
   "source": [
    "The above result matches our results obtained manually.\n",
    "\n",
    "### In summary, the non-significant test indicates that the variables are not associated and we fail to reject the null hypothesis that they are independent."
   ]
  },
  {
   "cell_type": "markdown",
   "id": "8f15ac8d",
   "metadata": {},
   "source": [
    "# Chi-squared test of independence on a real dataset. \n",
    "\n"
   ]
  },
  {
   "cell_type": "code",
   "execution_count": 11,
   "id": "3c01c263",
   "metadata": {},
   "outputs": [
    {
     "data": {
      "text/html": [
       "<div>\n",
       "<style scoped>\n",
       "    .dataframe tbody tr th:only-of-type {\n",
       "        vertical-align: middle;\n",
       "    }\n",
       "\n",
       "    .dataframe tbody tr th {\n",
       "        vertical-align: top;\n",
       "    }\n",
       "\n",
       "    .dataframe thead th {\n",
       "        text-align: right;\n",
       "    }\n",
       "</style>\n",
       "<table border=\"1\" class=\"dataframe\">\n",
       "  <thead>\n",
       "    <tr style=\"text-align: right;\">\n",
       "      <th></th>\n",
       "      <th>timedrs</th>\n",
       "      <th>phyheal</th>\n",
       "      <th>menheal</th>\n",
       "      <th>stress</th>\n",
       "      <th>religion</th>\n",
       "      <th>race</th>\n",
       "    </tr>\n",
       "  </thead>\n",
       "  <tbody>\n",
       "    <tr>\n",
       "      <th>0</th>\n",
       "      <td>1</td>\n",
       "      <td>5</td>\n",
       "      <td>8</td>\n",
       "      <td>265</td>\n",
       "      <td>3</td>\n",
       "      <td>1</td>\n",
       "    </tr>\n",
       "    <tr>\n",
       "      <th>1</th>\n",
       "      <td>3</td>\n",
       "      <td>4</td>\n",
       "      <td>6</td>\n",
       "      <td>415</td>\n",
       "      <td>3</td>\n",
       "      <td>1</td>\n",
       "    </tr>\n",
       "    <tr>\n",
       "      <th>2</th>\n",
       "      <td>0</td>\n",
       "      <td>3</td>\n",
       "      <td>4</td>\n",
       "      <td>92</td>\n",
       "      <td>2</td>\n",
       "      <td>1</td>\n",
       "    </tr>\n",
       "    <tr>\n",
       "      <th>3</th>\n",
       "      <td>13</td>\n",
       "      <td>2</td>\n",
       "      <td>2</td>\n",
       "      <td>241</td>\n",
       "      <td>1</td>\n",
       "      <td>1</td>\n",
       "    </tr>\n",
       "    <tr>\n",
       "      <th>4</th>\n",
       "      <td>15</td>\n",
       "      <td>3</td>\n",
       "      <td>6</td>\n",
       "      <td>86</td>\n",
       "      <td>4</td>\n",
       "      <td>1</td>\n",
       "    </tr>\n",
       "  </tbody>\n",
       "</table>\n",
       "</div>"
      ],
      "text/plain": [
       "   timedrs  phyheal  menheal  stress  religion  race\n",
       "0        1        5        8     265         3     1\n",
       "1        3        4        6     415         3     1\n",
       "2        0        3        4      92         2     1\n",
       "3       13        2        2     241         1     1\n",
       "4       15        3        6      86         4     1"
      ]
     },
     "execution_count": 11,
     "metadata": {},
     "output_type": "execute_result"
    }
   ],
   "source": [
    "# Importing the health dataset to use for analysis:\n",
    "\n",
    "health = pd.read_csv(\"health.csv\")\n",
    "\n",
    "health.head()"
   ]
  },
  {
   "cell_type": "code",
   "execution_count": 12,
   "id": "d0ccd074",
   "metadata": {},
   "outputs": [
    {
     "data": {
      "text/plain": [
       "timedrs     int64\n",
       "phyheal     int64\n",
       "menheal     int64\n",
       "stress      int64\n",
       "religion    int64\n",
       "race        int64\n",
       "dtype: object"
      ]
     },
     "execution_count": 12,
     "metadata": {},
     "output_type": "execute_result"
    }
   ],
   "source": [
    "health.dtypes"
   ]
  },
  {
   "cell_type": "code",
   "execution_count": 13,
   "id": "de5a021c",
   "metadata": {},
   "outputs": [
    {
     "name": "stdout",
     "output_type": "stream",
     "text": [
      "<class 'pandas.core.frame.DataFrame'>\n",
      "RangeIndex: 465 entries, 0 to 464\n",
      "Data columns (total 6 columns):\n",
      " #   Column    Non-Null Count  Dtype\n",
      "---  ------    --------------  -----\n",
      " 0   timedrs   465 non-null    int64\n",
      " 1   phyheal   465 non-null    int64\n",
      " 2   menheal   465 non-null    int64\n",
      " 3   stress    465 non-null    int64\n",
      " 4   religion  465 non-null    int64\n",
      " 5   race      465 non-null    int64\n",
      "dtypes: int64(6)\n",
      "memory usage: 21.9 KB\n"
     ]
    }
   ],
   "source": [
    "health.info()"
   ]
  },
  {
   "cell_type": "code",
   "execution_count": 14,
   "id": "0b455e85",
   "metadata": {},
   "outputs": [],
   "source": [
    "# Converting religion to a categorical variable. \n",
    "# Creating labels for integer values:\n",
    "\n",
    "a = [1, 2, 3, 4]\n",
    "b = ['other', 'catholic', 'protestant', 'jewish']\n",
    "\n",
    "health['religion_'] = health['religion'].map(dict(zip(a, b)))"
   ]
  },
  {
   "cell_type": "code",
   "execution_count": 15,
   "id": "6b3fffb0",
   "metadata": {},
   "outputs": [
    {
     "data": {
      "text/html": [
       "<div>\n",
       "<style scoped>\n",
       "    .dataframe tbody tr th:only-of-type {\n",
       "        vertical-align: middle;\n",
       "    }\n",
       "\n",
       "    .dataframe tbody tr th {\n",
       "        vertical-align: top;\n",
       "    }\n",
       "\n",
       "    .dataframe thead th {\n",
       "        text-align: right;\n",
       "    }\n",
       "</style>\n",
       "<table border=\"1\" class=\"dataframe\">\n",
       "  <thead>\n",
       "    <tr style=\"text-align: right;\">\n",
       "      <th></th>\n",
       "      <th>timedrs</th>\n",
       "      <th>phyheal</th>\n",
       "      <th>menheal</th>\n",
       "      <th>stress</th>\n",
       "      <th>religion</th>\n",
       "      <th>race</th>\n",
       "      <th>religion_</th>\n",
       "    </tr>\n",
       "  </thead>\n",
       "  <tbody>\n",
       "    <tr>\n",
       "      <th>0</th>\n",
       "      <td>1</td>\n",
       "      <td>5</td>\n",
       "      <td>8</td>\n",
       "      <td>265</td>\n",
       "      <td>3</td>\n",
       "      <td>1</td>\n",
       "      <td>protestant</td>\n",
       "    </tr>\n",
       "    <tr>\n",
       "      <th>1</th>\n",
       "      <td>3</td>\n",
       "      <td>4</td>\n",
       "      <td>6</td>\n",
       "      <td>415</td>\n",
       "      <td>3</td>\n",
       "      <td>1</td>\n",
       "      <td>protestant</td>\n",
       "    </tr>\n",
       "    <tr>\n",
       "      <th>2</th>\n",
       "      <td>0</td>\n",
       "      <td>3</td>\n",
       "      <td>4</td>\n",
       "      <td>92</td>\n",
       "      <td>2</td>\n",
       "      <td>1</td>\n",
       "      <td>catholic</td>\n",
       "    </tr>\n",
       "    <tr>\n",
       "      <th>3</th>\n",
       "      <td>13</td>\n",
       "      <td>2</td>\n",
       "      <td>2</td>\n",
       "      <td>241</td>\n",
       "      <td>1</td>\n",
       "      <td>1</td>\n",
       "      <td>other</td>\n",
       "    </tr>\n",
       "    <tr>\n",
       "      <th>4</th>\n",
       "      <td>15</td>\n",
       "      <td>3</td>\n",
       "      <td>6</td>\n",
       "      <td>86</td>\n",
       "      <td>4</td>\n",
       "      <td>1</td>\n",
       "      <td>jewish</td>\n",
       "    </tr>\n",
       "  </tbody>\n",
       "</table>\n",
       "</div>"
      ],
      "text/plain": [
       "   timedrs  phyheal  menheal  stress  religion  race   religion_\n",
       "0        1        5        8     265         3     1  protestant\n",
       "1        3        4        6     415         3     1  protestant\n",
       "2        0        3        4      92         2     1    catholic\n",
       "3       13        2        2     241         1     1       other\n",
       "4       15        3        6      86         4     1      jewish"
      ]
     },
     "execution_count": 15,
     "metadata": {},
     "output_type": "execute_result"
    }
   ],
   "source": [
    "health.head()"
   ]
  },
  {
   "cell_type": "code",
   "execution_count": 16,
   "id": "4e3ffe92",
   "metadata": {},
   "outputs": [
    {
     "data": {
      "text/html": [
       "<div>\n",
       "<style scoped>\n",
       "    .dataframe tbody tr th:only-of-type {\n",
       "        vertical-align: middle;\n",
       "    }\n",
       "\n",
       "    .dataframe tbody tr th {\n",
       "        vertical-align: top;\n",
       "    }\n",
       "\n",
       "    .dataframe thead th {\n",
       "        text-align: right;\n",
       "    }\n",
       "</style>\n",
       "<table border=\"1\" class=\"dataframe\">\n",
       "  <thead>\n",
       "    <tr style=\"text-align: right;\">\n",
       "      <th></th>\n",
       "      <th>timedrs</th>\n",
       "      <th>phyheal</th>\n",
       "      <th>menheal</th>\n",
       "      <th>stress</th>\n",
       "      <th>religion</th>\n",
       "      <th>race</th>\n",
       "      <th>religion_</th>\n",
       "    </tr>\n",
       "  </thead>\n",
       "  <tbody>\n",
       "    <tr>\n",
       "      <th>0</th>\n",
       "      <td>1</td>\n",
       "      <td>5</td>\n",
       "      <td>8</td>\n",
       "      <td>265</td>\n",
       "      <td>3</td>\n",
       "      <td>white</td>\n",
       "      <td>protestant</td>\n",
       "    </tr>\n",
       "    <tr>\n",
       "      <th>1</th>\n",
       "      <td>3</td>\n",
       "      <td>4</td>\n",
       "      <td>6</td>\n",
       "      <td>415</td>\n",
       "      <td>3</td>\n",
       "      <td>white</td>\n",
       "      <td>protestant</td>\n",
       "    </tr>\n",
       "    <tr>\n",
       "      <th>2</th>\n",
       "      <td>0</td>\n",
       "      <td>3</td>\n",
       "      <td>4</td>\n",
       "      <td>92</td>\n",
       "      <td>2</td>\n",
       "      <td>white</td>\n",
       "      <td>catholic</td>\n",
       "    </tr>\n",
       "    <tr>\n",
       "      <th>3</th>\n",
       "      <td>13</td>\n",
       "      <td>2</td>\n",
       "      <td>2</td>\n",
       "      <td>241</td>\n",
       "      <td>1</td>\n",
       "      <td>white</td>\n",
       "      <td>other</td>\n",
       "    </tr>\n",
       "    <tr>\n",
       "      <th>4</th>\n",
       "      <td>15</td>\n",
       "      <td>3</td>\n",
       "      <td>6</td>\n",
       "      <td>86</td>\n",
       "      <td>4</td>\n",
       "      <td>white</td>\n",
       "      <td>jewish</td>\n",
       "    </tr>\n",
       "  </tbody>\n",
       "</table>\n",
       "</div>"
      ],
      "text/plain": [
       "   timedrs  phyheal  menheal  stress  religion   race   religion_\n",
       "0        1        5        8     265         3  white  protestant\n",
       "1        3        4        6     415         3  white  protestant\n",
       "2        0        3        4      92         2  white    catholic\n",
       "3       13        2        2     241         1  white       other\n",
       "4       15        3        6      86         4  white      jewish"
      ]
     },
     "execution_count": 16,
     "metadata": {},
     "output_type": "execute_result"
    }
   ],
   "source": [
    "# Converting race to a categorical variable.\n",
    "# Creating labels for integer values:\n",
    "\n",
    "c = [1, 2]\n",
    "l = ['white', 'non_white']\n",
    "\n",
    "health['race'] = health['race'].map(dict(zip(c, l)))\n",
    "\n",
    "health.head()"
   ]
  },
  {
   "cell_type": "code",
   "execution_count": 17,
   "id": "a91b05aa",
   "metadata": {},
   "outputs": [
    {
     "data": {
      "text/plain": [
       "timedrs       int64\n",
       "phyheal       int64\n",
       "menheal       int64\n",
       "stress        int64\n",
       "religion      int64\n",
       "race         object\n",
       "religion_    object\n",
       "dtype: object"
      ]
     },
     "execution_count": 17,
     "metadata": {},
     "output_type": "execute_result"
    }
   ],
   "source": [
    "health.dtypes\n",
    "\n",
    "# Race and religion_ now shown as objects"
   ]
  },
  {
   "cell_type": "code",
   "execution_count": 18,
   "id": "2b12b3bb",
   "metadata": {},
   "outputs": [
    {
     "data": {
      "text/html": [
       "<div>\n",
       "<style scoped>\n",
       "    .dataframe tbody tr th:only-of-type {\n",
       "        vertical-align: middle;\n",
       "    }\n",
       "\n",
       "    .dataframe tbody tr th {\n",
       "        vertical-align: top;\n",
       "    }\n",
       "\n",
       "    .dataframe thead th {\n",
       "        text-align: right;\n",
       "    }\n",
       "</style>\n",
       "<table border=\"1\" class=\"dataframe\">\n",
       "  <thead>\n",
       "    <tr style=\"text-align: right;\">\n",
       "      <th>race</th>\n",
       "      <th>non_white</th>\n",
       "      <th>white</th>\n",
       "    </tr>\n",
       "    <tr>\n",
       "      <th>religion_</th>\n",
       "      <th></th>\n",
       "      <th></th>\n",
       "    </tr>\n",
       "  </thead>\n",
       "  <tbody>\n",
       "    <tr>\n",
       "      <th>catholic</th>\n",
       "      <td>25</td>\n",
       "      <td>94</td>\n",
       "    </tr>\n",
       "    <tr>\n",
       "      <th>jewish</th>\n",
       "      <td>3</td>\n",
       "      <td>89</td>\n",
       "    </tr>\n",
       "    <tr>\n",
       "      <th>other</th>\n",
       "      <td>6</td>\n",
       "      <td>70</td>\n",
       "    </tr>\n",
       "    <tr>\n",
       "      <th>protestant</th>\n",
       "      <td>6</td>\n",
       "      <td>169</td>\n",
       "    </tr>\n",
       "  </tbody>\n",
       "</table>\n",
       "</div>"
      ],
      "text/plain": [
       "race        non_white  white\n",
       "religion_                   \n",
       "catholic           25     94\n",
       "jewish              3     89\n",
       "other               6     70\n",
       "protestant          6    169"
      ]
     },
     "execution_count": 18,
     "metadata": {},
     "output_type": "execute_result"
    }
   ],
   "source": [
    "health_tab = pd.crosstab(health['religion_'], health['race'])\n",
    "\n",
    "health_tab"
   ]
  },
  {
   "cell_type": "code",
   "execution_count": 19,
   "id": "7bb1b16b",
   "metadata": {},
   "outputs": [
    {
     "data": {
      "text/plain": [
       "(32.448064911174924,\n",
       " 4.2105695778398946e-07,\n",
       " 3,\n",
       " array([[ 10.3030303 , 108.6969697 ],\n",
       "        [  7.96536797,  84.03463203],\n",
       "        [  6.58008658,  69.41991342],\n",
       "        [ 15.15151515, 159.84848485]]))"
      ]
     },
     "execution_count": 19,
     "metadata": {},
     "output_type": "execute_result"
    }
   ],
   "source": [
    "# Running chi-square on the above contingency table\n",
    "\n",
    "chival, pval, df, exp = stats.chi2_contingency(observed = health_tab)\n",
    "\n",
    "chival, pval, df, exp\n",
    "\n",
    "# The output gives us the chi-squared statistic, the p-value, the df, and the array of expected counts. \n",
    "# Here we can see we have a significant association between the variables. "
   ]
  },
  {
   "cell_type": "markdown",
   "id": "5915594d",
   "metadata": {},
   "source": [
    "### Following up a significant chi-square test with post-hoc tests. "
   ]
  },
  {
   "cell_type": "markdown",
   "id": "0b6b4f24",
   "metadata": {},
   "source": [
    "A significant Chi-square test of independence tells us the variables are not independent and are significantly associated, but how do we interpret where that significant association lies? Eyeballing contingency tables can be misleading and what look like large differences between observed and expected counts can be hard to interpret as to whether those differences are statistically significant. \n",
    "\n",
    "To interpret the significant association it is useful to use standardised residual and adjusted standardised residuals. "
   ]
  },
  {
   "cell_type": "markdown",
   "id": "efc187ec",
   "metadata": {},
   "source": [
    "There is no existing package to conduct this type of post-hoc analysis so we have to code it ourselves:"
   ]
  },
  {
   "cell_type": "code",
   "execution_count": 20,
   "id": "c6e957be",
   "metadata": {},
   "outputs": [
    {
     "data": {
      "text/plain": [
       "(2,\n",
       " race\n",
       " non_white     40\n",
       " white        422\n",
       " dtype: int64)"
      ]
     },
     "execution_count": 20,
     "metadata": {},
     "output_type": "execute_result"
    }
   ],
   "source": [
    "# To do this we need to obtain the row totals and column totals for our contingency table. We also need the number of rows and\n",
    "# number of columns. \n",
    "\n",
    "col_totals = health_tab.sum()\n",
    "\n",
    "n_cols = len(col_totals)\n",
    "\n",
    "n_cols, col_totals"
   ]
  },
  {
   "cell_type": "code",
   "execution_count": 21,
   "id": "aacdaf7d",
   "metadata": {},
   "outputs": [
    {
     "data": {
      "text/plain": [
       "(4,\n",
       " religion_\n",
       " catholic      119\n",
       " jewish         92\n",
       " other          76\n",
       " protestant    175\n",
       " dtype: int64)"
      ]
     },
     "execution_count": 21,
     "metadata": {},
     "output_type": "execute_result"
    }
   ],
   "source": [
    "# Now the row totals and counts:\n",
    "\n",
    "row_totals = health_tab.sum(axis = 1)\n",
    "\n",
    "n_rows = len(row_totals)\n",
    "\n",
    "n_rows, row_totals"
   ]
  },
  {
   "cell_type": "code",
   "execution_count": 22,
   "id": "66b8ca0f",
   "metadata": {},
   "outputs": [
    {
     "data": {
      "text/plain": [
       "462"
      ]
     },
     "execution_count": 22,
     "metadata": {},
     "output_type": "execute_result"
    }
   ],
   "source": [
    "# It is also useful to have the grand total (N). This can be obtained just by summing the row or the column counts:\n",
    "\n",
    "n = sum(row_totals)\n",
    "\n",
    "n"
   ]
  },
  {
   "cell_type": "markdown",
   "id": "7acfc9c3",
   "metadata": {},
   "source": [
    "We now have everything to fill out the adjusted residuals formula as shown below:"
   ]
  },
  {
   "cell_type": "code",
   "execution_count": 23,
   "id": "ec1352b9",
   "metadata": {},
   "outputs": [
    {
     "name": "stdout",
     "output_type": "stream",
     "text": [
      "5.560117893362686\n",
      "-5.56011789336269\n",
      "-2.0569957978427866\n",
      "2.0569957978427844\n",
      "-0.25886248275603163\n",
      "0.2588624827560345\n",
      "-3.1211150119859656\n",
      "3.1211150119859683\n"
     ]
    }
   ],
   "source": [
    "for i in range(n_rows):\n",
    "    for j in range(n_cols):\n",
    "        adjres = (health_tab.iloc[i, j] - exp[i, j]) / (exp[i, j] * (1 - row_totals[i]/n)*(1 - col_totals[j]/n))**0.5\n",
    "        print(adjres)"
   ]
  },
  {
   "cell_type": "code",
   "execution_count": 24,
   "id": "d2bc0fb2",
   "metadata": {},
   "outputs": [
    {
     "name": "stderr",
     "output_type": "stream",
     "text": [
      "C:\\Users\\robert65\\AppData\\Local\\Temp\\ipykernel_13116\\4266321650.py:8: FutureWarning: The frame.append method is deprecated and will be removed from pandas in a future version. Use pandas.concat instead.\n",
      "  health_res = health_res.append({'religion': health_tab.index[i], 'race': health_tab.columns[j], 'adj. res.': adjres}, ignore_index = True)\n",
      "C:\\Users\\robert65\\AppData\\Local\\Temp\\ipykernel_13116\\4266321650.py:8: FutureWarning: The frame.append method is deprecated and will be removed from pandas in a future version. Use pandas.concat instead.\n",
      "  health_res = health_res.append({'religion': health_tab.index[i], 'race': health_tab.columns[j], 'adj. res.': adjres}, ignore_index = True)\n",
      "C:\\Users\\robert65\\AppData\\Local\\Temp\\ipykernel_13116\\4266321650.py:8: FutureWarning: The frame.append method is deprecated and will be removed from pandas in a future version. Use pandas.concat instead.\n",
      "  health_res = health_res.append({'religion': health_tab.index[i], 'race': health_tab.columns[j], 'adj. res.': adjres}, ignore_index = True)\n",
      "C:\\Users\\robert65\\AppData\\Local\\Temp\\ipykernel_13116\\4266321650.py:8: FutureWarning: The frame.append method is deprecated and will be removed from pandas in a future version. Use pandas.concat instead.\n",
      "  health_res = health_res.append({'religion': health_tab.index[i], 'race': health_tab.columns[j], 'adj. res.': adjres}, ignore_index = True)\n",
      "C:\\Users\\robert65\\AppData\\Local\\Temp\\ipykernel_13116\\4266321650.py:8: FutureWarning: The frame.append method is deprecated and will be removed from pandas in a future version. Use pandas.concat instead.\n",
      "  health_res = health_res.append({'religion': health_tab.index[i], 'race': health_tab.columns[j], 'adj. res.': adjres}, ignore_index = True)\n",
      "C:\\Users\\robert65\\AppData\\Local\\Temp\\ipykernel_13116\\4266321650.py:8: FutureWarning: The frame.append method is deprecated and will be removed from pandas in a future version. Use pandas.concat instead.\n",
      "  health_res = health_res.append({'religion': health_tab.index[i], 'race': health_tab.columns[j], 'adj. res.': adjres}, ignore_index = True)\n",
      "C:\\Users\\robert65\\AppData\\Local\\Temp\\ipykernel_13116\\4266321650.py:8: FutureWarning: The frame.append method is deprecated and will be removed from pandas in a future version. Use pandas.concat instead.\n",
      "  health_res = health_res.append({'religion': health_tab.index[i], 'race': health_tab.columns[j], 'adj. res.': adjres}, ignore_index = True)\n",
      "C:\\Users\\robert65\\AppData\\Local\\Temp\\ipykernel_13116\\4266321650.py:8: FutureWarning: The frame.append method is deprecated and will be removed from pandas in a future version. Use pandas.concat instead.\n",
      "  health_res = health_res.append({'religion': health_tab.index[i], 'race': health_tab.columns[j], 'adj. res.': adjres}, ignore_index = True)\n"
     ]
    },
    {
     "data": {
      "text/html": [
       "<div>\n",
       "<style scoped>\n",
       "    .dataframe tbody tr th:only-of-type {\n",
       "        vertical-align: middle;\n",
       "    }\n",
       "\n",
       "    .dataframe tbody tr th {\n",
       "        vertical-align: top;\n",
       "    }\n",
       "\n",
       "    .dataframe thead th {\n",
       "        text-align: right;\n",
       "    }\n",
       "</style>\n",
       "<table border=\"1\" class=\"dataframe\">\n",
       "  <thead>\n",
       "    <tr style=\"text-align: right;\">\n",
       "      <th></th>\n",
       "      <th>religion</th>\n",
       "      <th>race</th>\n",
       "      <th>adj. res.</th>\n",
       "    </tr>\n",
       "  </thead>\n",
       "  <tbody>\n",
       "    <tr>\n",
       "      <th>0</th>\n",
       "      <td>catholic</td>\n",
       "      <td>non_white</td>\n",
       "      <td>5.560118</td>\n",
       "    </tr>\n",
       "    <tr>\n",
       "      <th>1</th>\n",
       "      <td>catholic</td>\n",
       "      <td>white</td>\n",
       "      <td>-5.560118</td>\n",
       "    </tr>\n",
       "    <tr>\n",
       "      <th>2</th>\n",
       "      <td>jewish</td>\n",
       "      <td>non_white</td>\n",
       "      <td>-2.056996</td>\n",
       "    </tr>\n",
       "    <tr>\n",
       "      <th>3</th>\n",
       "      <td>jewish</td>\n",
       "      <td>white</td>\n",
       "      <td>2.056996</td>\n",
       "    </tr>\n",
       "    <tr>\n",
       "      <th>4</th>\n",
       "      <td>other</td>\n",
       "      <td>non_white</td>\n",
       "      <td>-0.258862</td>\n",
       "    </tr>\n",
       "    <tr>\n",
       "      <th>5</th>\n",
       "      <td>other</td>\n",
       "      <td>white</td>\n",
       "      <td>0.258862</td>\n",
       "    </tr>\n",
       "    <tr>\n",
       "      <th>6</th>\n",
       "      <td>protestant</td>\n",
       "      <td>non_white</td>\n",
       "      <td>-3.121115</td>\n",
       "    </tr>\n",
       "    <tr>\n",
       "      <th>7</th>\n",
       "      <td>protestant</td>\n",
       "      <td>white</td>\n",
       "      <td>3.121115</td>\n",
       "    </tr>\n",
       "  </tbody>\n",
       "</table>\n",
       "</div>"
      ],
      "text/plain": [
       "     religion       race adj. res.\n",
       "0    catholic  non_white  5.560118\n",
       "1    catholic      white -5.560118\n",
       "2      jewish  non_white -2.056996\n",
       "3      jewish      white  2.056996\n",
       "4       other  non_white -0.258862\n",
       "5       other      white  0.258862\n",
       "6  protestant  non_white -3.121115\n",
       "7  protestant      white  3.121115"
      ]
     },
     "execution_count": 24,
     "metadata": {},
     "output_type": "execute_result"
    }
   ],
   "source": [
    "# The above gave us the adjusted residuals but it would be useful to know what cell these residuals relate to. \n",
    "# We can achieve this by creating a dataframe as follows:\n",
    "\n",
    "health_res = pd.DataFrame(columns = ['religion', 'race', 'adj. res.'])\n",
    "for i in range(n_rows):\n",
    "    for j in range(n_cols):\n",
    "        adjres = (health_tab.iloc[i, j] - exp[i, j]) / (exp[i, j] * (1 - row_totals[i]/n)*(1 - col_totals[j]/n))**0.5\n",
    "        health_res = health_res.append({'religion': health_tab.index[i], 'race': health_tab.columns[j], 'adj. res.': adjres}, ignore_index = True)\n",
    "\n",
    "health_res"
   ]
  },
  {
   "cell_type": "markdown",
   "id": "ced0e948",
   "metadata": {},
   "source": [
    "The above adjusted residuals are z values and can be used to interpret significant deviations from a mean of zero for the standard normal distribution. \n",
    "\n",
    "We can convert them to their corresponding probabilities (p-values) for the standard normal distribution using the norm.cdf function from scipy.stats: "
   ]
  },
  {
   "cell_type": "code",
   "execution_count": 25,
   "id": "884cf4c2",
   "metadata": {},
   "outputs": [],
   "source": [
    "from scipy.stats import norm"
   ]
  },
  {
   "cell_type": "code",
   "execution_count": 26,
   "id": "fb5cdb90",
   "metadata": {},
   "outputs": [
    {
     "data": {
      "text/plain": [
       "0    5.560118\n",
       "1    5.560118\n",
       "2    2.056996\n",
       "3    2.056996\n",
       "4    0.258862\n",
       "5    0.258862\n",
       "6    3.121115\n",
       "7    3.121115\n",
       "Name: adj. res., dtype: object"
      ]
     },
     "execution_count": 26,
     "metadata": {},
     "output_type": "execute_result"
    }
   ],
   "source": [
    "ar_sig = np.absolute(health_res['adj. res.'])\n",
    "\n",
    "ar_sig\n",
    "\n",
    "# Note here I have obtained the absolute value of adjusted residuals but they are an object and not a float"
   ]
  },
  {
   "cell_type": "code",
   "execution_count": 27,
   "id": "9b35c3fc",
   "metadata": {},
   "outputs": [
    {
     "data": {
      "text/plain": [
       "0    5.560118\n",
       "1    5.560118\n",
       "2    2.056996\n",
       "3    2.056996\n",
       "4    0.258862\n",
       "5    0.258862\n",
       "6    3.121115\n",
       "7    3.121115\n",
       "Name: adj. res., dtype: float32"
      ]
     },
     "execution_count": 27,
     "metadata": {},
     "output_type": "execute_result"
    }
   ],
   "source": [
    "# Converting them to a float using the pandas to_numeric method. \n",
    "ar_abs = pd.to_numeric(ar_sig, downcast = 'float')\n",
    "\n",
    "ar_abs"
   ]
  },
  {
   "cell_type": "code",
   "execution_count": 28,
   "id": "faa713db",
   "metadata": {},
   "outputs": [
    {
     "data": {
      "text/html": [
       "<div>\n",
       "<style scoped>\n",
       "    .dataframe tbody tr th:only-of-type {\n",
       "        vertical-align: middle;\n",
       "    }\n",
       "\n",
       "    .dataframe tbody tr th {\n",
       "        vertical-align: top;\n",
       "    }\n",
       "\n",
       "    .dataframe thead th {\n",
       "        text-align: right;\n",
       "    }\n",
       "</style>\n",
       "<table border=\"1\" class=\"dataframe\">\n",
       "  <thead>\n",
       "    <tr style=\"text-align: right;\">\n",
       "      <th></th>\n",
       "      <th>religion</th>\n",
       "      <th>race</th>\n",
       "      <th>adj. res.</th>\n",
       "      <th>sig.</th>\n",
       "    </tr>\n",
       "  </thead>\n",
       "  <tbody>\n",
       "    <tr>\n",
       "      <th>0</th>\n",
       "      <td>catholic</td>\n",
       "      <td>non_white</td>\n",
       "      <td>5.560118</td>\n",
       "      <td>2.695927e-08</td>\n",
       "    </tr>\n",
       "    <tr>\n",
       "      <th>1</th>\n",
       "      <td>catholic</td>\n",
       "      <td>white</td>\n",
       "      <td>-5.560118</td>\n",
       "      <td>2.695927e-08</td>\n",
       "    </tr>\n",
       "    <tr>\n",
       "      <th>2</th>\n",
       "      <td>jewish</td>\n",
       "      <td>non_white</td>\n",
       "      <td>-2.056996</td>\n",
       "      <td>3.968662e-02</td>\n",
       "    </tr>\n",
       "    <tr>\n",
       "      <th>3</th>\n",
       "      <td>jewish</td>\n",
       "      <td>white</td>\n",
       "      <td>2.056996</td>\n",
       "      <td>3.968662e-02</td>\n",
       "    </tr>\n",
       "    <tr>\n",
       "      <th>4</th>\n",
       "      <td>other</td>\n",
       "      <td>non_white</td>\n",
       "      <td>-0.258862</td>\n",
       "      <td>7.957413e-01</td>\n",
       "    </tr>\n",
       "    <tr>\n",
       "      <th>5</th>\n",
       "      <td>other</td>\n",
       "      <td>white</td>\n",
       "      <td>0.258862</td>\n",
       "      <td>7.957413e-01</td>\n",
       "    </tr>\n",
       "    <tr>\n",
       "      <th>6</th>\n",
       "      <td>protestant</td>\n",
       "      <td>non_white</td>\n",
       "      <td>-3.121115</td>\n",
       "      <td>1.801677e-03</td>\n",
       "    </tr>\n",
       "    <tr>\n",
       "      <th>7</th>\n",
       "      <td>protestant</td>\n",
       "      <td>white</td>\n",
       "      <td>3.121115</td>\n",
       "      <td>1.801677e-03</td>\n",
       "    </tr>\n",
       "  </tbody>\n",
       "</table>\n",
       "</div>"
      ],
      "text/plain": [
       "     religion       race adj. res.          sig.\n",
       "0    catholic  non_white  5.560118  2.695927e-08\n",
       "1    catholic      white -5.560118  2.695927e-08\n",
       "2      jewish  non_white -2.056996  3.968662e-02\n",
       "3      jewish      white  2.056996  3.968662e-02\n",
       "4       other  non_white -0.258862  7.957413e-01\n",
       "5       other      white  0.258862  7.957413e-01\n",
       "6  protestant  non_white -3.121115  1.801677e-03\n",
       "7  protestant      white  3.121115  1.801677e-03"
      ]
     },
     "execution_count": 28,
     "metadata": {},
     "output_type": "execute_result"
    }
   ],
   "source": [
    "# The above ar_abs float values can now be used in the formula to find the respective p-values. \n",
    "health_res['sig.'] = 2 * (1 - norm.cdf(ar_abs))\n",
    "health_res\n",
    "\n",
    "# Note above we are mutliplying by two because we want two-tailed sig. "
   ]
  },
  {
   "cell_type": "markdown",
   "id": "baee4d9b",
   "metadata": {},
   "source": [
    "The above significance values have been appended to the table. However, we are doing multiple tests, so we need some type of adjustment. Using the Bonferroni adjustment to correct for the fact we have done 8 tests. "
   ]
  },
  {
   "cell_type": "code",
   "execution_count": 29,
   "id": "eb20bd7a",
   "metadata": {},
   "outputs": [
    {
     "data": {
      "text/plain": [
       "religion      object\n",
       "race          object\n",
       "adj. res.     object\n",
       "sig.         float64\n",
       "dtype: object"
      ]
     },
     "execution_count": 29,
     "metadata": {},
     "output_type": "execute_result"
    }
   ],
   "source": [
    "health_res.dtypes"
   ]
  },
  {
   "cell_type": "code",
   "execution_count": 30,
   "id": "d6766429",
   "metadata": {},
   "outputs": [
    {
     "data": {
      "text/html": [
       "<div>\n",
       "<style scoped>\n",
       "    .dataframe tbody tr th:only-of-type {\n",
       "        vertical-align: middle;\n",
       "    }\n",
       "\n",
       "    .dataframe tbody tr th {\n",
       "        vertical-align: top;\n",
       "    }\n",
       "\n",
       "    .dataframe thead th {\n",
       "        text-align: right;\n",
       "    }\n",
       "</style>\n",
       "<table border=\"1\" class=\"dataframe\">\n",
       "  <thead>\n",
       "    <tr style=\"text-align: right;\">\n",
       "      <th></th>\n",
       "      <th>religion</th>\n",
       "      <th>race</th>\n",
       "      <th>adj. res.</th>\n",
       "      <th>sig.</th>\n",
       "      <th>adj. sig.</th>\n",
       "    </tr>\n",
       "  </thead>\n",
       "  <tbody>\n",
       "    <tr>\n",
       "      <th>0</th>\n",
       "      <td>catholic</td>\n",
       "      <td>non_white</td>\n",
       "      <td>5.560118</td>\n",
       "      <td>2.695927e-08</td>\n",
       "      <td>2.156742e-07</td>\n",
       "    </tr>\n",
       "    <tr>\n",
       "      <th>1</th>\n",
       "      <td>catholic</td>\n",
       "      <td>white</td>\n",
       "      <td>-5.560118</td>\n",
       "      <td>2.695927e-08</td>\n",
       "      <td>2.156742e-07</td>\n",
       "    </tr>\n",
       "    <tr>\n",
       "      <th>2</th>\n",
       "      <td>jewish</td>\n",
       "      <td>non_white</td>\n",
       "      <td>-2.056996</td>\n",
       "      <td>3.968662e-02</td>\n",
       "      <td>3.174930e-01</td>\n",
       "    </tr>\n",
       "    <tr>\n",
       "      <th>3</th>\n",
       "      <td>jewish</td>\n",
       "      <td>white</td>\n",
       "      <td>2.056996</td>\n",
       "      <td>3.968662e-02</td>\n",
       "      <td>3.174930e-01</td>\n",
       "    </tr>\n",
       "    <tr>\n",
       "      <th>4</th>\n",
       "      <td>other</td>\n",
       "      <td>non_white</td>\n",
       "      <td>-0.258862</td>\n",
       "      <td>7.957413e-01</td>\n",
       "      <td>6.365931e+00</td>\n",
       "    </tr>\n",
       "    <tr>\n",
       "      <th>5</th>\n",
       "      <td>other</td>\n",
       "      <td>white</td>\n",
       "      <td>0.258862</td>\n",
       "      <td>7.957413e-01</td>\n",
       "      <td>6.365931e+00</td>\n",
       "    </tr>\n",
       "    <tr>\n",
       "      <th>6</th>\n",
       "      <td>protestant</td>\n",
       "      <td>non_white</td>\n",
       "      <td>-3.121115</td>\n",
       "      <td>1.801677e-03</td>\n",
       "      <td>1.441341e-02</td>\n",
       "    </tr>\n",
       "    <tr>\n",
       "      <th>7</th>\n",
       "      <td>protestant</td>\n",
       "      <td>white</td>\n",
       "      <td>3.121115</td>\n",
       "      <td>1.801677e-03</td>\n",
       "      <td>1.441341e-02</td>\n",
       "    </tr>\n",
       "  </tbody>\n",
       "</table>\n",
       "</div>"
      ],
      "text/plain": [
       "     religion       race adj. res.          sig.     adj. sig.\n",
       "0    catholic  non_white  5.560118  2.695927e-08  2.156742e-07\n",
       "1    catholic      white -5.560118  2.695927e-08  2.156742e-07\n",
       "2      jewish  non_white -2.056996  3.968662e-02  3.174930e-01\n",
       "3      jewish      white  2.056996  3.968662e-02  3.174930e-01\n",
       "4       other  non_white -0.258862  7.957413e-01  6.365931e+00\n",
       "5       other      white  0.258862  7.957413e-01  6.365931e+00\n",
       "6  protestant  non_white -3.121115  1.801677e-03  1.441341e-02\n",
       "7  protestant      white  3.121115  1.801677e-03  1.441341e-02"
      ]
     },
     "execution_count": 30,
     "metadata": {},
     "output_type": "execute_result"
    }
   ],
   "source": [
    "# The simplest way to do a Bonferroni correction on existing p-values is to multiply each p-value by the number of tests. \n",
    "# In this case 8:\n",
    "\n",
    "health_res['adj. sig.'] = health_res.shape[0] * health_res['sig.']\n",
    "\n",
    "health_res\n",
    "\n",
    "# Note shape tells us the number of rows and columns. If we ask for index[0] it will give us the number of rows. "
   ]
  },
  {
   "cell_type": "code",
   "execution_count": 31,
   "id": "19444f62",
   "metadata": {},
   "outputs": [
    {
     "data": {
      "text/html": [
       "<div>\n",
       "<style scoped>\n",
       "    .dataframe tbody tr th:only-of-type {\n",
       "        vertical-align: middle;\n",
       "    }\n",
       "\n",
       "    .dataframe tbody tr th {\n",
       "        vertical-align: top;\n",
       "    }\n",
       "\n",
       "    .dataframe thead th {\n",
       "        text-align: right;\n",
       "    }\n",
       "</style>\n",
       "<table border=\"1\" class=\"dataframe\">\n",
       "  <thead>\n",
       "    <tr style=\"text-align: right;\">\n",
       "      <th></th>\n",
       "      <th>religion</th>\n",
       "      <th>race</th>\n",
       "      <th>adj. res.</th>\n",
       "      <th>sig.</th>\n",
       "      <th>adj. sig.</th>\n",
       "      <th>ad sig new</th>\n",
       "    </tr>\n",
       "  </thead>\n",
       "  <tbody>\n",
       "    <tr>\n",
       "      <th>0</th>\n",
       "      <td>catholic</td>\n",
       "      <td>non_white</td>\n",
       "      <td>5.560118</td>\n",
       "      <td>2.695927e-08</td>\n",
       "      <td>2.156742e-07</td>\n",
       "      <td>0.00</td>\n",
       "    </tr>\n",
       "    <tr>\n",
       "      <th>1</th>\n",
       "      <td>catholic</td>\n",
       "      <td>white</td>\n",
       "      <td>-5.560118</td>\n",
       "      <td>2.695927e-08</td>\n",
       "      <td>2.156742e-07</td>\n",
       "      <td>0.00</td>\n",
       "    </tr>\n",
       "    <tr>\n",
       "      <th>2</th>\n",
       "      <td>jewish</td>\n",
       "      <td>non_white</td>\n",
       "      <td>-2.056996</td>\n",
       "      <td>3.968662e-02</td>\n",
       "      <td>3.174930e-01</td>\n",
       "      <td>0.32</td>\n",
       "    </tr>\n",
       "    <tr>\n",
       "      <th>3</th>\n",
       "      <td>jewish</td>\n",
       "      <td>white</td>\n",
       "      <td>2.056996</td>\n",
       "      <td>3.968662e-02</td>\n",
       "      <td>3.174930e-01</td>\n",
       "      <td>0.32</td>\n",
       "    </tr>\n",
       "    <tr>\n",
       "      <th>4</th>\n",
       "      <td>other</td>\n",
       "      <td>non_white</td>\n",
       "      <td>-0.258862</td>\n",
       "      <td>7.957413e-01</td>\n",
       "      <td>6.365931e+00</td>\n",
       "      <td>6.37</td>\n",
       "    </tr>\n",
       "    <tr>\n",
       "      <th>5</th>\n",
       "      <td>other</td>\n",
       "      <td>white</td>\n",
       "      <td>0.258862</td>\n",
       "      <td>7.957413e-01</td>\n",
       "      <td>6.365931e+00</td>\n",
       "      <td>6.37</td>\n",
       "    </tr>\n",
       "    <tr>\n",
       "      <th>6</th>\n",
       "      <td>protestant</td>\n",
       "      <td>non_white</td>\n",
       "      <td>-3.121115</td>\n",
       "      <td>1.801677e-03</td>\n",
       "      <td>1.441341e-02</td>\n",
       "      <td>0.01</td>\n",
       "    </tr>\n",
       "    <tr>\n",
       "      <th>7</th>\n",
       "      <td>protestant</td>\n",
       "      <td>white</td>\n",
       "      <td>3.121115</td>\n",
       "      <td>1.801677e-03</td>\n",
       "      <td>1.441341e-02</td>\n",
       "      <td>0.01</td>\n",
       "    </tr>\n",
       "  </tbody>\n",
       "</table>\n",
       "</div>"
      ],
      "text/plain": [
       "     religion       race adj. res.          sig.     adj. sig.  ad sig new\n",
       "0    catholic  non_white  5.560118  2.695927e-08  2.156742e-07        0.00\n",
       "1    catholic      white -5.560118  2.695927e-08  2.156742e-07        0.00\n",
       "2      jewish  non_white -2.056996  3.968662e-02  3.174930e-01        0.32\n",
       "3      jewish      white  2.056996  3.968662e-02  3.174930e-01        0.32\n",
       "4       other  non_white -0.258862  7.957413e-01  6.365931e+00        6.37\n",
       "5       other      white  0.258862  7.957413e-01  6.365931e+00        6.37\n",
       "6  protestant  non_white -3.121115  1.801677e-03  1.441341e-02        0.01\n",
       "7  protestant      white  3.121115  1.801677e-03  1.441341e-02        0.01"
      ]
     },
     "execution_count": 31,
     "metadata": {},
     "output_type": "execute_result"
    }
   ],
   "source": [
    "# Here using the np.round method to round the adj significance to 2 decimal places to make it easier to interpret:\n",
    "health_res['ad sig new'] = np.round(health_res['adj. sig.'], 2)\n",
    "\n",
    "health_res"
   ]
  }
 ],
 "metadata": {
  "kernelspec": {
   "display_name": "Python 3 (ipykernel)",
   "language": "python",
   "name": "python3"
  },
  "language_info": {
   "codemirror_mode": {
    "name": "ipython",
    "version": 3
   },
   "file_extension": ".py",
   "mimetype": "text/x-python",
   "name": "python",
   "nbconvert_exporter": "python",
   "pygments_lexer": "ipython3",
   "version": "3.9.12"
  }
 },
 "nbformat": 4,
 "nbformat_minor": 5
}
