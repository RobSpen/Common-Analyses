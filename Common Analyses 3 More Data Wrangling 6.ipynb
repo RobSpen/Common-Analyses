{
 "cells": [
  {
   "cell_type": "markdown",
   "id": "7f422804",
   "metadata": {},
   "source": [
    "# More Data Wrangling 6\n",
    "\n",
    "In this notebook I demonstrate how to add labels to a categorical variable that may have been recorded in the dataset using a numerical value, dummy code, or other string object. To do this I will use the map method.  "
   ]
  },
  {
   "cell_type": "code",
   "execution_count": 1,
   "id": "65a126ce",
   "metadata": {},
   "outputs": [],
   "source": [
    "import pandas as pd\n",
    "import numpy as np"
   ]
  },
  {
   "cell_type": "code",
   "execution_count": 2,
   "id": "590f036b",
   "metadata": {},
   "outputs": [
    {
     "data": {
      "text/html": [
       "<div>\n",
       "<style scoped>\n",
       "    .dataframe tbody tr th:only-of-type {\n",
       "        vertical-align: middle;\n",
       "    }\n",
       "\n",
       "    .dataframe tbody tr th {\n",
       "        vertical-align: top;\n",
       "    }\n",
       "\n",
       "    .dataframe thead th {\n",
       "        text-align: right;\n",
       "    }\n",
       "</style>\n",
       "<table border=\"1\" class=\"dataframe\">\n",
       "  <thead>\n",
       "    <tr style=\"text-align: right;\">\n",
       "      <th></th>\n",
       "      <th>sex</th>\n",
       "      <th>anxlevel</th>\n",
       "      <th>stress</th>\n",
       "      <th>totalworry</th>\n",
       "      <th>construct</th>\n",
       "    </tr>\n",
       "  </thead>\n",
       "  <tbody>\n",
       "    <tr>\n",
       "      <th>0</th>\n",
       "      <td>2</td>\n",
       "      <td>2</td>\n",
       "      <td>1.3</td>\n",
       "      <td>3.0375</td>\n",
       "      <td>3.04878048780488</td>\n",
       "    </tr>\n",
       "    <tr>\n",
       "      <th>1</th>\n",
       "      <td>2</td>\n",
       "      <td>2</td>\n",
       "      <td>2.1</td>\n",
       "      <td>3.21875</td>\n",
       "      <td>2.95121951219512</td>\n",
       "    </tr>\n",
       "    <tr>\n",
       "      <th>2</th>\n",
       "      <td>1</td>\n",
       "      <td>3</td>\n",
       "      <td>1.95</td>\n",
       "      <td>2.025</td>\n",
       "      <td>3.29268292682927</td>\n",
       "    </tr>\n",
       "    <tr>\n",
       "      <th>3</th>\n",
       "      <td>2</td>\n",
       "      <td>2</td>\n",
       "      <td>2.1</td>\n",
       "      <td>1.80625</td>\n",
       "      <td>2.19512195121951</td>\n",
       "    </tr>\n",
       "    <tr>\n",
       "      <th>4</th>\n",
       "      <td>2</td>\n",
       "      <td>2</td>\n",
       "      <td>2.05</td>\n",
       "      <td>2.5625</td>\n",
       "      <td>2.80487804878049</td>\n",
       "    </tr>\n",
       "  </tbody>\n",
       "</table>\n",
       "</div>"
      ],
      "text/plain": [
       "  sex anxlevel stress totalworry         construct\n",
       "0   2        2    1.3     3.0375  3.04878048780488\n",
       "1   2        2    2.1    3.21875  2.95121951219512\n",
       "2   1        3   1.95      2.025  3.29268292682927\n",
       "3   2        2    2.1    1.80625  2.19512195121951\n",
       "4   2        2   2.05     2.5625  2.80487804878049"
      ]
     },
     "execution_count": 2,
     "metadata": {},
     "output_type": "execute_result"
    }
   ],
   "source": [
    "df = pd.read_csv('fearofcrime.csv')\n",
    "\n",
    "df.head()"
   ]
  },
  {
   "cell_type": "code",
   "execution_count": 3,
   "id": "419d8097",
   "metadata": {},
   "outputs": [
    {
     "name": "stdout",
     "output_type": "stream",
     "text": [
      "<class 'pandas.core.frame.DataFrame'>\n",
      "RangeIndex: 235 entries, 0 to 234\n",
      "Data columns (total 5 columns):\n",
      " #   Column      Non-Null Count  Dtype \n",
      "---  ------      --------------  ----- \n",
      " 0   sex         235 non-null    object\n",
      " 1   anxlevel    235 non-null    object\n",
      " 2   stress      235 non-null    object\n",
      " 3   totalworry  235 non-null    object\n",
      " 4   construct   235 non-null    object\n",
      "dtypes: object(5)\n",
      "memory usage: 9.3+ KB\n"
     ]
    }
   ],
   "source": [
    "df.info()"
   ]
  },
  {
   "cell_type": "code",
   "execution_count": 4,
   "id": "cf3bcb12",
   "metadata": {},
   "outputs": [
    {
     "data": {
      "text/plain": [
       "array(['2', '3', '1', ' '], dtype=object)"
      ]
     },
     "execution_count": 4,
     "metadata": {},
     "output_type": "execute_result"
    }
   ],
   "source": [
    "# Checking the number of unique values recorded for the anxlevel variable. \n",
    "\n",
    "df['anxlevel'].unique()"
   ]
  },
  {
   "cell_type": "code",
   "execution_count": 5,
   "id": "9ca45541",
   "metadata": {},
   "outputs": [
    {
     "data": {
      "text/plain": [
       "array(['2', '1', ' '], dtype=object)"
      ]
     },
     "execution_count": 5,
     "metadata": {},
     "output_type": "execute_result"
    }
   ],
   "source": [
    "# Checking unique values for sex. As with anxlevel this raises some issues. \n",
    "df['sex'].unique()"
   ]
  },
  {
   "cell_type": "code",
   "execution_count": 6,
   "id": "8999c783",
   "metadata": {},
   "outputs": [],
   "source": [
    "# Creating a new dataframe object that only contains anxlevel and sex values that are not ' ' (an empty string). \n",
    "df_2 = df.loc[(df['anxlevel'] != ' ') & (df['sex'] != ' ')]"
   ]
  },
  {
   "cell_type": "code",
   "execution_count": 7,
   "id": "65ecb0e1",
   "metadata": {},
   "outputs": [
    {
     "data": {
      "text/plain": [
       "(227, 5)"
      ]
     },
     "execution_count": 7,
     "metadata": {},
     "output_type": "execute_result"
    }
   ],
   "source": [
    "# Checking that the new data frame has fewer rows. \n",
    "df_2.shape"
   ]
  },
  {
   "cell_type": "code",
   "execution_count": 8,
   "id": "93aebd74",
   "metadata": {},
   "outputs": [
    {
     "name": "stdout",
     "output_type": "stream",
     "text": [
      "<class 'pandas.core.frame.DataFrame'>\n",
      "Int64Index: 227 entries, 0 to 234\n",
      "Data columns (total 5 columns):\n",
      " #   Column      Non-Null Count  Dtype \n",
      "---  ------      --------------  ----- \n",
      " 0   sex         227 non-null    object\n",
      " 1   anxlevel    227 non-null    object\n",
      " 2   stress      227 non-null    object\n",
      " 3   totalworry  227 non-null    object\n",
      " 4   construct   227 non-null    object\n",
      "dtypes: object(5)\n",
      "memory usage: 10.6+ KB\n"
     ]
    }
   ],
   "source": [
    "df_2.info()"
   ]
  },
  {
   "cell_type": "code",
   "execution_count": 9,
   "id": "2fea4f76",
   "metadata": {},
   "outputs": [
    {
     "data": {
      "text/plain": [
       "array(['2', '3', '1'], dtype=object)"
      ]
     },
     "execution_count": 9,
     "metadata": {},
     "output_type": "execute_result"
    }
   ],
   "source": [
    "# Again checking unique values for the anxlevel variable. There are now only three, which is correct.  \n",
    "df_2['anxlevel'].unique()"
   ]
  },
  {
   "cell_type": "code",
   "execution_count": 10,
   "id": "26d58a89",
   "metadata": {},
   "outputs": [
    {
     "data": {
      "text/plain": [
       "array(['2', '1'], dtype=object)"
      ]
     },
     "execution_count": 10,
     "metadata": {},
     "output_type": "execute_result"
    }
   ],
   "source": [
    "# Sex also now contains the correct number of values. \n",
    "df_2['sex'].unique()"
   ]
  },
  {
   "cell_type": "code",
   "execution_count": 11,
   "id": "942db142",
   "metadata": {},
   "outputs": [
    {
     "name": "stderr",
     "output_type": "stream",
     "text": [
      "C:\\Users\\robert65\\AppData\\Local\\Temp\\ipykernel_7976\\2650614830.py:3: SettingWithCopyWarning: \n",
      "A value is trying to be set on a copy of a slice from a DataFrame.\n",
      "Try using .loc[row_indexer,col_indexer] = value instead\n",
      "\n",
      "See the caveats in the documentation: https://pandas.pydata.org/pandas-docs/stable/user_guide/indexing.html#returning-a-view-versus-a-copy\n",
      "  df_2['anx_label'] = df_2['anxlevel'].map({'1': 'low', '2': 'medium', '3': 'high'})\n"
     ]
    },
    {
     "data": {
      "text/html": [
       "<div>\n",
       "<style scoped>\n",
       "    .dataframe tbody tr th:only-of-type {\n",
       "        vertical-align: middle;\n",
       "    }\n",
       "\n",
       "    .dataframe tbody tr th {\n",
       "        vertical-align: top;\n",
       "    }\n",
       "\n",
       "    .dataframe thead th {\n",
       "        text-align: right;\n",
       "    }\n",
       "</style>\n",
       "<table border=\"1\" class=\"dataframe\">\n",
       "  <thead>\n",
       "    <tr style=\"text-align: right;\">\n",
       "      <th></th>\n",
       "      <th>sex</th>\n",
       "      <th>anxlevel</th>\n",
       "      <th>stress</th>\n",
       "      <th>totalworry</th>\n",
       "      <th>construct</th>\n",
       "      <th>anx_label</th>\n",
       "    </tr>\n",
       "  </thead>\n",
       "  <tbody>\n",
       "    <tr>\n",
       "      <th>0</th>\n",
       "      <td>2</td>\n",
       "      <td>2</td>\n",
       "      <td>1.3</td>\n",
       "      <td>3.0375</td>\n",
       "      <td>3.04878048780488</td>\n",
       "      <td>medium</td>\n",
       "    </tr>\n",
       "    <tr>\n",
       "      <th>1</th>\n",
       "      <td>2</td>\n",
       "      <td>2</td>\n",
       "      <td>2.1</td>\n",
       "      <td>3.21875</td>\n",
       "      <td>2.95121951219512</td>\n",
       "      <td>medium</td>\n",
       "    </tr>\n",
       "    <tr>\n",
       "      <th>2</th>\n",
       "      <td>1</td>\n",
       "      <td>3</td>\n",
       "      <td>1.95</td>\n",
       "      <td>2.025</td>\n",
       "      <td>3.29268292682927</td>\n",
       "      <td>high</td>\n",
       "    </tr>\n",
       "    <tr>\n",
       "      <th>3</th>\n",
       "      <td>2</td>\n",
       "      <td>2</td>\n",
       "      <td>2.1</td>\n",
       "      <td>1.80625</td>\n",
       "      <td>2.19512195121951</td>\n",
       "      <td>medium</td>\n",
       "    </tr>\n",
       "    <tr>\n",
       "      <th>4</th>\n",
       "      <td>2</td>\n",
       "      <td>2</td>\n",
       "      <td>2.05</td>\n",
       "      <td>2.5625</td>\n",
       "      <td>2.80487804878049</td>\n",
       "      <td>medium</td>\n",
       "    </tr>\n",
       "    <tr>\n",
       "      <th>5</th>\n",
       "      <td>2</td>\n",
       "      <td>1</td>\n",
       "      <td>.95</td>\n",
       "      <td>1.38125</td>\n",
       "      <td>4.21951219512195</td>\n",
       "      <td>low</td>\n",
       "    </tr>\n",
       "    <tr>\n",
       "      <th>6</th>\n",
       "      <td>1</td>\n",
       "      <td>1</td>\n",
       "      <td>1.25</td>\n",
       "      <td>.9125</td>\n",
       "      <td></td>\n",
       "      <td>low</td>\n",
       "    </tr>\n",
       "    <tr>\n",
       "      <th>7</th>\n",
       "      <td>2</td>\n",
       "      <td>1</td>\n",
       "      <td>1.9</td>\n",
       "      <td>1.575</td>\n",
       "      <td></td>\n",
       "      <td>low</td>\n",
       "    </tr>\n",
       "    <tr>\n",
       "      <th>8</th>\n",
       "      <td>2</td>\n",
       "      <td>2</td>\n",
       "      <td>1.05</td>\n",
       "      <td>1.04375</td>\n",
       "      <td>4.31707317073171</td>\n",
       "      <td>medium</td>\n",
       "    </tr>\n",
       "    <tr>\n",
       "      <th>9</th>\n",
       "      <td>2</td>\n",
       "      <td>3</td>\n",
       "      <td>1.55</td>\n",
       "      <td>1.89375</td>\n",
       "      <td>3.26829268292683</td>\n",
       "      <td>high</td>\n",
       "    </tr>\n",
       "  </tbody>\n",
       "</table>\n",
       "</div>"
      ],
      "text/plain": [
       "  sex anxlevel stress totalworry         construct anx_label\n",
       "0   2        2    1.3     3.0375  3.04878048780488    medium\n",
       "1   2        2    2.1    3.21875  2.95121951219512    medium\n",
       "2   1        3   1.95      2.025  3.29268292682927      high\n",
       "3   2        2    2.1    1.80625  2.19512195121951    medium\n",
       "4   2        2   2.05     2.5625  2.80487804878049    medium\n",
       "5   2        1    .95    1.38125  4.21951219512195       low\n",
       "6   1        1   1.25      .9125                         low\n",
       "7   2        1    1.9      1.575                         low\n",
       "8   2        2   1.05    1.04375  4.31707317073171    medium\n",
       "9   2        3   1.55    1.89375  3.26829268292683      high"
      ]
     },
     "execution_count": 11,
     "metadata": {},
     "output_type": "execute_result"
    }
   ],
   "source": [
    "# Using map to append a new variable showing the labels for the anxlevel values. \n",
    "\n",
    "df_2['anx_label'] = df_2['anxlevel'].map({'1': 'low', '2': 'medium', '3': 'high'})\n",
    "\n",
    "df_2.head(10)"
   ]
  },
  {
   "cell_type": "code",
   "execution_count": 12,
   "id": "c20a1ac2",
   "metadata": {},
   "outputs": [
    {
     "name": "stderr",
     "output_type": "stream",
     "text": [
      "C:\\Users\\robert65\\AppData\\Local\\Temp\\ipykernel_7976\\1507735164.py:2: SettingWithCopyWarning: \n",
      "A value is trying to be set on a copy of a slice from a DataFrame.\n",
      "Try using .loc[row_indexer,col_indexer] = value instead\n",
      "\n",
      "See the caveats in the documentation: https://pandas.pydata.org/pandas-docs/stable/user_guide/indexing.html#returning-a-view-versus-a-copy\n",
      "  df_2['sex_label'] = df_2['sex'].map({'1': 'male', '2': 'female'})\n"
     ]
    },
    {
     "data": {
      "text/html": [
       "<div>\n",
       "<style scoped>\n",
       "    .dataframe tbody tr th:only-of-type {\n",
       "        vertical-align: middle;\n",
       "    }\n",
       "\n",
       "    .dataframe tbody tr th {\n",
       "        vertical-align: top;\n",
       "    }\n",
       "\n",
       "    .dataframe thead th {\n",
       "        text-align: right;\n",
       "    }\n",
       "</style>\n",
       "<table border=\"1\" class=\"dataframe\">\n",
       "  <thead>\n",
       "    <tr style=\"text-align: right;\">\n",
       "      <th></th>\n",
       "      <th>sex</th>\n",
       "      <th>anxlevel</th>\n",
       "      <th>stress</th>\n",
       "      <th>totalworry</th>\n",
       "      <th>construct</th>\n",
       "      <th>anx_label</th>\n",
       "      <th>sex_label</th>\n",
       "    </tr>\n",
       "  </thead>\n",
       "  <tbody>\n",
       "    <tr>\n",
       "      <th>0</th>\n",
       "      <td>2</td>\n",
       "      <td>2</td>\n",
       "      <td>1.3</td>\n",
       "      <td>3.0375</td>\n",
       "      <td>3.04878048780488</td>\n",
       "      <td>medium</td>\n",
       "      <td>female</td>\n",
       "    </tr>\n",
       "    <tr>\n",
       "      <th>1</th>\n",
       "      <td>2</td>\n",
       "      <td>2</td>\n",
       "      <td>2.1</td>\n",
       "      <td>3.21875</td>\n",
       "      <td>2.95121951219512</td>\n",
       "      <td>medium</td>\n",
       "      <td>female</td>\n",
       "    </tr>\n",
       "    <tr>\n",
       "      <th>2</th>\n",
       "      <td>1</td>\n",
       "      <td>3</td>\n",
       "      <td>1.95</td>\n",
       "      <td>2.025</td>\n",
       "      <td>3.29268292682927</td>\n",
       "      <td>high</td>\n",
       "      <td>male</td>\n",
       "    </tr>\n",
       "    <tr>\n",
       "      <th>3</th>\n",
       "      <td>2</td>\n",
       "      <td>2</td>\n",
       "      <td>2.1</td>\n",
       "      <td>1.80625</td>\n",
       "      <td>2.19512195121951</td>\n",
       "      <td>medium</td>\n",
       "      <td>female</td>\n",
       "    </tr>\n",
       "    <tr>\n",
       "      <th>4</th>\n",
       "      <td>2</td>\n",
       "      <td>2</td>\n",
       "      <td>2.05</td>\n",
       "      <td>2.5625</td>\n",
       "      <td>2.80487804878049</td>\n",
       "      <td>medium</td>\n",
       "      <td>female</td>\n",
       "    </tr>\n",
       "    <tr>\n",
       "      <th>5</th>\n",
       "      <td>2</td>\n",
       "      <td>1</td>\n",
       "      <td>.95</td>\n",
       "      <td>1.38125</td>\n",
       "      <td>4.21951219512195</td>\n",
       "      <td>low</td>\n",
       "      <td>female</td>\n",
       "    </tr>\n",
       "    <tr>\n",
       "      <th>6</th>\n",
       "      <td>1</td>\n",
       "      <td>1</td>\n",
       "      <td>1.25</td>\n",
       "      <td>.9125</td>\n",
       "      <td></td>\n",
       "      <td>low</td>\n",
       "      <td>male</td>\n",
       "    </tr>\n",
       "    <tr>\n",
       "      <th>7</th>\n",
       "      <td>2</td>\n",
       "      <td>1</td>\n",
       "      <td>1.9</td>\n",
       "      <td>1.575</td>\n",
       "      <td></td>\n",
       "      <td>low</td>\n",
       "      <td>female</td>\n",
       "    </tr>\n",
       "    <tr>\n",
       "      <th>8</th>\n",
       "      <td>2</td>\n",
       "      <td>2</td>\n",
       "      <td>1.05</td>\n",
       "      <td>1.04375</td>\n",
       "      <td>4.31707317073171</td>\n",
       "      <td>medium</td>\n",
       "      <td>female</td>\n",
       "    </tr>\n",
       "    <tr>\n",
       "      <th>9</th>\n",
       "      <td>2</td>\n",
       "      <td>3</td>\n",
       "      <td>1.55</td>\n",
       "      <td>1.89375</td>\n",
       "      <td>3.26829268292683</td>\n",
       "      <td>high</td>\n",
       "      <td>female</td>\n",
       "    </tr>\n",
       "  </tbody>\n",
       "</table>\n",
       "</div>"
      ],
      "text/plain": [
       "  sex anxlevel stress totalworry         construct anx_label sex_label\n",
       "0   2        2    1.3     3.0375  3.04878048780488    medium    female\n",
       "1   2        2    2.1    3.21875  2.95121951219512    medium    female\n",
       "2   1        3   1.95      2.025  3.29268292682927      high      male\n",
       "3   2        2    2.1    1.80625  2.19512195121951    medium    female\n",
       "4   2        2   2.05     2.5625  2.80487804878049    medium    female\n",
       "5   2        1    .95    1.38125  4.21951219512195       low    female\n",
       "6   1        1   1.25      .9125                         low      male\n",
       "7   2        1    1.9      1.575                         low    female\n",
       "8   2        2   1.05    1.04375  4.31707317073171    medium    female\n",
       "9   2        3   1.55    1.89375  3.26829268292683      high    female"
      ]
     },
     "execution_count": 12,
     "metadata": {},
     "output_type": "execute_result"
    }
   ],
   "source": [
    "# Likewise using map to append a new variable with the meaningful labels for sex. \n",
    "df_2['sex_label'] = df_2['sex'].map({'1': 'male', '2': 'female'})\n",
    "\n",
    "df_2.head(10)"
   ]
  },
  {
   "cell_type": "code",
   "execution_count": 13,
   "id": "7699860e",
   "metadata": {},
   "outputs": [
    {
     "name": "stdout",
     "output_type": "stream",
     "text": [
      "<class 'pandas.core.frame.DataFrame'>\n",
      "Int64Index: 227 entries, 0 to 234\n",
      "Data columns (total 7 columns):\n",
      " #   Column      Non-Null Count  Dtype \n",
      "---  ------      --------------  ----- \n",
      " 0   sex         227 non-null    object\n",
      " 1   anxlevel    227 non-null    object\n",
      " 2   stress      227 non-null    object\n",
      " 3   totalworry  227 non-null    object\n",
      " 4   construct   227 non-null    object\n",
      " 5   anx_label   227 non-null    object\n",
      " 6   sex_label   227 non-null    object\n",
      "dtypes: object(7)\n",
      "memory usage: 14.2+ KB\n"
     ]
    }
   ],
   "source": [
    "df_2.info()"
   ]
  }
 ],
 "metadata": {
  "kernelspec": {
   "display_name": "Python 3 (ipykernel)",
   "language": "python",
   "name": "python3"
  },
  "language_info": {
   "codemirror_mode": {
    "name": "ipython",
    "version": 3
   },
   "file_extension": ".py",
   "mimetype": "text/x-python",
   "name": "python",
   "nbconvert_exporter": "python",
   "pygments_lexer": "ipython3",
   "version": "3.11.4"
  }
 },
 "nbformat": 4,
 "nbformat_minor": 5
}
