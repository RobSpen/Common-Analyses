{
 "cells": [
  {
   "cell_type": "markdown",
   "id": "7562d072",
   "metadata": {},
   "source": [
    "# Linear Regression Calculated Manually\n",
    "\n",
    "\n",
    "In a previous notebook I demonstrated how to fit a simple linear regression model using the statsmodels and pingouin software libraries. To develop intuition for linear regression, in this notebook I will run a regression analysis to obtain the regression coefficients by coding the equations manually.\n",
    "\n",
    "Linear regression, where we have one scale independent variable (IV) and one scale dependent variable (DV), is calculated using the least squares method. This means that the regression line is positioned in the place where it minimises the squared distances between the line (representing the predicted DV values) and the actual datapoints. All data is inherently noisy and there will be variability between individuals in their scores on both the IV and DV. We can see this most clearly when we plot the data using a scatterplot. The purpose of the regression line is to provide a useful model that captures the general pattern, or trend, in our dataset. As such, the line is situated so that the distance between it and every datapoint in our dataset is as small as it can be. When we have a simple linear regression model with one IV and one DV there is an analytic solution (an equation) that can be used to calculate the slope of the line. When we have more IVs in our model (multiple regression), then we may need to use computational methods to repeatedly fit lines and work out which line has the smallest squared deviation from the datapoints, and is our best model for the data.\n",
    "\n",
    "In the following cells, I will simulate some data that follows a normal distribution and has a linear relationship, and then show how to fit a simple linear regression model using equations for the slope and intercept."
   ]
  },
  {
   "cell_type": "code",
   "execution_count": 1,
   "id": "7b48f079",
   "metadata": {},
   "outputs": [],
   "source": [
    "# Importing key software libraries. \n",
    "\n",
    "import pandas as pd\n",
    "import numpy as np\n",
    "import matplotlib.pyplot as plt"
   ]
  },
  {
   "cell_type": "code",
   "execution_count": 2,
   "id": "f2293f6f",
   "metadata": {},
   "outputs": [],
   "source": [
    "# Generating some random data. I am setting a random seed at 0 so the data can be replicated. \n",
    "# x is our IV. I am generating a vector of 100 values (datapoints) with mean = 1.5 and standard deviation = 2.5. \n",
    "# res is an object containing values of the residuals (the deviation of each datapoint from the regression line).\n",
    "# y is our DV. The actual scores on the DV. \n",
    "\n",
    "\n",
    "np.random.seed(0)\n",
    "\n",
    "x = 2.5 * np.random.randn(100) + 1.5\n",
    "res = 0.5 * np.random.rand(100)\n",
    "y = 2 + 0.3 * x + res"
   ]
  },
  {
   "cell_type": "code",
   "execution_count": 3,
   "id": "b9dfd9ec",
   "metadata": {},
   "outputs": [
    {
     "data": {
      "text/html": [
       "<div>\n",
       "<style scoped>\n",
       "    .dataframe tbody tr th:only-of-type {\n",
       "        vertical-align: middle;\n",
       "    }\n",
       "\n",
       "    .dataframe tbody tr th {\n",
       "        vertical-align: top;\n",
       "    }\n",
       "\n",
       "    .dataframe thead th {\n",
       "        text-align: right;\n",
       "    }\n",
       "</style>\n",
       "<table border=\"1\" class=\"dataframe\">\n",
       "  <thead>\n",
       "    <tr style=\"text-align: right;\">\n",
       "      <th></th>\n",
       "      <th>x</th>\n",
       "      <th>y</th>\n",
       "    </tr>\n",
       "  </thead>\n",
       "  <tbody>\n",
       "    <tr>\n",
       "      <th>0</th>\n",
       "      <td>5.910131</td>\n",
       "      <td>3.984967</td>\n",
       "    </tr>\n",
       "    <tr>\n",
       "      <th>1</th>\n",
       "      <td>2.500393</td>\n",
       "      <td>3.053315</td>\n",
       "    </tr>\n",
       "    <tr>\n",
       "      <th>2</th>\n",
       "      <td>3.946845</td>\n",
       "      <td>3.193650</td>\n",
       "    </tr>\n",
       "    <tr>\n",
       "      <th>3</th>\n",
       "      <td>7.102233</td>\n",
       "      <td>4.281457</td>\n",
       "    </tr>\n",
       "    <tr>\n",
       "      <th>4</th>\n",
       "      <td>6.168895</td>\n",
       "      <td>4.180755</td>\n",
       "    </tr>\n",
       "  </tbody>\n",
       "</table>\n",
       "</div>"
      ],
      "text/plain": [
       "          x         y\n",
       "0  5.910131  3.984967\n",
       "1  2.500393  3.053315\n",
       "2  3.946845  3.193650\n",
       "3  7.102233  4.281457\n",
       "4  6.168895  4.180755"
      ]
     },
     "execution_count": 3,
     "metadata": {},
     "output_type": "execute_result"
    }
   ],
   "source": [
    "# Next, I will create a pandas dataframe to store the variables x (IV) and y (DV).\n",
    "# As shown below this creates a dataframe showing the data randomly generated. The data values are floating point (decimals).\n",
    "df = pd.DataFrame({'x': x, 'y': y})\n",
    "\n",
    "df.head()"
   ]
  },
  {
   "cell_type": "markdown",
   "id": "d33c892c",
   "metadata": {},
   "source": [
    "Now that we have a dataset to analyse, I will calculate the various statistics we will need to fit the regression line. Linear regression fits the line using the equation for a straight line: y = mx + b. ( y = DV score, m = slope of the line, x = IV score, b = intercept (the point the line crosses the y-axis when x = 0)).\n",
    "\n",
    "The above equation is written in slope-intercept form. When used for least squares regression it is often re-written to be:  \n",
    "$ y = {\\alpha} + {\\beta}x $\n",
    " . In this form the terms are simply rearranged and different letters are used for the slope and intercept. (y = DV score, ${\\beta}$ = slope of the line, x = IV score, ${\\alpha}$ = intercept. To fit a linear model for our data, using this equation we will need to calcualte means scores for our variables as well as alpha and beta using all data in our vector of scores for each variable."
   ]
  },
  {
   "cell_type": "code",
   "execution_count": 4,
   "id": "02c9b5be",
   "metadata": {},
   "outputs": [],
   "source": [
    "# Calculating the mean for our IV (x) and DV (y).\n",
    "\n",
    "x_mean = np.mean(x)\n",
    "y_mean = np.mean(y)"
   ]
  },
  {
   "cell_type": "code",
   "execution_count": 5,
   "id": "794f377b",
   "metadata": {},
   "outputs": [
    {
     "data": {
      "text/plain": [
       "1.6495200388362121"
      ]
     },
     "execution_count": 5,
     "metadata": {},
     "output_type": "execute_result"
    }
   ],
   "source": [
    "# Our IV has a mean of 1.65. This is close to the mean specified when generating the data (Mean = 1.5).\n",
    "x_mean"
   ]
  },
  {
   "cell_type": "code",
   "execution_count": 6,
   "id": "deb6404c",
   "metadata": {},
   "outputs": [
    {
     "data": {
      "text/plain": [
       "2.7421879204228894"
      ]
     },
     "execution_count": 6,
     "metadata": {},
     "output_type": "execute_result"
    }
   ],
   "source": [
    "# The mean for the DV is 2.74. \n",
    "y_mean"
   ]
  },
  {
   "cell_type": "code",
   "execution_count": 7,
   "id": "323f8ed5",
   "metadata": {},
   "outputs": [],
   "source": [
    "# There are a couple of terms we need for the numerator and denominator when calculating the the slope of the line. \n",
    "# These are the variance for the IV and the covariance of the IV and DV. \n",
    "# I will creates these as new variables that will be appended to our existing dataframe. \n",
    "\n",
    "# The covariance of x and y.\n",
    "df['xycov'] = (df['x'] - x_mean) * (df['y'] - y_mean)\n",
    "\n",
    "# Variance for x. \n",
    "df['xvar'] = (df['x'] - x_mean)**2"
   ]
  },
  {
   "cell_type": "code",
   "execution_count": 8,
   "id": "2d1ee80d",
   "metadata": {},
   "outputs": [],
   "source": [
    "# Calculate 𝛼 (alpha) and 𝛽 (beta).\n",
    "\n",
    "beta = df['xycov'].sum() / df['xvar'].sum() \n",
    "\n",
    "alpha = y_mean - (beta * x_mean)"
   ]
  },
  {
   "cell_type": "markdown",
   "id": "9c7e936b",
   "metadata": {},
   "source": [
    "Note above that the slope of the line is calculated using the covariance (of x and y) and the variance (of x). The covariance is divided by the variance.\n",
    "\n",
    "beta = cov(x, y) / var(x). "
   ]
  },
  {
   "cell_type": "markdown",
   "id": "bf0fa7e8",
   "metadata": {},
   "source": [
    "Also, note that the intercept is caculated by subtracting the slope multiplied by the mean IV score from the mean DV score. \n",
    "\n",
    "alpha = DV mean - (beta * IV mean)"
   ]
  },
  {
   "cell_type": "code",
   "execution_count": 9,
   "id": "de059476",
   "metadata": {},
   "outputs": [
    {
     "name": "stdout",
     "output_type": "stream",
     "text": [
      "Alpha = 2.249334402212435\n",
      "Beta = 0.2987860144810232\n"
     ]
    }
   ],
   "source": [
    "# Printing the values of alpha (the intercept) and beta (the slope) for a regression line for our data. \n",
    "\n",
    "print(f\"Alpha = {alpha}\")\n",
    "\n",
    "print(f\"Beta = {beta}\")\n"
   ]
  },
  {
   "cell_type": "markdown",
   "id": "c6a28056",
   "metadata": {},
   "source": [
    "Now that we have the values of alpha (the intercept) and beta (the slope of the line) we can make predictions for any given input value on the IV. \n",
    "\n",
    "The regression equation for our model is: \n",
    "\n",
    "y = 2.25 + 0.30x\n",
    "\n",
    "or\n",
    "\n",
    "DV score = 2.25 + 0.30 * IV score\n",
    "\n",
    "We can obtain a vector of predicted DV scores for each value of our IV as shown below."
   ]
  },
  {
   "cell_type": "code",
   "execution_count": 10,
   "id": "2eaef1e5",
   "metadata": {},
   "outputs": [
    {
     "data": {
      "text/plain": [
       "array([4.01519885, 2.99641687, 3.42859648, 4.37138229, 4.09251395,\n",
       "       1.96752102, 3.40719625, 2.58445488, 2.62041255, 3.00421615,\n",
       "       2.80510894, 3.78380489, 3.265982  , 2.78840041, 3.02906374,\n",
       "       2.94675648, 3.81353825, 2.54426737, 2.93136405, 2.05953377,\n",
       "       0.79051929, 3.18574366, 3.34321704, 2.1431421 , 4.39294077,\n",
       "       1.61115312, 2.73169344, 2.55769363, 3.84244591, 3.79507305,\n",
       "       2.81325373, 2.9799876 , 2.03436851, 1.21792772, 2.43763521,\n",
       "       2.81430064, 3.61649755, 3.59564913, 2.40819383, 2.47170384,\n",
       "       1.91428102, 1.63680967, 1.42298925, 4.15467444, 2.31682106,\n",
       "       2.37028724, 1.76171909, 3.27827154, 1.49198816, 2.53860387,\n",
       "       2.02863121, 2.98651606, 2.31595985, 1.81562246, 2.67646228,\n",
       "       3.01746236, 2.74719946, 2.92344936, 2.223697  , 2.42655846,\n",
       "       2.19520898, 2.42893978, 2.09012158, 1.40804068, 2.83004455,\n",
       "       2.39739711, 1.47981226, 3.04319559, 2.01979327, 2.73631482,\n",
       "       3.24211858, 2.79385915, 3.5486059 , 1.77514171, 2.99804856,\n",
       "       2.18598423, 2.0470584 , 2.26513296, 2.46479458, 2.73946697,\n",
       "       1.82718723, 3.37039931, 3.04534699, 1.5499931 , 3.80918578,\n",
       "       4.11367635, 3.57802055, 2.56311586, 1.89769865, 3.485152  ,\n",
       "       2.39635434, 3.61063715, 2.85308755, 3.42702864, 2.96370666,\n",
       "       3.22529888, 2.70535657, 4.03149624, 2.79231232, 2.99778542])"
      ]
     },
     "execution_count": 10,
     "metadata": {},
     "output_type": "execute_result"
    }
   ],
   "source": [
    "# Calculated the predicted y-value (DV score) for each value in our vector of IV scores (x)\n",
    "# The output returns an array of 100 predicted values. \n",
    "pred_y = alpha + beta * x\n",
    "\n",
    "pred_y"
   ]
  },
  {
   "cell_type": "markdown",
   "id": "d18faac4",
   "metadata": {},
   "source": [
    "It is useful to visualise the data and the regression line (showing the predicted DV scores). A scatter plot will help us to better understand the relationship between our data and the fitted regression line. "
   ]
  },
  {
   "cell_type": "code",
   "execution_count": 11,
   "id": "4da74d63",
   "metadata": {},
   "outputs": [
    {
     "data": {
      "image/png": "[encoded data removed]",
      "text/plain": [
       "<Figure size 864x432 with 1 Axes>"
      ]
     },
     "metadata": {
      "needs_background": "light"
     },
     "output_type": "display_data"
    }
   ],
   "source": [
    "# Plot regression against actual data\n",
    "\n",
    "plt.figure(figsize=(12, 6))\n",
    "plt.plot(x, pred_y)    # Plots the regression line\n",
    "plt.plot(x, y, 'ro')   # Scatter plot of the actual datapoints. \n",
    "plt.title('Data with fitted regression line')\n",
    "plt.xlabel('x')\n",
    "plt.ylabel('y')\n",
    "\n",
    "plt.show()"
   ]
  },
  {
   "cell_type": "markdown",
   "id": "7aecc85a",
   "metadata": {},
   "source": [
    "Above, we can see that the simulated data is highly positively correlated and the regression line is a good model to capture the pattern in the data. It is clear that as scores on the IV (x) increase, scores on the DV (y) increase. "
   ]
  },
  {
   "cell_type": "markdown",
   "id": "ff0a3136",
   "metadata": {},
   "source": [
    "## Summary:\n",
    "\n",
    "- We can calculate the coefficients for a simple linear regression model using analytic solution formulas. \n",
    "- These help us calculate the intercept and slope for the least squares regression line that minimises the squared distances between actual and predicted scores on the DV. \n",
    "- We can use this information to predict scores on the DV for IV values that are not in our dataset. \n",
    "- Plotting the data and regression line gives us a visual impression of how well our linear model fits the data. "
   ]
  }
 ],
 "metadata": {
  "kernelspec": {
   "display_name": "Python 3 (ipykernel)",
   "language": "python",
   "name": "python3"
  },
  "language_info": {
   "codemirror_mode": {
    "name": "ipython",
    "version": 3
   },
   "file_extension": ".py",
   "mimetype": "text/x-python",
   "name": "python",
   "nbconvert_exporter": "python",
   "pygments_lexer": "ipython3",
   "version": "3.9.12"
  }
 },
 "nbformat": 4,
 "nbformat_minor": 5
}
