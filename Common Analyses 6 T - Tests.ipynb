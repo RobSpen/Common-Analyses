{
 "cells": [
  {
   "cell_type": "markdown",
   "id": "cf72bbe8",
   "metadata": {},
   "source": [
    "# Performing t tests in python\n",
    "\n",
    "## Basic inferential statistical tests comparing two means. \n",
    "### One-sample, independent groups, paired samples t tests"
   ]
  },
  {
   "cell_type": "markdown",
   "id": "607e7226",
   "metadata": {},
   "source": [
    "## One-sample T-test"
   ]
  },
  {
   "cell_type": "code",
   "execution_count": 1,
   "id": "d39a96e4",
   "metadata": {},
   "outputs": [],
   "source": [
    "%matplotlib inline\n",
    "\n",
    "import numpy as np\n",
    "import pandas as pd\n",
    "import scipy.stats as stats\n",
    "import matplotlib.pyplot as plt\n",
    "import math "
   ]
  },
  {
   "cell_type": "code",
   "execution_count": 2,
   "id": "f25a1805",
   "metadata": {},
   "outputs": [
    {
     "name": "stdout",
     "output_type": "stream",
     "text": [
      "43.000112\n",
      "39.26\n"
     ]
    }
   ],
   "source": [
    "# Creating some dummy data to use as an example. This is data for mean voting age for the population and for a sample\n",
    "# from Yorkshire. This has been randomly generated so the means for the sample and the population differ.\n",
    "# Two different distributions have been generated here, one for the popn and one for the sample from yorks. \n",
    "\n",
    "np.random.seed(6)\n",
    "\n",
    "population_ages1 = stats.poisson.rvs(loc = 18, mu = 35, size = 150000)\n",
    "population_ages2 = stats.poisson.rvs(loc = 18, mu = 10, size = 100000)\n",
    "popn_ages = np.concatenate((population_ages1, population_ages2))\n",
    "\n",
    "yorkshire_ages1 = stats.poisson.rvs(loc = 18, mu = 30, size = 30)\n",
    "yorkshire_ages2 = stats.poisson.rvs(loc = 18, mu = 10, size = 20)\n",
    "yorks_ages = np.concatenate((yorkshire_ages1, yorkshire_ages2))\n",
    "\n",
    "print(popn_ages.mean())\n",
    "print(yorks_ages.mean())"
   ]
  },
  {
   "cell_type": "code",
   "execution_count": 3,
   "id": "6da8683f",
   "metadata": {},
   "outputs": [
    {
     "data": {
      "text/plain": [
       "Ttest_1sampResult(statistic=-2.5742714883655027, pvalue=0.013118685425061678)"
      ]
     },
     "execution_count": 3,
     "metadata": {},
     "output_type": "execute_result"
    }
   ],
   "source": [
    "# To conduct an inferential statistical test at the 95% confidence level to see if the mean age for yorks voters differs\n",
    "# significantly from the mean age of voters in the popn we can use the scipy stats.ttest_1samp method:\n",
    "\n",
    "stats.ttest_1samp(a = yorks_ages, popmean = popn_ages.mean()) # Note the arguments are the sample data and the popn mean\n",
    "# for comparison. \n",
    "# The results give us significant result at the p = 0.013 level. "
   ]
  },
  {
   "cell_type": "code",
   "execution_count": 4,
   "id": "536788c2",
   "metadata": {},
   "outputs": [
    {
     "data": {
      "text/plain": [
       "-2.0095752344892093"
      ]
     },
     "execution_count": 4,
     "metadata": {},
     "output_type": "execute_result"
    }
   ],
   "source": [
    "# So, the t value lies outside the 95% confidence intervals for the t-distribution based on our population. \n",
    "# We can check this by getting quantiles for the top and bottom 2.5 tails of the distribution and comparing our\n",
    "# t value against this. \n",
    "\n",
    "stats.t.ppf(q = 0.025, df = 49) # Note the arguments are our quantiles (the bottom 2.5%) and the degrees of freedom. "
   ]
  },
  {
   "cell_type": "code",
   "execution_count": 5,
   "id": "c8cd465d",
   "metadata": {},
   "outputs": [
    {
     "data": {
      "text/plain": [
       "2.009575234489209"
      ]
     },
     "execution_count": 5,
     "metadata": {},
     "output_type": "execute_result"
    }
   ],
   "source": [
    "# Similarly, checking the 95% CI for the top 2.5%\n",
    "stats.t.ppf(q = 0.975, df = 49) # Note the arguments are our quantiles (the top 2.5%) and the degrees of freedom. "
   ]
  },
  {
   "cell_type": "code",
   "execution_count": 6,
   "id": "bdb9f99e",
   "metadata": {},
   "outputs": [
    {
     "data": {
      "text/plain": [
       "0.013121066545690117"
      ]
     },
     "execution_count": 6,
     "metadata": {},
     "output_type": "execute_result"
    }
   ],
   "source": [
    "# An alternative way to get the p-value is using our t value as the argument and the stats.t.cdf method:\n",
    "stats.t.cdf(x = -2.5742, df = 49) * 2   # Note here we are multiplying the cdf by 2 as we did a two-tailed test. \n",
    "\n",
    "# As can be seen here and above the probability of getting this difference in means by chance if there is no\n",
    "# difference between our sample and the popn is about 1.3%. Highly unlikely. "
   ]
  },
  {
   "cell_type": "code",
   "execution_count": 7,
   "id": "3745849f",
   "metadata": {},
   "outputs": [
    {
     "data": {
      "text/plain": [
       "(36.369669080722176, 42.15033091927782)"
      ]
     },
     "execution_count": 7,
     "metadata": {},
     "output_type": "execute_result"
    }
   ],
   "source": [
    "# If we were to construct a 95% confidence interval for our sample it would not capture the population mean:\n",
    "\n",
    "sigma = yorks_ages.std()/math.sqrt(50)  # Sample std/ sample size\n",
    "\n",
    "stats.t.interval(0.95, df = 49, loc = yorks_ages.mean(), scale = sigma) \n",
    "\n",
    "# The arguments in the interval method above are (confidence interval, df, sample mean, std dev estimate)\n",
    "# The output gives us our 95% CIs. "
   ]
  },
  {
   "cell_type": "code",
   "execution_count": 8,
   "id": "e807b37a",
   "metadata": {},
   "outputs": [
    {
     "data": {
      "text/plain": [
       "(35.40547994092107, 43.11452005907893)"
      ]
     },
     "execution_count": 8,
     "metadata": {},
     "output_type": "execute_result"
    }
   ],
   "source": [
    "# If we wanted a stricter significance level criterion we can adjust the alpha level. \n",
    "# For example, if we used a 99% threshold for sig, our results would no longer be significant\n",
    "# and the 99% CIs would capture the popn mean (of 43.00):\n",
    "\n",
    "stats.t.interval(alpha = 0.99, df = 49, loc = yorks_ages.mean(), scale = sigma) "
   ]
  },
  {
   "cell_type": "markdown",
   "id": "433b7a6f",
   "metadata": {},
   "source": [
    "## Two-sample T-test"
   ]
  },
  {
   "cell_type": "markdown",
   "id": "310d101c",
   "metadata": {},
   "source": [
    "### Independent Groups T-Test"
   ]
  },
  {
   "cell_type": "code",
   "execution_count": 9,
   "id": "77a5f318",
   "metadata": {},
   "outputs": [
    {
     "name": "stdout",
     "output_type": "stream",
     "text": [
      "42.8\n"
     ]
    }
   ],
   "source": [
    "# Creating a second set of dummy sample data relating to voter ages in the county of Hertfordshire\n",
    "np.random.seed(12)\n",
    "herts_ages1 = stats.poisson.rvs(loc = 18, mu = 33, size = 30)\n",
    "herts_ages2 = stats.poisson.rvs(loc = 18, mu = 13, size = 20)\n",
    "herts_ages = np.concatenate((herts_ages1, herts_ages2))\n",
    "\n",
    "print(herts_ages.mean())"
   ]
  },
  {
   "cell_type": "code",
   "execution_count": 10,
   "id": "cd868021",
   "metadata": {},
   "outputs": [
    {
     "data": {
      "text/plain": [
       "Ttest_indResult(statistic=-1.7083870793286842, pvalue=0.09073104343957748)"
      ]
     },
     "execution_count": 10,
     "metadata": {},
     "output_type": "execute_result"
    }
   ],
   "source": [
    "# Running an independent groups t-test using ttest_ind from scipy:\n",
    "\n",
    "stats.ttest_ind(a = yorks_ages, b = herts_ages, equal_var = False) \n",
    "# Equal var arguments allows us to specify whether the samples meet the assumption of equal variances. \n",
    "# In this case we don't get a significant difference between two samples (p = 0.09)."
   ]
  },
  {
   "cell_type": "markdown",
   "id": "b72776fc",
   "metadata": {},
   "source": [
    "### Paired samples (repeated measures) T-Test"
   ]
  },
  {
   "cell_type": "code",
   "execution_count": 21,
   "id": "d8502675",
   "metadata": {},
   "outputs": [
    {
     "data": {
      "text/html": [
       "<div>\n",
       "<style scoped>\n",
       "    .dataframe tbody tr th:only-of-type {\n",
       "        vertical-align: middle;\n",
       "    }\n",
       "\n",
       "    .dataframe tbody tr th {\n",
       "        vertical-align: top;\n",
       "    }\n",
       "\n",
       "    .dataframe thead th {\n",
       "        text-align: right;\n",
       "    }\n",
       "</style>\n",
       "<table border=\"1\" class=\"dataframe\">\n",
       "  <thead>\n",
       "    <tr style=\"text-align: right;\">\n",
       "      <th></th>\n",
       "      <th>Weight Before</th>\n",
       "      <th>Weight After</th>\n",
       "      <th>Weight Change</th>\n",
       "    </tr>\n",
       "  </thead>\n",
       "  <tbody>\n",
       "    <tr>\n",
       "      <th>count</th>\n",
       "      <td>100.000000</td>\n",
       "      <td>100.000000</td>\n",
       "      <td>100.000000</td>\n",
       "    </tr>\n",
       "    <tr>\n",
       "      <th>mean</th>\n",
       "      <td>250.345546</td>\n",
       "      <td>249.115171</td>\n",
       "      <td>-1.230375</td>\n",
       "    </tr>\n",
       "    <tr>\n",
       "      <th>std</th>\n",
       "      <td>28.132539</td>\n",
       "      <td>28.422183</td>\n",
       "      <td>4.783696</td>\n",
       "    </tr>\n",
       "    <tr>\n",
       "      <th>min</th>\n",
       "      <td>170.400443</td>\n",
       "      <td>165.913930</td>\n",
       "      <td>-11.495286</td>\n",
       "    </tr>\n",
       "    <tr>\n",
       "      <th>25%</th>\n",
       "      <td>230.421042</td>\n",
       "      <td>229.148236</td>\n",
       "      <td>-4.046211</td>\n",
       "    </tr>\n",
       "    <tr>\n",
       "      <th>50%</th>\n",
       "      <td>250.830805</td>\n",
       "      <td>251.134089</td>\n",
       "      <td>-1.413463</td>\n",
       "    </tr>\n",
       "    <tr>\n",
       "      <th>75%</th>\n",
       "      <td>270.637145</td>\n",
       "      <td>268.927258</td>\n",
       "      <td>1.738673</td>\n",
       "    </tr>\n",
       "    <tr>\n",
       "      <th>max</th>\n",
       "      <td>314.700233</td>\n",
       "      <td>316.720357</td>\n",
       "      <td>9.759282</td>\n",
       "    </tr>\n",
       "  </tbody>\n",
       "</table>\n",
       "</div>"
      ],
      "text/plain": [
       "       Weight Before  Weight After  Weight Change\n",
       "count     100.000000    100.000000     100.000000\n",
       "mean      250.345546    249.115171      -1.230375\n",
       "std        28.132539     28.422183       4.783696\n",
       "min       170.400443    165.913930     -11.495286\n",
       "25%       230.421042    229.148236      -4.046211\n",
       "50%       250.830805    251.134089      -1.413463\n",
       "75%       270.637145    268.927258       1.738673\n",
       "max       314.700233    316.720357       9.759282"
      ]
     },
     "execution_count": 21,
     "metadata": {},
     "output_type": "execute_result"
    }
   ],
   "source": [
    "# Creating a dummy data frame showing weight loss measurements from the same participants at two different times,\n",
    "# before and after some weight loss treatment (as a simulated example).\n",
    "\n",
    "np.random.seed(11)\n",
    "\n",
    "before = stats.norm.rvs(scale = 30, loc = 250, size = 100)\n",
    "after = before + stats.norm.rvs(scale = 5, loc = -1.25, size = 100)\n",
    "\n",
    "weight_df = pd.DataFrame({\"Weight Before\": before, \"Weight After\": after, \"Weight Change\": after - before})\n",
    "\n",
    "weight_df.describe()"
   ]
  },
  {
   "cell_type": "code",
   "execution_count": 22,
   "id": "129e2a79",
   "metadata": {},
   "outputs": [
    {
     "data": {
      "text/plain": [
       "Ttest_relResult(statistic=2.5720175998568284, pvalue=0.011596444318439857)"
      ]
     },
     "execution_count": 22,
     "metadata": {},
     "output_type": "execute_result"
    }
   ],
   "source": [
    "# We use the scipy.stats method ttest_rel to run a paired-samples test. \n",
    "\n",
    "stats.ttest_rel(a = before, b = after)"
   ]
  },
  {
   "cell_type": "markdown",
   "id": "8d3b08e9",
   "metadata": {},
   "source": [
    "## Running an IG T-Test on an imported/ existing dataset"
   ]
  },
  {
   "cell_type": "code",
   "execution_count": 11,
   "id": "93fe5377",
   "metadata": {},
   "outputs": [
    {
     "data": {
      "text/html": [
       "<div>\n",
       "<style scoped>\n",
       "    .dataframe tbody tr th:only-of-type {\n",
       "        vertical-align: middle;\n",
       "    }\n",
       "\n",
       "    .dataframe tbody tr th {\n",
       "        vertical-align: top;\n",
       "    }\n",
       "\n",
       "    .dataframe thead th {\n",
       "        text-align: right;\n",
       "    }\n",
       "</style>\n",
       "<table border=\"1\" class=\"dataframe\">\n",
       "  <thead>\n",
       "    <tr style=\"text-align: right;\">\n",
       "      <th></th>\n",
       "      <th>Participant_ID</th>\n",
       "      <th>Weight</th>\n",
       "      <th>Height</th>\n",
       "      <th>Age</th>\n",
       "      <th>Sex</th>\n",
       "    </tr>\n",
       "  </thead>\n",
       "  <tbody>\n",
       "    <tr>\n",
       "      <th>0</th>\n",
       "      <td>1</td>\n",
       "      <td>81.5</td>\n",
       "      <td>182.3</td>\n",
       "      <td>32</td>\n",
       "      <td>0</td>\n",
       "    </tr>\n",
       "    <tr>\n",
       "      <th>1</th>\n",
       "      <td>2</td>\n",
       "      <td>88.8</td>\n",
       "      <td>182.6</td>\n",
       "      <td>30</td>\n",
       "      <td>0</td>\n",
       "    </tr>\n",
       "    <tr>\n",
       "      <th>2</th>\n",
       "      <td>3</td>\n",
       "      <td>45.5</td>\n",
       "      <td>167.3</td>\n",
       "      <td>20</td>\n",
       "      <td>1</td>\n",
       "    </tr>\n",
       "    <tr>\n",
       "      <th>3</th>\n",
       "      <td>4</td>\n",
       "      <td>85.4</td>\n",
       "      <td>180.3</td>\n",
       "      <td>19</td>\n",
       "      <td>0</td>\n",
       "    </tr>\n",
       "    <tr>\n",
       "      <th>4</th>\n",
       "      <td>5</td>\n",
       "      <td>72.8</td>\n",
       "      <td>170.5</td>\n",
       "      <td>26</td>\n",
       "      <td>1</td>\n",
       "    </tr>\n",
       "  </tbody>\n",
       "</table>\n",
       "</div>"
      ],
      "text/plain": [
       "   Participant_ID  Weight  Height  Age  Sex\n",
       "0               1    81.5   182.3   32    0\n",
       "1               2    88.8   182.6   30    0\n",
       "2               3    45.5   167.3   20    1\n",
       "3               4    85.4   180.3   19    0\n",
       "4               5    72.8   170.5   26    1"
      ]
     },
     "execution_count": 11,
     "metadata": {},
     "output_type": "execute_result"
    }
   ],
   "source": [
    "# Importing the weight height data for an IG t test: \n",
    "\n",
    "w_h_data = pd.read_csv(\"weight height IG t test.csv\")\n",
    "\n",
    "w_h_data.head()"
   ]
  },
  {
   "cell_type": "code",
   "execution_count": 12,
   "id": "ad5d2ee7",
   "metadata": {},
   "outputs": [
    {
     "data": {
      "text/plain": [
       "Participant_ID      int64\n",
       "Weight            float64\n",
       "Height            float64\n",
       "Age                 int64\n",
       "Sex                 int64\n",
       "dtype: object"
      ]
     },
     "execution_count": 12,
     "metadata": {},
     "output_type": "execute_result"
    }
   ],
   "source": [
    "# Examining data types shows sex is already dummy coded and an integer:\n",
    "w_h_data.dtypes"
   ]
  },
  {
   "cell_type": "code",
   "execution_count": 13,
   "id": "f3a15105",
   "metadata": {},
   "outputs": [],
   "source": [
    "# IG test comparing weight with sex as grouping variable:\n",
    "res = stats.ttest_ind(w_h_data[w_h_data.Sex == 0].Weight, w_h_data[w_h_data.Sex == 1].Weight, equal_var = False)"
   ]
  },
  {
   "cell_type": "code",
   "execution_count": 14,
   "id": "432e2a31",
   "metadata": {},
   "outputs": [
    {
     "data": {
      "text/plain": [
       "Ttest_indResult(statistic=5.354258568077058, pvalue=5.664350507458935e-06)"
      ]
     },
     "execution_count": 14,
     "metadata": {},
     "output_type": "execute_result"
    }
   ],
   "source": [
    "res"
   ]
  },
  {
   "cell_type": "code",
   "execution_count": 15,
   "id": "292ce7ec",
   "metadata": {},
   "outputs": [
    {
     "data": {
      "text/plain": [
       "(73.63474735153451, 80.20161628482916)"
      ]
     },
     "execution_count": 15,
     "metadata": {},
     "output_type": "execute_result"
    }
   ],
   "source": [
    "# Constructing 95% CIs for the t test:\n",
    "\n",
    "sigma = w_h_data[w_h_data.Sex == 0].Weight.std()/math.sqrt(50)  # Sample std/ sample size\n",
    "\n",
    "stats.t.interval(0.95, df = 49, loc = w_h_data[w_h_data.Sex == 0].Weight.mean(), scale = sigma) \n",
    "\n",
    "# The arguments in the interval method above are (confidence interval, df, sample mean, std dev estimate)\n",
    "# The output gives us our 95% CIs. "
   ]
  },
  {
   "cell_type": "code",
   "execution_count": 16,
   "id": "8b46d665",
   "metadata": {},
   "outputs": [
    {
     "name": "stdout",
     "output_type": "stream",
     "text": [
      "Male Weight mean:  76.91818181818184\n",
      "Female Weight mean:  61.64999999999999\n"
     ]
    }
   ],
   "source": [
    "# The sample mean for males and females was:\n",
    "\n",
    "print(\"Male Weight mean: \", w_h_data[w_h_data.Sex == 0].Weight.mean())\n",
    "print(\"Female Weight mean: \", w_h_data[w_h_data.Sex == 1].Weight.mean())"
   ]
  },
  {
   "cell_type": "code",
   "execution_count": 17,
   "id": "c7e5c0c6",
   "metadata": {},
   "outputs": [],
   "source": [
    "# A second IG t test with height as the DV difference between sexes:\n",
    "\n",
    "res_2 = stats.ttest_ind(w_h_data[w_h_data.Sex == 0].Height, w_h_data[w_h_data.Sex == 1].Height, equal_var = False)"
   ]
  },
  {
   "cell_type": "code",
   "execution_count": 18,
   "id": "0082ca78",
   "metadata": {},
   "outputs": [
    {
     "data": {
      "text/plain": [
       "Ttest_indResult(statistic=5.616972413592523, pvalue=1.5053462128673466e-06)"
      ]
     },
     "execution_count": 18,
     "metadata": {},
     "output_type": "execute_result"
    }
   ],
   "source": [
    "res_2\n",
    "\n",
    "# Both produced significant results. "
   ]
  },
  {
   "cell_type": "code",
   "execution_count": 19,
   "id": "5b2dc665",
   "metadata": {},
   "outputs": [
    {
     "data": {
      "text/plain": [
       "(173.71027038543272, 177.96245688729456)"
      ]
     },
     "execution_count": 19,
     "metadata": {},
     "output_type": "execute_result"
    }
   ],
   "source": [
    "# Constructing 95% CIs for the t test:\n",
    "\n",
    "sigma = w_h_data[w_h_data.Sex == 0].Height.std()/math.sqrt(50)  # Sample std/ sample size\n",
    "\n",
    "stats.t.interval(0.95, df = 49, loc = w_h_data[w_h_data.Sex == 0].Height.mean(), scale = sigma) \n",
    "\n",
    "# The arguments in the interval method above are (confidence interval, df, sample mean, std dev estimate)\n",
    "# The output gives us our 95% CIs. "
   ]
  },
  {
   "cell_type": "code",
   "execution_count": 20,
   "id": "13ad67c4",
   "metadata": {},
   "outputs": [
    {
     "name": "stdout",
     "output_type": "stream",
     "text": [
      "Male Height mean:  175.83636363636364\n",
      "Female Height mean:  164.64642857142863\n"
     ]
    }
   ],
   "source": [
    "print(\"Male Height mean: \", w_h_data[w_h_data.Sex == 0].Height.mean())\n",
    "print(\"Female Height mean: \", w_h_data[w_h_data.Sex == 1].Height.mean())"
   ]
  },
  {
   "cell_type": "markdown",
   "id": "7e97733b",
   "metadata": {},
   "source": [
    "## Running a paired-samples T-Test using an imported/ existing dataset "
   ]
  },
  {
   "cell_type": "code",
   "execution_count": 23,
   "id": "5b0d52b9",
   "metadata": {},
   "outputs": [],
   "source": [
    "test_score = pd.read_csv(\"test score progress.csv\")"
   ]
  },
  {
   "cell_type": "code",
   "execution_count": 24,
   "id": "58c025b6",
   "metadata": {},
   "outputs": [
    {
     "data": {
      "text/html": [
       "<div>\n",
       "<style scoped>\n",
       "    .dataframe tbody tr th:only-of-type {\n",
       "        vertical-align: middle;\n",
       "    }\n",
       "\n",
       "    .dataframe tbody tr th {\n",
       "        vertical-align: top;\n",
       "    }\n",
       "\n",
       "    .dataframe thead th {\n",
       "        text-align: right;\n",
       "    }\n",
       "</style>\n",
       "<table border=\"1\" class=\"dataframe\">\n",
       "  <thead>\n",
       "    <tr style=\"text-align: right;\">\n",
       "      <th></th>\n",
       "      <th>Participant_ID</th>\n",
       "      <th>Test1_Score</th>\n",
       "      <th>Test2_Score</th>\n",
       "    </tr>\n",
       "  </thead>\n",
       "  <tbody>\n",
       "    <tr>\n",
       "      <th>0</th>\n",
       "      <td>1</td>\n",
       "      <td>45</td>\n",
       "      <td>55</td>\n",
       "    </tr>\n",
       "    <tr>\n",
       "      <th>1</th>\n",
       "      <td>2</td>\n",
       "      <td>34</td>\n",
       "      <td>46</td>\n",
       "    </tr>\n",
       "    <tr>\n",
       "      <th>2</th>\n",
       "      <td>3</td>\n",
       "      <td>52</td>\n",
       "      <td>65</td>\n",
       "    </tr>\n",
       "    <tr>\n",
       "      <th>3</th>\n",
       "      <td>4</td>\n",
       "      <td>67</td>\n",
       "      <td>74</td>\n",
       "    </tr>\n",
       "    <tr>\n",
       "      <th>4</th>\n",
       "      <td>5</td>\n",
       "      <td>40</td>\n",
       "      <td>50</td>\n",
       "    </tr>\n",
       "  </tbody>\n",
       "</table>\n",
       "</div>"
      ],
      "text/plain": [
       "   Participant_ID  Test1_Score  Test2_Score\n",
       "0               1           45           55\n",
       "1               2           34           46\n",
       "2               3           52           65\n",
       "3               4           67           74\n",
       "4               5           40           50"
      ]
     },
     "execution_count": 24,
     "metadata": {},
     "output_type": "execute_result"
    }
   ],
   "source": [
    "test_score.head()"
   ]
  },
  {
   "cell_type": "code",
   "execution_count": 25,
   "id": "c216ac48",
   "metadata": {},
   "outputs": [
    {
     "data": {
      "text/plain": [
       "Ttest_relResult(statistic=-23.728962983778086, pvalue=1.6043341681559642e-28)"
      ]
     },
     "execution_count": 25,
     "metadata": {},
     "output_type": "execute_result"
    }
   ],
   "source": [
    "# Running a RM t test using the above data. \n",
    "\n",
    "stats.ttest_rel(a = test_score.Test1_Score, b = test_score.Test2_Score)"
   ]
  },
  {
   "cell_type": "code",
   "execution_count": 26,
   "id": "5460daa1",
   "metadata": {},
   "outputs": [
    {
     "name": "stdout",
     "output_type": "stream",
     "text": [
      "Test 1 mean:  41.36\n",
      "Test 2 mean:  52.72\n"
     ]
    }
   ],
   "source": [
    "# The test produced a significant result. Printing the group means for comparison:\n",
    "\n",
    "print(\"Test 1 mean: \", test_score.Test1_Score.mean())\n",
    "print(\"Test 2 mean: \", test_score.Test2_Score.mean())"
   ]
  },
  {
   "cell_type": "markdown",
   "id": "3f1bbe5e",
   "metadata": {},
   "source": [
    "## In this notebook I have provided code examples of how you run one-sample, independent groups and paired-samples t-tests using both simulated data and data imported from real datasets. \n",
    "\n",
    "### The examples used robust tests that did not assume equal variances by setting the equal_var argument to False. "
   ]
  }
 ],
 "metadata": {
  "kernelspec": {
   "display_name": "Python 3 (ipykernel)",
   "language": "python",
   "name": "python3"
  },
  "language_info": {
   "codemirror_mode": {
    "name": "ipython",
    "version": 3
   },
   "file_extension": ".py",
   "mimetype": "text/x-python",
   "name": "python",
   "nbconvert_exporter": "python",
   "pygments_lexer": "ipython3",
   "version": "3.9.12"
  }
 },
 "nbformat": 4,
 "nbformat_minor": 5
}
