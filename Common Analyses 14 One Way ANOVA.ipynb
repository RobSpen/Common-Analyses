{
 "cells": [
  {
   "cell_type": "markdown",
   "id": "226e2bab",
   "metadata": {},
   "source": [
    "# One-way Analysis of Variance (ANOVA)\n",
    "\n",
    "ANOVA is a null-hypothesis significance test used to compare differences between groups on a categorical independent variable (IV) in terms of their group mean score on a scale dependent variable (DV). ANOVA is an ominbus test that allows us to compare the means of multiple groups with a single test while controlling for the family-wise error rate (type 1 error). Where the t-test is frequently used to compare the mean scores on two groups, ANOVA is used to see if three or more groups differ significantly in terms of their mean score on the DV. \n",
    "\n",
    "A significant ANOVA with three or more groups tells us that at least two of the groups (those with the lowest and highest mean) differ significantly but we must also conduct follow-up post-hoc tests to compare all pairs of groups to see if any others differ signficantly in terms of their mean score on the DV. \n",
    "\n",
    "Here, I demonstrate One-way ANOVA. This is a design with one IV with three or more groups and one DV measured on a continuous scale. "
   ]
  },
  {
   "cell_type": "code",
   "execution_count": 1,
   "id": "f1f1ad6a",
   "metadata": {},
   "outputs": [],
   "source": [
    "# Importing the key software libraries:\n",
    "\n",
    "import pandas as pd\n",
    "import numpy as np\n",
    "import scipy.stats as stats\n",
    "import matplotlib.pyplot as plt"
   ]
  },
  {
   "cell_type": "markdown",
   "id": "137b7959",
   "metadata": {},
   "source": [
    "## Non-significant differences between groups"
   ]
  },
  {
   "cell_type": "markdown",
   "id": "bda55ecc",
   "metadata": {},
   "source": [
    "Starting with an example using simulated (made-up) data."
   ]
  },
  {
   "cell_type": "code",
   "execution_count": 2,
   "id": "ad9387cf",
   "metadata": {},
   "outputs": [],
   "source": [
    "np.random.seed(12)\n",
    "\n",
    "ethnic = [\"asian\", \"black\", \"medit\", \"other\", \"white\"]\n",
    "\n",
    "# Create random data\n",
    "voter_ethnic = np.random.choice(a = ethnic, p = [0.05, 0.15, 0.25, 0.05, 0.5], size = 1000)\n",
    "\n",
    "# Here we are sampling from the same population so we should not expect a significant difference between the groups\n",
    "# when sampled at random\n",
    "voter_age = stats.poisson.rvs(loc = 18, mu = 30, size = 1000)\n",
    "\n",
    "# Group age data by ethicity\n",
    "voter_frame = pd.DataFrame({\"ethnicity\": voter_ethnic, \"age\": voter_age})\n",
    "groups = voter_frame.groupby(\"ethnicity\").groups\n",
    "\n",
    "# Extract individual groups\n",
    "asian = voter_age[groups[\"asian\"]]\n",
    "black = voter_age[groups[\"black\"]]\n",
    "medit = voter_age[groups[\"medit\"]]\n",
    "other = voter_age[groups[\"other\"]]\n",
    "white = voter_age[groups[\"white\"]]"
   ]
  },
  {
   "cell_type": "markdown",
   "id": "6e22e3db",
   "metadata": {},
   "source": [
    "### Running a one-way ANOVA on the simulated data\n",
    "\n",
    "Here we do not expect to see a signficant difference between groups. We would not routinely know this beforehand but we simulated the data and parameters such that we didn't set different means for the different groups.  "
   ]
  },
  {
   "cell_type": "code",
   "execution_count": 3,
   "id": "d096aed9",
   "metadata": {},
   "outputs": [
    {
     "data": {
      "text/plain": [
       "F_onewayResult(statistic=1.7744689357329695, pvalue=0.13173183201930463)"
      ]
     },
     "execution_count": 3,
     "metadata": {},
     "output_type": "execute_result"
    }
   ],
   "source": [
    "# Performing the one-way ANOVA comparing mean voter age between the different ethnic groups\n",
    "\n",
    "stats.f_oneway(asian, black, medit, other, white)"
   ]
  },
  {
   "cell_type": "markdown",
   "id": "50a70f47",
   "metadata": {},
   "source": [
    "The scipy.stats f_oneway method returns an F value and p-value. We can see here that the F value is 1.77 and the associated p-value is 0.13. This is an non-significant ANOVA result as expected from the way the data were generated (the same popn with the same mean). A result like this tells us that the mean voter age does not differ significantly between these different ethnic groups. "
   ]
  },
  {
   "cell_type": "markdown",
   "id": "bcd6ea03",
   "metadata": {},
   "source": [
    "### An alternative way to run ANOVA \n",
    "\n",
    "We can also run ANOVA using the statsmodels library. This allows us to use R style formulas for the model. "
   ]
  },
  {
   "cell_type": "code",
   "execution_count": 4,
   "id": "57a29892",
   "metadata": {},
   "outputs": [],
   "source": [
    "# Importing the relevant statsmodels packages\n",
    "\n",
    "import statsmodels.api as sm\n",
    "from statsmodels.formula.api import ols"
   ]
  },
  {
   "cell_type": "code",
   "execution_count": 5,
   "id": "93963887",
   "metadata": {},
   "outputs": [
    {
     "name": "stdout",
     "output_type": "stream",
     "text": [
      "              sum_sq     df         F    PR(>F)\n",
      "ethnicity    199.369    4.0  1.774469  0.131732\n",
      "Residual   27948.102  995.0       NaN       NaN\n"
     ]
    }
   ],
   "source": [
    "# Running a one-way ANOVA using formula syntax similar to that from the R programming language:\n",
    "# This is the linear model formula\n",
    "model = ols(\"age ~ ethnicity\", data = voter_frame).fit()  \n",
    "\n",
    "# Getting an ANOVA model from the above GLM model:\n",
    "anova_res = sm.stats.anova_lm(model, typ=2) # Here with typ =2 we are specifiying type 2 sum of squares.\n",
    "print(anova_res)"
   ]
  },
  {
   "cell_type": "markdown",
   "id": "be2159dc",
   "metadata": {},
   "source": [
    "Using this method we get the same result for the non-significant ANOVA as before. "
   ]
  },
  {
   "cell_type": "markdown",
   "id": "91543f0c",
   "metadata": {},
   "source": [
    "## Significant differences between groups\n",
    "\n",
    "We are, again, going to simulate some data. This time we will create data where there is a difference between some of the groups in terms of mean voter age, so that we get a significant ANOVA result. "
   ]
  },
  {
   "cell_type": "code",
   "execution_count": 6,
   "id": "857ab961",
   "metadata": {},
   "outputs": [],
   "source": [
    "# Simulating data with a group with a mean different to the population. \n",
    "\n",
    "np.random.seed(12)\n",
    "\n",
    "ethnic = [\"asian\", \"black\", \"medit\", \"other\", \"white\"]\n",
    "\n",
    "# Create random data\n",
    "voter_ethnic = np.random.choice(a = ethnic, p = [0.05, 0.15, 0.25, 0.05, 0.5], size = 1000)\n",
    "\n",
    "# Use a different distribution for the mean age of white voters. \n",
    "# This group has a mean of 32 whereas mu is set to 30 for the population. \n",
    "white_age = stats.poisson.rvs(loc = 18, mu = 32, size = 1000)\n",
    "voter_age = stats.poisson.rvs(loc = 18, mu = 30, size = 1000)\n",
    "\n",
    "voter_age = np.where(voter_ethnic == \"white\", white_age, voter_age)\n",
    "# Group age data by ethicity\n",
    "voter_frame = pd.DataFrame({\"ethnicity\": voter_ethnic, \"age\": voter_age})\n",
    "groups = voter_frame.groupby(\"ethnicity\").groups\n",
    "\n",
    "# Extract individual groups\n",
    "asian = voter_age[groups[\"asian\"]]\n",
    "black = voter_age[groups[\"black\"]]\n",
    "medit = voter_age[groups[\"medit\"]]\n",
    "other = voter_age[groups[\"other\"]]\n",
    "white = voter_age[groups[\"white\"]]"
   ]
  },
  {
   "cell_type": "code",
   "execution_count": 7,
   "id": "045c2f1a",
   "metadata": {},
   "outputs": [
    {
     "data": {
      "text/plain": [
       "F_onewayResult(statistic=10.164699828386366, pvalue=4.5613242113994585e-08)"
      ]
     },
     "execution_count": 7,
     "metadata": {},
     "output_type": "execute_result"
    }
   ],
   "source": [
    "# Runnng the scipy.stats ANOVA test:\n",
    "\n",
    "stats.f_oneway(asian, black, medit, other, white)"
   ]
  },
  {
   "cell_type": "markdown",
   "id": "dc528e35",
   "metadata": {},
   "source": [
    "This time we see that there is a significant difference between the ethinicity group in terms of mean voter age. Here we have an F value of 10.16 and a p-value of <0.001. "
   ]
  },
  {
   "cell_type": "markdown",
   "id": "efd68a08",
   "metadata": {},
   "source": [
    "### The same analysis using the statsmodels formula"
   ]
  },
  {
   "cell_type": "code",
   "execution_count": 8,
   "id": "93bbf06c",
   "metadata": {},
   "outputs": [
    {
     "name": "stdout",
     "output_type": "stream",
     "text": [
      "                 sum_sq     df        F        PR(>F)\n",
      "ethnicity   1284.123213    4.0  10.1647  4.561324e-08\n",
      "Residual   31424.995787  995.0      NaN           NaN\n"
     ]
    }
   ],
   "source": [
    "model = ols(\"age ~ ethnicity\", data = voter_frame).fit()  \n",
    "\n",
    "anova_res = sm.stats.anova_lm(model, typ=2) \n",
    "print(anova_res)"
   ]
  },
  {
   "cell_type": "markdown",
   "id": "f20b79b9",
   "metadata": {},
   "source": [
    "Again, we see we have a significant result. Next we need to follow this up with post-hoc pairwise comparisons of all pairs of groups to see if they significantly differ from each other. "
   ]
  },
  {
   "cell_type": "markdown",
   "id": "3665590e",
   "metadata": {},
   "source": [
    "## Post-hoc tests (pairwise comparisons)\n",
    "\n",
    "### Bonferroni correction\n",
    "\n",
    "One method of conducting post-hoc tests is to run multiple t-tests comparing each pair of groups and then adjust the threshold for a signficant test so that it is stricter, thereby controlling for the family-wise error rate. \n",
    "\n",
    "A common method for doing this is the Bonferroni method, whereby we simply divide the normal criterion for a significant p-value by the number of comparisons we are making (the number of test we are running) and then use the resulting value as our new threshold for a significant result. \n",
    "\n",
    "For example, if we were conducting 5 tests we would divide the normal alpha value for significance (0.05) by 5. \n",
    "0.05/5 = 0.01. This gives us a new alpha significance criterion for considering a hypothesis test to be significant of 0.01. If the p-value is less than 0.01, we would accept there is a significant different between the means of the two groups being compared. If the p-value is greater than 0.01 we would consider the difference to be non-significant. \n",
    "\n",
    "Below I demonstrate a way to manually run multiple t-tests on the above voter data that produced a significant ANOVA result. Each p-value can then be compared against an adjusted significance threshold. In this case we are making 10 comparisons so the Bonferroni correction and new level of alpha will be: 0.05/ 10 = 0.005. "
   ]
  },
  {
   "cell_type": "code",
   "execution_count": 9,
   "id": "8415ea77",
   "metadata": {},
   "outputs": [
    {
     "name": "stdout",
     "output_type": "stream",
     "text": [
      "asian black\n",
      "Ttest_indResult(statistic=0.838644690974798, pvalue=0.4027281369339345)\n",
      "asian medit\n",
      "Ttest_indResult(statistic=-0.42594691924932293, pvalue=0.6704669004240726)\n",
      "asian other\n",
      "Ttest_indResult(statistic=0.9795284739636, pvalue=0.3298877500095151)\n",
      "asian white\n",
      "Ttest_indResult(statistic=-2.318108811252288, pvalue=0.020804701566400217)\n",
      "black medit\n",
      "Ttest_indResult(statistic=-1.9527839210712925, pvalue=0.05156197171952594)\n",
      "black other\n",
      "Ttest_indResult(statistic=0.28025754367057176, pvalue=0.7795770111117659)\n",
      "black white\n",
      "Ttest_indResult(statistic=-5.379303881281835, pvalue=1.039421216662395e-07)\n",
      "medit other\n",
      "Ttest_indResult(statistic=1.5853626170340225, pvalue=0.11396630528484335)\n",
      "medit white\n",
      "Ttest_indResult(statistic=-3.5160312714115376, pvalue=0.0004641298649066684)\n",
      "other white\n",
      "Ttest_indResult(statistic=-3.763809322077872, pvalue=0.00018490576317593065)\n"
     ]
    }
   ],
   "source": [
    "# Creating some syntax that runs through each ethnic group, matches it with another and then runs a t-test:\n",
    "\n",
    "# Create an empty list to get all ethnic_pairs:\n",
    "\n",
    "ethnic_pairs = []\n",
    "\n",
    "for ethnic1 in range(4):\n",
    "    for ethnic2 in range(ethnic1 + 1, 5):\n",
    "        ethnic_pairs.append((ethnic[ethnic1], ethnic[ethnic2]))\n",
    "\n",
    "# Conduct a t-test on each pair:\n",
    "for ethnic1, ethnic2 in ethnic_pairs:\n",
    "    print(ethnic1, ethnic2)\n",
    "    print(stats.ttest_ind(voter_age[groups[ethnic1]], voter_age[groups[ethnic2]]))\n",
    "    "
   ]
  },
  {
   "cell_type": "markdown",
   "id": "4c35421c",
   "metadata": {},
   "source": [
    "Looking at the above list of t-tests and associated p-values, we can see that, even with an adjusted level of significance, that there appear to be statistically significant differences between black - white (t = 5.38, p < 0.001); medit - white (t = 3.52, p = 0.0005); and other - white (t = 3.76, p = 0.0002). Based on what we know about the mean voter age for these groups (the data was constructed so that the mean age for white voters was older than the other groups) this indicates that the mean age for white voters was significantly higher than these three groups when we use the Bonferroni correction method. "
   ]
  },
  {
   "cell_type": "markdown",
   "id": "f417569b",
   "metadata": {},
   "source": [
    "The Bonferroni correction is a conservative correction and we may risk making a type 2 error and rejecting significant differences that are actually significant by using this method of post-hoc adjustment and comparison. Another commonly used post-hoc test is the Tukey HSD test."
   ]
  },
  {
   "cell_type": "markdown",
   "id": "cecf429e",
   "metadata": {},
   "source": [
    "### Tukey HSD test\n",
    "\n",
    "The Tukey HSD test is a less conservative (strict) test than Bonferroni and can be implemeted for pairwise comparisons using the statsmodels multicomparisons method. "
   ]
  },
  {
   "cell_type": "code",
   "execution_count": 10,
   "id": "7b20001f",
   "metadata": {},
   "outputs": [
    {
     "data": {
      "text/html": [
       "<table class=\"simpletable\">\n",
       "<caption>Multiple Comparison of Means - Tukey HSD, FWER=0.05</caption>\n",
       "<tr>\n",
       "  <th>group1</th> <th>group2</th> <th>meandiff</th>  <th>p-adj</th>  <th>lower</th>   <th>upper</th> <th>reject</th>\n",
       "</tr>\n",
       "<tr>\n",
       "   <td>asian</td>  <td>black</td>  <td>-0.8032</td> <td>0.9208</td> <td>-3.4423</td>  <td>1.836</td>  <td>False</td>\n",
       "</tr>\n",
       "<tr>\n",
       "   <td>asian</td>  <td>medit</td>  <td>0.4143</td>  <td>0.9915</td> <td>-2.1011</td> <td>2.9297</td>  <td>False</td>\n",
       "</tr>\n",
       "<tr>\n",
       "   <td>asian</td>  <td>other</td>  <td>-1.0645</td> <td>0.8906</td> <td>-4.2391</td>  <td>2.11</td>   <td>False</td>\n",
       "</tr>\n",
       "<tr>\n",
       "   <td>asian</td>  <td>white</td>  <td>1.9547</td>  <td>0.1751</td> <td>-0.4575</td> <td>4.3668</td>  <td>False</td>\n",
       "</tr>\n",
       "<tr>\n",
       "   <td>black</td>  <td>medit</td>  <td>1.2175</td>  <td>0.2318</td> <td>-0.386</td>   <td>2.821</td>  <td>False</td>\n",
       "</tr>\n",
       "<tr>\n",
       "   <td>black</td>  <td>other</td>  <td>-0.2614</td> <td>0.9986</td> <td>-2.7757</td>  <td>2.253</td>  <td>False</td>\n",
       "</tr>\n",
       "<tr>\n",
       "   <td>black</td>  <td>white</td>  <td>2.7579</td>    <td>0.0</td>  <td>1.3217</td>   <td>4.194</td>  <td>True</td> \n",
       "</tr>\n",
       "<tr>\n",
       "   <td>medit</td>  <td>other</td>  <td>-1.4789</td> <td>0.4374</td> <td>-3.863</td>  <td>0.9053</td>  <td>False</td>\n",
       "</tr>\n",
       "<tr>\n",
       "   <td>medit</td>  <td>white</td>  <td>1.5404</td>   <td>0.004</td> <td>0.3468</td>   <td>2.734</td>  <td>True</td> \n",
       "</tr>\n",
       "<tr>\n",
       "   <td>other</td>  <td>white</td>  <td>3.0192</td>  <td>0.0028</td> <td>0.7443</td>  <td>5.2941</td>  <td>True</td> \n",
       "</tr>\n",
       "</table>"
      ],
      "text/plain": [
       "<class 'statsmodels.iolib.table.SimpleTable'>"
      ]
     },
     "execution_count": 10,
     "metadata": {},
     "output_type": "execute_result"
    },
    {
     "data": {
      "image/png": "[encoded data removed]",
      "text/plain": [
       "<Figure size 720x432 with 1 Axes>"
      ]
     },
     "metadata": {
      "needs_background": "light"
     },
     "output_type": "display_data"
    }
   ],
   "source": [
    "# To conduct the Tukey test we need to load it in from the statsmodels library. \n",
    "\n",
    "from statsmodels.stats.multicomp import pairwise_tukeyhsd\n",
    "\n",
    "tukey = pairwise_tukeyhsd(endog = voter_age, groups = voter_ethnic, alpha = 0.05)\n",
    "# Here endog = data, groups = the groups, alpha = sig level. \n",
    "tukey.plot_simultaneous() # Plot groups confidence intervals. \n",
    "plt.vlines(x = 49.57, ymin = -0.5, ymax = 4.5, color = \"red\")\n",
    "\n",
    "tukey.summary() # to see the test output summary. "
   ]
  },
  {
   "cell_type": "markdown",
   "id": "b86bb173",
   "metadata": {},
   "source": [
    "Above we see some nice output for the Tukey HSD comparisons we conducted. In the table we can see the adjusted p-value for each t-test conducted. In this case we can interpret any test with an adjusted significance value below 0.05 as statistically different. We also get this nice column labelled reject. This tells us whether we should reject the null hypothesis using boolean logic. If reject equals True, then we reject the null hypothesis that the groups means are the same. If reject equals False then we cannot reject the null hypothesis and there is likely no significant difference between the two group means. \n",
    "\n",
    "Additionally, we have a forest plot showing the confidence intervals for the different groups and we can see with the red vline which groups do not have overlapping confidence intervals and are likely to have significantly different means. \n",
    "\n",
    "Note: The results of the Tukey HSD post-hoc test are indentical to the Bonferroni method and show signficant differences between the same three comparisons. This is not always likely to be the case as the two post-hoc tests differ in their strictness and Tukey HSD may identify a comparison as significant that did not reach the threshold using Bonferroni. "
   ]
  }
 ],
 "metadata": {
  "kernelspec": {
   "display_name": "Python 3 (ipykernel)",
   "language": "python",
   "name": "python3"
  },
  "language_info": {
   "codemirror_mode": {
    "name": "ipython",
    "version": 3
   },
   "file_extension": ".py",
   "mimetype": "text/x-python",
   "name": "python",
   "nbconvert_exporter": "python",
   "pygments_lexer": "ipython3",
   "version": "3.9.12"
  }
 },
 "nbformat": 4,
 "nbformat_minor": 5
}
