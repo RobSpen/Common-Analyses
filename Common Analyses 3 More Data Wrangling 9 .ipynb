{
 "cells": [
  {
   "cell_type": "markdown",
   "id": "d6c5eb2f",
   "metadata": {},
   "source": [
    "# More Data Wrangling 9 \n",
    "\n",
    "In this notebook I demonstrate how to reshape a multi-indexed series and obtain aggregate scores at different levels of granularity. I also obtain pivot tables and a crosstabulation using count data. "
   ]
  },
  {
   "cell_type": "code",
   "execution_count": 1,
   "id": "969ae423",
   "metadata": {},
   "outputs": [],
   "source": [
    "import pandas as pd\n",
    "import numpy as np"
   ]
  },
  {
   "cell_type": "code",
   "execution_count": 4,
   "id": "76d7e6ac",
   "metadata": {},
   "outputs": [
    {
     "data": {
      "text/html": [
       "<div>\n",
       "<style scoped>\n",
       "    .dataframe tbody tr th:only-of-type {\n",
       "        vertical-align: middle;\n",
       "    }\n",
       "\n",
       "    .dataframe tbody tr th {\n",
       "        vertical-align: top;\n",
       "    }\n",
       "\n",
       "    .dataframe thead th {\n",
       "        text-align: right;\n",
       "    }\n",
       "</style>\n",
       "<table border=\"1\" class=\"dataframe\">\n",
       "  <thead>\n",
       "    <tr style=\"text-align: right;\">\n",
       "      <th></th>\n",
       "      <th>PersonID</th>\n",
       "      <th>Condition</th>\n",
       "      <th>PrePostDepletion</th>\n",
       "      <th>Mean_Consumption</th>\n",
       "      <th>Rounds</th>\n",
       "      <th>Starting value</th>\n",
       "      <th>Knows Opp</th>\n",
       "      <th>Friends</th>\n",
       "    </tr>\n",
       "  </thead>\n",
       "  <tbody>\n",
       "    <tr>\n",
       "      <th>0</th>\n",
       "      <td>1</td>\n",
       "      <td>0</td>\n",
       "      <td>0</td>\n",
       "      <td>30</td>\n",
       "      <td>5</td>\n",
       "      <td>1</td>\n",
       "      <td>0.0</td>\n",
       "      <td>0.0</td>\n",
       "    </tr>\n",
       "    <tr>\n",
       "      <th>1</th>\n",
       "      <td>2</td>\n",
       "      <td>0</td>\n",
       "      <td>0</td>\n",
       "      <td>22.2</td>\n",
       "      <td>5</td>\n",
       "      <td>1</td>\n",
       "      <td>0.0</td>\n",
       "      <td>0.0</td>\n",
       "    </tr>\n",
       "    <tr>\n",
       "      <th>2</th>\n",
       "      <td>3</td>\n",
       "      <td>0</td>\n",
       "      <td>0</td>\n",
       "      <td>8.83</td>\n",
       "      <td>6</td>\n",
       "      <td>1</td>\n",
       "      <td>0.0</td>\n",
       "      <td>0.0</td>\n",
       "    </tr>\n",
       "    <tr>\n",
       "      <th>3</th>\n",
       "      <td>4</td>\n",
       "      <td>0</td>\n",
       "      <td>0</td>\n",
       "      <td>9.83</td>\n",
       "      <td>6</td>\n",
       "      <td>1</td>\n",
       "      <td>0.0</td>\n",
       "      <td>0.0</td>\n",
       "    </tr>\n",
       "    <tr>\n",
       "      <th>4</th>\n",
       "      <td>5</td>\n",
       "      <td>0</td>\n",
       "      <td>0</td>\n",
       "      <td>23.6</td>\n",
       "      <td>3</td>\n",
       "      <td>1</td>\n",
       "      <td>1.0</td>\n",
       "      <td>1.0</td>\n",
       "    </tr>\n",
       "  </tbody>\n",
       "</table>\n",
       "</div>"
      ],
      "text/plain": [
       "   PersonID  Condition  PrePostDepletion Mean_Consumption  Rounds  \\\n",
       "0         1          0                 0               30       5   \n",
       "1         2          0                 0             22.2       5   \n",
       "2         3          0                 0             8.83       6   \n",
       "3         4          0                 0             9.83       6   \n",
       "4         5          0                 0             23.6       3   \n",
       "\n",
       "   Starting value  Knows Opp  Friends  \n",
       "0               1        0.0      0.0  \n",
       "1               1        0.0      0.0  \n",
       "2               1        0.0      0.0  \n",
       "3               1        0.0      0.0  \n",
       "4               1        1.0      1.0  "
      ]
     },
     "execution_count": 4,
     "metadata": {},
     "output_type": "execute_result"
    }
   ],
   "source": [
    "# Reading in the multilevel data file. \n",
    "\n",
    "pre_post = pd.read_csv('New Long Multilevel Datafile.csv')\n",
    "\n",
    "pre_post.head()"
   ]
  },
  {
   "cell_type": "code",
   "execution_count": 3,
   "id": "77be0569",
   "metadata": {},
   "outputs": [
    {
     "data": {
      "text/plain": [
       "PersonID              int64\n",
       "Condition             int64\n",
       "PrePostDepletion      int64\n",
       "Mean_Consumption     object\n",
       "Rounds                int64\n",
       "Starting value        int64\n",
       "Knows Opp           float64\n",
       "Friends             float64\n",
       "dtype: object"
      ]
     },
     "execution_count": 3,
     "metadata": {},
     "output_type": "execute_result"
    }
   ],
   "source": [
    "# Reshape a multi-indexed series. \n",
    "\n",
    "pre_post.dtypes"
   ]
  },
  {
   "cell_type": "code",
   "execution_count": 5,
   "id": "d89e0d9f",
   "metadata": {},
   "outputs": [],
   "source": [
    "# Converting Mean_Consumption variable to float\n",
    "\n",
    "pre_post['Mean_Consumption'] = pre_post['Mean_Consumption'].apply(pd.to_numeric, errors = 'coerce')"
   ]
  },
  {
   "cell_type": "code",
   "execution_count": 6,
   "id": "fbdcf2b5",
   "metadata": {},
   "outputs": [
    {
     "data": {
      "text/plain": [
       "PersonID              int64\n",
       "Condition             int64\n",
       "PrePostDepletion      int64\n",
       "Mean_Consumption    float64\n",
       "Rounds                int64\n",
       "Starting value        int64\n",
       "Knows Opp           float64\n",
       "Friends             float64\n",
       "dtype: object"
      ]
     },
     "execution_count": 6,
     "metadata": {},
     "output_type": "execute_result"
    }
   ],
   "source": [
    "# The above worked. \n",
    "\n",
    "pre_post.dtypes"
   ]
  },
  {
   "cell_type": "code",
   "execution_count": 7,
   "id": "8339c911",
   "metadata": {},
   "outputs": [
    {
     "data": {
      "text/plain": [
       "23.19852409638556"
      ]
     },
     "execution_count": 7,
     "metadata": {},
     "output_type": "execute_result"
    }
   ],
   "source": [
    "# Now calculating the mean for consumption:\n",
    "\n",
    "pre_post.Mean_Consumption.mean()"
   ]
  },
  {
   "cell_type": "code",
   "execution_count": 8,
   "id": "3d006f74",
   "metadata": {},
   "outputs": [
    {
     "data": {
      "text/plain": [
       "Condition\n",
       "0    20.539633\n",
       "1    28.283070\n",
       "Name: Mean_Consumption, dtype: float64"
      ]
     },
     "execution_count": 8,
     "metadata": {},
     "output_type": "execute_result"
    }
   ],
   "source": [
    "# Calculating the consumption means for the different levels of the condition variable\n",
    "# using the groupby method\n",
    "\n",
    "pre_post.groupby('Condition').Mean_Consumption.mean()"
   ]
  },
  {
   "cell_type": "code",
   "execution_count": 9,
   "id": "68b7ff14",
   "metadata": {},
   "outputs": [
    {
     "data": {
      "text/plain": [
       "Condition  PrePostDepletion\n",
       "0          0                   30.260877\n",
       "           1                    9.883654\n",
       "1          0                   40.122794\n",
       "           1                   10.780870\n",
       "Name: Mean_Consumption, dtype: float64"
      ]
     },
     "execution_count": 9,
     "metadata": {},
     "output_type": "execute_result"
    }
   ],
   "source": [
    "# Can get more granular and pass a list of more than one category to groupby:\n",
    "\n",
    "pre_post.groupby(['Condition', 'PrePostDepletion']).Mean_Consumption.mean()\n",
    "\n",
    "# This is stored as a multiindexed series, meaning it has multiple index labels to the left of\n",
    "# the data. "
   ]
  },
  {
   "cell_type": "code",
   "execution_count": 10,
   "id": "1e7ecc8e",
   "metadata": {},
   "outputs": [
    {
     "data": {
      "text/html": [
       "<div>\n",
       "<style scoped>\n",
       "    .dataframe tbody tr th:only-of-type {\n",
       "        vertical-align: middle;\n",
       "    }\n",
       "\n",
       "    .dataframe tbody tr th {\n",
       "        vertical-align: top;\n",
       "    }\n",
       "\n",
       "    .dataframe thead th {\n",
       "        text-align: right;\n",
       "    }\n",
       "</style>\n",
       "<table border=\"1\" class=\"dataframe\">\n",
       "  <thead>\n",
       "    <tr style=\"text-align: right;\">\n",
       "      <th>PrePostDepletion</th>\n",
       "      <th>0</th>\n",
       "      <th>1</th>\n",
       "    </tr>\n",
       "    <tr>\n",
       "      <th>Condition</th>\n",
       "      <th></th>\n",
       "      <th></th>\n",
       "    </tr>\n",
       "  </thead>\n",
       "  <tbody>\n",
       "    <tr>\n",
       "      <th>0</th>\n",
       "      <td>30.260877</td>\n",
       "      <td>9.883654</td>\n",
       "    </tr>\n",
       "    <tr>\n",
       "      <th>1</th>\n",
       "      <td>40.122794</td>\n",
       "      <td>10.780870</td>\n",
       "    </tr>\n",
       "  </tbody>\n",
       "</table>\n",
       "</div>"
      ],
      "text/plain": [
       "PrePostDepletion          0          1\n",
       "Condition                             \n",
       "0                 30.260877   9.883654\n",
       "1                 40.122794  10.780870"
      ]
     },
     "execution_count": 10,
     "metadata": {},
     "output_type": "execute_result"
    }
   ],
   "source": [
    "# We can reshape a multiindexed series into a data frame using the unstack method:\n",
    "\n",
    "pre_post.groupby(['Condition', 'PrePostDepletion']).Mean_Consumption.mean().unstack()"
   ]
  },
  {
   "cell_type": "code",
   "execution_count": 11,
   "id": "29b1a249",
   "metadata": {},
   "outputs": [
    {
     "data": {
      "text/html": [
       "<div>\n",
       "<style scoped>\n",
       "    .dataframe tbody tr th:only-of-type {\n",
       "        vertical-align: middle;\n",
       "    }\n",
       "\n",
       "    .dataframe tbody tr th {\n",
       "        vertical-align: top;\n",
       "    }\n",
       "\n",
       "    .dataframe thead th {\n",
       "        text-align: right;\n",
       "    }\n",
       "</style>\n",
       "<table border=\"1\" class=\"dataframe\">\n",
       "  <thead>\n",
       "    <tr style=\"text-align: right;\">\n",
       "      <th>PrePostDepletion</th>\n",
       "      <th>0</th>\n",
       "      <th>1</th>\n",
       "    </tr>\n",
       "    <tr>\n",
       "      <th>Condition</th>\n",
       "      <th></th>\n",
       "      <th></th>\n",
       "    </tr>\n",
       "  </thead>\n",
       "  <tbody>\n",
       "    <tr>\n",
       "      <th>0</th>\n",
       "      <td>30.260877</td>\n",
       "      <td>9.883654</td>\n",
       "    </tr>\n",
       "    <tr>\n",
       "      <th>1</th>\n",
       "      <td>40.122794</td>\n",
       "      <td>10.780870</td>\n",
       "    </tr>\n",
       "  </tbody>\n",
       "</table>\n",
       "</div>"
      ],
      "text/plain": [
       "PrePostDepletion          0          1\n",
       "Condition                             \n",
       "0                 30.260877   9.883654\n",
       "1                 40.122794  10.780870"
      ]
     },
     "execution_count": 11,
     "metadata": {},
     "output_type": "execute_result"
    }
   ],
   "source": [
    "# Create a pivot table. \n",
    "\n",
    "# It can often be more convenient to create dataframes like the one above using the pivot method\n",
    "# instead:\n",
    "\n",
    "pre_post.pivot_table(index = 'Condition', columns = 'PrePostDepletion', values = 'Mean_Consumption', \n",
    "                     aggfunc = 'mean')"
   ]
  },
  {
   "cell_type": "code",
   "execution_count": 12,
   "id": "686705ff",
   "metadata": {},
   "outputs": [
    {
     "data": {
      "text/html": [
       "<div>\n",
       "<style scoped>\n",
       "    .dataframe tbody tr th:only-of-type {\n",
       "        vertical-align: middle;\n",
       "    }\n",
       "\n",
       "    .dataframe tbody tr th {\n",
       "        vertical-align: top;\n",
       "    }\n",
       "\n",
       "    .dataframe thead th {\n",
       "        text-align: right;\n",
       "    }\n",
       "</style>\n",
       "<table border=\"1\" class=\"dataframe\">\n",
       "  <thead>\n",
       "    <tr style=\"text-align: right;\">\n",
       "      <th>PrePostDepletion</th>\n",
       "      <th>0</th>\n",
       "      <th>1</th>\n",
       "      <th>All</th>\n",
       "    </tr>\n",
       "    <tr>\n",
       "      <th>Condition</th>\n",
       "      <th></th>\n",
       "      <th></th>\n",
       "      <th></th>\n",
       "    </tr>\n",
       "  </thead>\n",
       "  <tbody>\n",
       "    <tr>\n",
       "      <th>0</th>\n",
       "      <td>30.260877</td>\n",
       "      <td>9.883654</td>\n",
       "      <td>20.539633</td>\n",
       "    </tr>\n",
       "    <tr>\n",
       "      <th>1</th>\n",
       "      <td>40.122794</td>\n",
       "      <td>10.780870</td>\n",
       "      <td>28.283070</td>\n",
       "    </tr>\n",
       "    <tr>\n",
       "      <th>All</th>\n",
       "      <td>33.945549</td>\n",
       "      <td>10.158800</td>\n",
       "      <td>23.198524</td>\n",
       "    </tr>\n",
       "  </tbody>\n",
       "</table>\n",
       "</div>"
      ],
      "text/plain": [
       "PrePostDepletion          0          1        All\n",
       "Condition                                        \n",
       "0                 30.260877   9.883654  20.539633\n",
       "1                 40.122794  10.780870  28.283070\n",
       "All               33.945549  10.158800  23.198524"
      ]
     },
     "execution_count": 12,
     "metadata": {},
     "output_type": "execute_result"
    }
   ],
   "source": [
    "# if we add margins = True to the above we can get row and column totals:\n",
    "\n",
    "pre_post.pivot_table(index = 'Condition', columns = 'PrePostDepletion', values = 'Mean_Consumption', \n",
    "                     aggfunc = 'mean', margins = True)"
   ]
  },
  {
   "cell_type": "code",
   "execution_count": 13,
   "id": "398867b1",
   "metadata": {},
   "outputs": [
    {
     "data": {
      "text/html": [
       "<div>\n",
       "<style scoped>\n",
       "    .dataframe tbody tr th:only-of-type {\n",
       "        vertical-align: middle;\n",
       "    }\n",
       "\n",
       "    .dataframe tbody tr th {\n",
       "        vertical-align: top;\n",
       "    }\n",
       "\n",
       "    .dataframe thead th {\n",
       "        text-align: right;\n",
       "    }\n",
       "</style>\n",
       "<table border=\"1\" class=\"dataframe\">\n",
       "  <thead>\n",
       "    <tr style=\"text-align: right;\">\n",
       "      <th>PrePostDepletion</th>\n",
       "      <th>0</th>\n",
       "      <th>1</th>\n",
       "      <th>All</th>\n",
       "    </tr>\n",
       "    <tr>\n",
       "      <th>Condition</th>\n",
       "      <th></th>\n",
       "      <th></th>\n",
       "      <th></th>\n",
       "    </tr>\n",
       "  </thead>\n",
       "  <tbody>\n",
       "    <tr>\n",
       "      <th>0</th>\n",
       "      <td>114</td>\n",
       "      <td>104</td>\n",
       "      <td>218</td>\n",
       "    </tr>\n",
       "    <tr>\n",
       "      <th>1</th>\n",
       "      <td>68</td>\n",
       "      <td>46</td>\n",
       "      <td>114</td>\n",
       "    </tr>\n",
       "    <tr>\n",
       "      <th>All</th>\n",
       "      <td>182</td>\n",
       "      <td>150</td>\n",
       "      <td>332</td>\n",
       "    </tr>\n",
       "  </tbody>\n",
       "</table>\n",
       "</div>"
      ],
      "text/plain": [
       "PrePostDepletion    0    1  All\n",
       "Condition                      \n",
       "0                 114  104  218\n",
       "1                  68   46  114\n",
       "All               182  150  332"
      ]
     },
     "execution_count": 13,
     "metadata": {},
     "output_type": "execute_result"
    }
   ],
   "source": [
    "# You can create a cross tabulation by changing the aggregate function from mean to count:\n",
    "\n",
    "pre_post.pivot_table(index = 'Condition', columns = 'PrePostDepletion', values = 'Mean_Consumption', \n",
    "                     aggfunc = 'count', margins = True)"
   ]
  }
 ],
 "metadata": {
  "kernelspec": {
   "display_name": "Python 3 (ipykernel)",
   "language": "python",
   "name": "python3"
  },
  "language_info": {
   "codemirror_mode": {
    "name": "ipython",
    "version": 3
   },
   "file_extension": ".py",
   "mimetype": "text/x-python",
   "name": "python",
   "nbconvert_exporter": "python",
   "pygments_lexer": "ipython3",
   "version": "3.11.4"
  }
 },
 "nbformat": 4,
 "nbformat_minor": 5
}
