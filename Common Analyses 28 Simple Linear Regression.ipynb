{
 "cells": [
  {
   "cell_type": "markdown",
   "id": "d95934e8",
   "metadata": {},
   "source": [
    "# Simple Linear Regression\n",
    "\n",
    "Simple linear regression is used when we want to assess the relationship between two scale variables, where one is considered to be an independent variable (IV) and the other is a dependent variable (DV). We use the assumed linear (straight line) relationship between our two variables to allow us to fit a regression model, using the ordinary least squares method, and then use scores on the IV to predict scores on the DV. In a simple linear regression model we have a DV and only one IV. This allows us to plot the relationship between our variables using the Cartesian axis plane, where we plot the IV on the x-axis and the DV on the y-axis using a scatter plot. Regression models make use of the equation for a straight line (y = mx + b). Where y is our score on the DV, m is the slope of the line (can be negative or positive), x is a score on the IV, and b is the intercept or point at which the regression line crosses the y-axis when we input a value of 0 for x (the IV). \n",
    "\n",
    "In this notebook I will demonstrate a couple of ways to run a simple linear regression model using python. Specifically, I will obtain a regression plot for our data using the seaborn library, then use the statsmodels software library to fit a regression model and obtain the parameters and statistics of interest to interpret the model (relationship between our variables). I will also demonstrate how to run the same analysis using the pingouin software library. Both methods are similar to implement and quite straight forward. \n",
    "\n",
    "The data I will use comes from a datafile used by Tabachnik & Fidell (2001) in their textbook 'Using Multivariate Statistics'. The data file is about women's health and was recorded from female residents of Los Angeles in 1976. The variables of interest for this regression analysis are an IV called 'stress' and a DV called 'menheal'. The stress IV is a scale variable measuring a participant's stress level. This variable was calculated as a weighted measure of the number and importance of life change units over one year, high scores indicate more stressful life events. The menheal DV is a scale variable measuring the frequency count of the number of mental health problems experienced by participant's in that same year. With this regression analysis we are looking to see if stress is a predictor of the number of mental health problems experienced by the participants. \n",
    "\n"
   ]
  },
  {
   "cell_type": "code",
   "execution_count": 1,
   "id": "f0de8da5",
   "metadata": {},
   "outputs": [],
   "source": [
    "# Importing key software libraries\n",
    "\n",
    "import pandas as pd\n",
    "import numpy as np\n",
    "import matplotlib.pyplot as plt\n",
    "import seaborn as sns\n",
    "import statsmodels.api as sm\n",
    "import statsmodels.formula.api as smf\n",
    "import pingouin as pg"
   ]
  },
  {
   "cell_type": "code",
   "execution_count": 2,
   "id": "f4a35b58",
   "metadata": {},
   "outputs": [
    {
     "data": {
      "text/html": [
       "<div>\n",
       "<style scoped>\n",
       "    .dataframe tbody tr th:only-of-type {\n",
       "        vertical-align: middle;\n",
       "    }\n",
       "\n",
       "    .dataframe tbody tr th {\n",
       "        vertical-align: top;\n",
       "    }\n",
       "\n",
       "    .dataframe thead th {\n",
       "        text-align: right;\n",
       "    }\n",
       "</style>\n",
       "<table border=\"1\" class=\"dataframe\">\n",
       "  <thead>\n",
       "    <tr style=\"text-align: right;\">\n",
       "      <th></th>\n",
       "      <th>timedrs</th>\n",
       "      <th>phyheal</th>\n",
       "      <th>menheal</th>\n",
       "      <th>stress</th>\n",
       "      <th>religion</th>\n",
       "      <th>race</th>\n",
       "    </tr>\n",
       "  </thead>\n",
       "  <tbody>\n",
       "    <tr>\n",
       "      <th>0</th>\n",
       "      <td>1</td>\n",
       "      <td>5</td>\n",
       "      <td>8</td>\n",
       "      <td>265</td>\n",
       "      <td>3</td>\n",
       "      <td>1</td>\n",
       "    </tr>\n",
       "    <tr>\n",
       "      <th>1</th>\n",
       "      <td>3</td>\n",
       "      <td>4</td>\n",
       "      <td>6</td>\n",
       "      <td>415</td>\n",
       "      <td>3</td>\n",
       "      <td>1</td>\n",
       "    </tr>\n",
       "    <tr>\n",
       "      <th>2</th>\n",
       "      <td>0</td>\n",
       "      <td>3</td>\n",
       "      <td>4</td>\n",
       "      <td>92</td>\n",
       "      <td>2</td>\n",
       "      <td>1</td>\n",
       "    </tr>\n",
       "    <tr>\n",
       "      <th>3</th>\n",
       "      <td>13</td>\n",
       "      <td>2</td>\n",
       "      <td>2</td>\n",
       "      <td>241</td>\n",
       "      <td>1</td>\n",
       "      <td>1</td>\n",
       "    </tr>\n",
       "    <tr>\n",
       "      <th>4</th>\n",
       "      <td>15</td>\n",
       "      <td>3</td>\n",
       "      <td>6</td>\n",
       "      <td>86</td>\n",
       "      <td>4</td>\n",
       "      <td>1</td>\n",
       "    </tr>\n",
       "  </tbody>\n",
       "</table>\n",
       "</div>"
      ],
      "text/plain": [
       "   timedrs  phyheal  menheal  stress  religion  race\n",
       "0        1        5        8     265         3     1\n",
       "1        3        4        6     415         3     1\n",
       "2        0        3        4      92         2     1\n",
       "3       13        2        2     241         1     1\n",
       "4       15        3        6      86         4     1"
      ]
     },
     "execution_count": 2,
     "metadata": {},
     "output_type": "execute_result"
    }
   ],
   "source": [
    "# Importing the data for analysis. \n",
    "\n",
    "df = pd.read_csv('health.csv')\n",
    "\n",
    "df.head()"
   ]
  },
  {
   "cell_type": "markdown",
   "id": "746b31e6",
   "metadata": {},
   "source": [
    "We can see above that the IV (stress) and DV (menheal) are integer values measured on some scale. Firstly we can use the seaborn regplot method to visualise the data with a regression line fitted. "
   ]
  },
  {
   "cell_type": "code",
   "execution_count": 3,
   "id": "7148dad9",
   "metadata": {},
   "outputs": [
    {
     "data": {
      "image/png": "[encoded data removed]",
      "text/plain": [
       "<Figure size 432x288 with 1 Axes>"
      ]
     },
     "metadata": {
      "needs_background": "light"
     },
     "output_type": "display_data"
    }
   ],
   "source": [
    "sns.regplot(data = df, x = 'stress', y = 'menheal')\n",
    "plt.show()"
   ]
  },
  {
   "cell_type": "markdown",
   "id": "7d821a1a",
   "metadata": {},
   "source": [
    "The above regression plot shows a weak linear trend between the stress IV and mental health DV. There is a large spread of menheal scores over scores on the stress variable below 400. Most datapoints have a stress score of 400 or lower. There also appears to be a couple of participants with quite extreme stress scores (above 700) that don't have particularly high scores on menheal. These values are likely influencing the slope of the regression line and the overall fit of the model and we may want to use the various regression diagnostic tests for influence and outliers to remove these scores. Despite these values and the spread of menheal scores at lower stress values we can still see that the regression line is indicating an upward pattern in the data where menheal scores increase as scores on the stress variable increase. We can also see the shaded area around the regression line representing the 95% Confidence Intervals for the line. These are quite narrow at lower stress values but widen considerably as stress values increase. This is likely because the position of the regression line is being influenced by the couple of extreme scores, and there are fewer datapoints with which to assess the slope as the the stress scale increases in value. Given this plot we would most likely want to check the data meets the assumptions of a regression model and perform some diagnostic tests before being confident in our interpretation of the regression model coefficients. As I have covered these topics in other notebooks, here we will fit the regression model and look at the output on the data as we see it plotted here.  "
   ]
  },
  {
   "cell_type": "code",
   "execution_count": 4,
   "id": "7721a15b",
   "metadata": {},
   "outputs": [
    {
     "data": {
      "text/html": [
       "<table class=\"simpletable\">\n",
       "<caption>OLS Regression Results</caption>\n",
       "<tr>\n",
       "  <th>Dep. Variable:</th>         <td>menheal</td>     <th>  R-squared:         </th> <td>   0.137</td>\n",
       "</tr>\n",
       "<tr>\n",
       "  <th>Model:</th>                   <td>OLS</td>       <th>  Adj. R-squared:    </th> <td>   0.135</td>\n",
       "</tr>\n",
       "<tr>\n",
       "  <th>Method:</th>             <td>Least Squares</td>  <th>  F-statistic:       </th> <td>   73.34</td>\n",
       "</tr>\n",
       "<tr>\n",
       "  <th>Date:</th>             <td>Sat, 02 Sep 2023</td> <th>  Prob (F-statistic):</th> <td>1.63e-16</td>\n",
       "</tr>\n",
       "<tr>\n",
       "  <th>Time:</th>                 <td>11:12:56</td>     <th>  Log-Likelihood:    </th> <td> -1291.7</td>\n",
       "</tr>\n",
       "<tr>\n",
       "  <th>No. Observations:</th>      <td>   465</td>      <th>  AIC:               </th> <td>   2587.</td>\n",
       "</tr>\n",
       "<tr>\n",
       "  <th>Df Residuals:</th>          <td>   463</td>      <th>  BIC:               </th> <td>   2596.</td>\n",
       "</tr>\n",
       "<tr>\n",
       "  <th>Df Model:</th>              <td>     1</td>      <th>                     </th>     <td> </td>   \n",
       "</tr>\n",
       "<tr>\n",
       "  <th>Covariance Type:</th>      <td>nonrobust</td>    <th>                     </th>     <td> </td>   \n",
       "</tr>\n",
       "</table>\n",
       "<table class=\"simpletable\">\n",
       "<tr>\n",
       "      <td></td>         <th>coef</th>     <th>std err</th>      <th>t</th>      <th>P>|t|</th>  <th>[0.025</th>    <th>0.975]</th>  \n",
       "</tr>\n",
       "<tr>\n",
       "  <th>Intercept</th> <td>    3.7904</td> <td>    0.327</td> <td>   11.594</td> <td> 0.000</td> <td>    3.148</td> <td>    4.433</td>\n",
       "</tr>\n",
       "<tr>\n",
       "  <th>stress</th>    <td>    0.0114</td> <td>    0.001</td> <td>    8.564</td> <td> 0.000</td> <td>    0.009</td> <td>    0.014</td>\n",
       "</tr>\n",
       "</table>\n",
       "<table class=\"simpletable\">\n",
       "<tr>\n",
       "  <th>Omnibus:</th>       <td>20.649</td> <th>  Durbin-Watson:     </th> <td>   1.878</td>\n",
       "</tr>\n",
       "<tr>\n",
       "  <th>Prob(Omnibus):</th> <td> 0.000</td> <th>  Jarque-Bera (JB):  </th> <td>  22.670</td>\n",
       "</tr>\n",
       "<tr>\n",
       "  <th>Skew:</th>          <td> 0.540</td> <th>  Prob(JB):          </th> <td>1.19e-05</td>\n",
       "</tr>\n",
       "<tr>\n",
       "  <th>Kurtosis:</th>      <td> 2.936</td> <th>  Cond. No.          </th> <td>    443.</td>\n",
       "</tr>\n",
       "</table><br/><br/>Notes:<br/>[1] Standard Errors assume that the covariance matrix of the errors is correctly specified."
      ],
      "text/plain": [
       "<class 'statsmodels.iolib.summary.Summary'>\n",
       "\"\"\"\n",
       "                            OLS Regression Results                            \n",
       "==============================================================================\n",
       "Dep. Variable:                menheal   R-squared:                       0.137\n",
       "Model:                            OLS   Adj. R-squared:                  0.135\n",
       "Method:                 Least Squares   F-statistic:                     73.34\n",
       "Date:                Sat, 02 Sep 2023   Prob (F-statistic):           1.63e-16\n",
       "Time:                        11:12:56   Log-Likelihood:                -1291.7\n",
       "No. Observations:                 465   AIC:                             2587.\n",
       "Df Residuals:                     463   BIC:                             2596.\n",
       "Df Model:                           1                                         \n",
       "Covariance Type:            nonrobust                                         \n",
       "==============================================================================\n",
       "                 coef    std err          t      P>|t|      [0.025      0.975]\n",
       "------------------------------------------------------------------------------\n",
       "Intercept      3.7904      0.327     11.594      0.000       3.148       4.433\n",
       "stress         0.0114      0.001      8.564      0.000       0.009       0.014\n",
       "==============================================================================\n",
       "Omnibus:                       20.649   Durbin-Watson:                   1.878\n",
       "Prob(Omnibus):                  0.000   Jarque-Bera (JB):               22.670\n",
       "Skew:                           0.540   Prob(JB):                     1.19e-05\n",
       "Kurtosis:                       2.936   Cond. No.                         443.\n",
       "==============================================================================\n",
       "\n",
       "Notes:\n",
       "[1] Standard Errors assume that the covariance matrix of the errors is correctly specified.\n",
       "\"\"\""
      ]
     },
     "execution_count": 4,
     "metadata": {},
     "output_type": "execute_result"
    }
   ],
   "source": [
    "# Fitting a linear regression model using statsmodels. Here we use a method that allows us to use R style formulas\n",
    "# to fit the regression model. \n",
    "\n",
    "mod_1 = smf.ols('menheal ~ stress', data = df).fit()\n",
    "\n",
    "mod_1.summary()"
   ]
  },
  {
   "cell_type": "markdown",
   "id": "bfb7d475",
   "metadata": {},
   "source": [
    "The statsmodels output table contains various useful statistics to help interpret the results of our model. First, we can assess whether the model is significant using the F-value. In this case we get an F-value of 73.34 and an associated probability of p < 0.001. This indicates that fitting the model is better than just using the mean value of menheal when trying to predict menheal based on stress scores. In a simple linear regression where we only have one IV this tells us that the IV (stress) is a significant predictor of menheal scores. Next, if we look at the part of the table containing coefficients we can see that the coefficient (coef) for the stress IV is 0.0114. This is the slope of the regression line. This is not a very steep slope but that fact that it is a positive value tells us that as stress scores are increasing so are menheal scores. The t-value, in the coefficients table, associated with the stress variable also confirms what we knew from the significant F-test. That stress is a significant predictor of menheal scores. Here t = 8.56 with a probability of p < 0.001. If we were conducting multiple regression and had more than one IV, then each IV would have an associated t-value that would help us to interpret whether that variable was contributing signficantly to our regression model and could be used to predict scores on the DV. When there is only one IV, like here, the t-value will be the square root of the F-value for the model. The last thing worth checking in the output is the R-squared value that gives us some sort of indication of how well the model fits the data. In this case we have an R-squared value of 0.137. This suggests that about 13.7% of the variability in menheal scores can be explained by stress scores. So, there are obviously a lot of other factors (variables) that predict menheal scores beyond stress. This tells us that although we have a significant model and we can predict menheal scores using stress scores, there is a lot of noise in the data and stress is not a great predictor of menheal. This fits with our interpretation of the regression plot. We could see that there was a lot of niose in the data and menheal scores varied considerable at all levels of the stress scale. \n",
    "\n",
    "To formally report the above statistics we would use the following formats:\n",
    "\n",
    "- F-Value: F(1, 463) = 73.34, p < 0.001\n",
    "- t-Value: t(463) = 8.56, p < 0.001\n",
    "- Formula for the regression line: menheal = 3.79 + 0.011 * stress (y = a + bx (a = intercept; b = slope of the line))"
   ]
  },
  {
   "cell_type": "code",
   "execution_count": 5,
   "id": "8e7d572f",
   "metadata": {},
   "outputs": [
    {
     "name": "stdout",
     "output_type": "stream",
     "text": [
      "                            OLS Regression Results                            \n",
      "==============================================================================\n",
      "Dep. Variable:                menheal   R-squared:                       0.137\n",
      "Model:                            OLS   Adj. R-squared:                  0.135\n",
      "Method:                 Least Squares   F-statistic:                     73.34\n",
      "Date:                Sat, 02 Sep 2023   Prob (F-statistic):           1.63e-16\n",
      "Time:                        11:20:02   Log-Likelihood:                -1291.7\n",
      "No. Observations:                 465   AIC:                             2587.\n",
      "Df Residuals:                     463   BIC:                             2596.\n",
      "Df Model:                           1                                         \n",
      "Covariance Type:            nonrobust                                         \n",
      "==============================================================================\n",
      "                 coef    std err          t      P>|t|      [0.025      0.975]\n",
      "------------------------------------------------------------------------------\n",
      "Intercept      3.7904      0.327     11.594      0.000       3.148       4.433\n",
      "stress         0.0114      0.001      8.564      0.000       0.009       0.014\n",
      "==============================================================================\n",
      "Omnibus:                       20.649   Durbin-Watson:                   1.878\n",
      "Prob(Omnibus):                  0.000   Jarque-Bera (JB):               22.670\n",
      "Skew:                           0.540   Prob(JB):                     1.19e-05\n",
      "Kurtosis:                       2.936   Cond. No.                         443.\n",
      "==============================================================================\n",
      "\n",
      "Notes:\n",
      "[1] Standard Errors assume that the covariance matrix of the errors is correctly specified.\n"
     ]
    }
   ],
   "source": [
    "# We can obtain the statsmodels output for the regression model in the same format as the R programming language\n",
    "# by using the print function. \n",
    "\n",
    "print(mod_1.summary())"
   ]
  },
  {
   "cell_type": "markdown",
   "id": "d7271dd1",
   "metadata": {},
   "source": [
    "### The same model using pingouin\n",
    "\n",
    "We can perform the same regression analysis using the pingouin software library"
   ]
  },
  {
   "cell_type": "code",
   "execution_count": 6,
   "id": "592e232f",
   "metadata": {},
   "outputs": [
    {
     "data": {
      "text/html": [
       "<div>\n",
       "<style scoped>\n",
       "    .dataframe tbody tr th:only-of-type {\n",
       "        vertical-align: middle;\n",
       "    }\n",
       "\n",
       "    .dataframe tbody tr th {\n",
       "        vertical-align: top;\n",
       "    }\n",
       "\n",
       "    .dataframe thead th {\n",
       "        text-align: right;\n",
       "    }\n",
       "</style>\n",
       "<table border=\"1\" class=\"dataframe\">\n",
       "  <thead>\n",
       "    <tr style=\"text-align: right;\">\n",
       "      <th></th>\n",
       "      <th>names</th>\n",
       "      <th>coef</th>\n",
       "      <th>se</th>\n",
       "      <th>T</th>\n",
       "      <th>pval</th>\n",
       "      <th>r2</th>\n",
       "      <th>adj_r2</th>\n",
       "      <th>CI[2.5%]</th>\n",
       "      <th>CI[97.5%]</th>\n",
       "    </tr>\n",
       "  </thead>\n",
       "  <tbody>\n",
       "    <tr>\n",
       "      <th>0</th>\n",
       "      <td>Intercept</td>\n",
       "      <td>3.79</td>\n",
       "      <td>0.33</td>\n",
       "      <td>11.59</td>\n",
       "      <td>0.0</td>\n",
       "      <td>0.14</td>\n",
       "      <td>0.13</td>\n",
       "      <td>3.15</td>\n",
       "      <td>4.43</td>\n",
       "    </tr>\n",
       "    <tr>\n",
       "      <th>1</th>\n",
       "      <td>stress</td>\n",
       "      <td>0.01</td>\n",
       "      <td>0.00</td>\n",
       "      <td>8.56</td>\n",
       "      <td>0.0</td>\n",
       "      <td>0.14</td>\n",
       "      <td>0.13</td>\n",
       "      <td>0.01</td>\n",
       "      <td>0.01</td>\n",
       "    </tr>\n",
       "  </tbody>\n",
       "</table>\n",
       "</div>"
      ],
      "text/plain": [
       "       names  coef    se      T  pval    r2  adj_r2  CI[2.5%]  CI[97.5%]\n",
       "0  Intercept  3.79  0.33  11.59   0.0  0.14    0.13      3.15       4.43\n",
       "1     stress  0.01  0.00   8.56   0.0  0.14    0.13      0.01       0.01"
      ]
     },
     "execution_count": 6,
     "metadata": {},
     "output_type": "execute_result"
    }
   ],
   "source": [
    "mod_2 = pg.linear_regression(df['stress'], df['menheal'])\n",
    "mod_2.round(2)"
   ]
  },
  {
   "cell_type": "markdown",
   "id": "5b78dbf2",
   "metadata": {},
   "source": [
    "Note that the pingouin output returns only the coefficients table and doesn't give us an F-value for the overall significance of the model. This is not a problem with this linear regression model as we can still see that the IV is a significant predictor by inspecting the t-value and associated significance level. The fatc that this is significant tells us that our model is signficant. When conducting multiple regression, where we have a number of IVs, pingouin does have some other useful functionality in that it has lethods that allow us to partition the R-squared value so that we can see the relative importance of predictors in our model. \n",
    "\n",
    "\n",
    "## Summary:\n",
    "\n",
    "- Simple linear regression allows us to model the relationship between a scale IV and a scale DV using the equation for a straight line. The regression model can be used to assess whether the IV can be used to predict scores on the DV. \n",
    "- When we have only one IV it is useful to plot the variables using a scatterplot and we can fit a regression line to visualise the relationship prior to fitting our model. Visualisation will also highlight any potential issues with our data that we might wish to address before interpreting the results of the regression. \n",
    "- Regression models can be fitted using the statsmodels software library or pingouin software library. \n",
    "\n"
   ]
  }
 ],
 "metadata": {
  "kernelspec": {
   "display_name": "Python 3 (ipykernel)",
   "language": "python",
   "name": "python3"
  },
  "language_info": {
   "codemirror_mode": {
    "name": "ipython",
    "version": 3
   },
   "file_extension": ".py",
   "mimetype": "text/x-python",
   "name": "python",
   "nbconvert_exporter": "python",
   "pygments_lexer": "ipython3",
   "version": "3.9.12"
  }
 },
 "nbformat": 4,
 "nbformat_minor": 5
}
