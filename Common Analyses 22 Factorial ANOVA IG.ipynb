{
 "cells": [
  {
   "cell_type": "markdown",
   "id": "d90a8b1e",
   "metadata": {},
   "source": [
    "# Two-way Independent Groups Factorial ANOVA (no significant interaction)\n",
    "\n",
    "ANOVA designs take categorical (grouping) independent variables (IV) and are used to asses if the different categories/ groups of the IV differ signficantly in their mean scores on some scale (continuous or discrete) dependent variable (DV). \n",
    "\n",
    "In previous notebooks I have demonstrated the different types of one-way ANOVA analyses that can be conducted. One-way designs take one IV with multiple groups (or levels) and compare those groups on their mean scores on the DV. In Factorial ANOVA designs we still have one scale DV but we can add more categorical IVs, containing the same participants, to investigate how the groups in those IVs individually differ in terms of their scores on the DV (so-called main effects) and also if scores on the DV are influenced by different combinations of the IV categories (so-called interaction effects). \n",
    "\n",
    "In this notebook I will demonstrate how to run a two-way independent groups factorial ANOVA. The DV used will be a scale measure of participants scores on a questionnaire evaluating the extent to which they worry about crime. The IVs used in the design will be categorical variables of 'Sex' consisting of two groups, whether the participant was Male or Female, and anxiety level, which was a categorical variable placing the participant into one of three groups, whether they were low, medium or high in terms of their anxiety level. \n",
    "\n",
    "I will work through the different stages of the analysis, starting by testing for homogeneity of variance using Levene's test; then conducting the factorial ANOVA and interpreting the results of both main effects and the interaction between the IVs; after which, if any of the ANOVA results are significant, I will follow these up with post-hoc tests and tests of simple effects if required. "
   ]
  },
  {
   "cell_type": "code",
   "execution_count": 1,
   "id": "1bfcb9ae",
   "metadata": {},
   "outputs": [],
   "source": [
    "# Importing the key software libraries that will be used. \n",
    "\n",
    "import pandas as pd\n",
    "import numpy as np\n",
    "import scipy.stats as stats\n",
    "import seaborn as sns\n",
    "import matplotlib.pyplot as plt\n",
    "import pingouin as pg"
   ]
  },
  {
   "cell_type": "code",
   "execution_count": 2,
   "id": "7ec5d404",
   "metadata": {},
   "outputs": [
    {
     "data": {
      "text/html": [
       "<div>\n",
       "<style scoped>\n",
       "    .dataframe tbody tr th:only-of-type {\n",
       "        vertical-align: middle;\n",
       "    }\n",
       "\n",
       "    .dataframe tbody tr th {\n",
       "        vertical-align: top;\n",
       "    }\n",
       "\n",
       "    .dataframe thead th {\n",
       "        text-align: right;\n",
       "    }\n",
       "</style>\n",
       "<table border=\"1\" class=\"dataframe\">\n",
       "  <thead>\n",
       "    <tr style=\"text-align: right;\">\n",
       "      <th></th>\n",
       "      <th>sex</th>\n",
       "      <th>anxlevel</th>\n",
       "      <th>stress</th>\n",
       "      <th>totalworry</th>\n",
       "      <th>construct</th>\n",
       "    </tr>\n",
       "  </thead>\n",
       "  <tbody>\n",
       "    <tr>\n",
       "      <th>0</th>\n",
       "      <td>2</td>\n",
       "      <td>2</td>\n",
       "      <td>1.3</td>\n",
       "      <td>3.0375</td>\n",
       "      <td>3.04878048780488</td>\n",
       "    </tr>\n",
       "    <tr>\n",
       "      <th>1</th>\n",
       "      <td>2</td>\n",
       "      <td>2</td>\n",
       "      <td>2.1</td>\n",
       "      <td>3.21875</td>\n",
       "      <td>2.95121951219512</td>\n",
       "    </tr>\n",
       "    <tr>\n",
       "      <th>2</th>\n",
       "      <td>1</td>\n",
       "      <td>3</td>\n",
       "      <td>1.95</td>\n",
       "      <td>2.025</td>\n",
       "      <td>3.29268292682927</td>\n",
       "    </tr>\n",
       "    <tr>\n",
       "      <th>3</th>\n",
       "      <td>2</td>\n",
       "      <td>2</td>\n",
       "      <td>2.1</td>\n",
       "      <td>1.80625</td>\n",
       "      <td>2.19512195121951</td>\n",
       "    </tr>\n",
       "    <tr>\n",
       "      <th>4</th>\n",
       "      <td>2</td>\n",
       "      <td>2</td>\n",
       "      <td>2.05</td>\n",
       "      <td>2.5625</td>\n",
       "      <td>2.80487804878049</td>\n",
       "    </tr>\n",
       "  </tbody>\n",
       "</table>\n",
       "</div>"
      ],
      "text/plain": [
       "  sex anxlevel stress totalworry         construct\n",
       "0   2        2    1.3     3.0375  3.04878048780488\n",
       "1   2        2    2.1    3.21875  2.95121951219512\n",
       "2   1        3   1.95      2.025  3.29268292682927\n",
       "3   2        2    2.1    1.80625  2.19512195121951\n",
       "4   2        2   2.05     2.5625  2.80487804878049"
      ]
     },
     "execution_count": 2,
     "metadata": {},
     "output_type": "execute_result"
    }
   ],
   "source": [
    "# Importing the dataset for analysis.\n",
    "\n",
    "crime_df = pd.read_csv('fearofcrime.csv')\n",
    "\n",
    "crime_df.head()"
   ]
  },
  {
   "cell_type": "markdown",
   "id": "c0d87e31",
   "metadata": {},
   "source": [
    "The data saved in the csv for this dataset only has numbers (1 and 2) to represent the sex categorical variable, and numbers (1, 2 and 3) to represent the three anxiety level groups. It would be helpful to give labels to these numbers so they are more meaningful and easier to interpret when we conduct the analysis. In this case, the sex variable numbers represent the following codes: 1 = Male, 2 = Female, and the anxiety level variable (anxlevel) numbers represent the following codes: 1 = Low, 2 = Medium, 3 = High. \n",
    "\n",
    "I will create two extra columns on the dataframe that maps these numbers to their respective labels. "
   ]
  },
  {
   "cell_type": "code",
   "execution_count": 3,
   "id": "99edecab",
   "metadata": {},
   "outputs": [
    {
     "data": {
      "text/plain": [
       "sex           object\n",
       "anxlevel      object\n",
       "stress        object\n",
       "totalworry    object\n",
       "construct     object\n",
       "dtype: object"
      ]
     },
     "execution_count": 3,
     "metadata": {},
     "output_type": "execute_result"
    }
   ],
   "source": [
    "# At present all variables are shown as objects rather than floats or integers. \n",
    "# These will need changing in order for the data to have the correct types and be in the right format for analysis. \n",
    "crime_df.dtypes"
   ]
  },
  {
   "cell_type": "code",
   "execution_count": 4,
   "id": "704a8a28",
   "metadata": {},
   "outputs": [
    {
     "name": "stdout",
     "output_type": "stream",
     "text": [
      "<class 'pandas.core.frame.DataFrame'>\n",
      "RangeIndex: 235 entries, 0 to 234\n",
      "Data columns (total 5 columns):\n",
      " #   Column      Non-Null Count  Dtype \n",
      "---  ------      --------------  ----- \n",
      " 0   sex         235 non-null    object\n",
      " 1   anxlevel    235 non-null    object\n",
      " 2   stress      235 non-null    object\n",
      " 3   totalworry  235 non-null    object\n",
      " 4   construct   235 non-null    object\n",
      "dtypes: object(5)\n",
      "memory usage: 9.3+ KB\n"
     ]
    }
   ],
   "source": [
    "crime_df.info()"
   ]
  },
  {
   "cell_type": "code",
   "execution_count": 5,
   "id": "992dc79a",
   "metadata": {},
   "outputs": [
    {
     "data": {
      "text/plain": [
       "sex           float64\n",
       "anxlevel      float64\n",
       "stress        float64\n",
       "totalworry    float64\n",
       "construct     float64\n",
       "dtype: object"
      ]
     },
     "execution_count": 5,
     "metadata": {},
     "output_type": "execute_result"
    }
   ],
   "source": [
    "# First, converting all variables to numeric using the pandas to_numeric method. \n",
    "crime_df = crime_df.apply(pd.to_numeric, errors = 'coerce')\n",
    "\n",
    "crime_df.dtypes"
   ]
  },
  {
   "cell_type": "code",
   "execution_count": 6,
   "id": "a19ccfe3",
   "metadata": {},
   "outputs": [
    {
     "name": "stdout",
     "output_type": "stream",
     "text": [
      "<class 'pandas.core.frame.DataFrame'>\n",
      "RangeIndex: 235 entries, 0 to 234\n",
      "Data columns (total 5 columns):\n",
      " #   Column      Non-Null Count  Dtype  \n",
      "---  ------      --------------  -----  \n",
      " 0   sex         234 non-null    float64\n",
      " 1   anxlevel    228 non-null    float64\n",
      " 2   stress      234 non-null    float64\n",
      " 3   totalworry  228 non-null    float64\n",
      " 4   construct   222 non-null    float64\n",
      "dtypes: float64(5)\n",
      "memory usage: 9.3 KB\n"
     ]
    }
   ],
   "source": [
    "# Now that these values have been converted to numeric values we should be able to see any that were missing\n",
    "# as they will have been converted to NaN by errors = coerce\n",
    "\n",
    "crime_df.info()"
   ]
  },
  {
   "cell_type": "code",
   "execution_count": 7,
   "id": "3d892c93",
   "metadata": {},
   "outputs": [],
   "source": [
    "# Dropping missing values\n",
    "\n",
    "crime_df2 = crime_df.dropna()"
   ]
  },
  {
   "cell_type": "code",
   "execution_count": 8,
   "id": "a1516d6e",
   "metadata": {},
   "outputs": [
    {
     "name": "stdout",
     "output_type": "stream",
     "text": [
      "<class 'pandas.core.frame.DataFrame'>\n",
      "Int64Index: 209 entries, 0 to 234\n",
      "Data columns (total 5 columns):\n",
      " #   Column      Non-Null Count  Dtype  \n",
      "---  ------      --------------  -----  \n",
      " 0   sex         209 non-null    float64\n",
      " 1   anxlevel    209 non-null    float64\n",
      " 2   stress      209 non-null    float64\n",
      " 3   totalworry  209 non-null    float64\n",
      " 4   construct   209 non-null    float64\n",
      "dtypes: float64(5)\n",
      "memory usage: 9.8 KB\n"
     ]
    }
   ],
   "source": [
    "# We are now left with a dataframe of 209 participants/ rows. \n",
    "crime_df2.info()"
   ]
  },
  {
   "cell_type": "code",
   "execution_count": 9,
   "id": "b4d32397",
   "metadata": {},
   "outputs": [
    {
     "name": "stderr",
     "output_type": "stream",
     "text": [
      "C:\\Users\\robert65\\AppData\\Local\\Temp\\ipykernel_12740\\796673754.py:6: SettingWithCopyWarning: \n",
      "A value is trying to be set on a copy of a slice from a DataFrame.\n",
      "Try using .loc[row_indexer,col_indexer] = value instead\n",
      "\n",
      "See the caveats in the documentation: https://pandas.pydata.org/pandas-docs/stable/user_guide/indexing.html#returning-a-view-versus-a-copy\n",
      "  crime_df2['sex_cat'] = crime_df2['sex'].map(dict(zip(a, b)))\n"
     ]
    }
   ],
   "source": [
    "# Using the series.map function to add labels to the sex categorical variable.\n",
    "\n",
    "a = [1, 2]\n",
    "b = [\"male\", \"female\"]\n",
    "\n",
    "crime_df2['sex_cat'] = crime_df2['sex'].map(dict(zip(a, b)))\n"
   ]
  },
  {
   "cell_type": "code",
   "execution_count": 10,
   "id": "fb027dbe",
   "metadata": {},
   "outputs": [
    {
     "name": "stderr",
     "output_type": "stream",
     "text": [
      "C:\\Users\\robert65\\AppData\\Local\\Temp\\ipykernel_12740\\3429048857.py:6: SettingWithCopyWarning: \n",
      "A value is trying to be set on a copy of a slice from a DataFrame.\n",
      "Try using .loc[row_indexer,col_indexer] = value instead\n",
      "\n",
      "See the caveats in the documentation: https://pandas.pydata.org/pandas-docs/stable/user_guide/indexing.html#returning-a-view-versus-a-copy\n",
      "  crime_df2['anx_cat'] = crime_df2['anxlevel'].map(dict(zip(a, b)))\n"
     ]
    },
    {
     "data": {
      "text/html": [
       "<div>\n",
       "<style scoped>\n",
       "    .dataframe tbody tr th:only-of-type {\n",
       "        vertical-align: middle;\n",
       "    }\n",
       "\n",
       "    .dataframe tbody tr th {\n",
       "        vertical-align: top;\n",
       "    }\n",
       "\n",
       "    .dataframe thead th {\n",
       "        text-align: right;\n",
       "    }\n",
       "</style>\n",
       "<table border=\"1\" class=\"dataframe\">\n",
       "  <thead>\n",
       "    <tr style=\"text-align: right;\">\n",
       "      <th></th>\n",
       "      <th>sex</th>\n",
       "      <th>anxlevel</th>\n",
       "      <th>stress</th>\n",
       "      <th>totalworry</th>\n",
       "      <th>construct</th>\n",
       "      <th>sex_cat</th>\n",
       "      <th>anx_cat</th>\n",
       "    </tr>\n",
       "  </thead>\n",
       "  <tbody>\n",
       "    <tr>\n",
       "      <th>0</th>\n",
       "      <td>2.0</td>\n",
       "      <td>2.0</td>\n",
       "      <td>1.30</td>\n",
       "      <td>3.03750</td>\n",
       "      <td>3.048780</td>\n",
       "      <td>female</td>\n",
       "      <td>medium</td>\n",
       "    </tr>\n",
       "    <tr>\n",
       "      <th>1</th>\n",
       "      <td>2.0</td>\n",
       "      <td>2.0</td>\n",
       "      <td>2.10</td>\n",
       "      <td>3.21875</td>\n",
       "      <td>2.951220</td>\n",
       "      <td>female</td>\n",
       "      <td>medium</td>\n",
       "    </tr>\n",
       "    <tr>\n",
       "      <th>2</th>\n",
       "      <td>1.0</td>\n",
       "      <td>3.0</td>\n",
       "      <td>1.95</td>\n",
       "      <td>2.02500</td>\n",
       "      <td>3.292683</td>\n",
       "      <td>male</td>\n",
       "      <td>high</td>\n",
       "    </tr>\n",
       "    <tr>\n",
       "      <th>3</th>\n",
       "      <td>2.0</td>\n",
       "      <td>2.0</td>\n",
       "      <td>2.10</td>\n",
       "      <td>1.80625</td>\n",
       "      <td>2.195122</td>\n",
       "      <td>female</td>\n",
       "      <td>medium</td>\n",
       "    </tr>\n",
       "    <tr>\n",
       "      <th>4</th>\n",
       "      <td>2.0</td>\n",
       "      <td>2.0</td>\n",
       "      <td>2.05</td>\n",
       "      <td>2.56250</td>\n",
       "      <td>2.804878</td>\n",
       "      <td>female</td>\n",
       "      <td>medium</td>\n",
       "    </tr>\n",
       "  </tbody>\n",
       "</table>\n",
       "</div>"
      ],
      "text/plain": [
       "   sex  anxlevel  stress  totalworry  construct sex_cat anx_cat\n",
       "0  2.0       2.0    1.30     3.03750   3.048780  female  medium\n",
       "1  2.0       2.0    2.10     3.21875   2.951220  female  medium\n",
       "2  1.0       3.0    1.95     2.02500   3.292683    male    high\n",
       "3  2.0       2.0    2.10     1.80625   2.195122  female  medium\n",
       "4  2.0       2.0    2.05     2.56250   2.804878  female  medium"
      ]
     },
     "execution_count": 10,
     "metadata": {},
     "output_type": "execute_result"
    }
   ],
   "source": [
    "# Using the series.map function to add labels to the anxlevel categorical variable.\n",
    "\n",
    "a = [1, 2, 3]\n",
    "b = [\"low\", \"medium\", \"high\"]\n",
    "\n",
    "crime_df2['anx_cat'] = crime_df2['anxlevel'].map(dict(zip(a, b)))\n",
    "\n",
    "crime_df2.head()"
   ]
  },
  {
   "cell_type": "code",
   "execution_count": 11,
   "id": "17ef144f",
   "metadata": {},
   "outputs": [
    {
     "name": "stdout",
     "output_type": "stream",
     "text": [
      "<class 'pandas.core.frame.DataFrame'>\n",
      "Int64Index: 209 entries, 0 to 234\n",
      "Data columns (total 7 columns):\n",
      " #   Column      Non-Null Count  Dtype  \n",
      "---  ------      --------------  -----  \n",
      " 0   sex         209 non-null    float64\n",
      " 1   anxlevel    209 non-null    float64\n",
      " 2   stress      209 non-null    float64\n",
      " 3   totalworry  209 non-null    float64\n",
      " 4   construct   209 non-null    float64\n",
      " 5   sex_cat     209 non-null    object \n",
      " 6   anx_cat     209 non-null    object \n",
      "dtypes: float64(5), object(2)\n",
      "memory usage: 13.1+ KB\n"
     ]
    }
   ],
   "source": [
    "crime_df2.info()"
   ]
  },
  {
   "cell_type": "markdown",
   "id": "cfa1c5e6",
   "metadata": {},
   "source": [
    "With the data cleaned and consisting of the correct data types we can now start the analysis. Firstly, doing a test of assumptions using Levene's test. "
   ]
  },
  {
   "cell_type": "markdown",
   "id": "898c5cf9",
   "metadata": {},
   "source": [
    "### Test for homogeneity of variance\n",
    "\n",
    "Here is will conduct Levene's test using the homoscedasticity method from pingouin. "
   ]
  },
  {
   "cell_type": "code",
   "execution_count": 12,
   "id": "00761c80",
   "metadata": {},
   "outputs": [
    {
     "data": {
      "text/html": [
       "<div>\n",
       "<style scoped>\n",
       "    .dataframe tbody tr th:only-of-type {\n",
       "        vertical-align: middle;\n",
       "    }\n",
       "\n",
       "    .dataframe tbody tr th {\n",
       "        vertical-align: top;\n",
       "    }\n",
       "\n",
       "    .dataframe thead th {\n",
       "        text-align: right;\n",
       "    }\n",
       "</style>\n",
       "<table border=\"1\" class=\"dataframe\">\n",
       "  <thead>\n",
       "    <tr style=\"text-align: right;\">\n",
       "      <th></th>\n",
       "      <th>W</th>\n",
       "      <th>pval</th>\n",
       "      <th>equal_var</th>\n",
       "    </tr>\n",
       "  </thead>\n",
       "  <tbody>\n",
       "    <tr>\n",
       "      <th>levene</th>\n",
       "      <td>2.309495</td>\n",
       "      <td>0.130112</td>\n",
       "      <td>True</td>\n",
       "    </tr>\n",
       "  </tbody>\n",
       "</table>\n",
       "</div>"
      ],
      "text/plain": [
       "               W      pval  equal_var\n",
       "levene  2.309495  0.130112       True"
      ]
     },
     "execution_count": 12,
     "metadata": {},
     "output_type": "execute_result"
    }
   ],
   "source": [
    "pg.homoscedasticity(crime_df2, dv = 'totalworry', group = 'sex_cat', center = 'mean')"
   ]
  },
  {
   "cell_type": "code",
   "execution_count": 13,
   "id": "117fd0c4",
   "metadata": {},
   "outputs": [
    {
     "data": {
      "text/html": [
       "<div>\n",
       "<style scoped>\n",
       "    .dataframe tbody tr th:only-of-type {\n",
       "        vertical-align: middle;\n",
       "    }\n",
       "\n",
       "    .dataframe tbody tr th {\n",
       "        vertical-align: top;\n",
       "    }\n",
       "\n",
       "    .dataframe thead th {\n",
       "        text-align: right;\n",
       "    }\n",
       "</style>\n",
       "<table border=\"1\" class=\"dataframe\">\n",
       "  <thead>\n",
       "    <tr style=\"text-align: right;\">\n",
       "      <th></th>\n",
       "      <th>W</th>\n",
       "      <th>pval</th>\n",
       "      <th>equal_var</th>\n",
       "    </tr>\n",
       "  </thead>\n",
       "  <tbody>\n",
       "    <tr>\n",
       "      <th>levene</th>\n",
       "      <td>0.729261</td>\n",
       "      <td>0.483506</td>\n",
       "      <td>True</td>\n",
       "    </tr>\n",
       "  </tbody>\n",
       "</table>\n",
       "</div>"
      ],
      "text/plain": [
       "               W      pval  equal_var\n",
       "levene  0.729261  0.483506       True"
      ]
     },
     "execution_count": 13,
     "metadata": {},
     "output_type": "execute_result"
    }
   ],
   "source": [
    "pg.homoscedasticity(crime_df2, dv = 'totalworry', group = 'anx_cat', center = 'mean')"
   ]
  },
  {
   "cell_type": "markdown",
   "id": "acc8842b",
   "metadata": {},
   "source": [
    "We can see that the two Levene's tests, conducted on each of the IVs, are not statistically significant. This tells us we are probably safe to assume equal variances for the groups in the dataset. \n",
    "\n",
    "We could report these results as follows:\n",
    "\n",
    "Levene's test assessing equality of variance for the sex IV was non-significant (F(1, 207) = 2.31, p = 0.13) and the Levene's test on the anxiety level IV was also non-significant (F(2, 206) = 0.73, p = 0.48). "
   ]
  },
  {
   "cell_type": "markdown",
   "id": "81e48ebc",
   "metadata": {},
   "source": [
    "### Two-way Factorial ANOVA\n",
    "\n",
    "Assuming equal variances for all analyses, we can now conduct and interpret the two-way IG ANOVA. "
   ]
  },
  {
   "cell_type": "markdown",
   "id": "6c200786",
   "metadata": {},
   "source": [
    "Here I am using the pingouin anova method. "
   ]
  },
  {
   "cell_type": "code",
   "execution_count": 14,
   "id": "bd673756",
   "metadata": {},
   "outputs": [
    {
     "data": {
      "text/html": [
       "<div>\n",
       "<style scoped>\n",
       "    .dataframe tbody tr th:only-of-type {\n",
       "        vertical-align: middle;\n",
       "    }\n",
       "\n",
       "    .dataframe tbody tr th {\n",
       "        vertical-align: top;\n",
       "    }\n",
       "\n",
       "    .dataframe thead th {\n",
       "        text-align: right;\n",
       "    }\n",
       "</style>\n",
       "<table border=\"1\" class=\"dataframe\">\n",
       "  <thead>\n",
       "    <tr style=\"text-align: right;\">\n",
       "      <th></th>\n",
       "      <th>Source</th>\n",
       "      <th>SS</th>\n",
       "      <th>DF</th>\n",
       "      <th>MS</th>\n",
       "      <th>F</th>\n",
       "      <th>p-unc</th>\n",
       "      <th>np2</th>\n",
       "    </tr>\n",
       "  </thead>\n",
       "  <tbody>\n",
       "    <tr>\n",
       "      <th>0</th>\n",
       "      <td>sex_cat</td>\n",
       "      <td>11.862</td>\n",
       "      <td>1.0</td>\n",
       "      <td>11.862</td>\n",
       "      <td>31.332</td>\n",
       "      <td>0.000</td>\n",
       "      <td>0.134</td>\n",
       "    </tr>\n",
       "    <tr>\n",
       "      <th>1</th>\n",
       "      <td>anx_cat</td>\n",
       "      <td>2.164</td>\n",
       "      <td>2.0</td>\n",
       "      <td>1.082</td>\n",
       "      <td>2.858</td>\n",
       "      <td>0.060</td>\n",
       "      <td>0.027</td>\n",
       "    </tr>\n",
       "    <tr>\n",
       "      <th>2</th>\n",
       "      <td>sex_cat * anx_cat</td>\n",
       "      <td>0.374</td>\n",
       "      <td>2.0</td>\n",
       "      <td>0.187</td>\n",
       "      <td>0.494</td>\n",
       "      <td>0.611</td>\n",
       "      <td>0.005</td>\n",
       "    </tr>\n",
       "    <tr>\n",
       "      <th>3</th>\n",
       "      <td>Residual</td>\n",
       "      <td>76.852</td>\n",
       "      <td>203.0</td>\n",
       "      <td>0.379</td>\n",
       "      <td>NaN</td>\n",
       "      <td>NaN</td>\n",
       "      <td>NaN</td>\n",
       "    </tr>\n",
       "  </tbody>\n",
       "</table>\n",
       "</div>"
      ],
      "text/plain": [
       "              Source      SS     DF      MS       F  p-unc    np2\n",
       "0            sex_cat  11.862    1.0  11.862  31.332  0.000  0.134\n",
       "1            anx_cat   2.164    2.0   1.082   2.858  0.060  0.027\n",
       "2  sex_cat * anx_cat   0.374    2.0   0.187   0.494  0.611  0.005\n",
       "3           Residual  76.852  203.0   0.379     NaN    NaN    NaN"
      ]
     },
     "execution_count": 14,
     "metadata": {},
     "output_type": "execute_result"
    }
   ],
   "source": [
    "pg.anova(crime_df2, dv = 'totalworry', between = ['sex_cat', 'anx_cat']).round(3)"
   ]
  },
  {
   "cell_type": "markdown",
   "id": "3d9d4e31",
   "metadata": {},
   "source": [
    "The above results show that we have a significant main effect of sex (F(1, 203) = 31.33, p < 0.001), a non-significant main effect of anxiety level (F(2, 203) = 2.86, p = 0.06), and a non-significant interaction between sex and anxiety (F(2, 203) = 0.49, p = 0.61). \n",
    "\n",
    "As sex has only two levels (male and female) we don't need to conduct post-hoc tests to assess where the significant differences are. All we need to do is obtain descriptive statistics for each sex category individually. We can then compare the mean scores for the two and see which had the highest level of total worry about crime. "
   ]
  },
  {
   "cell_type": "code",
   "execution_count": 15,
   "id": "1a0b91c0",
   "metadata": {},
   "outputs": [],
   "source": [
    "male_mean = crime_df2.loc[crime_df2.sex_cat == 'male']['totalworry']\n",
    "female_mean = crime_df2.loc[crime_df2.sex_cat == 'female']['totalworry']"
   ]
  },
  {
   "cell_type": "code",
   "execution_count": 16,
   "id": "69d44cf1",
   "metadata": {},
   "outputs": [
    {
     "name": "stdout",
     "output_type": "stream",
     "text": [
      "Male Mean Worry: 1.73\n",
      "Female Mean Worry: 2.22\n"
     ]
    }
   ],
   "source": [
    "print(f\"Male Mean Worry: {male_mean.mean():.2f}\")\n",
    "print(f\"Female Mean Worry: {female_mean.mean():.2f}\")"
   ]
  },
  {
   "cell_type": "markdown",
   "id": "d15b1447",
   "metadata": {},
   "source": [
    "Comparing the mean worry scores by sex we can see that Females (Mean = 2.22) had significantly higher worry scores than Males (Mean = 1.73) in relation to crime. "
   ]
  }
 ],
 "metadata": {
  "kernelspec": {
   "display_name": "Python 3 (ipykernel)",
   "language": "python",
   "name": "python3"
  },
  "language_info": {
   "codemirror_mode": {
    "name": "ipython",
    "version": 3
   },
   "file_extension": ".py",
   "mimetype": "text/x-python",
   "name": "python",
   "nbconvert_exporter": "python",
   "pygments_lexer": "ipython3",
   "version": "3.9.12"
  }
 },
 "nbformat": 4,
 "nbformat_minor": 5
}
