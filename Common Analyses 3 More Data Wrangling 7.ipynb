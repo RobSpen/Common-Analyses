{
 "cells": [
  {
   "cell_type": "markdown",
   "id": "7064969b",
   "metadata": {},
   "source": [
    "# More Data Wrangling 7\n",
    "\n",
    "In this notebook I will demonstrate an alternative way to drop rows of participants/ observation with missing values and also how to drop columns (variables) that have an amount of missing values above a certain percentage. "
   ]
  },
  {
   "cell_type": "code",
   "execution_count": 1,
   "id": "33c96482",
   "metadata": {},
   "outputs": [],
   "source": [
    "import pandas as pd\n",
    "import numpy as np"
   ]
  },
  {
   "cell_type": "code",
   "execution_count": 2,
   "id": "7650a6f7",
   "metadata": {},
   "outputs": [
    {
     "data": {
      "text/html": [
       "<div>\n",
       "<style scoped>\n",
       "    .dataframe tbody tr th:only-of-type {\n",
       "        vertical-align: middle;\n",
       "    }\n",
       "\n",
       "    .dataframe tbody tr th {\n",
       "        vertical-align: top;\n",
       "    }\n",
       "\n",
       "    .dataframe thead th {\n",
       "        text-align: right;\n",
       "    }\n",
       "</style>\n",
       "<table border=\"1\" class=\"dataframe\">\n",
       "  <thead>\n",
       "    <tr style=\"text-align: right;\">\n",
       "      <th></th>\n",
       "      <th>sex</th>\n",
       "      <th>anxlevel</th>\n",
       "      <th>stress</th>\n",
       "      <th>totalworry</th>\n",
       "      <th>construct</th>\n",
       "    </tr>\n",
       "  </thead>\n",
       "  <tbody>\n",
       "    <tr>\n",
       "      <th>0</th>\n",
       "      <td>2</td>\n",
       "      <td>2</td>\n",
       "      <td>1.3</td>\n",
       "      <td>3.0375</td>\n",
       "      <td>3.04878048780488</td>\n",
       "    </tr>\n",
       "    <tr>\n",
       "      <th>1</th>\n",
       "      <td>2</td>\n",
       "      <td>2</td>\n",
       "      <td>2.1</td>\n",
       "      <td>3.21875</td>\n",
       "      <td>2.95121951219512</td>\n",
       "    </tr>\n",
       "    <tr>\n",
       "      <th>2</th>\n",
       "      <td>1</td>\n",
       "      <td>3</td>\n",
       "      <td>1.95</td>\n",
       "      <td>2.025</td>\n",
       "      <td>3.29268292682927</td>\n",
       "    </tr>\n",
       "    <tr>\n",
       "      <th>3</th>\n",
       "      <td>2</td>\n",
       "      <td>2</td>\n",
       "      <td>2.1</td>\n",
       "      <td>1.80625</td>\n",
       "      <td>2.19512195121951</td>\n",
       "    </tr>\n",
       "    <tr>\n",
       "      <th>4</th>\n",
       "      <td>2</td>\n",
       "      <td>2</td>\n",
       "      <td>2.05</td>\n",
       "      <td>2.5625</td>\n",
       "      <td>2.80487804878049</td>\n",
       "    </tr>\n",
       "  </tbody>\n",
       "</table>\n",
       "</div>"
      ],
      "text/plain": [
       "  sex anxlevel stress totalworry         construct\n",
       "0   2        2    1.3     3.0375  3.04878048780488\n",
       "1   2        2    2.1    3.21875  2.95121951219512\n",
       "2   1        3   1.95      2.025  3.29268292682927\n",
       "3   2        2    2.1    1.80625  2.19512195121951\n",
       "4   2        2   2.05     2.5625  2.80487804878049"
      ]
     },
     "execution_count": 2,
     "metadata": {},
     "output_type": "execute_result"
    }
   ],
   "source": [
    "crime = pd.read_csv('fearofcrime.csv')\n",
    "crime.head()"
   ]
  },
  {
   "cell_type": "code",
   "execution_count": 3,
   "id": "ec1489b7",
   "metadata": {},
   "outputs": [
    {
     "data": {
      "text/plain": [
       "sex           object\n",
       "anxlevel      object\n",
       "stress        object\n",
       "totalworry    object\n",
       "construct     object\n",
       "dtype: object"
      ]
     },
     "execution_count": 3,
     "metadata": {},
     "output_type": "execute_result"
    }
   ],
   "source": [
    "# Converting the number variables in the crime dataset that are\n",
    "# saved as strings to floats:\n",
    "\n",
    "crime.dtypes"
   ]
  },
  {
   "cell_type": "code",
   "execution_count": 4,
   "id": "c1c15dd1",
   "metadata": {},
   "outputs": [],
   "source": [
    "crime_2 = crime.apply(pd.to_numeric, errors = 'coerce')"
   ]
  },
  {
   "cell_type": "code",
   "execution_count": 5,
   "id": "b1d3088b",
   "metadata": {},
   "outputs": [
    {
     "data": {
      "text/plain": [
       "sex           float64\n",
       "anxlevel      float64\n",
       "stress        float64\n",
       "totalworry    float64\n",
       "construct     float64\n",
       "dtype: object"
      ]
     },
     "execution_count": 5,
     "metadata": {},
     "output_type": "execute_result"
    }
   ],
   "source": [
    "crime_2.dtypes"
   ]
  },
  {
   "cell_type": "code",
   "execution_count": 6,
   "id": "d3a70d02",
   "metadata": {},
   "outputs": [
    {
     "data": {
      "text/plain": [
       "array([ 2.,  1., nan])"
      ]
     },
     "execution_count": 6,
     "metadata": {},
     "output_type": "execute_result"
    }
   ],
   "source": [
    "crime_2.sex.unique()"
   ]
  },
  {
   "cell_type": "code",
   "execution_count": 7,
   "id": "14d870d2",
   "metadata": {},
   "outputs": [
    {
     "data": {
      "text/plain": [
       "array([ 2.,  3.,  1., nan])"
      ]
     },
     "execution_count": 7,
     "metadata": {},
     "output_type": "execute_result"
    }
   ],
   "source": [
    "crime_2.anxlevel.unique()"
   ]
  },
  {
   "cell_type": "code",
   "execution_count": 8,
   "id": "352f881b",
   "metadata": {},
   "outputs": [
    {
     "data": {
      "text/plain": [
       "sex            1\n",
       "anxlevel       7\n",
       "stress         1\n",
       "totalworry     7\n",
       "construct     13\n",
       "dtype: int64"
      ]
     },
     "execution_count": 8,
     "metadata": {},
     "output_type": "execute_result"
    }
   ],
   "source": [
    "# Can use the isna method and sum method to get counts of how many missing datapoints per variable. \n",
    "crime_2.isna().sum()"
   ]
  },
  {
   "cell_type": "code",
   "execution_count": 9,
   "id": "5413262a",
   "metadata": {},
   "outputs": [
    {
     "data": {
      "text/plain": [
       "sex           0.004255\n",
       "anxlevel      0.029787\n",
       "stress        0.004255\n",
       "totalworry    0.029787\n",
       "construct     0.055319\n",
       "dtype: float64"
      ]
     },
     "execution_count": 9,
     "metadata": {},
     "output_type": "execute_result"
    }
   ],
   "source": [
    "# Can also work out the percentage of missing values using isna.mean method:\n",
    "\n",
    "crime_2.isna().mean()"
   ]
  },
  {
   "cell_type": "code",
   "execution_count": 10,
   "id": "e9d77277",
   "metadata": {},
   "outputs": [],
   "source": [
    "# To drop missing values, can use the dropna method.\n",
    "\n",
    "crime_2 = crime_2.dropna()"
   ]
  },
  {
   "cell_type": "code",
   "execution_count": 11,
   "id": "57e0eece",
   "metadata": {},
   "outputs": [
    {
     "name": "stdout",
     "output_type": "stream",
     "text": [
      "<class 'pandas.core.frame.DataFrame'>\n",
      "Int64Index: 209 entries, 0 to 234\n",
      "Data columns (total 5 columns):\n",
      " #   Column      Non-Null Count  Dtype  \n",
      "---  ------      --------------  -----  \n",
      " 0   sex         209 non-null    float64\n",
      " 1   anxlevel    209 non-null    float64\n",
      " 2   stress      209 non-null    float64\n",
      " 3   totalworry  209 non-null    float64\n",
      " 4   construct   209 non-null    float64\n",
      "dtypes: float64(5)\n",
      "memory usage: 9.8 KB\n"
     ]
    }
   ],
   "source": [
    "crime_2.info()"
   ]
  },
  {
   "cell_type": "code",
   "execution_count": 12,
   "id": "79ca1c7d",
   "metadata": {},
   "outputs": [],
   "source": [
    "crime_2 = crime_2.reset_index()"
   ]
  },
  {
   "cell_type": "code",
   "execution_count": 13,
   "id": "78e41ddf",
   "metadata": {},
   "outputs": [
    {
     "name": "stdout",
     "output_type": "stream",
     "text": [
      "<class 'pandas.core.frame.DataFrame'>\n",
      "RangeIndex: 209 entries, 0 to 208\n",
      "Data columns (total 6 columns):\n",
      " #   Column      Non-Null Count  Dtype  \n",
      "---  ------      --------------  -----  \n",
      " 0   index       209 non-null    int64  \n",
      " 1   sex         209 non-null    float64\n",
      " 2   anxlevel    209 non-null    float64\n",
      " 3   stress      209 non-null    float64\n",
      " 4   totalworry  209 non-null    float64\n",
      " 5   construct   209 non-null    float64\n",
      "dtypes: float64(5), int64(1)\n",
      "memory usage: 9.9 KB\n"
     ]
    }
   ],
   "source": [
    "crime_2.info()"
   ]
  },
  {
   "cell_type": "code",
   "execution_count": 14,
   "id": "80d060bf",
   "metadata": {},
   "outputs": [
    {
     "data": {
      "text/html": [
       "<div>\n",
       "<style scoped>\n",
       "    .dataframe tbody tr th:only-of-type {\n",
       "        vertical-align: middle;\n",
       "    }\n",
       "\n",
       "    .dataframe tbody tr th {\n",
       "        vertical-align: top;\n",
       "    }\n",
       "\n",
       "    .dataframe thead th {\n",
       "        text-align: right;\n",
       "    }\n",
       "</style>\n",
       "<table border=\"1\" class=\"dataframe\">\n",
       "  <thead>\n",
       "    <tr style=\"text-align: right;\">\n",
       "      <th></th>\n",
       "      <th>index</th>\n",
       "      <th>sex</th>\n",
       "      <th>anxlevel</th>\n",
       "      <th>stress</th>\n",
       "      <th>totalworry</th>\n",
       "      <th>construct</th>\n",
       "    </tr>\n",
       "  </thead>\n",
       "  <tbody>\n",
       "    <tr>\n",
       "      <th>0</th>\n",
       "      <td>0</td>\n",
       "      <td>2.0</td>\n",
       "      <td>2.0</td>\n",
       "      <td>1.30</td>\n",
       "      <td>3.03750</td>\n",
       "      <td>3.048780</td>\n",
       "    </tr>\n",
       "    <tr>\n",
       "      <th>1</th>\n",
       "      <td>1</td>\n",
       "      <td>2.0</td>\n",
       "      <td>2.0</td>\n",
       "      <td>2.10</td>\n",
       "      <td>3.21875</td>\n",
       "      <td>2.951220</td>\n",
       "    </tr>\n",
       "    <tr>\n",
       "      <th>2</th>\n",
       "      <td>2</td>\n",
       "      <td>1.0</td>\n",
       "      <td>3.0</td>\n",
       "      <td>1.95</td>\n",
       "      <td>2.02500</td>\n",
       "      <td>3.292683</td>\n",
       "    </tr>\n",
       "    <tr>\n",
       "      <th>3</th>\n",
       "      <td>3</td>\n",
       "      <td>2.0</td>\n",
       "      <td>2.0</td>\n",
       "      <td>2.10</td>\n",
       "      <td>1.80625</td>\n",
       "      <td>2.195122</td>\n",
       "    </tr>\n",
       "    <tr>\n",
       "      <th>4</th>\n",
       "      <td>4</td>\n",
       "      <td>2.0</td>\n",
       "      <td>2.0</td>\n",
       "      <td>2.05</td>\n",
       "      <td>2.56250</td>\n",
       "      <td>2.804878</td>\n",
       "    </tr>\n",
       "    <tr>\n",
       "      <th>...</th>\n",
       "      <td>...</td>\n",
       "      <td>...</td>\n",
       "      <td>...</td>\n",
       "      <td>...</td>\n",
       "      <td>...</td>\n",
       "      <td>...</td>\n",
       "    </tr>\n",
       "    <tr>\n",
       "      <th>204</th>\n",
       "      <td>230</td>\n",
       "      <td>2.0</td>\n",
       "      <td>2.0</td>\n",
       "      <td>1.90</td>\n",
       "      <td>2.50000</td>\n",
       "      <td>3.317073</td>\n",
       "    </tr>\n",
       "    <tr>\n",
       "      <th>205</th>\n",
       "      <td>231</td>\n",
       "      <td>2.0</td>\n",
       "      <td>2.0</td>\n",
       "      <td>2.05</td>\n",
       "      <td>3.58750</td>\n",
       "      <td>2.975610</td>\n",
       "    </tr>\n",
       "    <tr>\n",
       "      <th>206</th>\n",
       "      <td>232</td>\n",
       "      <td>2.0</td>\n",
       "      <td>1.0</td>\n",
       "      <td>1.15</td>\n",
       "      <td>2.39375</td>\n",
       "      <td>4.097561</td>\n",
       "    </tr>\n",
       "    <tr>\n",
       "      <th>207</th>\n",
       "      <td>233</td>\n",
       "      <td>1.0</td>\n",
       "      <td>2.0</td>\n",
       "      <td>1.65</td>\n",
       "      <td>2.00000</td>\n",
       "      <td>3.317073</td>\n",
       "    </tr>\n",
       "    <tr>\n",
       "      <th>208</th>\n",
       "      <td>234</td>\n",
       "      <td>1.0</td>\n",
       "      <td>2.0</td>\n",
       "      <td>1.75</td>\n",
       "      <td>2.09375</td>\n",
       "      <td>3.390244</td>\n",
       "    </tr>\n",
       "  </tbody>\n",
       "</table>\n",
       "<p>209 rows × 6 columns</p>\n",
       "</div>"
      ],
      "text/plain": [
       "     index  sex  anxlevel  stress  totalworry  construct\n",
       "0        0  2.0       2.0    1.30     3.03750   3.048780\n",
       "1        1  2.0       2.0    2.10     3.21875   2.951220\n",
       "2        2  1.0       3.0    1.95     2.02500   3.292683\n",
       "3        3  2.0       2.0    2.10     1.80625   2.195122\n",
       "4        4  2.0       2.0    2.05     2.56250   2.804878\n",
       "..     ...  ...       ...     ...         ...        ...\n",
       "204    230  2.0       2.0    1.90     2.50000   3.317073\n",
       "205    231  2.0       2.0    2.05     3.58750   2.975610\n",
       "206    232  2.0       1.0    1.15     2.39375   4.097561\n",
       "207    233  1.0       2.0    1.65     2.00000   3.317073\n",
       "208    234  1.0       2.0    1.75     2.09375   3.390244\n",
       "\n",
       "[209 rows x 6 columns]"
      ]
     },
     "execution_count": 14,
     "metadata": {},
     "output_type": "execute_result"
    }
   ],
   "source": [
    "crime_2"
   ]
  },
  {
   "cell_type": "code",
   "execution_count": 15,
   "id": "5022fec1",
   "metadata": {},
   "outputs": [
    {
     "data": {
      "text/plain": [
       "index         0\n",
       "sex           0\n",
       "anxlevel      0\n",
       "stress        0\n",
       "totalworry    0\n",
       "construct     0\n",
       "dtype: int64"
      ]
     },
     "execution_count": 15,
     "metadata": {},
     "output_type": "execute_result"
    }
   ],
   "source": [
    "crime_2.isna().sum()"
   ]
  },
  {
   "cell_type": "code",
   "execution_count": 16,
   "id": "de7b9684",
   "metadata": {},
   "outputs": [],
   "source": [
    "crime_3 = crime.apply(pd.to_numeric, errors = 'coerce')"
   ]
  },
  {
   "cell_type": "code",
   "execution_count": 17,
   "id": "18e5c6b2",
   "metadata": {},
   "outputs": [
    {
     "data": {
      "text/plain": [
       "sex           0.004255\n",
       "anxlevel      0.029787\n",
       "stress        0.004255\n",
       "totalworry    0.029787\n",
       "construct     0.055319\n",
       "dtype: float64"
      ]
     },
     "execution_count": 17,
     "metadata": {},
     "output_type": "execute_result"
    }
   ],
   "source": [
    "crime_3.isna().mean()"
   ]
  },
  {
   "cell_type": "code",
   "execution_count": 18,
   "id": "ff2b936d",
   "metadata": {},
   "outputs": [
    {
     "data": {
      "text/html": [
       "<div>\n",
       "<style scoped>\n",
       "    .dataframe tbody tr th:only-of-type {\n",
       "        vertical-align: middle;\n",
       "    }\n",
       "\n",
       "    .dataframe tbody tr th {\n",
       "        vertical-align: top;\n",
       "    }\n",
       "\n",
       "    .dataframe thead th {\n",
       "        text-align: right;\n",
       "    }\n",
       "</style>\n",
       "<table border=\"1\" class=\"dataframe\">\n",
       "  <thead>\n",
       "    <tr style=\"text-align: right;\">\n",
       "      <th></th>\n",
       "      <th>sex</th>\n",
       "      <th>anxlevel</th>\n",
       "      <th>stress</th>\n",
       "      <th>totalworry</th>\n",
       "      <th>construct</th>\n",
       "    </tr>\n",
       "  </thead>\n",
       "  <tbody>\n",
       "    <tr>\n",
       "      <th>0</th>\n",
       "      <td>2.0</td>\n",
       "      <td>2.0</td>\n",
       "      <td>1.30</td>\n",
       "      <td>3.03750</td>\n",
       "      <td>3.048780</td>\n",
       "    </tr>\n",
       "    <tr>\n",
       "      <th>1</th>\n",
       "      <td>2.0</td>\n",
       "      <td>2.0</td>\n",
       "      <td>2.10</td>\n",
       "      <td>3.21875</td>\n",
       "      <td>2.951220</td>\n",
       "    </tr>\n",
       "    <tr>\n",
       "      <th>2</th>\n",
       "      <td>1.0</td>\n",
       "      <td>3.0</td>\n",
       "      <td>1.95</td>\n",
       "      <td>2.02500</td>\n",
       "      <td>3.292683</td>\n",
       "    </tr>\n",
       "    <tr>\n",
       "      <th>3</th>\n",
       "      <td>2.0</td>\n",
       "      <td>2.0</td>\n",
       "      <td>2.10</td>\n",
       "      <td>1.80625</td>\n",
       "      <td>2.195122</td>\n",
       "    </tr>\n",
       "    <tr>\n",
       "      <th>4</th>\n",
       "      <td>2.0</td>\n",
       "      <td>2.0</td>\n",
       "      <td>2.05</td>\n",
       "      <td>2.56250</td>\n",
       "      <td>2.804878</td>\n",
       "    </tr>\n",
       "  </tbody>\n",
       "</table>\n",
       "</div>"
      ],
      "text/plain": [
       "   sex  anxlevel  stress  totalworry  construct\n",
       "0  2.0       2.0    1.30     3.03750   3.048780\n",
       "1  2.0       2.0    2.10     3.21875   2.951220\n",
       "2  1.0       3.0    1.95     2.02500   3.292683\n",
       "3  2.0       2.0    2.10     1.80625   2.195122\n",
       "4  2.0       2.0    2.05     2.56250   2.804878"
      ]
     },
     "execution_count": 18,
     "metadata": {},
     "output_type": "execute_result"
    }
   ],
   "source": [
    "crime_3.head()"
   ]
  },
  {
   "cell_type": "code",
   "execution_count": 19,
   "id": "b6351848",
   "metadata": {},
   "outputs": [
    {
     "data": {
      "text/html": [
       "<div>\n",
       "<style scoped>\n",
       "    .dataframe tbody tr th:only-of-type {\n",
       "        vertical-align: middle;\n",
       "    }\n",
       "\n",
       "    .dataframe tbody tr th {\n",
       "        vertical-align: top;\n",
       "    }\n",
       "\n",
       "    .dataframe thead th {\n",
       "        text-align: right;\n",
       "    }\n",
       "</style>\n",
       "<table border=\"1\" class=\"dataframe\">\n",
       "  <thead>\n",
       "    <tr style=\"text-align: right;\">\n",
       "      <th></th>\n",
       "      <th>sex</th>\n",
       "      <th>anxlevel</th>\n",
       "      <th>stress</th>\n",
       "      <th>totalworry</th>\n",
       "    </tr>\n",
       "  </thead>\n",
       "  <tbody>\n",
       "    <tr>\n",
       "      <th>0</th>\n",
       "      <td>2.0</td>\n",
       "      <td>2.0</td>\n",
       "      <td>1.30</td>\n",
       "      <td>3.03750</td>\n",
       "    </tr>\n",
       "    <tr>\n",
       "      <th>1</th>\n",
       "      <td>2.0</td>\n",
       "      <td>2.0</td>\n",
       "      <td>2.10</td>\n",
       "      <td>3.21875</td>\n",
       "    </tr>\n",
       "    <tr>\n",
       "      <th>2</th>\n",
       "      <td>1.0</td>\n",
       "      <td>3.0</td>\n",
       "      <td>1.95</td>\n",
       "      <td>2.02500</td>\n",
       "    </tr>\n",
       "    <tr>\n",
       "      <th>3</th>\n",
       "      <td>2.0</td>\n",
       "      <td>2.0</td>\n",
       "      <td>2.10</td>\n",
       "      <td>1.80625</td>\n",
       "    </tr>\n",
       "    <tr>\n",
       "      <th>4</th>\n",
       "      <td>2.0</td>\n",
       "      <td>2.0</td>\n",
       "      <td>2.05</td>\n",
       "      <td>2.56250</td>\n",
       "    </tr>\n",
       "  </tbody>\n",
       "</table>\n",
       "</div>"
      ],
      "text/plain": [
       "   sex  anxlevel  stress  totalworry\n",
       "0  2.0       2.0    1.30     3.03750\n",
       "1  2.0       2.0    2.10     3.21875\n",
       "2  1.0       3.0    1.95     2.02500\n",
       "3  2.0       2.0    2.10     1.80625\n",
       "4  2.0       2.0    2.05     2.56250"
      ]
     },
     "execution_count": 19,
     "metadata": {},
     "output_type": "execute_result"
    }
   ],
   "source": [
    "# To drop columns in which more than a set threshold % of data are missing, use thresh:\n",
    "\n",
    "crime_3.dropna(thresh = len(crime_3) * 0.97, axis = 'columns').head()\n",
    "\n",
    "# Here I have set the threshold at 97% of the dataframe length. This only excludes the construct\n",
    "# variable which had 5% missing values. "
   ]
  }
 ],
 "metadata": {
  "kernelspec": {
   "display_name": "Python 3 (ipykernel)",
   "language": "python",
   "name": "python3"
  },
  "language_info": {
   "codemirror_mode": {
    "name": "ipython",
    "version": 3
   },
   "file_extension": ".py",
   "mimetype": "text/x-python",
   "name": "python",
   "nbconvert_exporter": "python",
   "pygments_lexer": "ipython3",
   "version": "3.11.4"
  }
 },
 "nbformat": 4,
 "nbformat_minor": 5
}
