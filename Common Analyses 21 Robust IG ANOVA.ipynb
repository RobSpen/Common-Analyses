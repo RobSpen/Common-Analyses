{
 "cells": [
  {
   "cell_type": "markdown",
   "id": "1ad03e12",
   "metadata": {},
   "source": [
    "# Robust Independent Groups ANOVA \n",
    "\n",
    "In this notebook I will demonstrate how to conduct a robust independent groups ANOVA. This will include testing for homogeneity of variance using Levene's test, conducting a Welch's ANOVA test in the case of a signficant Levene's test where equal variances cannot be assumed, and following this up with robust post-hoc tests using Games-Howell pairwise comparisons. \n",
    "\n",
    "The dataset that I will be using contains the responses of 152 police officers to a large questionnaire study investigating the topic of stress in the police force. I will conduct a one-way robust ANOVA on an independent variable (IV) of length of service. This variable records an officer's length of service and has been transformed into a categorical variable by binning length of service into three groups: Group 1: up to 10 years service, Group 2: 10 - 20 years service, Group 3: Over 20 years service. The dependent variable (DV) is a likert scale variable recording participants mean scores on a 7 item, 5 pt (0-4) likert scales measuring operational uplifts. This was a measure of a series of operational factors and whether they were rated positively or negatively over the previous month of service. \n"
   ]
  },
  {
   "cell_type": "code",
   "execution_count": 1,
   "id": "ded7bda1",
   "metadata": {},
   "outputs": [],
   "source": [
    "# Importing key software libraries. \n",
    "\n",
    "import pandas as pd\n",
    "from scipy.stats import levene\n",
    "import numpy as np\n",
    "import pingouin as pg"
   ]
  },
  {
   "cell_type": "code",
   "execution_count": 2,
   "id": "38354466",
   "metadata": {},
   "outputs": [
    {
     "data": {
      "text/html": [
       "<div>\n",
       "<style scoped>\n",
       "    .dataframe tbody tr th:only-of-type {\n",
       "        vertical-align: middle;\n",
       "    }\n",
       "\n",
       "    .dataframe tbody tr th {\n",
       "        vertical-align: top;\n",
       "    }\n",
       "\n",
       "    .dataframe thead th {\n",
       "        text-align: right;\n",
       "    }\n",
       "</style>\n",
       "<table border=\"1\" class=\"dataframe\">\n",
       "  <thead>\n",
       "    <tr style=\"text-align: right;\">\n",
       "      <th></th>\n",
       "      <th>children</th>\n",
       "      <th>sex</th>\n",
       "      <th>servegrp</th>\n",
       "      <th>age</th>\n",
       "      <th>operupm</th>\n",
       "      <th>orgupm</th>\n",
       "    </tr>\n",
       "  </thead>\n",
       "  <tbody>\n",
       "    <tr>\n",
       "      <th>0</th>\n",
       "      <td>1.0</td>\n",
       "      <td>1.0</td>\n",
       "      <td>2.0</td>\n",
       "      <td>38.0</td>\n",
       "      <td>3.00</td>\n",
       "      <td>3.5</td>\n",
       "    </tr>\n",
       "    <tr>\n",
       "      <th>1</th>\n",
       "      <td>2.0</td>\n",
       "      <td>2.0</td>\n",
       "      <td>3.0</td>\n",
       "      <td>42.0</td>\n",
       "      <td>4.00</td>\n",
       "      <td>4.0</td>\n",
       "    </tr>\n",
       "    <tr>\n",
       "      <th>2</th>\n",
       "      <td>2.0</td>\n",
       "      <td>2.0</td>\n",
       "      <td>1.0</td>\n",
       "      <td>34.0</td>\n",
       "      <td>2.43</td>\n",
       "      <td>3.5</td>\n",
       "    </tr>\n",
       "    <tr>\n",
       "      <th>3</th>\n",
       "      <td>2.0</td>\n",
       "      <td>1.0</td>\n",
       "      <td>1.0</td>\n",
       "      <td>27.0</td>\n",
       "      <td>2.86</td>\n",
       "      <td>2.0</td>\n",
       "    </tr>\n",
       "    <tr>\n",
       "      <th>4</th>\n",
       "      <td>1.0</td>\n",
       "      <td>1.0</td>\n",
       "      <td>2.0</td>\n",
       "      <td>32.0</td>\n",
       "      <td>3.00</td>\n",
       "      <td>3.0</td>\n",
       "    </tr>\n",
       "  </tbody>\n",
       "</table>\n",
       "</div>"
      ],
      "text/plain": [
       "   children  sex  servegrp   age  operupm  orgupm\n",
       "0       1.0  1.0       2.0  38.0     3.00     3.5\n",
       "1       2.0  2.0       3.0  42.0     4.00     4.0\n",
       "2       2.0  2.0       1.0  34.0     2.43     3.5\n",
       "3       2.0  1.0       1.0  27.0     2.86     2.0\n",
       "4       1.0  1.0       2.0  32.0     3.00     3.0"
      ]
     },
     "execution_count": 2,
     "metadata": {},
     "output_type": "execute_result"
    }
   ],
   "source": [
    "# Importing the dataset.\n",
    "\n",
    "uplifts = pd.read_csv('uplifts.csv')\n",
    "\n",
    "uplifts.head()"
   ]
  },
  {
   "cell_type": "markdown",
   "id": "be2f5123",
   "metadata": {},
   "source": [
    "### Levene's Test\n",
    "\n",
    "Conducting Levene's test to check the assumption of equal variances for the three length of service categories. \n",
    "\n",
    "Firstly, I need to create three new objects, one for each length of service category. These are then passed to the scipy Levene method to check for equality of variances. "
   ]
  },
  {
   "cell_type": "code",
   "execution_count": 3,
   "id": "88f1f1e6",
   "metadata": {},
   "outputs": [
    {
     "data": {
      "text/html": [
       "<div>\n",
       "<style scoped>\n",
       "    .dataframe tbody tr th:only-of-type {\n",
       "        vertical-align: middle;\n",
       "    }\n",
       "\n",
       "    .dataframe tbody tr th {\n",
       "        vertical-align: top;\n",
       "    }\n",
       "\n",
       "    .dataframe thead th {\n",
       "        text-align: right;\n",
       "    }\n",
       "</style>\n",
       "<table border=\"1\" class=\"dataframe\">\n",
       "  <thead>\n",
       "    <tr style=\"text-align: right;\">\n",
       "      <th></th>\n",
       "      <th>children</th>\n",
       "      <th>sex</th>\n",
       "      <th>servegrp</th>\n",
       "      <th>age</th>\n",
       "      <th>operupm</th>\n",
       "      <th>orgupm</th>\n",
       "      <th>service_cat</th>\n",
       "    </tr>\n",
       "  </thead>\n",
       "  <tbody>\n",
       "    <tr>\n",
       "      <th>0</th>\n",
       "      <td>1.0</td>\n",
       "      <td>1.0</td>\n",
       "      <td>2.0</td>\n",
       "      <td>38.0</td>\n",
       "      <td>3.00</td>\n",
       "      <td>3.5</td>\n",
       "      <td>10-20</td>\n",
       "    </tr>\n",
       "    <tr>\n",
       "      <th>1</th>\n",
       "      <td>2.0</td>\n",
       "      <td>2.0</td>\n",
       "      <td>3.0</td>\n",
       "      <td>42.0</td>\n",
       "      <td>4.00</td>\n",
       "      <td>4.0</td>\n",
       "      <td>20plus</td>\n",
       "    </tr>\n",
       "    <tr>\n",
       "      <th>2</th>\n",
       "      <td>2.0</td>\n",
       "      <td>2.0</td>\n",
       "      <td>1.0</td>\n",
       "      <td>34.0</td>\n",
       "      <td>2.43</td>\n",
       "      <td>3.5</td>\n",
       "      <td>upto10</td>\n",
       "    </tr>\n",
       "    <tr>\n",
       "      <th>3</th>\n",
       "      <td>2.0</td>\n",
       "      <td>1.0</td>\n",
       "      <td>1.0</td>\n",
       "      <td>27.0</td>\n",
       "      <td>2.86</td>\n",
       "      <td>2.0</td>\n",
       "      <td>upto10</td>\n",
       "    </tr>\n",
       "    <tr>\n",
       "      <th>4</th>\n",
       "      <td>1.0</td>\n",
       "      <td>1.0</td>\n",
       "      <td>2.0</td>\n",
       "      <td>32.0</td>\n",
       "      <td>3.00</td>\n",
       "      <td>3.0</td>\n",
       "      <td>10-20</td>\n",
       "    </tr>\n",
       "  </tbody>\n",
       "</table>\n",
       "</div>"
      ],
      "text/plain": [
       "   children  sex  servegrp   age  operupm  orgupm service_cat\n",
       "0       1.0  1.0       2.0  38.0     3.00     3.5       10-20\n",
       "1       2.0  2.0       3.0  42.0     4.00     4.0      20plus\n",
       "2       2.0  2.0       1.0  34.0     2.43     3.5      upto10\n",
       "3       2.0  1.0       1.0  27.0     2.86     2.0      upto10\n",
       "4       1.0  1.0       2.0  32.0     3.00     3.0       10-20"
      ]
     },
     "execution_count": 3,
     "metadata": {},
     "output_type": "execute_result"
    }
   ],
   "source": [
    "# Using the series.map function to add labels to the servegrp categorical variable.\n",
    "\n",
    "a = [1, 2, 3]\n",
    "b = [\"upto10\", \"10-20\", \"20plus\"]\n",
    "\n",
    "uplifts['service_cat'] = uplifts['servegrp'].map(dict(zip(a, b)))\n",
    "\n",
    "uplifts.head()"
   ]
  },
  {
   "cell_type": "code",
   "execution_count": 4,
   "id": "385f3ce3",
   "metadata": {},
   "outputs": [],
   "source": [
    "# I want to compare variance around the mean of operupm score for each of the groups, so to do this I will\n",
    "# create three new variable objects that can then be passed to the scipy levene method for comparison.\n",
    "\n",
    "cat = uplifts['service_cat']\n",
    "scale = uplifts['operupm']"
   ]
  },
  {
   "cell_type": "code",
   "execution_count": 5,
   "id": "abd7e63e",
   "metadata": {},
   "outputs": [],
   "source": [
    "# Next creating three boolean objects spltting group (cat) up by level/ condition.\n",
    "\n",
    "cat_1 = cat == 'upto10'\n",
    "cat_2 = cat == '10-20'\n",
    "cat_3 = cat == '20plus'"
   ]
  },
  {
   "cell_type": "code",
   "execution_count": 6,
   "id": "5dfda2c9",
   "metadata": {},
   "outputs": [],
   "source": [
    "# Finally create a list of each operupm score broken down by category. Using the above booleans.\n",
    "\n",
    "cat_oper_upto10 = scale[cat_1]\n",
    "cat_oper_10_20 = scale[cat_2]\n",
    "cat_oper_20plus = scale[cat_3]"
   ]
  },
  {
   "cell_type": "code",
   "execution_count": 7,
   "id": "bf22d385",
   "metadata": {},
   "outputs": [
    {
     "data": {
      "text/plain": [
       "LeveneResult(statistic=4.680483599568664, pvalue=0.010680464772079585)"
      ]
     },
     "execution_count": 7,
     "metadata": {},
     "output_type": "execute_result"
    }
   ],
   "source": [
    "# Now running the Levene's test by passing the above three operupm scores by group objects.\n",
    "# Specifying the mean as measure of centre.\n",
    "\n",
    "levene(cat_oper_upto10, cat_oper_10_20, cat_oper_20plus, center = 'mean')"
   ]
  },
  {
   "cell_type": "markdown",
   "id": "a99ace36",
   "metadata": {},
   "source": [
    "We can see from the above output that the Levene's test was significant so homogeneity of variance cannot be assumed for this dataset. As a consequence we need to conduct a robust ANOVA test that does not rely on the assumption of equal variances between groups and adjusts the test to allow for violation of this assumption. \n",
    "\n",
    "To report the above ANOVA we also need the degrees of freedom. As the Levene's test is based on the F-distribution we report both the between and within groups degrees of freedom. The degrees of freedom can be calculated as follows:\n",
    "\n",
    "- df(between) = k - 1 \n",
    "- df(within) = n - k \n",
    "- df(total) = n - 1\n",
    "\n",
    "Where k is the number of categories/ groups and n is the total number of scores/ participants.\n",
    "\n",
    "For this dataset, consisting of 152 participants and 3 groups for the independent variable the df(between) is 3 - 1 = 2, and the df(within) is 152 - 3 = 149. \n",
    "\n",
    "We would then report the result of the Levene's test as follows:\n",
    "\n",
    "F(2, 149) = 4.68, p = 0.01"
   ]
  },
  {
   "cell_type": "markdown",
   "id": "493d3d54",
   "metadata": {},
   "source": [
    "### Welch's ANOVA\n",
    "\n",
    "As we cannot assume homogeneity of variance between the three groups in the data, we need to conduct a robust ANOVA test. Here I am going to use the welch_anova method from the pingouin software library. "
   ]
  },
  {
   "cell_type": "code",
   "execution_count": 8,
   "id": "a7d2a104",
   "metadata": {},
   "outputs": [
    {
     "data": {
      "text/html": [
       "<div>\n",
       "<style scoped>\n",
       "    .dataframe tbody tr th:only-of-type {\n",
       "        vertical-align: middle;\n",
       "    }\n",
       "\n",
       "    .dataframe tbody tr th {\n",
       "        vertical-align: top;\n",
       "    }\n",
       "\n",
       "    .dataframe thead th {\n",
       "        text-align: right;\n",
       "    }\n",
       "</style>\n",
       "<table border=\"1\" class=\"dataframe\">\n",
       "  <thead>\n",
       "    <tr style=\"text-align: right;\">\n",
       "      <th></th>\n",
       "      <th>Source</th>\n",
       "      <th>ddof1</th>\n",
       "      <th>ddof2</th>\n",
       "      <th>F</th>\n",
       "      <th>p-unc</th>\n",
       "      <th>np2</th>\n",
       "    </tr>\n",
       "  </thead>\n",
       "  <tbody>\n",
       "    <tr>\n",
       "      <th>0</th>\n",
       "      <td>service_cat</td>\n",
       "      <td>2</td>\n",
       "      <td>83.207651</td>\n",
       "      <td>4.630646</td>\n",
       "      <td>0.012393</td>\n",
       "      <td>0.068745</td>\n",
       "    </tr>\n",
       "  </tbody>\n",
       "</table>\n",
       "</div>"
      ],
      "text/plain": [
       "        Source  ddof1      ddof2         F     p-unc       np2\n",
       "0  service_cat      2  83.207651  4.630646  0.012393  0.068745"
      ]
     },
     "execution_count": 8,
     "metadata": {},
     "output_type": "execute_result"
    }
   ],
   "source": [
    "# Running the Welch robust ANOVA test. This robust ANOVA is suitable for independent groups designs and the pingouin method \n",
    "# takes parameters for the data, the DV, and the between subjects factor. \n",
    "pg.welch_anova(data = uplifts, dv = 'operupm', between = 'service_cat')"
   ]
  },
  {
   "cell_type": "markdown",
   "id": "8e522de4",
   "metadata": {},
   "source": [
    "The above analysis showed a significant result, indicating that there is a significant difference between the three length of service groups in terms of their mean scores on operational uplifts. \n",
    "\n",
    "To report this we would state that: Welch's F(2, 83) = 4.63, p = 0.01\n",
    "\n",
    "Note: The df(within) have been reduced to 83 for this test. This is how the Welch's test adjusts the p-vlaue to make the test more robust. It is like the test is being conducted on a smaller sized data sample, making the test stricter and less likely to produce a significant result when one does not exist. \n",
    "\n",
    "We can now follow this significant result with post-hoc tests. An appropriate post-hoc test, as we cannot assume equal variances due to the significant Levene's test would be Games-Howell. "
   ]
  },
  {
   "cell_type": "markdown",
   "id": "6809fe07",
   "metadata": {},
   "source": [
    "### Games-Howell post-hoc tests"
   ]
  },
  {
   "cell_type": "markdown",
   "id": "ed3f120a",
   "metadata": {},
   "source": [
    "Before conducting the Games-Howell post-hoc comparisons, it is useful to get a printout of the mean scores for the three groups. Having these available helps with intepretation of the results. "
   ]
  },
  {
   "cell_type": "code",
   "execution_count": 9,
   "id": "ee4afd08",
   "metadata": {},
   "outputs": [
    {
     "name": "stdout",
     "output_type": "stream",
     "text": [
      "Upto 10 mean oper: 3.05\n",
      "10 - 20 mean oper: 2.93\n",
      "20 Plus mean oper: 2.64\n"
     ]
    }
   ],
   "source": [
    "# Printing the mean scores on the operational uplifts DV for each of the three length of service groups. \n",
    "\n",
    "print(f\"Upto 10 mean oper: {cat_oper_upto10.mean():.2f}\")\n",
    "print(f\"10 - 20 mean oper: {cat_oper_10_20.mean():.2f}\")\n",
    "print(f\"20 Plus mean oper: {cat_oper_20plus.mean():.2f}\")"
   ]
  },
  {
   "cell_type": "code",
   "execution_count": 10,
   "id": "6ca51053",
   "metadata": {},
   "outputs": [
    {
     "data": {
      "text/html": [
       "<div>\n",
       "<style scoped>\n",
       "    .dataframe tbody tr th:only-of-type {\n",
       "        vertical-align: middle;\n",
       "    }\n",
       "\n",
       "    .dataframe tbody tr th {\n",
       "        vertical-align: top;\n",
       "    }\n",
       "\n",
       "    .dataframe thead th {\n",
       "        text-align: right;\n",
       "    }\n",
       "</style>\n",
       "<table border=\"1\" class=\"dataframe\">\n",
       "  <thead>\n",
       "    <tr style=\"text-align: right;\">\n",
       "      <th></th>\n",
       "      <th>A</th>\n",
       "      <th>B</th>\n",
       "      <th>mean(A)</th>\n",
       "      <th>mean(B)</th>\n",
       "      <th>diff</th>\n",
       "      <th>se</th>\n",
       "      <th>T</th>\n",
       "      <th>df</th>\n",
       "      <th>pval</th>\n",
       "      <th>hedges</th>\n",
       "    </tr>\n",
       "  </thead>\n",
       "  <tbody>\n",
       "    <tr>\n",
       "      <th>0</th>\n",
       "      <td>10-20</td>\n",
       "      <td>20plus</td>\n",
       "      <td>2.934386</td>\n",
       "      <td>2.640000</td>\n",
       "      <td>0.294386</td>\n",
       "      <td>0.142973</td>\n",
       "      <td>2.059029</td>\n",
       "      <td>66.900971</td>\n",
       "      <td>0.106298</td>\n",
       "      <td>0.448419</td>\n",
       "    </tr>\n",
       "    <tr>\n",
       "      <th>1</th>\n",
       "      <td>10-20</td>\n",
       "      <td>upto10</td>\n",
       "      <td>2.934386</td>\n",
       "      <td>3.051724</td>\n",
       "      <td>-0.117338</td>\n",
       "      <td>0.102443</td>\n",
       "      <td>-1.145396</td>\n",
       "      <td>107.981907</td>\n",
       "      <td>0.488436</td>\n",
       "      <td>-0.212574</td>\n",
       "    </tr>\n",
       "    <tr>\n",
       "      <th>2</th>\n",
       "      <td>20plus</td>\n",
       "      <td>upto10</td>\n",
       "      <td>2.640000</td>\n",
       "      <td>3.051724</td>\n",
       "      <td>-0.411724</td>\n",
       "      <td>0.135174</td>\n",
       "      <td>-3.045889</td>\n",
       "      <td>57.229310</td>\n",
       "      <td>0.009667</td>\n",
       "      <td>-0.690258</td>\n",
       "    </tr>\n",
       "  </tbody>\n",
       "</table>\n",
       "</div>"
      ],
      "text/plain": [
       "        A       B   mean(A)   mean(B)      diff        se         T  \\\n",
       "0   10-20  20plus  2.934386  2.640000  0.294386  0.142973  2.059029   \n",
       "1   10-20  upto10  2.934386  3.051724 -0.117338  0.102443 -1.145396   \n",
       "2  20plus  upto10  2.640000  3.051724 -0.411724  0.135174 -3.045889   \n",
       "\n",
       "           df      pval    hedges  \n",
       "0   66.900971  0.106298  0.448419  \n",
       "1  107.981907  0.488436 -0.212574  \n",
       "2   57.229310  0.009667 -0.690258  "
      ]
     },
     "execution_count": 10,
     "metadata": {},
     "output_type": "execute_result"
    }
   ],
   "source": [
    "# Next conducting Games-Howell pairwise comparisons. \n",
    "\n",
    "pg.pairwise_gameshowell(data = uplifts, dv = 'operupm', between = 'service_cat', effsize = 'hedges')"
   ]
  },
  {
   "cell_type": "markdown",
   "id": "7c7cafae",
   "metadata": {},
   "source": [
    "The above pairwise comparisons table indicates that there is a significant difference between the 20plus service group and the upto 10 years service group, however, all other comparisons are non-significant. We could report these results as below:\n",
    "\n",
    "- Upto 10 v 10-20 years: t(107) = 1.15, p = 0.49. No significant between these groups in terms of mean uplift scores (Upto10: Mean = 3.05; 10-20 years: Mean = 2.93). \n",
    "- 10-20 years v 20plus years: t(67) = 2.06, p = 0.11. No significant difference between these two service groups in terms of mean uplift scores (10-20 years: Mean = 2.93; 20plus years: Mean = 2.64).\n",
    "- Upto 10 v 20plus years: t(57) = 3.05, p = 0.009. A statistically significant difference was found between these two length of service groups with the Upto 10 years service group have a significantly higher operational uplift scores (Upto10: Mean = 3.05) than the 20plus years service group (20plus years: Mean = 2.64).\n"
   ]
  }
 ],
 "metadata": {
  "kernelspec": {
   "display_name": "Python 3 (ipykernel)",
   "language": "python",
   "name": "python3"
  },
  "language_info": {
   "codemirror_mode": {
    "name": "ipython",
    "version": 3
   },
   "file_extension": ".py",
   "mimetype": "text/x-python",
   "name": "python",
   "nbconvert_exporter": "python",
   "pygments_lexer": "ipython3",
   "version": "3.9.12"
  }
 },
 "nbformat": 4,
 "nbformat_minor": 5
}
