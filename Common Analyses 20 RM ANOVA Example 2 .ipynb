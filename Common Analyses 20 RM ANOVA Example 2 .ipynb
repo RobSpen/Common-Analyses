{
 "cells": [
  {
   "cell_type": "markdown",
   "id": "4459d467",
   "metadata": {},
   "source": [
    "# One-way Repeated Measures ANOVA: A further example\n",
    "\n",
    "In this notebook I provide a further example of a repeated measures design ANOVA. The data used is simulated and hypothetically relates to the reported pain level experienced by patients at three different time points as treatment progresses for some type of injury. Scores are self-report measures on a scale of 0 (least pain) to 60 (extremely painful). "
   ]
  },
  {
   "cell_type": "markdown",
   "id": "469178d4",
   "metadata": {},
   "source": [
    "In this analysis I will conduct Mauchly's test of sphericity, conduct an ANOVA using the statsmodel AnovaRM method, and follow this up with appropriate post-hoc tests should the ANOVA find a signficant difference between the three conditions of the independent variable. "
   ]
  },
  {
   "cell_type": "code",
   "execution_count": 1,
   "id": "29ff6ad6",
   "metadata": {},
   "outputs": [],
   "source": [
    "# Importing the software libraries. \n",
    "\n",
    "import numpy as np\n",
    "import pandas as pd\n",
    "from statsmodels.stats.anova import AnovaRM\n",
    "import pingouin as pg"
   ]
  },
  {
   "cell_type": "code",
   "execution_count": 2,
   "id": "631931cf",
   "metadata": {},
   "outputs": [
    {
     "data": {
      "text/html": [
       "<div>\n",
       "<style scoped>\n",
       "    .dataframe tbody tr th:only-of-type {\n",
       "        vertical-align: middle;\n",
       "    }\n",
       "\n",
       "    .dataframe tbody tr th {\n",
       "        vertical-align: top;\n",
       "    }\n",
       "\n",
       "    .dataframe thead th {\n",
       "        text-align: right;\n",
       "    }\n",
       "</style>\n",
       "<table border=\"1\" class=\"dataframe\">\n",
       "  <thead>\n",
       "    <tr style=\"text-align: right;\">\n",
       "      <th></th>\n",
       "      <th>participant</th>\n",
       "      <th>time</th>\n",
       "      <th>pain</th>\n",
       "    </tr>\n",
       "  </thead>\n",
       "  <tbody>\n",
       "    <tr>\n",
       "      <th>0</th>\n",
       "      <td>1</td>\n",
       "      <td>time_1</td>\n",
       "      <td>51</td>\n",
       "    </tr>\n",
       "    <tr>\n",
       "      <th>1</th>\n",
       "      <td>2</td>\n",
       "      <td>time_1</td>\n",
       "      <td>50</td>\n",
       "    </tr>\n",
       "    <tr>\n",
       "      <th>2</th>\n",
       "      <td>3</td>\n",
       "      <td>time_1</td>\n",
       "      <td>42</td>\n",
       "    </tr>\n",
       "    <tr>\n",
       "      <th>3</th>\n",
       "      <td>4</td>\n",
       "      <td>time_1</td>\n",
       "      <td>42</td>\n",
       "    </tr>\n",
       "    <tr>\n",
       "      <th>4</th>\n",
       "      <td>5</td>\n",
       "      <td>time_1</td>\n",
       "      <td>43</td>\n",
       "    </tr>\n",
       "  </tbody>\n",
       "</table>\n",
       "</div>"
      ],
      "text/plain": [
       "   participant    time  pain\n",
       "0            1  time_1    51\n",
       "1            2  time_1    50\n",
       "2            3  time_1    42\n",
       "3            4  time_1    42\n",
       "4            5  time_1    43"
      ]
     },
     "execution_count": 2,
     "metadata": {},
     "output_type": "execute_result"
    }
   ],
   "source": [
    "# Importing the dataset for analysis. Note: the data is already organised in the long and thin format so no modification\n",
    "# needs to be made to the variables to make it easier to run the analysis. \n",
    "\n",
    "pain_df = pd.read_csv('pain_therapy_long.csv')\n",
    "\n",
    "pain_df.head()"
   ]
  },
  {
   "cell_type": "markdown",
   "id": "84ea9566",
   "metadata": {},
   "source": [
    "### Mauchly's test of sphericity"
   ]
  },
  {
   "cell_type": "code",
   "execution_count": 3,
   "id": "bb5317eb",
   "metadata": {},
   "outputs": [
    {
     "data": {
      "text/plain": [
       "SpherResults(spher=True, W=0.9160459172485866, chi2=1.1399542383285237, dof=2, pval=0.5655383785422423)"
      ]
     },
     "execution_count": 3,
     "metadata": {},
     "output_type": "execute_result"
    }
   ],
   "source": [
    "# Running Mauchly's test using the pg.sphericity method.\n",
    "\n",
    "pg.sphericity(data = pain_df, dv = 'pain', subject = 'participant', within = 'time')"
   ]
  },
  {
   "cell_type": "markdown",
   "id": "4a17ac08",
   "metadata": {},
   "source": [
    "We can see from the above result that Mauchly's test is non-significant. Mauchly's: W = 0.92, X2(2) = 1.14, p = 0.57\n",
    "This suggests we are probably safe to assume sphericity in the data and do not necessarily need to conduct a robust ANOVA test with an adjustment to the p-value. "
   ]
  },
  {
   "cell_type": "markdown",
   "id": "ce521f41",
   "metadata": {},
   "source": [
    "### Running the repeated measures ANOVA"
   ]
  },
  {
   "cell_type": "code",
   "execution_count": 4,
   "id": "29fa6a60",
   "metadata": {},
   "outputs": [
    {
     "name": "stdout",
     "output_type": "stream",
     "text": [
      "              Anova\n",
      "==================================\n",
      "     F Value Num DF  Den DF Pr > F\n",
      "----------------------------------\n",
      "time 38.8674 2.0000 28.0000 0.0000\n",
      "==================================\n",
      "\n"
     ]
    }
   ],
   "source": [
    "# Running the RM Anova analysis. First specifying the parameters for the model, then fitting the model, and printing the result.\n",
    "\n",
    "aovrm = AnovaRM(pain_df, 'pain', 'participant', within = ['time'])\n",
    "res = aovrm.fit()\n",
    "\n",
    "print(res)"
   ]
  },
  {
   "cell_type": "markdown",
   "id": "7dcf1d1a",
   "metadata": {},
   "source": [
    "The above ANOVA indicates that we have a statistically signficant difference between the three time points in terms of the level of pain reported by participants. As a consequence we now need to follow this result up with post-hoc tests that compare all pairings of levels of the independent variable (time). In this case I will use Bonferroni corrected pairwise comparisons to control for the familywise error rate (increased likelihood of a Type 1 error). \n",
    "\n",
    "To conduct the post-hoc tests I will use the pairwise_tests method from the pingouin software library. Before doing so I will first obtain a descriptive statistics for each level of the indepenent variable separately. This will be useful to have to hand as it will aid in the interpretation of the results of the post-hoc tests. "
   ]
  },
  {
   "cell_type": "markdown",
   "id": "be8ceba8",
   "metadata": {},
   "source": [
    "### Obtaining mean scores for each level of the time (IV) variable"
   ]
  },
  {
   "cell_type": "code",
   "execution_count": 5,
   "id": "69b7a43e",
   "metadata": {},
   "outputs": [
    {
     "data": {
      "text/html": [
       "<div>\n",
       "<style scoped>\n",
       "    .dataframe tbody tr th:only-of-type {\n",
       "        vertical-align: middle;\n",
       "    }\n",
       "\n",
       "    .dataframe tbody tr th {\n",
       "        vertical-align: top;\n",
       "    }\n",
       "\n",
       "    .dataframe thead th {\n",
       "        text-align: right;\n",
       "    }\n",
       "</style>\n",
       "<table border=\"1\" class=\"dataframe\">\n",
       "  <thead>\n",
       "    <tr style=\"text-align: right;\">\n",
       "      <th></th>\n",
       "      <th>participant</th>\n",
       "      <th>time</th>\n",
       "      <th>pain</th>\n",
       "    </tr>\n",
       "  </thead>\n",
       "  <tbody>\n",
       "    <tr>\n",
       "      <th>0</th>\n",
       "      <td>1</td>\n",
       "      <td>time_1</td>\n",
       "      <td>51</td>\n",
       "    </tr>\n",
       "    <tr>\n",
       "      <th>1</th>\n",
       "      <td>2</td>\n",
       "      <td>time_1</td>\n",
       "      <td>50</td>\n",
       "    </tr>\n",
       "    <tr>\n",
       "      <th>2</th>\n",
       "      <td>3</td>\n",
       "      <td>time_1</td>\n",
       "      <td>42</td>\n",
       "    </tr>\n",
       "    <tr>\n",
       "      <th>3</th>\n",
       "      <td>4</td>\n",
       "      <td>time_1</td>\n",
       "      <td>42</td>\n",
       "    </tr>\n",
       "    <tr>\n",
       "      <th>4</th>\n",
       "      <td>5</td>\n",
       "      <td>time_1</td>\n",
       "      <td>43</td>\n",
       "    </tr>\n",
       "    <tr>\n",
       "      <th>5</th>\n",
       "      <td>6</td>\n",
       "      <td>time_1</td>\n",
       "      <td>46</td>\n",
       "    </tr>\n",
       "    <tr>\n",
       "      <th>6</th>\n",
       "      <td>7</td>\n",
       "      <td>time_1</td>\n",
       "      <td>46</td>\n",
       "    </tr>\n",
       "    <tr>\n",
       "      <th>7</th>\n",
       "      <td>8</td>\n",
       "      <td>time_1</td>\n",
       "      <td>54</td>\n",
       "    </tr>\n",
       "    <tr>\n",
       "      <th>8</th>\n",
       "      <td>9</td>\n",
       "      <td>time_1</td>\n",
       "      <td>47</td>\n",
       "    </tr>\n",
       "    <tr>\n",
       "      <th>9</th>\n",
       "      <td>10</td>\n",
       "      <td>time_1</td>\n",
       "      <td>50</td>\n",
       "    </tr>\n",
       "    <tr>\n",
       "      <th>10</th>\n",
       "      <td>11</td>\n",
       "      <td>time_1</td>\n",
       "      <td>44</td>\n",
       "    </tr>\n",
       "    <tr>\n",
       "      <th>11</th>\n",
       "      <td>12</td>\n",
       "      <td>time_1</td>\n",
       "      <td>52</td>\n",
       "    </tr>\n",
       "    <tr>\n",
       "      <th>12</th>\n",
       "      <td>13</td>\n",
       "      <td>time_1</td>\n",
       "      <td>45</td>\n",
       "    </tr>\n",
       "    <tr>\n",
       "      <th>13</th>\n",
       "      <td>14</td>\n",
       "      <td>time_1</td>\n",
       "      <td>49</td>\n",
       "    </tr>\n",
       "    <tr>\n",
       "      <th>14</th>\n",
       "      <td>15</td>\n",
       "      <td>time_1</td>\n",
       "      <td>50</td>\n",
       "    </tr>\n",
       "  </tbody>\n",
       "</table>\n",
       "</div>"
      ],
      "text/plain": [
       "    participant    time  pain\n",
       "0             1  time_1    51\n",
       "1             2  time_1    50\n",
       "2             3  time_1    42\n",
       "3             4  time_1    42\n",
       "4             5  time_1    43\n",
       "5             6  time_1    46\n",
       "6             7  time_1    46\n",
       "7             8  time_1    54\n",
       "8             9  time_1    47\n",
       "9            10  time_1    50\n",
       "10           11  time_1    44\n",
       "11           12  time_1    52\n",
       "12           13  time_1    45\n",
       "13           14  time_1    49\n",
       "14           15  time_1    50"
      ]
     },
     "execution_count": 5,
     "metadata": {},
     "output_type": "execute_result"
    }
   ],
   "source": [
    "# Creating a new object for each of the levels of the independent variable (time):\n",
    "\n",
    "time_1 = pain_df.loc[pain_df.time == 'time_1']\n",
    "time_1"
   ]
  },
  {
   "cell_type": "code",
   "execution_count": 6,
   "id": "8eb74d9f",
   "metadata": {},
   "outputs": [
    {
     "data": {
      "text/html": [
       "<div>\n",
       "<style scoped>\n",
       "    .dataframe tbody tr th:only-of-type {\n",
       "        vertical-align: middle;\n",
       "    }\n",
       "\n",
       "    .dataframe tbody tr th {\n",
       "        vertical-align: top;\n",
       "    }\n",
       "\n",
       "    .dataframe thead th {\n",
       "        text-align: right;\n",
       "    }\n",
       "</style>\n",
       "<table border=\"1\" class=\"dataframe\">\n",
       "  <thead>\n",
       "    <tr style=\"text-align: right;\">\n",
       "      <th></th>\n",
       "      <th>participant</th>\n",
       "      <th>time</th>\n",
       "      <th>pain</th>\n",
       "    </tr>\n",
       "  </thead>\n",
       "  <tbody>\n",
       "    <tr>\n",
       "      <th>15</th>\n",
       "      <td>1</td>\n",
       "      <td>time_2</td>\n",
       "      <td>31</td>\n",
       "    </tr>\n",
       "    <tr>\n",
       "      <th>16</th>\n",
       "      <td>2</td>\n",
       "      <td>time_2</td>\n",
       "      <td>38</td>\n",
       "    </tr>\n",
       "    <tr>\n",
       "      <th>17</th>\n",
       "      <td>3</td>\n",
       "      <td>time_2</td>\n",
       "      <td>38</td>\n",
       "    </tr>\n",
       "    <tr>\n",
       "      <th>18</th>\n",
       "      <td>4</td>\n",
       "      <td>time_2</td>\n",
       "      <td>39</td>\n",
       "    </tr>\n",
       "    <tr>\n",
       "      <th>19</th>\n",
       "      <td>5</td>\n",
       "      <td>time_2</td>\n",
       "      <td>32</td>\n",
       "    </tr>\n",
       "    <tr>\n",
       "      <th>20</th>\n",
       "      <td>6</td>\n",
       "      <td>time_2</td>\n",
       "      <td>29</td>\n",
       "    </tr>\n",
       "    <tr>\n",
       "      <th>21</th>\n",
       "      <td>7</td>\n",
       "      <td>time_2</td>\n",
       "      <td>27</td>\n",
       "    </tr>\n",
       "    <tr>\n",
       "      <th>22</th>\n",
       "      <td>8</td>\n",
       "      <td>time_2</td>\n",
       "      <td>38</td>\n",
       "    </tr>\n",
       "    <tr>\n",
       "      <th>23</th>\n",
       "      <td>9</td>\n",
       "      <td>time_2</td>\n",
       "      <td>35</td>\n",
       "    </tr>\n",
       "    <tr>\n",
       "      <th>24</th>\n",
       "      <td>10</td>\n",
       "      <td>time_2</td>\n",
       "      <td>33</td>\n",
       "    </tr>\n",
       "    <tr>\n",
       "      <th>25</th>\n",
       "      <td>11</td>\n",
       "      <td>time_2</td>\n",
       "      <td>35</td>\n",
       "    </tr>\n",
       "    <tr>\n",
       "      <th>26</th>\n",
       "      <td>12</td>\n",
       "      <td>time_2</td>\n",
       "      <td>34</td>\n",
       "    </tr>\n",
       "    <tr>\n",
       "      <th>27</th>\n",
       "      <td>13</td>\n",
       "      <td>time_2</td>\n",
       "      <td>30</td>\n",
       "    </tr>\n",
       "    <tr>\n",
       "      <th>28</th>\n",
       "      <td>14</td>\n",
       "      <td>time_2</td>\n",
       "      <td>36</td>\n",
       "    </tr>\n",
       "    <tr>\n",
       "      <th>29</th>\n",
       "      <td>15</td>\n",
       "      <td>time_2</td>\n",
       "      <td>37</td>\n",
       "    </tr>\n",
       "  </tbody>\n",
       "</table>\n",
       "</div>"
      ],
      "text/plain": [
       "    participant    time  pain\n",
       "15            1  time_2    31\n",
       "16            2  time_2    38\n",
       "17            3  time_2    38\n",
       "18            4  time_2    39\n",
       "19            5  time_2    32\n",
       "20            6  time_2    29\n",
       "21            7  time_2    27\n",
       "22            8  time_2    38\n",
       "23            9  time_2    35\n",
       "24           10  time_2    33\n",
       "25           11  time_2    35\n",
       "26           12  time_2    34\n",
       "27           13  time_2    30\n",
       "28           14  time_2    36\n",
       "29           15  time_2    37"
      ]
     },
     "execution_count": 6,
     "metadata": {},
     "output_type": "execute_result"
    }
   ],
   "source": [
    "time_2 = pain_df.loc[pain_df.time == 'time_2']\n",
    "time_2"
   ]
  },
  {
   "cell_type": "code",
   "execution_count": 7,
   "id": "b2de7322",
   "metadata": {},
   "outputs": [
    {
     "data": {
      "text/html": [
       "<div>\n",
       "<style scoped>\n",
       "    .dataframe tbody tr th:only-of-type {\n",
       "        vertical-align: middle;\n",
       "    }\n",
       "\n",
       "    .dataframe tbody tr th {\n",
       "        vertical-align: top;\n",
       "    }\n",
       "\n",
       "    .dataframe thead th {\n",
       "        text-align: right;\n",
       "    }\n",
       "</style>\n",
       "<table border=\"1\" class=\"dataframe\">\n",
       "  <thead>\n",
       "    <tr style=\"text-align: right;\">\n",
       "      <th></th>\n",
       "      <th>participant</th>\n",
       "      <th>time</th>\n",
       "      <th>pain</th>\n",
       "    </tr>\n",
       "  </thead>\n",
       "  <tbody>\n",
       "    <tr>\n",
       "      <th>30</th>\n",
       "      <td>1</td>\n",
       "      <td>time_3</td>\n",
       "      <td>42</td>\n",
       "    </tr>\n",
       "    <tr>\n",
       "      <th>31</th>\n",
       "      <td>2</td>\n",
       "      <td>time_3</td>\n",
       "      <td>33</td>\n",
       "    </tr>\n",
       "    <tr>\n",
       "      <th>32</th>\n",
       "      <td>3</td>\n",
       "      <td>time_3</td>\n",
       "      <td>34</td>\n",
       "    </tr>\n",
       "    <tr>\n",
       "      <th>33</th>\n",
       "      <td>4</td>\n",
       "      <td>time_3</td>\n",
       "      <td>42</td>\n",
       "    </tr>\n",
       "    <tr>\n",
       "      <th>34</th>\n",
       "      <td>5</td>\n",
       "      <td>time_3</td>\n",
       "      <td>42</td>\n",
       "    </tr>\n",
       "    <tr>\n",
       "      <th>35</th>\n",
       "      <td>6</td>\n",
       "      <td>time_3</td>\n",
       "      <td>30</td>\n",
       "    </tr>\n",
       "    <tr>\n",
       "      <th>36</th>\n",
       "      <td>7</td>\n",
       "      <td>time_3</td>\n",
       "      <td>36</td>\n",
       "    </tr>\n",
       "    <tr>\n",
       "      <th>37</th>\n",
       "      <td>8</td>\n",
       "      <td>time_3</td>\n",
       "      <td>30</td>\n",
       "    </tr>\n",
       "    <tr>\n",
       "      <th>38</th>\n",
       "      <td>9</td>\n",
       "      <td>time_3</td>\n",
       "      <td>38</td>\n",
       "    </tr>\n",
       "    <tr>\n",
       "      <th>39</th>\n",
       "      <td>10</td>\n",
       "      <td>time_3</td>\n",
       "      <td>40</td>\n",
       "    </tr>\n",
       "    <tr>\n",
       "      <th>40</th>\n",
       "      <td>11</td>\n",
       "      <td>time_3</td>\n",
       "      <td>36</td>\n",
       "    </tr>\n",
       "    <tr>\n",
       "      <th>41</th>\n",
       "      <td>12</td>\n",
       "      <td>time_3</td>\n",
       "      <td>40</td>\n",
       "    </tr>\n",
       "    <tr>\n",
       "      <th>42</th>\n",
       "      <td>13</td>\n",
       "      <td>time_3</td>\n",
       "      <td>45</td>\n",
       "    </tr>\n",
       "    <tr>\n",
       "      <th>43</th>\n",
       "      <td>14</td>\n",
       "      <td>time_3</td>\n",
       "      <td>43</td>\n",
       "    </tr>\n",
       "    <tr>\n",
       "      <th>44</th>\n",
       "      <td>15</td>\n",
       "      <td>time_3</td>\n",
       "      <td>40</td>\n",
       "    </tr>\n",
       "  </tbody>\n",
       "</table>\n",
       "</div>"
      ],
      "text/plain": [
       "    participant    time  pain\n",
       "30            1  time_3    42\n",
       "31            2  time_3    33\n",
       "32            3  time_3    34\n",
       "33            4  time_3    42\n",
       "34            5  time_3    42\n",
       "35            6  time_3    30\n",
       "36            7  time_3    36\n",
       "37            8  time_3    30\n",
       "38            9  time_3    38\n",
       "39           10  time_3    40\n",
       "40           11  time_3    36\n",
       "41           12  time_3    40\n",
       "42           13  time_3    45\n",
       "43           14  time_3    43\n",
       "44           15  time_3    40"
      ]
     },
     "execution_count": 7,
     "metadata": {},
     "output_type": "execute_result"
    }
   ],
   "source": [
    "time_3 = pain_df.loc[pain_df.time == 'time_3']\n",
    "time_3"
   ]
  },
  {
   "cell_type": "code",
   "execution_count": 8,
   "id": "2119b3a4",
   "metadata": {},
   "outputs": [
    {
     "data": {
      "text/plain": [
       "count    15.000000\n",
       "mean     47.400000\n",
       "std       3.775863\n",
       "min      42.000000\n",
       "25%      44.500000\n",
       "50%      47.000000\n",
       "75%      50.000000\n",
       "max      54.000000\n",
       "Name: pain, dtype: float64"
      ]
     },
     "execution_count": 8,
     "metadata": {},
     "output_type": "execute_result"
    }
   ],
   "source": [
    "# Obtaining mean scores for each of the three levels saved in the above objects.\n",
    "time_1.pain.describe()"
   ]
  },
  {
   "cell_type": "code",
   "execution_count": 9,
   "id": "35bb439c",
   "metadata": {},
   "outputs": [
    {
     "data": {
      "text/plain": [
       "count    15.000000\n",
       "mean     34.133333\n",
       "std       3.700708\n",
       "min      27.000000\n",
       "25%      31.500000\n",
       "50%      35.000000\n",
       "75%      37.500000\n",
       "max      39.000000\n",
       "Name: pain, dtype: float64"
      ]
     },
     "execution_count": 9,
     "metadata": {},
     "output_type": "execute_result"
    }
   ],
   "source": [
    "time_2.pain.describe()"
   ]
  },
  {
   "cell_type": "code",
   "execution_count": 11,
   "id": "09f31306",
   "metadata": {},
   "outputs": [
    {
     "data": {
      "text/plain": [
       "count    15.000000\n",
       "mean     38.066667\n",
       "std       4.712698\n",
       "min      30.000000\n",
       "25%      35.000000\n",
       "50%      40.000000\n",
       "75%      42.000000\n",
       "max      45.000000\n",
       "Name: pain, dtype: float64"
      ]
     },
     "execution_count": 11,
     "metadata": {},
     "output_type": "execute_result"
    }
   ],
   "source": [
    "time_3.pain.describe()"
   ]
  },
  {
   "cell_type": "code",
   "execution_count": 12,
   "id": "bbfec768",
   "metadata": {},
   "outputs": [
    {
     "name": "stdout",
     "output_type": "stream",
     "text": [
      "Time 1 mean: 47.40\n",
      "Time 2 mean: 34.13\n",
      "Time 3 mean: 38.07\n"
     ]
    }
   ],
   "source": [
    "print(f\"Time 1 mean: {time_1.pain.mean():.2f}\")\n",
    "print(f\"Time 2 mean: {time_2.pain.mean():.2f}\")\n",
    "print(f\"Time 3 mean: {time_3.pain.mean():.2f}\")"
   ]
  },
  {
   "cell_type": "markdown",
   "id": "cbdbc222",
   "metadata": {},
   "source": [
    "Above we can see an eight number summary of the pain rating at each time point and The mean for each group printed for convenience. "
   ]
  },
  {
   "cell_type": "markdown",
   "id": "a1221a06",
   "metadata": {},
   "source": [
    "### Post-hoc tests using the Bonferroni correction"
   ]
  },
  {
   "cell_type": "code",
   "execution_count": 13,
   "id": "872b54d9",
   "metadata": {},
   "outputs": [
    {
     "data": {
      "text/html": [
       "<div>\n",
       "<style scoped>\n",
       "    .dataframe tbody tr th:only-of-type {\n",
       "        vertical-align: middle;\n",
       "    }\n",
       "\n",
       "    .dataframe tbody tr th {\n",
       "        vertical-align: top;\n",
       "    }\n",
       "\n",
       "    .dataframe thead th {\n",
       "        text-align: right;\n",
       "    }\n",
       "</style>\n",
       "<table border=\"1\" class=\"dataframe\">\n",
       "  <thead>\n",
       "    <tr style=\"text-align: right;\">\n",
       "      <th></th>\n",
       "      <th>Contrast</th>\n",
       "      <th>A</th>\n",
       "      <th>B</th>\n",
       "      <th>Paired</th>\n",
       "      <th>Parametric</th>\n",
       "      <th>T</th>\n",
       "      <th>dof</th>\n",
       "      <th>alternative</th>\n",
       "      <th>p-unc</th>\n",
       "      <th>p-corr</th>\n",
       "      <th>p-adjust</th>\n",
       "      <th>BF10</th>\n",
       "      <th>hedges</th>\n",
       "    </tr>\n",
       "  </thead>\n",
       "  <tbody>\n",
       "    <tr>\n",
       "      <th>0</th>\n",
       "      <td>time</td>\n",
       "      <td>time_1</td>\n",
       "      <td>time_2</td>\n",
       "      <td>True</td>\n",
       "      <td>True</td>\n",
       "      <td>10.176019</td>\n",
       "      <td>14.0</td>\n",
       "      <td>two-sided</td>\n",
       "      <td>7.522482e-08</td>\n",
       "      <td>2.256745e-07</td>\n",
       "      <td>bonf</td>\n",
       "      <td>1.829e+05</td>\n",
       "      <td>3.452774</td>\n",
       "    </tr>\n",
       "    <tr>\n",
       "      <th>1</th>\n",
       "      <td>time</td>\n",
       "      <td>time_1</td>\n",
       "      <td>time_3</td>\n",
       "      <td>True</td>\n",
       "      <td>True</td>\n",
       "      <td>5.590425</td>\n",
       "      <td>14.0</td>\n",
       "      <td>two-sided</td>\n",
       "      <td>6.658695e-05</td>\n",
       "      <td>1.997608e-04</td>\n",
       "      <td>bonf</td>\n",
       "      <td>409.965</td>\n",
       "      <td>2.126692</td>\n",
       "    </tr>\n",
       "    <tr>\n",
       "      <th>2</th>\n",
       "      <td>time</td>\n",
       "      <td>time_2</td>\n",
       "      <td>time_3</td>\n",
       "      <td>True</td>\n",
       "      <td>True</td>\n",
       "      <td>-2.402381</td>\n",
       "      <td>14.0</td>\n",
       "      <td>two-sided</td>\n",
       "      <td>3.072845e-02</td>\n",
       "      <td>9.218536e-02</td>\n",
       "      <td>bonf</td>\n",
       "      <td>2.249</td>\n",
       "      <td>-0.903234</td>\n",
       "    </tr>\n",
       "  </tbody>\n",
       "</table>\n",
       "</div>"
      ],
      "text/plain": [
       "  Contrast       A       B  Paired  Parametric          T   dof alternative  \\\n",
       "0     time  time_1  time_2    True        True  10.176019  14.0   two-sided   \n",
       "1     time  time_1  time_3    True        True   5.590425  14.0   two-sided   \n",
       "2     time  time_2  time_3    True        True  -2.402381  14.0   two-sided   \n",
       "\n",
       "          p-unc        p-corr p-adjust       BF10    hedges  \n",
       "0  7.522482e-08  2.256745e-07     bonf  1.829e+05  3.452774  \n",
       "1  6.658695e-05  1.997608e-04     bonf    409.965  2.126692  \n",
       "2  3.072845e-02  9.218536e-02     bonf      2.249 -0.903234  "
      ]
     },
     "execution_count": 13,
     "metadata": {},
     "output_type": "execute_result"
    }
   ],
   "source": [
    "# As we have a significant ANOVA result we would now want to perform post-hoc comparisons on all pairs of conditions \n",
    "# of the independent variable (time). We can do this using pingouin's pairwise_tests method. Below I have used Bonferroni\n",
    "# corrected pairwise comparisons.\n",
    "\n",
    "post_res = pg.pairwise_tests(data = pain_df, dv = 'pain', within = 'time', subject = 'participant', \n",
    "                            parametric = True, padjust = 'bonf', effsize = 'hedges')\n",
    "\n",
    "post_res"
   ]
  },
  {
   "cell_type": "markdown",
   "id": "a9e43f55",
   "metadata": {},
   "source": [
    "From the above pairwise comparisons we can see that mean pain scores differed significantly between time 1 and time 2, and between time 1 and time 3, but did not differ signficantly between time 2 and time 3. The results of each t-test are reported below:\n",
    "\n",
    "- Time 1 v Time 2: t(14) = 10.18, p < 0.001. Participants experienced signficantly more pain at Time 1 (Mean = 47.40) than at Time 2 (Mean = 34.13). \n",
    "- Time 1 v Time 3: t(14) = 5.59, p < 0.001. Participants experienced signficantly more pain at Time 1 (Mean = 47.40) than at Time 3 (Mean = 38.07). \n",
    "- Time 2 v Time 3: t(14) = 2.40, p = 0.092. Participants did not experience a signficant difference in pain between Time 2 (Mean = 34.13) than at Time 3 (Mean = 38.07)."
   ]
  }
 ],
 "metadata": {
  "kernelspec": {
   "display_name": "Python 3 (ipykernel)",
   "language": "python",
   "name": "python3"
  },
  "language_info": {
   "codemirror_mode": {
    "name": "ipython",
    "version": 3
   },
   "file_extension": ".py",
   "mimetype": "text/x-python",
   "name": "python",
   "nbconvert_exporter": "python",
   "pygments_lexer": "ipython3",
   "version": "3.9.12"
  }
 },
 "nbformat": 4,
 "nbformat_minor": 5
}
