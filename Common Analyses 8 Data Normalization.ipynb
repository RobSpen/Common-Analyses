{
 "cells": [
  {
   "cell_type": "markdown",
   "id": "0ae3034e",
   "metadata": {},
   "source": [
    "# Data Normalization\n",
    "\n",
    "Feature scaling is important when we have variables that have been measured on very different scales. Many statistical algorithms and Machine Learning algorithms struggle to process data when there are large differences in the scale on which variables/ features are measured. Normalising the data will not transform our variables and make them normally distributed if they deviate from normality but it helps models such as linear and logistic regression to perform better. \n",
    "\n",
    "Here I will demonstrate two methods of normalization scaling: Max Absolute Scaling and Min-Max Scaling. "
   ]
  },
  {
   "cell_type": "markdown",
   "id": "c7a76f05",
   "metadata": {},
   "source": [
    "## Max Absolute Scaling"
   ]
  },
  {
   "cell_type": "code",
   "execution_count": 1,
   "id": "6c9789ca",
   "metadata": {},
   "outputs": [],
   "source": [
    "import pandas as pd\n",
    "import seaborn as sns\n",
    "import numpy as np"
   ]
  },
  {
   "cell_type": "code",
   "execution_count": 2,
   "id": "472d92c8",
   "metadata": {},
   "outputs": [
    {
     "data": {
      "text/html": [
       "<div>\n",
       "<style scoped>\n",
       "    .dataframe tbody tr th:only-of-type {\n",
       "        vertical-align: middle;\n",
       "    }\n",
       "\n",
       "    .dataframe tbody tr th {\n",
       "        vertical-align: top;\n",
       "    }\n",
       "\n",
       "    .dataframe thead th {\n",
       "        text-align: right;\n",
       "    }\n",
       "</style>\n",
       "<table border=\"1\" class=\"dataframe\">\n",
       "  <thead>\n",
       "    <tr style=\"text-align: right;\">\n",
       "      <th></th>\n",
       "      <th>fixed acidity</th>\n",
       "      <th>volatile acidity</th>\n",
       "      <th>citric acid</th>\n",
       "      <th>residual sugar</th>\n",
       "      <th>chlorides</th>\n",
       "      <th>free sulfur dioxide</th>\n",
       "      <th>total sulfur dioxide</th>\n",
       "      <th>density</th>\n",
       "      <th>pH</th>\n",
       "      <th>sulphates</th>\n",
       "      <th>alcohol</th>\n",
       "      <th>quality</th>\n",
       "      <th>type</th>\n",
       "    </tr>\n",
       "  </thead>\n",
       "  <tbody>\n",
       "    <tr>\n",
       "      <th>0</th>\n",
       "      <td>6.7</td>\n",
       "      <td>0.62</td>\n",
       "      <td>0.24</td>\n",
       "      <td>1.10</td>\n",
       "      <td>0.039</td>\n",
       "      <td>6.0</td>\n",
       "      <td>62.0</td>\n",
       "      <td>0.99340</td>\n",
       "      <td>3.41</td>\n",
       "      <td>0.32</td>\n",
       "      <td>10.400000</td>\n",
       "      <td>5</td>\n",
       "      <td>white</td>\n",
       "    </tr>\n",
       "    <tr>\n",
       "      <th>1</th>\n",
       "      <td>5.7</td>\n",
       "      <td>0.22</td>\n",
       "      <td>0.20</td>\n",
       "      <td>16.00</td>\n",
       "      <td>0.044</td>\n",
       "      <td>41.0</td>\n",
       "      <td>113.0</td>\n",
       "      <td>0.99862</td>\n",
       "      <td>3.22</td>\n",
       "      <td>0.46</td>\n",
       "      <td>8.900000</td>\n",
       "      <td>6</td>\n",
       "      <td>white</td>\n",
       "    </tr>\n",
       "    <tr>\n",
       "      <th>2</th>\n",
       "      <td>5.9</td>\n",
       "      <td>0.19</td>\n",
       "      <td>0.26</td>\n",
       "      <td>7.40</td>\n",
       "      <td>0.034</td>\n",
       "      <td>33.0</td>\n",
       "      <td>123.0</td>\n",
       "      <td>0.99500</td>\n",
       "      <td>3.49</td>\n",
       "      <td>0.42</td>\n",
       "      <td>10.100000</td>\n",
       "      <td>6</td>\n",
       "      <td>white</td>\n",
       "    </tr>\n",
       "    <tr>\n",
       "      <th>3</th>\n",
       "      <td>5.3</td>\n",
       "      <td>0.47</td>\n",
       "      <td>0.10</td>\n",
       "      <td>1.30</td>\n",
       "      <td>0.036</td>\n",
       "      <td>11.0</td>\n",
       "      <td>74.0</td>\n",
       "      <td>0.99082</td>\n",
       "      <td>3.48</td>\n",
       "      <td>0.54</td>\n",
       "      <td>11.200000</td>\n",
       "      <td>4</td>\n",
       "      <td>white</td>\n",
       "    </tr>\n",
       "    <tr>\n",
       "      <th>4</th>\n",
       "      <td>6.4</td>\n",
       "      <td>0.29</td>\n",
       "      <td>0.21</td>\n",
       "      <td>9.65</td>\n",
       "      <td>0.041</td>\n",
       "      <td>36.0</td>\n",
       "      <td>119.0</td>\n",
       "      <td>0.99334</td>\n",
       "      <td>2.99</td>\n",
       "      <td>0.34</td>\n",
       "      <td>10.933333</td>\n",
       "      <td>6</td>\n",
       "      <td>white</td>\n",
       "    </tr>\n",
       "    <tr>\n",
       "      <th>...</th>\n",
       "      <td>...</td>\n",
       "      <td>...</td>\n",
       "      <td>...</td>\n",
       "      <td>...</td>\n",
       "      <td>...</td>\n",
       "      <td>...</td>\n",
       "      <td>...</td>\n",
       "      <td>...</td>\n",
       "      <td>...</td>\n",
       "      <td>...</td>\n",
       "      <td>...</td>\n",
       "      <td>...</td>\n",
       "      <td>...</td>\n",
       "    </tr>\n",
       "    <tr>\n",
       "      <th>4893</th>\n",
       "      <td>6.1</td>\n",
       "      <td>0.28</td>\n",
       "      <td>0.24</td>\n",
       "      <td>19.95</td>\n",
       "      <td>0.074</td>\n",
       "      <td>32.0</td>\n",
       "      <td>174.0</td>\n",
       "      <td>0.99922</td>\n",
       "      <td>3.19</td>\n",
       "      <td>0.44</td>\n",
       "      <td>9.300000</td>\n",
       "      <td>6</td>\n",
       "      <td>white</td>\n",
       "    </tr>\n",
       "    <tr>\n",
       "      <th>4894</th>\n",
       "      <td>6.8</td>\n",
       "      <td>0.39</td>\n",
       "      <td>0.34</td>\n",
       "      <td>7.40</td>\n",
       "      <td>0.020</td>\n",
       "      <td>38.0</td>\n",
       "      <td>133.0</td>\n",
       "      <td>0.99212</td>\n",
       "      <td>3.18</td>\n",
       "      <td>0.44</td>\n",
       "      <td>12.000000</td>\n",
       "      <td>7</td>\n",
       "      <td>white</td>\n",
       "    </tr>\n",
       "    <tr>\n",
       "      <th>4895</th>\n",
       "      <td>6.9</td>\n",
       "      <td>0.25</td>\n",
       "      <td>0.29</td>\n",
       "      <td>2.40</td>\n",
       "      <td>0.038</td>\n",
       "      <td>28.0</td>\n",
       "      <td>76.0</td>\n",
       "      <td>0.99088</td>\n",
       "      <td>3.01</td>\n",
       "      <td>0.36</td>\n",
       "      <td>11.700000</td>\n",
       "      <td>7</td>\n",
       "      <td>white</td>\n",
       "    </tr>\n",
       "    <tr>\n",
       "      <th>4896</th>\n",
       "      <td>7.1</td>\n",
       "      <td>0.26</td>\n",
       "      <td>0.31</td>\n",
       "      <td>2.20</td>\n",
       "      <td>0.044</td>\n",
       "      <td>29.0</td>\n",
       "      <td>128.0</td>\n",
       "      <td>0.99370</td>\n",
       "      <td>3.34</td>\n",
       "      <td>0.64</td>\n",
       "      <td>10.900000</td>\n",
       "      <td>8</td>\n",
       "      <td>white</td>\n",
       "    </tr>\n",
       "    <tr>\n",
       "      <th>4897</th>\n",
       "      <td>8.9</td>\n",
       "      <td>0.33</td>\n",
       "      <td>0.32</td>\n",
       "      <td>1.50</td>\n",
       "      <td>0.047</td>\n",
       "      <td>11.0</td>\n",
       "      <td>200.0</td>\n",
       "      <td>0.99540</td>\n",
       "      <td>3.19</td>\n",
       "      <td>0.46</td>\n",
       "      <td>9.400000</td>\n",
       "      <td>5</td>\n",
       "      <td>white</td>\n",
       "    </tr>\n",
       "  </tbody>\n",
       "</table>\n",
       "<p>4898 rows × 13 columns</p>\n",
       "</div>"
      ],
      "text/plain": [
       "      fixed acidity  volatile acidity  citric acid  residual sugar  chlorides  \\\n",
       "0               6.7              0.62         0.24            1.10      0.039   \n",
       "1               5.7              0.22         0.20           16.00      0.044   \n",
       "2               5.9              0.19         0.26            7.40      0.034   \n",
       "3               5.3              0.47         0.10            1.30      0.036   \n",
       "4               6.4              0.29         0.21            9.65      0.041   \n",
       "...             ...               ...          ...             ...        ...   \n",
       "4893            6.1              0.28         0.24           19.95      0.074   \n",
       "4894            6.8              0.39         0.34            7.40      0.020   \n",
       "4895            6.9              0.25         0.29            2.40      0.038   \n",
       "4896            7.1              0.26         0.31            2.20      0.044   \n",
       "4897            8.9              0.33         0.32            1.50      0.047   \n",
       "\n",
       "      free sulfur dioxide  total sulfur dioxide  density    pH  sulphates  \\\n",
       "0                     6.0                  62.0  0.99340  3.41       0.32   \n",
       "1                    41.0                 113.0  0.99862  3.22       0.46   \n",
       "2                    33.0                 123.0  0.99500  3.49       0.42   \n",
       "3                    11.0                  74.0  0.99082  3.48       0.54   \n",
       "4                    36.0                 119.0  0.99334  2.99       0.34   \n",
       "...                   ...                   ...      ...   ...        ...   \n",
       "4893                 32.0                 174.0  0.99922  3.19       0.44   \n",
       "4894                 38.0                 133.0  0.99212  3.18       0.44   \n",
       "4895                 28.0                  76.0  0.99088  3.01       0.36   \n",
       "4896                 29.0                 128.0  0.99370  3.34       0.64   \n",
       "4897                 11.0                 200.0  0.99540  3.19       0.46   \n",
       "\n",
       "        alcohol  quality   type  \n",
       "0     10.400000        5  white  \n",
       "1      8.900000        6  white  \n",
       "2     10.100000        6  white  \n",
       "3     11.200000        4  white  \n",
       "4     10.933333        6  white  \n",
       "...         ...      ...    ...  \n",
       "4893   9.300000        6  white  \n",
       "4894  12.000000        7  white  \n",
       "4895  11.700000        7  white  \n",
       "4896  10.900000        8  white  \n",
       "4897   9.400000        5  white  \n",
       "\n",
       "[4898 rows x 13 columns]"
      ]
     },
     "execution_count": 2,
     "metadata": {},
     "output_type": "execute_result"
    }
   ],
   "source": [
    "df = pd.read_csv('whitewine.csv')\n",
    "\n",
    "df"
   ]
  },
  {
   "cell_type": "code",
   "execution_count": 3,
   "id": "58c87090",
   "metadata": {},
   "outputs": [
    {
     "data": {
      "text/html": [
       "<div>\n",
       "<style scoped>\n",
       "    .dataframe tbody tr th:only-of-type {\n",
       "        vertical-align: middle;\n",
       "    }\n",
       "\n",
       "    .dataframe tbody tr th {\n",
       "        vertical-align: top;\n",
       "    }\n",
       "\n",
       "    .dataframe thead th {\n",
       "        text-align: right;\n",
       "    }\n",
       "</style>\n",
       "<table border=\"1\" class=\"dataframe\">\n",
       "  <thead>\n",
       "    <tr style=\"text-align: right;\">\n",
       "      <th></th>\n",
       "      <th>fixed acidity</th>\n",
       "      <th>volatile acidity</th>\n",
       "      <th>citric acid</th>\n",
       "      <th>residual sugar</th>\n",
       "      <th>chlorides</th>\n",
       "      <th>free sulfur dioxide</th>\n",
       "      <th>total sulfur dioxide</th>\n",
       "      <th>density</th>\n",
       "      <th>pH</th>\n",
       "      <th>sulphates</th>\n",
       "      <th>alcohol</th>\n",
       "      <th>quality</th>\n",
       "    </tr>\n",
       "  </thead>\n",
       "  <tbody>\n",
       "    <tr>\n",
       "      <th>count</th>\n",
       "      <td>4898.000000</td>\n",
       "      <td>4898.000000</td>\n",
       "      <td>4898.000000</td>\n",
       "      <td>4898.000000</td>\n",
       "      <td>4898.000000</td>\n",
       "      <td>4898.000000</td>\n",
       "      <td>4898.000000</td>\n",
       "      <td>4898.000000</td>\n",
       "      <td>4898.000000</td>\n",
       "      <td>4898.000000</td>\n",
       "      <td>4898.000000</td>\n",
       "      <td>4898.000000</td>\n",
       "    </tr>\n",
       "    <tr>\n",
       "      <th>mean</th>\n",
       "      <td>6.854788</td>\n",
       "      <td>0.278241</td>\n",
       "      <td>0.334192</td>\n",
       "      <td>6.391415</td>\n",
       "      <td>0.045772</td>\n",
       "      <td>35.308085</td>\n",
       "      <td>138.360657</td>\n",
       "      <td>0.994027</td>\n",
       "      <td>3.188267</td>\n",
       "      <td>0.489847</td>\n",
       "      <td>10.514267</td>\n",
       "      <td>5.877909</td>\n",
       "    </tr>\n",
       "    <tr>\n",
       "      <th>std</th>\n",
       "      <td>0.843868</td>\n",
       "      <td>0.100795</td>\n",
       "      <td>0.121020</td>\n",
       "      <td>5.072058</td>\n",
       "      <td>0.021848</td>\n",
       "      <td>17.007137</td>\n",
       "      <td>42.498065</td>\n",
       "      <td>0.002991</td>\n",
       "      <td>0.151001</td>\n",
       "      <td>0.114126</td>\n",
       "      <td>1.230621</td>\n",
       "      <td>0.885639</td>\n",
       "    </tr>\n",
       "    <tr>\n",
       "      <th>min</th>\n",
       "      <td>3.800000</td>\n",
       "      <td>0.080000</td>\n",
       "      <td>0.000000</td>\n",
       "      <td>0.600000</td>\n",
       "      <td>0.009000</td>\n",
       "      <td>2.000000</td>\n",
       "      <td>9.000000</td>\n",
       "      <td>0.987110</td>\n",
       "      <td>2.720000</td>\n",
       "      <td>0.220000</td>\n",
       "      <td>8.000000</td>\n",
       "      <td>3.000000</td>\n",
       "    </tr>\n",
       "    <tr>\n",
       "      <th>25%</th>\n",
       "      <td>6.300000</td>\n",
       "      <td>0.210000</td>\n",
       "      <td>0.270000</td>\n",
       "      <td>1.700000</td>\n",
       "      <td>0.036000</td>\n",
       "      <td>23.000000</td>\n",
       "      <td>108.000000</td>\n",
       "      <td>0.991723</td>\n",
       "      <td>3.090000</td>\n",
       "      <td>0.410000</td>\n",
       "      <td>9.500000</td>\n",
       "      <td>5.000000</td>\n",
       "    </tr>\n",
       "    <tr>\n",
       "      <th>50%</th>\n",
       "      <td>6.800000</td>\n",
       "      <td>0.260000</td>\n",
       "      <td>0.320000</td>\n",
       "      <td>5.200000</td>\n",
       "      <td>0.043000</td>\n",
       "      <td>34.000000</td>\n",
       "      <td>134.000000</td>\n",
       "      <td>0.993740</td>\n",
       "      <td>3.180000</td>\n",
       "      <td>0.470000</td>\n",
       "      <td>10.400000</td>\n",
       "      <td>6.000000</td>\n",
       "    </tr>\n",
       "    <tr>\n",
       "      <th>75%</th>\n",
       "      <td>7.300000</td>\n",
       "      <td>0.320000</td>\n",
       "      <td>0.390000</td>\n",
       "      <td>9.900000</td>\n",
       "      <td>0.050000</td>\n",
       "      <td>46.000000</td>\n",
       "      <td>167.000000</td>\n",
       "      <td>0.996100</td>\n",
       "      <td>3.280000</td>\n",
       "      <td>0.550000</td>\n",
       "      <td>11.400000</td>\n",
       "      <td>6.000000</td>\n",
       "    </tr>\n",
       "    <tr>\n",
       "      <th>max</th>\n",
       "      <td>14.200000</td>\n",
       "      <td>1.100000</td>\n",
       "      <td>1.660000</td>\n",
       "      <td>65.800000</td>\n",
       "      <td>0.346000</td>\n",
       "      <td>289.000000</td>\n",
       "      <td>440.000000</td>\n",
       "      <td>1.038980</td>\n",
       "      <td>3.820000</td>\n",
       "      <td>1.080000</td>\n",
       "      <td>14.200000</td>\n",
       "      <td>9.000000</td>\n",
       "    </tr>\n",
       "  </tbody>\n",
       "</table>\n",
       "</div>"
      ],
      "text/plain": [
       "       fixed acidity  volatile acidity  citric acid  residual sugar  \\\n",
       "count    4898.000000       4898.000000  4898.000000     4898.000000   \n",
       "mean        6.854788          0.278241     0.334192        6.391415   \n",
       "std         0.843868          0.100795     0.121020        5.072058   \n",
       "min         3.800000          0.080000     0.000000        0.600000   \n",
       "25%         6.300000          0.210000     0.270000        1.700000   \n",
       "50%         6.800000          0.260000     0.320000        5.200000   \n",
       "75%         7.300000          0.320000     0.390000        9.900000   \n",
       "max        14.200000          1.100000     1.660000       65.800000   \n",
       "\n",
       "         chlorides  free sulfur dioxide  total sulfur dioxide      density  \\\n",
       "count  4898.000000          4898.000000           4898.000000  4898.000000   \n",
       "mean      0.045772            35.308085            138.360657     0.994027   \n",
       "std       0.021848            17.007137             42.498065     0.002991   \n",
       "min       0.009000             2.000000              9.000000     0.987110   \n",
       "25%       0.036000            23.000000            108.000000     0.991723   \n",
       "50%       0.043000            34.000000            134.000000     0.993740   \n",
       "75%       0.050000            46.000000            167.000000     0.996100   \n",
       "max       0.346000           289.000000            440.000000     1.038980   \n",
       "\n",
       "                pH    sulphates      alcohol      quality  \n",
       "count  4898.000000  4898.000000  4898.000000  4898.000000  \n",
       "mean      3.188267     0.489847    10.514267     5.877909  \n",
       "std       0.151001     0.114126     1.230621     0.885639  \n",
       "min       2.720000     0.220000     8.000000     3.000000  \n",
       "25%       3.090000     0.410000     9.500000     5.000000  \n",
       "50%       3.180000     0.470000    10.400000     6.000000  \n",
       "75%       3.280000     0.550000    11.400000     6.000000  \n",
       "max       3.820000     1.080000    14.200000     9.000000  "
      ]
     },
     "execution_count": 3,
     "metadata": {},
     "output_type": "execute_result"
    }
   ],
   "source": [
    "# Looking at the free sulfur dioxide and total sulfur dioxide variables it is clear that the scales are very large\n",
    "# With a big difference between the min and max values. \n",
    "df.describe()"
   ]
  },
  {
   "cell_type": "code",
   "execution_count": 4,
   "id": "1ffacab7",
   "metadata": {},
   "outputs": [
    {
     "name": "stderr",
     "output_type": "stream",
     "text": [
      "C:\\Users\\robert65\\AppData\\Local\\Temp\\ipykernel_12788\\661626722.py:3: UserWarning: \n",
      "\n",
      "`distplot` is a deprecated function and will be removed in seaborn v0.14.0.\n",
      "\n",
      "Please adapt your code to use either `displot` (a figure-level function with\n",
      "similar flexibility) or `histplot` (an axes-level function for histograms).\n",
      "\n",
      "For a guide to updating your code to use the new functions, please see\n",
      "https://gist.github.com/mwaskom/de44147ed2974457ad6372750bbe5751\n",
      "\n",
      "  sns.distplot(df['free sulfur dioxide'])\n"
     ]
    },
    {
     "data": {
      "text/plain": [
       "<AxesSubplot:xlabel='free sulfur dioxide', ylabel='Density'>"
      ]
     },
     "execution_count": 4,
     "metadata": {},
     "output_type": "execute_result"
    },
    {
     "data": {
      "image/png": "[encoded data removed]",
      "text/plain": [
       "<Figure size 432x288 with 1 Axes>"
      ]
     },
     "metadata": {
      "needs_background": "light"
     },
     "output_type": "display_data"
    }
   ],
   "source": [
    "# Obtaining a distribution plot of free sulfer dioxide:\n",
    "\n",
    "sns.distplot(df['free sulfur dioxide'])\n",
    "\n",
    "# We can see that this variable is measured on a scale from 0 to about 300. "
   ]
  },
  {
   "cell_type": "code",
   "execution_count": 5,
   "id": "ae4641bc",
   "metadata": {},
   "outputs": [],
   "source": [
    "# Max Absolute Scaling:\n",
    "# The formula for this is:\n",
    "# scaled_value = value / max abs value\n",
    "\n",
    "# Making a copy of the data frame:\n",
    "\n",
    "df_temp = df.copy()"
   ]
  },
  {
   "cell_type": "code",
   "execution_count": 6,
   "id": "2b1a5e5b",
   "metadata": {},
   "outputs": [],
   "source": [
    "# Creating the new scaled variable:\n",
    "\n",
    "df_temp['free sulfur dioxide'] = df_temp['free sulfur dioxide'] / df_temp['free sulfur dioxide'].abs().max()"
   ]
  },
  {
   "cell_type": "code",
   "execution_count": 7,
   "id": "4ed5285a",
   "metadata": {
    "scrolled": false
   },
   "outputs": [
    {
     "data": {
      "text/plain": [
       "<seaborn.axisgrid.FacetGrid at 0x20fbb7319a0>"
      ]
     },
     "execution_count": 7,
     "metadata": {},
     "output_type": "execute_result"
    },
    {
     "data": {
      "image/png": "[encoded data removed]",
      "text/plain": [
       "<Figure size 360x360 with 1 Axes>"
      ]
     },
     "metadata": {
      "needs_background": "light"
     },
     "output_type": "display_data"
    }
   ],
   "source": [
    "sns.displot(df_temp['free sulfur dioxide'], kde = True)\n",
    "\n",
    "# We can now see that the variable has been rescaled on the x-axis and is now measured between 0 and 1."
   ]
  },
  {
   "cell_type": "code",
   "execution_count": 8,
   "id": "19d64569",
   "metadata": {},
   "outputs": [
    {
     "data": {
      "text/plain": [
       "<seaborn.axisgrid.FacetGrid at 0x20fbc51bcd0>"
      ]
     },
     "execution_count": 8,
     "metadata": {},
     "output_type": "execute_result"
    },
    {
     "data": {
      "image/png": "[encoded data removed]",
      "text/plain": [
       "<Figure size 360x360 with 1 Axes>"
      ]
     },
     "metadata": {
      "needs_background": "light"
     },
     "output_type": "display_data"
    }
   ],
   "source": [
    "# Performing Max Abs Scaling on the alcohol variable using the original data frame:\n",
    "\n",
    "sns.displot(df['alcohol'], kde = True)\n",
    "\n",
    "# You can see on this plot that the range of scores goes from 8 to 14. "
   ]
  },
  {
   "cell_type": "code",
   "execution_count": 9,
   "id": "59b9a6d9",
   "metadata": {},
   "outputs": [],
   "source": [
    "# Performing Max Abs Scaling on alcohol: \n",
    "df_temp['alcohol'] = df_temp['alcohol'] / df_temp['alcohol'].abs().max()"
   ]
  },
  {
   "cell_type": "code",
   "execution_count": 10,
   "id": "fac28e9c",
   "metadata": {},
   "outputs": [
    {
     "data": {
      "text/plain": [
       "<seaborn.axisgrid.FacetGrid at 0x20fb65ca1c0>"
      ]
     },
     "execution_count": 10,
     "metadata": {},
     "output_type": "execute_result"
    },
    {
     "data": {
      "image/png": "[encoded data removed]",
      "text/plain": [
       "<Figure size 360x360 with 1 Axes>"
      ]
     },
     "metadata": {
      "needs_background": "light"
     },
     "output_type": "display_data"
    }
   ],
   "source": [
    "sns.displot(df_temp['alcohol'], kde=True)\n",
    "\n",
    "# We can see in the plot that the scale is now in the range 0 to 1 but the min value is not 0.\n",
    "# It start at around 0.55. \n",
    "# If we want to put all values on a scale from the min value at 0 to the max value at 1 we have to use Min Max Scaling.  \n",
    "\n",
    "# Note: If we want to get the orginal value back we can just use some algebra and the below formula:\n",
    "# original_value  = scaled_value * max"
   ]
  },
  {
   "cell_type": "markdown",
   "id": "b2cedca9",
   "metadata": {},
   "source": [
    "## Min-Max Scaling\n",
    "\n",
    "This is the standard normalisation technique that it used in Machine Learning. "
   ]
  },
  {
   "cell_type": "code",
   "execution_count": 11,
   "id": "7f7591f9",
   "metadata": {},
   "outputs": [],
   "source": [
    "# The formula for min-max scaling is:\n",
    "\n",
    "# scaled_value = (value - min) / (max - min)\n",
    "# e.g. min = 160, max = 200\n",
    "# min: 160 - 160 / 200 - 160 = 0 / 40 = 0\n",
    "# max: 200 - 160 / 200 - 160 = 40 / 40 = 1\n",
    "\n",
    "# Making a copy of the data again:\n",
    "\n",
    "df_temp2 = df.copy()"
   ]
  },
  {
   "cell_type": "code",
   "execution_count": 12,
   "id": "5ccd9aab",
   "metadata": {},
   "outputs": [],
   "source": [
    "# We can perform this scaling manually:\n",
    "\n",
    "df_temp2['alcohol'] = (df_temp2['alcohol'] - df_temp2['alcohol'].min()) / (df_temp2['alcohol'].max() - df_temp2['alcohol'].min())"
   ]
  },
  {
   "cell_type": "code",
   "execution_count": 13,
   "id": "dac7d81a",
   "metadata": {},
   "outputs": [
    {
     "data": {
      "text/plain": [
       "<seaborn.axisgrid.FacetGrid at 0x20fbc636760>"
      ]
     },
     "execution_count": 13,
     "metadata": {},
     "output_type": "execute_result"
    },
    {
     "data": {
      "image/png": "[encoded data removed]",
      "text/plain": [
       "<Figure size 360x360 with 1 Axes>"
      ]
     },
     "metadata": {
      "needs_background": "light"
     },
     "output_type": "display_data"
    }
   ],
   "source": [
    "# Again obtaining the distribution plot. \n",
    "# We can now see the x-axis scale is different and the min value and max value are 0 and 1 respectively. \n",
    "sns.displot(df_temp2['alcohol'], kde=True)\n",
    "\n",
    "# Note: we could reverse the min-max scaling of this variable with a bit of algebra and applying the formula:\n",
    "# original_value = scaled_value * (max - min) + min"
   ]
  }
 ],
 "metadata": {
  "kernelspec": {
   "display_name": "Python 3 (ipykernel)",
   "language": "python",
   "name": "python3"
  },
  "language_info": {
   "codemirror_mode": {
    "name": "ipython",
    "version": 3
   },
   "file_extension": ".py",
   "mimetype": "text/x-python",
   "name": "python",
   "nbconvert_exporter": "python",
   "pygments_lexer": "ipython3",
   "version": "3.9.12"
  }
 },
 "nbformat": 4,
 "nbformat_minor": 5
}
