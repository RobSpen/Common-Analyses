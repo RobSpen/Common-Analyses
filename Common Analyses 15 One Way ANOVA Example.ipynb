{
 "cells": [
  {
   "cell_type": "markdown",
   "id": "9f1bf4c7",
   "metadata": {},
   "source": [
    "# One-way ANOVA example using an imported dataset\n",
    "\n",
    "In this notebook I will demonstrate how to conduct a one-way ANOVA on an imported dataset. "
   ]
  },
  {
   "cell_type": "code",
   "execution_count": 1,
   "id": "cf4626b7",
   "metadata": {},
   "outputs": [],
   "source": [
    "# Importing key software libraries.\n",
    "\n",
    "import pandas as pd\n",
    "import numpy as np\n",
    "import scipy.stats as stats\n",
    "import matplotlib.pyplot as plt\n",
    "import seaborn as sns\n",
    "%matplotlib inline"
   ]
  },
  {
   "cell_type": "code",
   "execution_count": 2,
   "id": "33750e47",
   "metadata": {},
   "outputs": [
    {
     "data": {
      "text/html": [
       "<div>\n",
       "<style scoped>\n",
       "    .dataframe tbody tr th:only-of-type {\n",
       "        vertical-align: middle;\n",
       "    }\n",
       "\n",
       "    .dataframe tbody tr th {\n",
       "        vertical-align: top;\n",
       "    }\n",
       "\n",
       "    .dataframe thead th {\n",
       "        text-align: right;\n",
       "    }\n",
       "</style>\n",
       "<table border=\"1\" class=\"dataframe\">\n",
       "  <thead>\n",
       "    <tr style=\"text-align: right;\">\n",
       "      <th></th>\n",
       "      <th>id</th>\n",
       "      <th>Lie</th>\n",
       "      <th>Truth</th>\n",
       "      <th>Coloured_sqr</th>\n",
       "      <th>Framing</th>\n",
       "    </tr>\n",
       "  </thead>\n",
       "  <tbody>\n",
       "    <tr>\n",
       "      <th>0</th>\n",
       "      <td>1</td>\n",
       "      <td>58.536483</td>\n",
       "      <td>84.858119</td>\n",
       "      <td>53.783338</td>\n",
       "      <td>1</td>\n",
       "    </tr>\n",
       "    <tr>\n",
       "      <th>1</th>\n",
       "      <td>2</td>\n",
       "      <td>74.968975</td>\n",
       "      <td>72.235336</td>\n",
       "      <td>75.913702</td>\n",
       "      <td>1</td>\n",
       "    </tr>\n",
       "    <tr>\n",
       "      <th>2</th>\n",
       "      <td>3</td>\n",
       "      <td>61.114431</td>\n",
       "      <td>91.722885</td>\n",
       "      <td>87.325517</td>\n",
       "      <td>1</td>\n",
       "    </tr>\n",
       "    <tr>\n",
       "      <th>3</th>\n",
       "      <td>4</td>\n",
       "      <td>60.214866</td>\n",
       "      <td>78.241833</td>\n",
       "      <td>77.854317</td>\n",
       "      <td>1</td>\n",
       "    </tr>\n",
       "    <tr>\n",
       "      <th>4</th>\n",
       "      <td>5</td>\n",
       "      <td>61.410426</td>\n",
       "      <td>72.986057</td>\n",
       "      <td>102.853567</td>\n",
       "      <td>1</td>\n",
       "    </tr>\n",
       "  </tbody>\n",
       "</table>\n",
       "</div>"
      ],
      "text/plain": [
       "   id        Lie      Truth  Coloured_sqr  Framing\n",
       "0   1  58.536483  84.858119     53.783338        1\n",
       "1   2  74.968975  72.235336     75.913702        1\n",
       "2   3  61.114431  91.722885     87.325517        1\n",
       "3   4  60.214866  78.241833     77.854317        1\n",
       "4   5  61.410426  72.986057    102.853567        1"
      ]
     },
     "execution_count": 2,
     "metadata": {},
     "output_type": "execute_result"
    }
   ],
   "source": [
    "# Importing a dataset looking at a lie detector study where people lie/ tell the truth/ or complete a control task.\n",
    "\n",
    "hr_df = pd.read_csv(\"HR Polygraph.csv\")\n",
    "\n",
    "hr_df.head()"
   ]
  },
  {
   "cell_type": "code",
   "execution_count": 3,
   "id": "95bd27ea",
   "metadata": {},
   "outputs": [
    {
     "data": {
      "text/html": [
       "<div>\n",
       "<style scoped>\n",
       "    .dataframe tbody tr th:only-of-type {\n",
       "        vertical-align: middle;\n",
       "    }\n",
       "\n",
       "    .dataframe tbody tr th {\n",
       "        vertical-align: top;\n",
       "    }\n",
       "\n",
       "    .dataframe thead th {\n",
       "        text-align: right;\n",
       "    }\n",
       "</style>\n",
       "<table border=\"1\" class=\"dataframe\">\n",
       "  <thead>\n",
       "    <tr style=\"text-align: right;\">\n",
       "      <th></th>\n",
       "      <th>Lie</th>\n",
       "      <th>Truth</th>\n",
       "      <th>Coloured_sqr</th>\n",
       "    </tr>\n",
       "  </thead>\n",
       "  <tbody>\n",
       "    <tr>\n",
       "      <th>0</th>\n",
       "      <td>58.536483</td>\n",
       "      <td>84.858119</td>\n",
       "      <td>53.783338</td>\n",
       "    </tr>\n",
       "    <tr>\n",
       "      <th>1</th>\n",
       "      <td>74.968975</td>\n",
       "      <td>72.235336</td>\n",
       "      <td>75.913702</td>\n",
       "    </tr>\n",
       "    <tr>\n",
       "      <th>2</th>\n",
       "      <td>61.114431</td>\n",
       "      <td>91.722885</td>\n",
       "      <td>87.325517</td>\n",
       "    </tr>\n",
       "    <tr>\n",
       "      <th>3</th>\n",
       "      <td>60.214866</td>\n",
       "      <td>78.241833</td>\n",
       "      <td>77.854317</td>\n",
       "    </tr>\n",
       "    <tr>\n",
       "      <th>4</th>\n",
       "      <td>61.410426</td>\n",
       "      <td>72.986057</td>\n",
       "      <td>102.853567</td>\n",
       "    </tr>\n",
       "    <tr>\n",
       "      <th>...</th>\n",
       "      <td>...</td>\n",
       "      <td>...</td>\n",
       "      <td>...</td>\n",
       "    </tr>\n",
       "    <tr>\n",
       "      <th>75</th>\n",
       "      <td>45.824996</td>\n",
       "      <td>67.734263</td>\n",
       "      <td>51.065190</td>\n",
       "    </tr>\n",
       "    <tr>\n",
       "      <th>76</th>\n",
       "      <td>101.107714</td>\n",
       "      <td>70.883897</td>\n",
       "      <td>86.426843</td>\n",
       "    </tr>\n",
       "    <tr>\n",
       "      <th>77</th>\n",
       "      <td>85.011061</td>\n",
       "      <td>69.120016</td>\n",
       "      <td>111.991884</td>\n",
       "    </tr>\n",
       "    <tr>\n",
       "      <th>78</th>\n",
       "      <td>90.235426</td>\n",
       "      <td>57.992397</td>\n",
       "      <td>54.251209</td>\n",
       "    </tr>\n",
       "    <tr>\n",
       "      <th>79</th>\n",
       "      <td>113.862390</td>\n",
       "      <td>79.410223</td>\n",
       "      <td>69.239114</td>\n",
       "    </tr>\n",
       "  </tbody>\n",
       "</table>\n",
       "<p>80 rows × 3 columns</p>\n",
       "</div>"
      ],
      "text/plain": [
       "           Lie      Truth  Coloured_sqr\n",
       "0    58.536483  84.858119     53.783338\n",
       "1    74.968975  72.235336     75.913702\n",
       "2    61.114431  91.722885     87.325517\n",
       "3    60.214866  78.241833     77.854317\n",
       "4    61.410426  72.986057    102.853567\n",
       "..         ...        ...           ...\n",
       "75   45.824996  67.734263     51.065190\n",
       "76  101.107714  70.883897     86.426843\n",
       "77   85.011061  69.120016    111.991884\n",
       "78   90.235426  57.992397     54.251209\n",
       "79  113.862390  79.410223     69.239114\n",
       "\n",
       "[80 rows x 3 columns]"
      ]
     },
     "execution_count": 3,
     "metadata": {},
     "output_type": "execute_result"
    }
   ],
   "source": [
    "# Creating a groups object with the three variables of interest:\n",
    "\n",
    "groups = hr_df[['Lie', 'Truth', 'Coloured_sqr']]\n",
    "\n",
    "groups"
   ]
  },
  {
   "cell_type": "code",
   "execution_count": 4,
   "id": "16bdf610",
   "metadata": {},
   "outputs": [
    {
     "data": {
      "text/plain": [
       "Lie             float64\n",
       "Truth           float64\n",
       "Coloured_sqr    float64\n",
       "dtype: object"
      ]
     },
     "execution_count": 4,
     "metadata": {},
     "output_type": "execute_result"
    }
   ],
   "source": [
    "groups.dtypes"
   ]
  },
  {
   "cell_type": "markdown",
   "id": "a9f625f7",
   "metadata": {},
   "source": [
    "### Running the one-way ANOVA"
   ]
  },
  {
   "cell_type": "code",
   "execution_count": 5,
   "id": "859b5544",
   "metadata": {},
   "outputs": [
    {
     "data": {
      "text/plain": [
       "F_onewayResult(statistic=3.0913558261598926, pvalue=0.04727749177724799)"
      ]
     },
     "execution_count": 5,
     "metadata": {},
     "output_type": "execute_result"
    }
   ],
   "source": [
    "# Running the one-way ANOVA using the scipy.stats f_oneway method. \n",
    "aov_res = stats.f_oneway(groups['Lie'], groups['Truth'], groups['Coloured_sqr'])\n",
    "aov_res"
   ]
  },
  {
   "cell_type": "code",
   "execution_count": 6,
   "id": "fd44f9d7",
   "metadata": {},
   "outputs": [
    {
     "name": "stdout",
     "output_type": "stream",
     "text": [
      "F-Value:  3.0913558261598926 P-Value:  0.04727749177724799\n"
     ]
    }
   ],
   "source": [
    "# Again, running the one-way ANOVA using the scipy.stats f_oneway method using the variables from the original dataframe. \n",
    "f_val, p_val = stats.f_oneway(hr_df['Lie'], hr_df['Truth'], hr_df['Coloured_sqr'])\n",
    "print(\"F-Value: \", f_val, \"P-Value: \", p_val)"
   ]
  },
  {
   "cell_type": "markdown",
   "id": "dd875385",
   "metadata": {},
   "source": [
    "Above, we can see that we get a significant ANOVA result. As a consequence we need to do post-hoc tests to find which levels of the independent (grouping) variable have signficantly different means from each other. To do this I will use Tukey HSD pairwise comparisons."
   ]
  },
  {
   "cell_type": "markdown",
   "id": "b57ef6da",
   "metadata": {},
   "source": [
    "### Post-hoc comparisons using Tukey HSD"
   ]
  },
  {
   "cell_type": "code",
   "execution_count": 7,
   "id": "7a3dd22e",
   "metadata": {},
   "outputs": [],
   "source": [
    "# To conduct a pairwise Tukey HSD test we need to import the multicomp pairwise_tukeyhsd method from the statsmodels library.\n",
    "\n",
    "from statsmodels.stats.multicomp import pairwise_tukeyhsd"
   ]
  },
  {
   "cell_type": "code",
   "execution_count": 8,
   "id": "ba7d73ec",
   "metadata": {},
   "outputs": [],
   "source": [
    "# Currently the data is short and wide with the three categories saved as three separate variables. \n",
    "# I need to convert this to a long and thin dataframe in order to run the pairwise comparisons. \n",
    "# This can be done using the pandas melt() method\n",
    "cat_cond = list(groups.columns)\n",
    "groups_long = pd.melt(groups, value_vars = cat_cond, value_name = 'mean_arousal', ignore_index = True)"
   ]
  },
  {
   "cell_type": "code",
   "execution_count": 9,
   "id": "2e7eafbc",
   "metadata": {},
   "outputs": [
    {
     "data": {
      "text/html": [
       "<div>\n",
       "<style scoped>\n",
       "    .dataframe tbody tr th:only-of-type {\n",
       "        vertical-align: middle;\n",
       "    }\n",
       "\n",
       "    .dataframe tbody tr th {\n",
       "        vertical-align: top;\n",
       "    }\n",
       "\n",
       "    .dataframe thead th {\n",
       "        text-align: right;\n",
       "    }\n",
       "</style>\n",
       "<table border=\"1\" class=\"dataframe\">\n",
       "  <thead>\n",
       "    <tr style=\"text-align: right;\">\n",
       "      <th></th>\n",
       "      <th>variable</th>\n",
       "      <th>mean_arousal</th>\n",
       "    </tr>\n",
       "  </thead>\n",
       "  <tbody>\n",
       "    <tr>\n",
       "      <th>0</th>\n",
       "      <td>Lie</td>\n",
       "      <td>58.536483</td>\n",
       "    </tr>\n",
       "    <tr>\n",
       "      <th>1</th>\n",
       "      <td>Lie</td>\n",
       "      <td>74.968975</td>\n",
       "    </tr>\n",
       "    <tr>\n",
       "      <th>2</th>\n",
       "      <td>Lie</td>\n",
       "      <td>61.114431</td>\n",
       "    </tr>\n",
       "    <tr>\n",
       "      <th>3</th>\n",
       "      <td>Lie</td>\n",
       "      <td>60.214866</td>\n",
       "    </tr>\n",
       "    <tr>\n",
       "      <th>4</th>\n",
       "      <td>Lie</td>\n",
       "      <td>61.410426</td>\n",
       "    </tr>\n",
       "    <tr>\n",
       "      <th>...</th>\n",
       "      <td>...</td>\n",
       "      <td>...</td>\n",
       "    </tr>\n",
       "    <tr>\n",
       "      <th>235</th>\n",
       "      <td>Coloured_sqr</td>\n",
       "      <td>51.065190</td>\n",
       "    </tr>\n",
       "    <tr>\n",
       "      <th>236</th>\n",
       "      <td>Coloured_sqr</td>\n",
       "      <td>86.426843</td>\n",
       "    </tr>\n",
       "    <tr>\n",
       "      <th>237</th>\n",
       "      <td>Coloured_sqr</td>\n",
       "      <td>111.991884</td>\n",
       "    </tr>\n",
       "    <tr>\n",
       "      <th>238</th>\n",
       "      <td>Coloured_sqr</td>\n",
       "      <td>54.251209</td>\n",
       "    </tr>\n",
       "    <tr>\n",
       "      <th>239</th>\n",
       "      <td>Coloured_sqr</td>\n",
       "      <td>69.239114</td>\n",
       "    </tr>\n",
       "  </tbody>\n",
       "</table>\n",
       "<p>240 rows × 2 columns</p>\n",
       "</div>"
      ],
      "text/plain": [
       "         variable  mean_arousal\n",
       "0             Lie     58.536483\n",
       "1             Lie     74.968975\n",
       "2             Lie     61.114431\n",
       "3             Lie     60.214866\n",
       "4             Lie     61.410426\n",
       "..            ...           ...\n",
       "235  Coloured_sqr     51.065190\n",
       "236  Coloured_sqr     86.426843\n",
       "237  Coloured_sqr    111.991884\n",
       "238  Coloured_sqr     54.251209\n",
       "239  Coloured_sqr     69.239114\n",
       "\n",
       "[240 rows x 2 columns]"
      ]
     },
     "execution_count": 9,
     "metadata": {},
     "output_type": "execute_result"
    }
   ],
   "source": [
    "groups_long"
   ]
  },
  {
   "cell_type": "code",
   "execution_count": 10,
   "id": "9b7055e8",
   "metadata": {},
   "outputs": [
    {
     "data": {
      "text/plain": [
       "variable         object\n",
       "mean_arousal    float64\n",
       "dtype: object"
      ]
     },
     "execution_count": 10,
     "metadata": {},
     "output_type": "execute_result"
    }
   ],
   "source": [
    "groups_long.dtypes"
   ]
  },
  {
   "cell_type": "code",
   "execution_count": 12,
   "id": "ba7c219b",
   "metadata": {},
   "outputs": [],
   "source": [
    "# Running the pairwise comparisons using Tukey HSD. (endog = dv data variable, groups = grouping var)\n",
    "\n",
    "tukey_tests = pairwise_tukeyhsd(endog = groups_long['mean_arousal'], groups = groups_long['variable'], alpha = 0.05)\n"
   ]
  },
  {
   "cell_type": "code",
   "execution_count": 13,
   "id": "3838f05e",
   "metadata": {},
   "outputs": [
    {
     "data": {
      "text/html": [
       "<table class=\"simpletable\">\n",
       "<caption>Multiple Comparison of Means - Tukey HSD, FWER=0.05</caption>\n",
       "<tr>\n",
       "     <th>group1</th>    <th>group2</th> <th>meandiff</th>  <th>p-adj</th>   <th>lower</th>   <th>upper</th>  <th>reject</th>\n",
       "</tr>\n",
       "<tr>\n",
       "  <td>Coloured_sqr</td>   <td>Lie</td>   <td>4.8164</td>  <td>0.1862</td>  <td>-1.6463</td> <td>11.2791</td>  <td>False</td>\n",
       "</tr>\n",
       "<tr>\n",
       "  <td>Coloured_sqr</td>  <td>Truth</td>  <td>-1.7653</td> <td>0.7958</td>  <td>-8.228</td>  <td>4.6974</td>   <td>False</td>\n",
       "</tr>\n",
       "<tr>\n",
       "       <td>Lie</td>      <td>Truth</td>  <td>-6.5817</td> <td>0.0448</td> <td>-13.0444</td> <td>-0.119</td>   <td>True</td> \n",
       "</tr>\n",
       "</table>"
      ],
      "text/plain": [
       "<class 'statsmodels.iolib.table.SimpleTable'>"
      ]
     },
     "execution_count": 13,
     "metadata": {},
     "output_type": "execute_result"
    }
   ],
   "source": [
    "# Requesting the summary to get the output. \n",
    "tukey_tests.summary()"
   ]
  },
  {
   "cell_type": "markdown",
   "id": "01d38525",
   "metadata": {},
   "source": [
    "We can see above that the pariwise comparisons show a significant difference only between the lie and truth conditions. "
   ]
  },
  {
   "cell_type": "code",
   "execution_count": 14,
   "id": "5d31fdda",
   "metadata": {},
   "outputs": [
    {
     "data": {
      "text/plain": [
       "count    240.000000\n",
       "mean      75.032186\n",
       "std       17.481089\n",
       "min       33.876586\n",
       "25%       62.212014\n",
       "50%       74.373901\n",
       "75%       84.455430\n",
       "max      142.863806\n",
       "Name: mean_arousal, dtype: float64"
      ]
     },
     "execution_count": 14,
     "metadata": {},
     "output_type": "execute_result"
    }
   ],
   "source": [
    "groups_long['mean_arousal'].describe()"
   ]
  },
  {
   "cell_type": "markdown",
   "id": "688afa8d",
   "metadata": {},
   "source": [
    "Creating a forest plot for the groups and confidence intervals. "
   ]
  },
  {
   "cell_type": "code",
   "execution_count": 15,
   "id": "9b5014e7",
   "metadata": {},
   "outputs": [
    {
     "data": {
      "text/html": [
       "<table class=\"simpletable\">\n",
       "<caption>Multiple Comparison of Means - Tukey HSD, FWER=0.05</caption>\n",
       "<tr>\n",
       "     <th>group1</th>    <th>group2</th> <th>meandiff</th>  <th>p-adj</th>   <th>lower</th>   <th>upper</th>  <th>reject</th>\n",
       "</tr>\n",
       "<tr>\n",
       "  <td>Coloured_sqr</td>   <td>Lie</td>   <td>4.8164</td>  <td>0.1862</td>  <td>-1.6463</td> <td>11.2791</td>  <td>False</td>\n",
       "</tr>\n",
       "<tr>\n",
       "  <td>Coloured_sqr</td>  <td>Truth</td>  <td>-1.7653</td> <td>0.7958</td>  <td>-8.228</td>  <td>4.6974</td>   <td>False</td>\n",
       "</tr>\n",
       "<tr>\n",
       "       <td>Lie</td>      <td>Truth</td>  <td>-6.5817</td> <td>0.0448</td> <td>-13.0444</td> <td>-0.119</td>   <td>True</td> \n",
       "</tr>\n",
       "</table>"
      ],
      "text/plain": [
       "<class 'statsmodels.iolib.table.SimpleTable'>"
      ]
     },
     "execution_count": 15,
     "metadata": {},
     "output_type": "execute_result"
    },
    {
     "data": {
      "image/png": "[encoded data removed]",
      "text/plain": [
       "<Figure size 720x432 with 1 Axes>"
      ]
     },
     "metadata": {
      "needs_background": "light"
     },
     "output_type": "display_data"
    }
   ],
   "source": [
    "tukey_tests.plot_simultaneous()\n",
    "plt.vlines(x=75.5, ymin=-0.5, ymax=4.5, color = 'red')\n",
    "\n",
    "tukey_tests.summary()"
   ]
  }
 ],
 "metadata": {
  "kernelspec": {
   "display_name": "Python 3 (ipykernel)",
   "language": "python",
   "name": "python3"
  },
  "language_info": {
   "codemirror_mode": {
    "name": "ipython",
    "version": 3
   },
   "file_extension": ".py",
   "mimetype": "text/x-python",
   "name": "python",
   "nbconvert_exporter": "python",
   "pygments_lexer": "ipython3",
   "version": "3.9.12"
  }
 },
 "nbformat": 4,
 "nbformat_minor": 5
}
