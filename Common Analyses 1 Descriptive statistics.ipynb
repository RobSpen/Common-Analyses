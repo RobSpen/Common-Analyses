{
 "cells": [
  {
   "cell_type": "markdown",
   "id": "e8a95b97",
   "metadata": {},
   "source": [
    "# Descriptive Statistics in Python"
   ]
  },
  {
   "cell_type": "markdown",
   "id": "8367df9b",
   "metadata": {},
   "source": [
    "\n",
    "In this notebook I will demonstrate how to obtain some descriptive statistics using various software libraries in python. These will be the most common measures of centre (mean, median, mode) and spread (variance, standard deviation) that we might be interested in obtaining when we start to explore and analyse a dataset. "
   ]
  },
  {
   "cell_type": "markdown",
   "id": "e393930c",
   "metadata": {},
   "source": [
    "### Measures of centre"
   ]
  },
  {
   "cell_type": "code",
   "execution_count": 1,
   "id": "fb85ea53",
   "metadata": {},
   "outputs": [],
   "source": [
    "# Firstly, we need to import software libraries. \n",
    "\n",
    "%matplotlib inline \n",
    "\n",
    "import numpy as np\n",
    "import pandas as pd\n",
    "import matplotlib.pyplot as plt\n",
    "import scipy.stats as stats"
   ]
  },
  {
   "cell_type": "code",
   "execution_count": 2,
   "id": "4fe0b230",
   "metadata": {},
   "outputs": [],
   "source": [
    "# Importing the dataset and saving it as a python object.\n",
    "\n",
    "weight = pd.read_csv(\"weight_data.csv\")"
   ]
  },
  {
   "cell_type": "code",
   "execution_count": 6,
   "id": "8b3ce080",
   "metadata": {
    "scrolled": true
   },
   "outputs": [
    {
     "data": {
      "text/html": [
       "<div>\n",
       "<style scoped>\n",
       "    .dataframe tbody tr th:only-of-type {\n",
       "        vertical-align: middle;\n",
       "    }\n",
       "\n",
       "    .dataframe tbody tr th {\n",
       "        vertical-align: top;\n",
       "    }\n",
       "\n",
       "    .dataframe thead th {\n",
       "        text-align: right;\n",
       "    }\n",
       "</style>\n",
       "<table border=\"1\" class=\"dataframe\">\n",
       "  <thead>\n",
       "    <tr style=\"text-align: right;\">\n",
       "      <th></th>\n",
       "      <th>Unnamed: 0</th>\n",
       "      <th>SubjectID</th>\n",
       "      <th>Weight</th>\n",
       "      <th>Height</th>\n",
       "      <th>Leg.length</th>\n",
       "      <th>Age</th>\n",
       "      <th>Sex</th>\n",
       "    </tr>\n",
       "  </thead>\n",
       "  <tbody>\n",
       "    <tr>\n",
       "      <th>0</th>\n",
       "      <td>1</td>\n",
       "      <td>4885</td>\n",
       "      <td>81.5</td>\n",
       "      <td>182.3</td>\n",
       "      <td>110.0</td>\n",
       "      <td>32</td>\n",
       "      <td>Male</td>\n",
       "    </tr>\n",
       "    <tr>\n",
       "      <th>1</th>\n",
       "      <td>2</td>\n",
       "      <td>15016</td>\n",
       "      <td>88.8</td>\n",
       "      <td>182.6</td>\n",
       "      <td>110.8</td>\n",
       "      <td>30</td>\n",
       "      <td>Male</td>\n",
       "    </tr>\n",
       "    <tr>\n",
       "      <th>2</th>\n",
       "      <td>3</td>\n",
       "      <td>25895</td>\n",
       "      <td>45.5</td>\n",
       "      <td>167.3</td>\n",
       "      <td>101.7</td>\n",
       "      <td>20</td>\n",
       "      <td>Female</td>\n",
       "    </tr>\n",
       "    <tr>\n",
       "      <th>3</th>\n",
       "      <td>4</td>\n",
       "      <td>11885</td>\n",
       "      <td>85.4</td>\n",
       "      <td>180.3</td>\n",
       "      <td>115.0</td>\n",
       "      <td>19</td>\n",
       "      <td>Male</td>\n",
       "    </tr>\n",
       "    <tr>\n",
       "      <th>4</th>\n",
       "      <td>5</td>\n",
       "      <td>19382</td>\n",
       "      <td>72.8</td>\n",
       "      <td>170.5</td>\n",
       "      <td>106.5</td>\n",
       "      <td>26</td>\n",
       "      <td>Female</td>\n",
       "    </tr>\n",
       "  </tbody>\n",
       "</table>\n",
       "</div>"
      ],
      "text/plain": [
       "   Unnamed: 0  SubjectID  Weight  Height  Leg.length  Age     Sex\n",
       "0           1       4885    81.5   182.3       110.0   32    Male\n",
       "1           2      15016    88.8   182.6       110.8   30    Male\n",
       "2           3      25895    45.5   167.3       101.7   20  Female\n",
       "3           4      11885    85.4   180.3       115.0   19    Male\n",
       "4           5      19382    72.8   170.5       106.5   26  Female"
      ]
     },
     "execution_count": 6,
     "metadata": {},
     "output_type": "execute_result"
    }
   ],
   "source": [
    "# Checking the data has imported correctly by asking for the head of the dataframe (first six lines). \n",
    "\n",
    "weight.head()"
   ]
  },
  {
   "cell_type": "code",
   "execution_count": 7,
   "id": "b3569c1a",
   "metadata": {},
   "outputs": [
    {
     "name": "stdout",
     "output_type": "stream",
     "text": [
      "<class 'pandas.core.frame.DataFrame'>\n",
      "RangeIndex: 50 entries, 0 to 49\n",
      "Data columns (total 7 columns):\n",
      " #   Column      Non-Null Count  Dtype  \n",
      "---  ------      --------------  -----  \n",
      " 0   Unnamed: 0  50 non-null     int64  \n",
      " 1   SubjectID   50 non-null     int64  \n",
      " 2   Weight      50 non-null     float64\n",
      " 3   Height      50 non-null     float64\n",
      " 4   Leg.length  50 non-null     float64\n",
      " 5   Age         50 non-null     int64  \n",
      " 6   Sex         50 non-null     object \n",
      "dtypes: float64(3), int64(3), object(1)\n",
      "memory usage: 2.9+ KB\n"
     ]
    }
   ],
   "source": [
    "weight.info()"
   ]
  },
  {
   "cell_type": "code",
   "execution_count": 11,
   "id": "f261ffd6",
   "metadata": {},
   "outputs": [
    {
     "name": "stderr",
     "output_type": "stream",
     "text": [
      "C:\\Users\\robert65\\AppData\\Local\\Temp\\ipykernel_6448\\414643622.py:3: FutureWarning: Dropping of nuisance columns in DataFrame reductions (with 'numeric_only=None') is deprecated; in a future version this will raise TypeError.  Select only valid columns before calling the reduction.\n",
      "  weight.mean()\n"
     ]
    },
    {
     "data": {
      "text/plain": [
       "Unnamed: 0       25.500\n",
       "SubjectID     15813.740\n",
       "Weight           68.368\n",
       "Height          169.570\n",
       "Leg.length      104.948\n",
       "Age              25.860\n",
       "dtype: float64"
      ]
     },
     "execution_count": 11,
     "metadata": {},
     "output_type": "execute_result"
    }
   ],
   "source": [
    "# To obtain the mean for each variable use variable_name.mean()\n",
    "\n",
    "weight.mean()"
   ]
  },
  {
   "cell_type": "code",
   "execution_count": 9,
   "id": "bfecfa5a",
   "metadata": {},
   "outputs": [
    {
     "name": "stderr",
     "output_type": "stream",
     "text": [
      "C:\\Users\\robert65\\AppData\\Local\\Temp\\ipykernel_6448\\653628387.py:3: FutureWarning: Dropping of nuisance columns in DataFrame reductions (with 'numeric_only=None') is deprecated; in a future version this will raise TypeError.  Select only valid columns before calling the reduction.\n",
      "  weight.median()\n"
     ]
    },
    {
     "data": {
      "text/plain": [
       "Unnamed: 0       25.50\n",
       "SubjectID     17888.00\n",
       "Weight           66.55\n",
       "Height          169.75\n",
       "Leg.length      104.60\n",
       "Age              25.00\n",
       "dtype: float64"
      ]
     },
     "execution_count": 9,
     "metadata": {},
     "output_type": "execute_result"
    }
   ],
   "source": [
    "# To just obtain medians for variables\n",
    "\n",
    "weight.median()"
   ]
  },
  {
   "cell_type": "code",
   "execution_count": 12,
   "id": "7b6b9207",
   "metadata": {},
   "outputs": [
    {
     "data": {
      "text/plain": [
       "0    32\n",
       "1    30\n",
       "2    20\n",
       "3    19\n",
       "4    26\n",
       "Name: Age, dtype: int64"
      ]
     },
     "execution_count": 12,
     "metadata": {},
     "output_type": "execute_result"
    }
   ],
   "source": [
    "# To select individual columns/ variables from the data frame.\n",
    "# Create a new object first for the variable of interest. \n",
    "\n",
    "ages = weight[\"Age\"]\n",
    "\n",
    "# Then check the variable selected has worked:\n",
    "\n",
    "ages.head()"
   ]
  },
  {
   "cell_type": "code",
   "execution_count": 13,
   "id": "c225b7fb",
   "metadata": {},
   "outputs": [
    {
     "data": {
      "text/plain": [
       "25.86"
      ]
     },
     "execution_count": 13,
     "metadata": {},
     "output_type": "execute_result"
    }
   ],
   "source": [
    "# Can then ask for specific descriptives for that variable:\n",
    "# Note the syntax, object_name.measure()\n",
    "ages.mean()"
   ]
  },
  {
   "cell_type": "code",
   "execution_count": 14,
   "id": "4b099329",
   "metadata": {},
   "outputs": [
    {
     "data": {
      "text/plain": [
       "25.0"
      ]
     },
     "execution_count": 14,
     "metadata": {},
     "output_type": "execute_result"
    }
   ],
   "source": [
    "ages.median()"
   ]
  },
  {
   "cell_type": "code",
   "execution_count": 15,
   "id": "87dcda29",
   "metadata": {},
   "outputs": [],
   "source": [
    "# I am interested in getting descriptives for multiple variables in the dataframe:\n",
    "# Create an object with a useful name (these are all the scale variables) so I will use\n",
    "# weight_scale as the object name. Note the double brackets this time. \n",
    "\n",
    "weight_scale = weight[[\"Weight\", \"Height\", \"Leg.length\", \"Age\"]] "
   ]
  },
  {
   "cell_type": "code",
   "execution_count": 16,
   "id": "04572415",
   "metadata": {},
   "outputs": [
    {
     "data": {
      "text/html": [
       "<div>\n",
       "<style scoped>\n",
       "    .dataframe tbody tr th:only-of-type {\n",
       "        vertical-align: middle;\n",
       "    }\n",
       "\n",
       "    .dataframe tbody tr th {\n",
       "        vertical-align: top;\n",
       "    }\n",
       "\n",
       "    .dataframe thead th {\n",
       "        text-align: right;\n",
       "    }\n",
       "</style>\n",
       "<table border=\"1\" class=\"dataframe\">\n",
       "  <thead>\n",
       "    <tr style=\"text-align: right;\">\n",
       "      <th></th>\n",
       "      <th>Weight</th>\n",
       "      <th>Height</th>\n",
       "      <th>Leg.length</th>\n",
       "      <th>Age</th>\n",
       "    </tr>\n",
       "  </thead>\n",
       "  <tbody>\n",
       "    <tr>\n",
       "      <th>0</th>\n",
       "      <td>81.5</td>\n",
       "      <td>182.3</td>\n",
       "      <td>110.0</td>\n",
       "      <td>32</td>\n",
       "    </tr>\n",
       "    <tr>\n",
       "      <th>1</th>\n",
       "      <td>88.8</td>\n",
       "      <td>182.6</td>\n",
       "      <td>110.8</td>\n",
       "      <td>30</td>\n",
       "    </tr>\n",
       "    <tr>\n",
       "      <th>2</th>\n",
       "      <td>45.5</td>\n",
       "      <td>167.3</td>\n",
       "      <td>101.7</td>\n",
       "      <td>20</td>\n",
       "    </tr>\n",
       "    <tr>\n",
       "      <th>3</th>\n",
       "      <td>85.4</td>\n",
       "      <td>180.3</td>\n",
       "      <td>115.0</td>\n",
       "      <td>19</td>\n",
       "    </tr>\n",
       "    <tr>\n",
       "      <th>4</th>\n",
       "      <td>72.8</td>\n",
       "      <td>170.5</td>\n",
       "      <td>106.5</td>\n",
       "      <td>26</td>\n",
       "    </tr>\n",
       "  </tbody>\n",
       "</table>\n",
       "</div>"
      ],
      "text/plain": [
       "   Weight  Height  Leg.length  Age\n",
       "0    81.5   182.3       110.0   32\n",
       "1    88.8   182.6       110.8   30\n",
       "2    45.5   167.3       101.7   20\n",
       "3    85.4   180.3       115.0   19\n",
       "4    72.8   170.5       106.5   26"
      ]
     },
     "execution_count": 16,
     "metadata": {},
     "output_type": "execute_result"
    }
   ],
   "source": [
    "weight_scale.head()"
   ]
  },
  {
   "cell_type": "code",
   "execution_count": 17,
   "id": "64235758",
   "metadata": {},
   "outputs": [
    {
     "data": {
      "text/plain": [
       "Weight         68.368\n",
       "Height        169.570\n",
       "Leg.length    104.948\n",
       "Age            25.860\n",
       "dtype: float64"
      ]
     },
     "execution_count": 17,
     "metadata": {},
     "output_type": "execute_result"
    }
   ],
   "source": [
    "# Obtaining mean for the weight_scale object variables\n",
    "\n",
    "weight_scale.mean()"
   ]
  },
  {
   "cell_type": "code",
   "execution_count": 18,
   "id": "96bd5a28",
   "metadata": {},
   "outputs": [
    {
     "data": {
      "text/plain": [
       "Weight         66.55\n",
       "Height        169.75\n",
       "Leg.length    104.60\n",
       "Age            25.00\n",
       "dtype: float64"
      ]
     },
     "execution_count": 18,
     "metadata": {},
     "output_type": "execute_result"
    }
   ],
   "source": [
    "# And the medians\n",
    "\n",
    "weight_scale.median()"
   ]
  },
  {
   "cell_type": "code",
   "execution_count": 19,
   "id": "abaebdb5",
   "metadata": {},
   "outputs": [],
   "source": [
    "# You can select specific rows from the dataframe. For example, everyone over 30:\n",
    "\n",
    "above_30 = weight[weight[\"Age\"] > 30]"
   ]
  },
  {
   "cell_type": "code",
   "execution_count": 22,
   "id": "ba07ec09",
   "metadata": {},
   "outputs": [
    {
     "data": {
      "text/html": [
       "<div>\n",
       "<style scoped>\n",
       "    .dataframe tbody tr th:only-of-type {\n",
       "        vertical-align: middle;\n",
       "    }\n",
       "\n",
       "    .dataframe tbody tr th {\n",
       "        vertical-align: top;\n",
       "    }\n",
       "\n",
       "    .dataframe thead th {\n",
       "        text-align: right;\n",
       "    }\n",
       "</style>\n",
       "<table border=\"1\" class=\"dataframe\">\n",
       "  <thead>\n",
       "    <tr style=\"text-align: right;\">\n",
       "      <th></th>\n",
       "      <th>Unnamed: 0</th>\n",
       "      <th>SubjectID</th>\n",
       "      <th>Weight</th>\n",
       "      <th>Height</th>\n",
       "      <th>Leg.length</th>\n",
       "      <th>Age</th>\n",
       "      <th>Sex</th>\n",
       "    </tr>\n",
       "  </thead>\n",
       "  <tbody>\n",
       "    <tr>\n",
       "      <th>0</th>\n",
       "      <td>1</td>\n",
       "      <td>4885</td>\n",
       "      <td>81.5</td>\n",
       "      <td>182.3</td>\n",
       "      <td>110.0</td>\n",
       "      <td>32</td>\n",
       "      <td>Male</td>\n",
       "    </tr>\n",
       "    <tr>\n",
       "      <th>8</th>\n",
       "      <td>9</td>\n",
       "      <td>13127</td>\n",
       "      <td>60.3</td>\n",
       "      <td>166.4</td>\n",
       "      <td>103.7</td>\n",
       "      <td>31</td>\n",
       "      <td>Female</td>\n",
       "    </tr>\n",
       "    <tr>\n",
       "      <th>15</th>\n",
       "      <td>16</td>\n",
       "      <td>25198</td>\n",
       "      <td>54.6</td>\n",
       "      <td>158.4</td>\n",
       "      <td>100.4</td>\n",
       "      <td>33</td>\n",
       "      <td>Female</td>\n",
       "    </tr>\n",
       "    <tr>\n",
       "      <th>17</th>\n",
       "      <td>18</td>\n",
       "      <td>8389</td>\n",
       "      <td>48.0</td>\n",
       "      <td>163.7</td>\n",
       "      <td>101.0</td>\n",
       "      <td>33</td>\n",
       "      <td>Female</td>\n",
       "    </tr>\n",
       "    <tr>\n",
       "      <th>25</th>\n",
       "      <td>26</td>\n",
       "      <td>19246</td>\n",
       "      <td>58.4</td>\n",
       "      <td>154.3</td>\n",
       "      <td>97.7</td>\n",
       "      <td>36</td>\n",
       "      <td>Female</td>\n",
       "    </tr>\n",
       "  </tbody>\n",
       "</table>\n",
       "</div>"
      ],
      "text/plain": [
       "    Unnamed: 0  SubjectID  Weight  Height  Leg.length  Age     Sex\n",
       "0            1       4885    81.5   182.3       110.0   32    Male\n",
       "8            9      13127    60.3   166.4       103.7   31  Female\n",
       "15          16      25198    54.6   158.4       100.4   33  Female\n",
       "17          18       8389    48.0   163.7       101.0   33  Female\n",
       "25          26      19246    58.4   154.3        97.7   36  Female"
      ]
     },
     "execution_count": 22,
     "metadata": {},
     "output_type": "execute_result"
    }
   ],
   "source": [
    "# Check using the object.head() method:\n",
    "\n",
    "above_30.head()"
   ]
  },
  {
   "cell_type": "code",
   "execution_count": 23,
   "id": "4106a315",
   "metadata": {},
   "outputs": [
    {
     "data": {
      "text/plain": [
       "(array([12.,  7.,  2.,  9.,  4.,  4.,  3.,  4.,  4.,  1.]),\n",
       " array([19. , 20.9, 22.8, 24.7, 26.6, 28.5, 30.4, 32.3, 34.2, 36.1, 38. ]),\n",
       " <BarContainer object of 10 artists>)"
      ]
     },
     "execution_count": 23,
     "metadata": {},
     "output_type": "execute_result"
    },
    {
     "data": {
      "image/png": "[encoded data removed]",
      "text/plain": [
       "<Figure size 432x288 with 1 Axes>"
      ]
     },
     "metadata": {
      "needs_background": "light"
     },
     "output_type": "display_data"
    }
   ],
   "source": [
    "# Here we can obtain a histogram using matplotlib for the ages object:\n",
    "\n",
    "plt.hist(ages)"
   ]
  },
  {
   "cell_type": "code",
   "execution_count": 24,
   "id": "9d0f9e70",
   "metadata": {},
   "outputs": [],
   "source": [
    "# Creating an object for the Weight variable:\n",
    "\n",
    "weighs = weight[\"Weight\"]"
   ]
  },
  {
   "cell_type": "code",
   "execution_count": 27,
   "id": "4b30fea2",
   "metadata": {},
   "outputs": [
    {
     "data": {
      "text/plain": [
       "(array([ 2.,  7.,  7., 10., 10.,  4.,  3.,  5.,  1.,  1.]),\n",
       " array([ 45.5 ,  51.11,  56.72,  62.33,  67.94,  73.55,  79.16,  84.77,\n",
       "         90.38,  95.99, 101.6 ]),\n",
       " <BarContainer object of 10 artists>)"
      ]
     },
     "execution_count": 27,
     "metadata": {},
     "output_type": "execute_result"
    },
    {
     "data": {
      "image/png": "[encoded data removed]",
      "text/plain": [
       "<Figure size 432x288 with 1 Axes>"
      ]
     },
     "metadata": {
      "needs_background": "light"
     },
     "output_type": "display_data"
    }
   ],
   "source": [
    "plt.hist(weighs)"
   ]
  },
  {
   "cell_type": "code",
   "execution_count": 28,
   "id": "41575842",
   "metadata": {},
   "outputs": [
    {
     "name": "stdout",
     "output_type": "stream",
     "text": [
      "68.368\n"
     ]
    }
   ],
   "source": [
    "# An alternative way to get the mean. Using the numpy software library. \n",
    "\n",
    "print(np.mean(weighs))"
   ]
  },
  {
   "cell_type": "code",
   "execution_count": 29,
   "id": "e679591e",
   "metadata": {},
   "outputs": [
    {
     "name": "stdout",
     "output_type": "stream",
     "text": [
      "66.55000000000001\n"
     ]
    }
   ],
   "source": [
    "# Also to get the median for the weighs object. \n",
    "\n",
    "print(np.median(weighs))"
   ]
  },
  {
   "cell_type": "code",
   "execution_count": 30,
   "id": "2d0b39d2",
   "metadata": {},
   "outputs": [
    {
     "data": {
      "text/html": [
       "<div>\n",
       "<style scoped>\n",
       "    .dataframe tbody tr th:only-of-type {\n",
       "        vertical-align: middle;\n",
       "    }\n",
       "\n",
       "    .dataframe tbody tr th {\n",
       "        vertical-align: top;\n",
       "    }\n",
       "\n",
       "    .dataframe thead th {\n",
       "        text-align: right;\n",
       "    }\n",
       "</style>\n",
       "<table border=\"1\" class=\"dataframe\">\n",
       "  <thead>\n",
       "    <tr style=\"text-align: right;\">\n",
       "      <th></th>\n",
       "      <th>Weight</th>\n",
       "      <th>Height</th>\n",
       "      <th>Leg.length</th>\n",
       "      <th>Age</th>\n",
       "    </tr>\n",
       "  </thead>\n",
       "  <tbody>\n",
       "    <tr>\n",
       "      <th>0</th>\n",
       "      <td>60.3</td>\n",
       "      <td>159.3</td>\n",
       "      <td>104.0</td>\n",
       "      <td>19.0</td>\n",
       "    </tr>\n",
       "    <tr>\n",
       "      <th>1</th>\n",
       "      <td>68.4</td>\n",
       "      <td>171.8</td>\n",
       "      <td>104.6</td>\n",
       "      <td>20.0</td>\n",
       "    </tr>\n",
       "    <tr>\n",
       "      <th>2</th>\n",
       "      <td>NaN</td>\n",
       "      <td>NaN</td>\n",
       "      <td>104.9</td>\n",
       "      <td>NaN</td>\n",
       "    </tr>\n",
       "    <tr>\n",
       "      <th>3</th>\n",
       "      <td>NaN</td>\n",
       "      <td>NaN</td>\n",
       "      <td>110.2</td>\n",
       "      <td>NaN</td>\n",
       "    </tr>\n",
       "  </tbody>\n",
       "</table>\n",
       "</div>"
      ],
      "text/plain": [
       "   Weight  Height  Leg.length   Age\n",
       "0    60.3   159.3       104.0  19.0\n",
       "1    68.4   171.8       104.6  20.0\n",
       "2     NaN     NaN       104.9   NaN\n",
       "3     NaN     NaN       110.2   NaN"
      ]
     },
     "execution_count": 30,
     "metadata": {},
     "output_type": "execute_result"
    }
   ],
   "source": [
    "# How about to obtain the mode. \n",
    "# We can have multiple modes for a variable. For example leg length has four modes below:\n",
    "\n",
    "weight_scale.mode()"
   ]
  },
  {
   "cell_type": "markdown",
   "id": "b34a2b30",
   "metadata": {},
   "source": [
    "### Measures of Spread"
   ]
  },
  {
   "cell_type": "code",
   "execution_count": 31,
   "id": "06118e44",
   "metadata": {},
   "outputs": [
    {
     "data": {
      "text/plain": [
       "32.5"
      ]
     },
     "execution_count": 31,
     "metadata": {},
     "output_type": "execute_result"
    }
   ],
   "source": [
    "# To get the range using pandas (for the height variable):\n",
    "\n",
    "max(weight_scale[\"Height\"]) - min(weight_scale[\"Height\"])"
   ]
  },
  {
   "cell_type": "code",
   "execution_count": 32,
   "id": "b8811608",
   "metadata": {},
   "outputs": [
    {
     "data": {
      "text/plain": [
       "[45.5, 60.474999999999994, 66.55000000000001, 74.675, 101.6]"
      ]
     },
     "execution_count": 32,
     "metadata": {},
     "output_type": "execute_result"
    }
   ],
   "source": [
    "# We can also obtain a five number summary of given percentiles by asking for given \n",
    "# quantiles for a variable. Note that first we are creating a new object called five_num \n",
    "# and then call it using the object name. here we are using the .quantile function. \n",
    "\n",
    "five_num = [weight_scale[\"Weight\"].quantile(0),\n",
    "           weight_scale[\"Weight\"].quantile(0.25),\n",
    "           weight_scale[\"Weight\"].quantile(0.50),\n",
    "           weight_scale[\"Weight\"].quantile(0.75),\n",
    "           weight_scale[\"Weight\"].quantile(1)]\n",
    "\n",
    "five_num"
   ]
  },
  {
   "cell_type": "code",
   "execution_count": 33,
   "id": "ebdbb2ab",
   "metadata": {},
   "outputs": [
    {
     "data": {
      "text/plain": [
       "count     50.000000\n",
       "mean     169.570000\n",
       "std        8.800609\n",
       "min      154.300000\n",
       "25%      162.625000\n",
       "50%      169.750000\n",
       "75%      176.875000\n",
       "max      186.800000\n",
       "Name: Height, dtype: float64"
      ]
     },
     "execution_count": 33,
     "metadata": {},
     "output_type": "execute_result"
    }
   ],
   "source": [
    "# We can get the same five number summary more easily using the .describe function in pandas\n",
    "\n",
    "weight_scale[\"Height\"].describe()"
   ]
  },
  {
   "cell_type": "code",
   "execution_count": 34,
   "id": "19f3c0ea",
   "metadata": {},
   "outputs": [
    {
     "data": {
      "text/plain": [
       "count     50.000000\n",
       "mean      68.368000\n",
       "std       12.151853\n",
       "min       45.500000\n",
       "25%       60.475000\n",
       "50%       66.550000\n",
       "75%       74.675000\n",
       "max      101.600000\n",
       "Name: Weight, dtype: float64"
      ]
     },
     "execution_count": 34,
     "metadata": {},
     "output_type": "execute_result"
    }
   ],
   "source": [
    "# Same for weight\n",
    "# Note that if you miss the parentheses off after describe(), it will give you a print of \n",
    "# all the data points for that variable. \n",
    "\n",
    "weight_scale[\"Weight\"].describe()"
   ]
  },
  {
   "cell_type": "code",
   "execution_count": 35,
   "id": "3e351ec4",
   "metadata": {},
   "outputs": [
    {
     "data": {
      "text/plain": [
       "14.200000000000003"
      ]
     },
     "execution_count": 35,
     "metadata": {},
     "output_type": "execute_result"
    }
   ],
   "source": [
    "# To obtain the IQR we can just use our quantiles and subtract the 25th from the 75th:\n",
    "\n",
    "weight_scale[\"Weight\"].quantile(0.75) - weight_scale[\"Weight\"].quantile(0.25)"
   ]
  },
  {
   "cell_type": "code",
   "execution_count": 36,
   "id": "acb49165",
   "metadata": {},
   "outputs": [
    {
     "data": {
      "text/plain": [
       "147.66752653061215"
      ]
     },
     "execution_count": 36,
     "metadata": {},
     "output_type": "execute_result"
    }
   ],
   "source": [
    "# To get the variance for a particular variable:\n",
    "\n",
    "weight_scale[\"Weight\"].var()"
   ]
  },
  {
   "cell_type": "code",
   "execution_count": 37,
   "id": "bb062964",
   "metadata": {},
   "outputs": [
    {
     "data": {
      "text/plain": [
       "12.151852802375947"
      ]
     },
     "execution_count": 37,
     "metadata": {},
     "output_type": "execute_result"
    }
   ],
   "source": [
    "# And to get the standard deviation:\n",
    "\n",
    "weight_scale[\"Weight\"].std()"
   ]
  },
  {
   "cell_type": "code",
   "execution_count": 38,
   "id": "e02ba0b4",
   "metadata": {},
   "outputs": [
    {
     "data": {
      "text/plain": [
       "6.749999999999993"
      ]
     },
     "execution_count": 38,
     "metadata": {},
     "output_type": "execute_result"
    }
   ],
   "source": [
    "# For a robust measure of spread we can calculate the median absolute deviation, as follows:\n",
    "\n",
    "abs_median_deviation = abs(weight_scale[\"Weight\"].median() - weight_scale[\"Weight\"])\n",
    "\n",
    "abs_median_deviation.median()"
   ]
  },
  {
   "cell_type": "code",
   "execution_count": 39,
   "id": "89fdddd2",
   "metadata": {},
   "outputs": [
    {
     "data": {
      "text/plain": [
       "0.5881670805236959"
      ]
     },
     "execution_count": 39,
     "metadata": {},
     "output_type": "execute_result"
    }
   ],
   "source": [
    "# We can also check for skewness: \n",
    "\n",
    "weight_scale[\"Weight\"].skew()\n",
    "\n",
    "# note that skewness will be close to zero for a normal distribution and close to 1 for a\n",
    "# heavily skewed distribution"
   ]
  },
  {
   "cell_type": "code",
   "execution_count": 40,
   "id": "b8804053",
   "metadata": {},
   "outputs": [
    {
     "data": {
      "text/plain": [
       "0.10443413465005014"
      ]
     },
     "execution_count": 40,
     "metadata": {},
     "output_type": "execute_result"
    }
   ],
   "source": [
    "# And kurtosis\n",
    "\n",
    "weight_scale[\"Weight\"].kurt()\n",
    "\n",
    "# A normal distrbution will have a value close to zero for kurtosis. Kurtosis\n",
    "# relates to how flat or peaked a distribution is. Highly peaked distributions\n",
    "# will have greater kurtosis values.  "
   ]
  },
  {
   "cell_type": "markdown",
   "id": "d256fc4d",
   "metadata": {},
   "source": []
  }
 ],
 "metadata": {
  "kernelspec": {
   "display_name": "Python 3 (ipykernel)",
   "language": "python",
   "name": "python3"
  },
  "language_info": {
   "codemirror_mode": {
    "name": "ipython",
    "version": 3
   },
   "file_extension": ".py",
   "mimetype": "text/x-python",
   "name": "python",
   "nbconvert_exporter": "python",
   "pygments_lexer": "ipython3",
   "version": "3.9.12"
  }
 },
 "nbformat": 4,
 "nbformat_minor": 5
}
