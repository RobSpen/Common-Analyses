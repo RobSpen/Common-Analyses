{
 "cells": [
  {
   "cell_type": "markdown",
   "id": "061ad6ab",
   "metadata": {},
   "source": [
    "# More Data Wrangling \n",
    "\n",
    "In this notebook I will demonstrate how to generate simulated datasets using numpy's random.rand function. I will also import a dataset and demonstrate ways to manipulate the data by changing row and column order and also how  to convert the data types of variables. "
   ]
  },
  {
   "cell_type": "code",
   "execution_count": 1,
   "id": "63c02395",
   "metadata": {},
   "outputs": [],
   "source": [
    "import pandas as pd\n",
    "\n",
    "import numpy as np"
   ]
  },
  {
   "cell_type": "code",
   "execution_count": 2,
   "id": "41c5a39a",
   "metadata": {},
   "outputs": [],
   "source": [
    "# Importing a dataset as csv files to analyse. \n",
    "\n",
    "crime = pd.read_csv('fearofcrime.csv')\n"
   ]
  },
  {
   "cell_type": "code",
   "execution_count": 3,
   "id": "f1bf12dc",
   "metadata": {},
   "outputs": [
    {
     "data": {
      "text/plain": [
       "'1.4.2'"
      ]
     },
     "execution_count": 3,
     "metadata": {},
     "output_type": "execute_result"
    }
   ],
   "source": [
    "# Checking the version of pandas we are using. \n",
    "\n",
    "pd.__version__\n",
    "\n",
    "# Note the use of the dunder (double underscore)"
   ]
  },
  {
   "cell_type": "code",
   "execution_count": 4,
   "id": "1ea7ac2d",
   "metadata": {},
   "outputs": [
    {
     "data": {
      "text/html": [
       "<div>\n",
       "<style scoped>\n",
       "    .dataframe tbody tr th:only-of-type {\n",
       "        vertical-align: middle;\n",
       "    }\n",
       "\n",
       "    .dataframe tbody tr th {\n",
       "        vertical-align: top;\n",
       "    }\n",
       "\n",
       "    .dataframe thead th {\n",
       "        text-align: right;\n",
       "    }\n",
       "</style>\n",
       "<table border=\"1\" class=\"dataframe\">\n",
       "  <thead>\n",
       "    <tr style=\"text-align: right;\">\n",
       "      <th></th>\n",
       "      <th>0</th>\n",
       "      <th>1</th>\n",
       "      <th>2</th>\n",
       "      <th>3</th>\n",
       "      <th>4</th>\n",
       "      <th>5</th>\n",
       "      <th>6</th>\n",
       "      <th>7</th>\n",
       "    </tr>\n",
       "  </thead>\n",
       "  <tbody>\n",
       "    <tr>\n",
       "      <th>0</th>\n",
       "      <td>0.016279</td>\n",
       "      <td>0.516233</td>\n",
       "      <td>0.460377</td>\n",
       "      <td>0.148602</td>\n",
       "      <td>0.766921</td>\n",
       "      <td>0.879118</td>\n",
       "      <td>0.349683</td>\n",
       "      <td>0.157601</td>\n",
       "    </tr>\n",
       "    <tr>\n",
       "      <th>1</th>\n",
       "      <td>0.646693</td>\n",
       "      <td>0.715658</td>\n",
       "      <td>0.022841</td>\n",
       "      <td>0.506087</td>\n",
       "      <td>0.800738</td>\n",
       "      <td>0.189129</td>\n",
       "      <td>0.415593</td>\n",
       "      <td>0.803969</td>\n",
       "    </tr>\n",
       "    <tr>\n",
       "      <th>2</th>\n",
       "      <td>0.199266</td>\n",
       "      <td>0.143740</td>\n",
       "      <td>0.424510</td>\n",
       "      <td>0.807728</td>\n",
       "      <td>0.040724</td>\n",
       "      <td>0.105372</td>\n",
       "      <td>0.866681</td>\n",
       "      <td>0.580053</td>\n",
       "    </tr>\n",
       "    <tr>\n",
       "      <th>3</th>\n",
       "      <td>0.320700</td>\n",
       "      <td>0.086457</td>\n",
       "      <td>0.617641</td>\n",
       "      <td>0.690454</td>\n",
       "      <td>0.126939</td>\n",
       "      <td>0.401330</td>\n",
       "      <td>0.571028</td>\n",
       "      <td>0.377512</td>\n",
       "    </tr>\n",
       "  </tbody>\n",
       "</table>\n",
       "</div>"
      ],
      "text/plain": [
       "          0         1         2         3         4         5         6  \\\n",
       "0  0.016279  0.516233  0.460377  0.148602  0.766921  0.879118  0.349683   \n",
       "1  0.646693  0.715658  0.022841  0.506087  0.800738  0.189129  0.415593   \n",
       "2  0.199266  0.143740  0.424510  0.807728  0.040724  0.105372  0.866681   \n",
       "3  0.320700  0.086457  0.617641  0.690454  0.126939  0.401330  0.571028   \n",
       "\n",
       "          7  \n",
       "0  0.157601  \n",
       "1  0.803969  \n",
       "2  0.580053  \n",
       "3  0.377512  "
      ]
     },
     "execution_count": 4,
     "metadata": {},
     "output_type": "execute_result"
    }
   ],
   "source": [
    "# To create a data frame using the random.rand function from numpy\n",
    "\n",
    "pd.DataFrame(np.random.rand(4, 8))"
   ]
  },
  {
   "cell_type": "code",
   "execution_count": 5,
   "id": "30d2750b",
   "metadata": {},
   "outputs": [
    {
     "data": {
      "text/html": [
       "<div>\n",
       "<style scoped>\n",
       "    .dataframe tbody tr th:only-of-type {\n",
       "        vertical-align: middle;\n",
       "    }\n",
       "\n",
       "    .dataframe tbody tr th {\n",
       "        vertical-align: top;\n",
       "    }\n",
       "\n",
       "    .dataframe thead th {\n",
       "        text-align: right;\n",
       "    }\n",
       "</style>\n",
       "<table border=\"1\" class=\"dataframe\">\n",
       "  <thead>\n",
       "    <tr style=\"text-align: right;\">\n",
       "      <th></th>\n",
       "      <th>A</th>\n",
       "      <th>B</th>\n",
       "      <th>C</th>\n",
       "      <th>D</th>\n",
       "      <th>E</th>\n",
       "      <th>F</th>\n",
       "      <th>G</th>\n",
       "      <th>H</th>\n",
       "    </tr>\n",
       "  </thead>\n",
       "  <tbody>\n",
       "    <tr>\n",
       "      <th>0</th>\n",
       "      <td>0.519893</td>\n",
       "      <td>0.816257</td>\n",
       "      <td>0.321045</td>\n",
       "      <td>0.245766</td>\n",
       "      <td>0.974654</td>\n",
       "      <td>0.805161</td>\n",
       "      <td>0.232000</td>\n",
       "      <td>0.187791</td>\n",
       "    </tr>\n",
       "    <tr>\n",
       "      <th>1</th>\n",
       "      <td>0.434057</td>\n",
       "      <td>0.285080</td>\n",
       "      <td>0.115166</td>\n",
       "      <td>0.684706</td>\n",
       "      <td>0.301030</td>\n",
       "      <td>0.528550</td>\n",
       "      <td>0.928429</td>\n",
       "      <td>0.360535</td>\n",
       "    </tr>\n",
       "    <tr>\n",
       "      <th>2</th>\n",
       "      <td>0.983604</td>\n",
       "      <td>0.925952</td>\n",
       "      <td>0.950246</td>\n",
       "      <td>0.849881</td>\n",
       "      <td>0.093573</td>\n",
       "      <td>0.283324</td>\n",
       "      <td>0.243453</td>\n",
       "      <td>0.603860</td>\n",
       "    </tr>\n",
       "    <tr>\n",
       "      <th>3</th>\n",
       "      <td>0.108982</td>\n",
       "      <td>0.657750</td>\n",
       "      <td>0.996438</td>\n",
       "      <td>0.150209</td>\n",
       "      <td>0.877800</td>\n",
       "      <td>0.125709</td>\n",
       "      <td>0.614282</td>\n",
       "      <td>0.323559</td>\n",
       "    </tr>\n",
       "  </tbody>\n",
       "</table>\n",
       "</div>"
      ],
      "text/plain": [
       "          A         B         C         D         E         F         G  \\\n",
       "0  0.519893  0.816257  0.321045  0.245766  0.974654  0.805161  0.232000   \n",
       "1  0.434057  0.285080  0.115166  0.684706  0.301030  0.528550  0.928429   \n",
       "2  0.983604  0.925952  0.950246  0.849881  0.093573  0.283324  0.243453   \n",
       "3  0.108982  0.657750  0.996438  0.150209  0.877800  0.125709  0.614282   \n",
       "\n",
       "          H  \n",
       "0  0.187791  \n",
       "1  0.360535  \n",
       "2  0.603860  \n",
       "3  0.323559  "
      ]
     },
     "execution_count": 5,
     "metadata": {},
     "output_type": "execute_result"
    }
   ],
   "source": [
    "# Can add column names to the above like this:\n",
    "\n",
    "pd.DataFrame(np.random.rand(4, 8), columns = list('ABCDEFGH'))\n",
    "\n",
    "# Note that only one string is used for the column names with no delimiter. "
   ]
  },
  {
   "cell_type": "code",
   "execution_count": 6,
   "id": "2509895b",
   "metadata": {},
   "outputs": [
    {
     "data": {
      "text/html": [
       "<div>\n",
       "<style scoped>\n",
       "    .dataframe tbody tr th:only-of-type {\n",
       "        vertical-align: middle;\n",
       "    }\n",
       "\n",
       "    .dataframe tbody tr th {\n",
       "        vertical-align: top;\n",
       "    }\n",
       "\n",
       "    .dataframe thead th {\n",
       "        text-align: right;\n",
       "    }\n",
       "</style>\n",
       "<table border=\"1\" class=\"dataframe\">\n",
       "  <thead>\n",
       "    <tr style=\"text-align: right;\">\n",
       "      <th></th>\n",
       "      <th>sex</th>\n",
       "      <th>anxlevel</th>\n",
       "      <th>stress</th>\n",
       "      <th>totalworry</th>\n",
       "      <th>construct</th>\n",
       "    </tr>\n",
       "  </thead>\n",
       "  <tbody>\n",
       "    <tr>\n",
       "      <th>0</th>\n",
       "      <td>2</td>\n",
       "      <td>2</td>\n",
       "      <td>1.3</td>\n",
       "      <td>3.0375</td>\n",
       "      <td>3.04878048780488</td>\n",
       "    </tr>\n",
       "    <tr>\n",
       "      <th>1</th>\n",
       "      <td>2</td>\n",
       "      <td>2</td>\n",
       "      <td>2.1</td>\n",
       "      <td>3.21875</td>\n",
       "      <td>2.95121951219512</td>\n",
       "    </tr>\n",
       "    <tr>\n",
       "      <th>2</th>\n",
       "      <td>1</td>\n",
       "      <td>3</td>\n",
       "      <td>1.95</td>\n",
       "      <td>2.025</td>\n",
       "      <td>3.29268292682927</td>\n",
       "    </tr>\n",
       "    <tr>\n",
       "      <th>3</th>\n",
       "      <td>2</td>\n",
       "      <td>2</td>\n",
       "      <td>2.1</td>\n",
       "      <td>1.80625</td>\n",
       "      <td>2.19512195121951</td>\n",
       "    </tr>\n",
       "    <tr>\n",
       "      <th>4</th>\n",
       "      <td>2</td>\n",
       "      <td>2</td>\n",
       "      <td>2.05</td>\n",
       "      <td>2.5625</td>\n",
       "      <td>2.80487804878049</td>\n",
       "    </tr>\n",
       "  </tbody>\n",
       "</table>\n",
       "</div>"
      ],
      "text/plain": [
       "  sex anxlevel stress totalworry         construct\n",
       "0   2        2    1.3     3.0375  3.04878048780488\n",
       "1   2        2    2.1    3.21875  2.95121951219512\n",
       "2   1        3   1.95      2.025  3.29268292682927\n",
       "3   2        2    2.1    1.80625  2.19512195121951\n",
       "4   2        2   2.05     2.5625  2.80487804878049"
      ]
     },
     "execution_count": 6,
     "metadata": {},
     "output_type": "execute_result"
    }
   ],
   "source": [
    "# Reverse row order\n",
    "\n",
    "# Looking at the fear of crime dataset\n",
    "\n",
    "crime.head()"
   ]
  },
  {
   "cell_type": "code",
   "execution_count": 7,
   "id": "015aa931",
   "metadata": {},
   "outputs": [
    {
     "name": "stdout",
     "output_type": "stream",
     "text": [
      "<class 'pandas.core.frame.DataFrame'>\n",
      "RangeIndex: 235 entries, 0 to 234\n",
      "Data columns (total 5 columns):\n",
      " #   Column      Non-Null Count  Dtype \n",
      "---  ------      --------------  ----- \n",
      " 0   sex         235 non-null    object\n",
      " 1   anxlevel    235 non-null    object\n",
      " 2   stress      235 non-null    object\n",
      " 3   totalworry  235 non-null    object\n",
      " 4   construct   235 non-null    object\n",
      "dtypes: object(5)\n",
      "memory usage: 9.3+ KB\n"
     ]
    }
   ],
   "source": [
    "crime.info()"
   ]
  },
  {
   "cell_type": "code",
   "execution_count": 8,
   "id": "210ec0ec",
   "metadata": {},
   "outputs": [
    {
     "data": {
      "text/html": [
       "<div>\n",
       "<style scoped>\n",
       "    .dataframe tbody tr th:only-of-type {\n",
       "        vertical-align: middle;\n",
       "    }\n",
       "\n",
       "    .dataframe tbody tr th {\n",
       "        vertical-align: top;\n",
       "    }\n",
       "\n",
       "    .dataframe thead th {\n",
       "        text-align: right;\n",
       "    }\n",
       "</style>\n",
       "<table border=\"1\" class=\"dataframe\">\n",
       "  <thead>\n",
       "    <tr style=\"text-align: right;\">\n",
       "      <th></th>\n",
       "      <th>sex</th>\n",
       "      <th>anxlevel</th>\n",
       "      <th>stress</th>\n",
       "      <th>totalworry</th>\n",
       "      <th>construct</th>\n",
       "    </tr>\n",
       "  </thead>\n",
       "  <tbody>\n",
       "    <tr>\n",
       "      <th>234</th>\n",
       "      <td>1</td>\n",
       "      <td>2</td>\n",
       "      <td>1.75</td>\n",
       "      <td>2.09375</td>\n",
       "      <td>3.39024390243902</td>\n",
       "    </tr>\n",
       "    <tr>\n",
       "      <th>233</th>\n",
       "      <td>1</td>\n",
       "      <td>2</td>\n",
       "      <td>1.65</td>\n",
       "      <td>2</td>\n",
       "      <td>3.31707317073171</td>\n",
       "    </tr>\n",
       "    <tr>\n",
       "      <th>232</th>\n",
       "      <td>2</td>\n",
       "      <td>1</td>\n",
       "      <td>1.15</td>\n",
       "      <td>2.39375</td>\n",
       "      <td>4.09756097560976</td>\n",
       "    </tr>\n",
       "    <tr>\n",
       "      <th>231</th>\n",
       "      <td>2</td>\n",
       "      <td>2</td>\n",
       "      <td>2.05</td>\n",
       "      <td>3.5875</td>\n",
       "      <td>2.97560975609756</td>\n",
       "    </tr>\n",
       "    <tr>\n",
       "      <th>230</th>\n",
       "      <td>2</td>\n",
       "      <td>2</td>\n",
       "      <td>1.9</td>\n",
       "      <td>2.5</td>\n",
       "      <td>3.31707317073171</td>\n",
       "    </tr>\n",
       "  </tbody>\n",
       "</table>\n",
       "</div>"
      ],
      "text/plain": [
       "    sex anxlevel stress totalworry         construct\n",
       "234   1        2   1.75    2.09375  3.39024390243902\n",
       "233   1        2   1.65          2  3.31707317073171\n",
       "232   2        1   1.15    2.39375  4.09756097560976\n",
       "231   2        2   2.05     3.5875  2.97560975609756\n",
       "230   2        2    1.9        2.5  3.31707317073171"
      ]
     },
     "execution_count": 8,
     "metadata": {},
     "output_type": "execute_result"
    }
   ],
   "source": [
    "# To reverse the order of the rows can use the dot loc method\n",
    "# This would be most useful with alphabetically organised data\n",
    "# or to organised from last to first example/ participant.\n",
    "\n",
    "crime.loc[:: -1].head()"
   ]
  },
  {
   "cell_type": "code",
   "execution_count": 9,
   "id": "00ceee83",
   "metadata": {},
   "outputs": [
    {
     "data": {
      "text/html": [
       "<div>\n",
       "<style scoped>\n",
       "    .dataframe tbody tr th:only-of-type {\n",
       "        vertical-align: middle;\n",
       "    }\n",
       "\n",
       "    .dataframe tbody tr th {\n",
       "        vertical-align: top;\n",
       "    }\n",
       "\n",
       "    .dataframe thead th {\n",
       "        text-align: right;\n",
       "    }\n",
       "</style>\n",
       "<table border=\"1\" class=\"dataframe\">\n",
       "  <thead>\n",
       "    <tr style=\"text-align: right;\">\n",
       "      <th></th>\n",
       "      <th>sex</th>\n",
       "      <th>anxlevel</th>\n",
       "      <th>stress</th>\n",
       "      <th>totalworry</th>\n",
       "      <th>construct</th>\n",
       "    </tr>\n",
       "  </thead>\n",
       "  <tbody>\n",
       "    <tr>\n",
       "      <th>0</th>\n",
       "      <td>1</td>\n",
       "      <td>2</td>\n",
       "      <td>1.75</td>\n",
       "      <td>2.09375</td>\n",
       "      <td>3.39024390243902</td>\n",
       "    </tr>\n",
       "    <tr>\n",
       "      <th>1</th>\n",
       "      <td>1</td>\n",
       "      <td>2</td>\n",
       "      <td>1.65</td>\n",
       "      <td>2</td>\n",
       "      <td>3.31707317073171</td>\n",
       "    </tr>\n",
       "    <tr>\n",
       "      <th>2</th>\n",
       "      <td>2</td>\n",
       "      <td>1</td>\n",
       "      <td>1.15</td>\n",
       "      <td>2.39375</td>\n",
       "      <td>4.09756097560976</td>\n",
       "    </tr>\n",
       "    <tr>\n",
       "      <th>3</th>\n",
       "      <td>2</td>\n",
       "      <td>2</td>\n",
       "      <td>2.05</td>\n",
       "      <td>3.5875</td>\n",
       "      <td>2.97560975609756</td>\n",
       "    </tr>\n",
       "    <tr>\n",
       "      <th>4</th>\n",
       "      <td>2</td>\n",
       "      <td>2</td>\n",
       "      <td>1.9</td>\n",
       "      <td>2.5</td>\n",
       "      <td>3.31707317073171</td>\n",
       "    </tr>\n",
       "  </tbody>\n",
       "</table>\n",
       "</div>"
      ],
      "text/plain": [
       "  sex anxlevel stress totalworry         construct\n",
       "0   1        2   1.75    2.09375  3.39024390243902\n",
       "1   1        2   1.65          2  3.31707317073171\n",
       "2   2        1   1.15    2.39375  4.09756097560976\n",
       "3   2        2   2.05     3.5875  2.97560975609756\n",
       "4   2        2    1.9        2.5  3.31707317073171"
      ]
     },
     "execution_count": 9,
     "metadata": {},
     "output_type": "execute_result"
    }
   ],
   "source": [
    "# Having reversed the order of the rows you can then reset the index\n",
    "# so it starts at zero (if you needed/ wanted to do this)\n",
    "\n",
    "crime.loc[:: -1].reset_index(drop = True).head()\n",
    "\n",
    "# Index back from zero upwards in ascending order. "
   ]
  },
  {
   "cell_type": "code",
   "execution_count": 10,
   "id": "3ed1c3ca",
   "metadata": {},
   "outputs": [
    {
     "data": {
      "text/html": [
       "<div>\n",
       "<style scoped>\n",
       "    .dataframe tbody tr th:only-of-type {\n",
       "        vertical-align: middle;\n",
       "    }\n",
       "\n",
       "    .dataframe tbody tr th {\n",
       "        vertical-align: top;\n",
       "    }\n",
       "\n",
       "    .dataframe thead th {\n",
       "        text-align: right;\n",
       "    }\n",
       "</style>\n",
       "<table border=\"1\" class=\"dataframe\">\n",
       "  <thead>\n",
       "    <tr style=\"text-align: right;\">\n",
       "      <th></th>\n",
       "      <th>construct</th>\n",
       "      <th>totalworry</th>\n",
       "      <th>stress</th>\n",
       "      <th>anxlevel</th>\n",
       "      <th>sex</th>\n",
       "    </tr>\n",
       "  </thead>\n",
       "  <tbody>\n",
       "    <tr>\n",
       "      <th>0</th>\n",
       "      <td>3.04878048780488</td>\n",
       "      <td>3.0375</td>\n",
       "      <td>1.3</td>\n",
       "      <td>2</td>\n",
       "      <td>2</td>\n",
       "    </tr>\n",
       "    <tr>\n",
       "      <th>1</th>\n",
       "      <td>2.95121951219512</td>\n",
       "      <td>3.21875</td>\n",
       "      <td>2.1</td>\n",
       "      <td>2</td>\n",
       "      <td>2</td>\n",
       "    </tr>\n",
       "    <tr>\n",
       "      <th>2</th>\n",
       "      <td>3.29268292682927</td>\n",
       "      <td>2.025</td>\n",
       "      <td>1.95</td>\n",
       "      <td>3</td>\n",
       "      <td>1</td>\n",
       "    </tr>\n",
       "    <tr>\n",
       "      <th>3</th>\n",
       "      <td>2.19512195121951</td>\n",
       "      <td>1.80625</td>\n",
       "      <td>2.1</td>\n",
       "      <td>2</td>\n",
       "      <td>2</td>\n",
       "    </tr>\n",
       "    <tr>\n",
       "      <th>4</th>\n",
       "      <td>2.80487804878049</td>\n",
       "      <td>2.5625</td>\n",
       "      <td>2.05</td>\n",
       "      <td>2</td>\n",
       "      <td>2</td>\n",
       "    </tr>\n",
       "  </tbody>\n",
       "</table>\n",
       "</div>"
      ],
      "text/plain": [
       "          construct totalworry stress anxlevel sex\n",
       "0  3.04878048780488     3.0375    1.3        2   2\n",
       "1  2.95121951219512    3.21875    2.1        2   2\n",
       "2  3.29268292682927      2.025   1.95        3   1\n",
       "3  2.19512195121951    1.80625    2.1        2   2\n",
       "4  2.80487804878049     2.5625   2.05        2   2"
      ]
     },
     "execution_count": 10,
     "metadata": {},
     "output_type": "execute_result"
    }
   ],
   "source": [
    "# Reverse column order\n",
    "\n",
    "crime.loc[:, ::-1].head()\n",
    "\n",
    "# The first colon says select all rows and the ::-1 tells python to reverse the order of the columns. \n",
    "# We have then combined this with the head() method to see the first five lines. "
   ]
  },
  {
   "cell_type": "code",
   "execution_count": 11,
   "id": "09ca6c63",
   "metadata": {},
   "outputs": [
    {
     "data": {
      "text/plain": [
       "sex           object\n",
       "anxlevel      object\n",
       "stress        object\n",
       "totalworry    object\n",
       "construct     object\n",
       "dtype: object"
      ]
     },
     "execution_count": 11,
     "metadata": {},
     "output_type": "execute_result"
    }
   ],
   "source": [
    "# Select columns by data type\n",
    "# For some reason these are all shown as objects. \n",
    "# Asking for the data types for the crime dataframe:\n",
    "\n",
    "crime.dtypes"
   ]
  },
  {
   "cell_type": "code",
   "execution_count": 12,
   "id": "1e7b450a",
   "metadata": {},
   "outputs": [],
   "source": [
    "# Trying an alternative method using the to_numeric function on the orginal crime dataframe. \n",
    "# We can use use coerce to convert any missing or invalid values in our data to NaN values. \n",
    "crime_2 = crime.apply(pd.to_numeric, errors = 'coerce')"
   ]
  },
  {
   "cell_type": "code",
   "execution_count": 13,
   "id": "59f61c30",
   "metadata": {},
   "outputs": [
    {
     "data": {
      "text/plain": [
       "sex           float64\n",
       "anxlevel      float64\n",
       "stress        float64\n",
       "totalworry    float64\n",
       "construct     float64\n",
       "dtype: object"
      ]
     },
     "execution_count": 13,
     "metadata": {},
     "output_type": "execute_result"
    }
   ],
   "source": [
    "# Checking the data types we see that all variables have been converted to floating point numbers. \n",
    "# Obviously we have two categorical variables in the dataset and now need to convert these back to objects. \n",
    "crime_2.dtypes"
   ]
  },
  {
   "cell_type": "code",
   "execution_count": 14,
   "id": "1e2774f5",
   "metadata": {},
   "outputs": [],
   "source": [
    "# Changing sex back to an object\n",
    "\n",
    "crime_2['sex'] = crime_2['sex'].astype(str)"
   ]
  },
  {
   "cell_type": "code",
   "execution_count": 15,
   "id": "4e28cc7e",
   "metadata": {},
   "outputs": [],
   "source": [
    "# Now changing the anxlevel variable\n",
    "\n",
    "crime_2['anxlevel'] = crime_2['anxlevel'].astype(str)"
   ]
  },
  {
   "cell_type": "code",
   "execution_count": 16,
   "id": "89904d76",
   "metadata": {},
   "outputs": [
    {
     "data": {
      "text/plain": [
       "sex            object\n",
       "anxlevel       object\n",
       "stress        float64\n",
       "totalworry    float64\n",
       "construct     float64\n",
       "dtype: object"
      ]
     },
     "execution_count": 16,
     "metadata": {},
     "output_type": "execute_result"
    }
   ],
   "source": [
    "# This is now better with sex and anxlevel shown as objects and the others shown as floats. \n",
    "\n",
    "crime_2.dtypes"
   ]
  },
  {
   "cell_type": "code",
   "execution_count": 17,
   "id": "ae18f3bc",
   "metadata": {},
   "outputs": [],
   "source": [
    "# As these two objects are categorical with a finite number of values we could also convert them to categories.\n",
    "# Categories are a form of dynamic enumeration. They are most useful if the range of possible values is fixed and finite.\n",
    "# Saving them as a category data type also seems to save memory space. \n",
    "\n",
    "# The above string object variables can be converted to categorical variables in a similar way\n",
    "# but specifying 'category'\n",
    "\n",
    "crime_2['sex'] = crime_2['sex'].astype('category')"
   ]
  },
  {
   "cell_type": "code",
   "execution_count": 18,
   "id": "6dbe7c04",
   "metadata": {},
   "outputs": [],
   "source": [
    "# Converting the anxlevel variable to a category:\n",
    "\n",
    "crime_2['anxlevel'] = crime_2['anxlevel'].astype('category')"
   ]
  },
  {
   "cell_type": "code",
   "execution_count": 19,
   "id": "55c260b6",
   "metadata": {},
   "outputs": [
    {
     "data": {
      "text/plain": [
       "sex           category\n",
       "anxlevel      category\n",
       "stress         float64\n",
       "totalworry     float64\n",
       "construct      float64\n",
       "dtype: object"
      ]
     },
     "execution_count": 19,
     "metadata": {},
     "output_type": "execute_result"
    }
   ],
   "source": [
    "# The data seems to be appropriate now, with two categorical variables and three numeric variables. \n",
    "crime_2.dtypes"
   ]
  }
 ],
 "metadata": {
  "kernelspec": {
   "display_name": "Python 3 (ipykernel)",
   "language": "python",
   "name": "python3"
  },
  "language_info": {
   "codemirror_mode": {
    "name": "ipython",
    "version": 3
   },
   "file_extension": ".py",
   "mimetype": "text/x-python",
   "name": "python",
   "nbconvert_exporter": "python",
   "pygments_lexer": "ipython3",
   "version": "3.11.4"
  }
 },
 "nbformat": 4,
 "nbformat_minor": 5
}
